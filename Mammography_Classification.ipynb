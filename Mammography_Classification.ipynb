{
  "cells": [
    {
      "cell_type": "markdown",
      "metadata": {
        "id": "view-in-github",
        "colab_type": "text"
      },
      "source": [
        "<a href=\"https://colab.research.google.com/github/relhwigi/GE_GRAPE_Mammogram_Classification/blob/main/Mammography_Classification.ipynb\" target=\"_parent\"><img src=\"https://colab.research.google.com/assets/colab-badge.svg\" alt=\"Open In Colab\"/></a>"
      ]
    },
    {
      "cell_type": "markdown",
      "metadata": {
        "id": "LyRwEVCMv6r-"
      },
      "source": [
        "# **Machine Learning using Grammatical Evolution**\n",
        "###Classification of mammogram segments as containing or not containing suspicious growth. \n",
        "Ranya El-Hwigi 18227449"
      ]
    },
    {
      "cell_type": "markdown",
      "metadata": {
        "id": "V5obuAinsy6K"
      },
      "source": [
        "### ***Mounting drive***"
      ]
    },
    {
      "cell_type": "code",
      "execution_count": 1,
      "metadata": {
        "colab": {
          "base_uri": "https://localhost:8080/"
        },
        "id": "Kz41QMTWsynG",
        "outputId": "1c8414d9-4747-4a85-8757-dd10000a131e"
      },
      "outputs": [
        {
          "output_type": "stream",
          "name": "stdout",
          "text": [
            "Mounted at /content/drive\n"
          ]
        }
      ],
      "source": [
        "from google.colab import drive\n",
        "drive.mount('/content/drive', force_remount=True)"
      ]
    },
    {
      "cell_type": "markdown",
      "metadata": {
        "id": "jpUFL3HZ5Awi"
      },
      "source": [
        "### ***Clone grammar repository***"
      ]
    },
    {
      "cell_type": "code",
      "execution_count": 2,
      "metadata": {
        "colab": {
          "base_uri": "https://localhost:8080/"
        },
        "id": "8gXbx1FP5IEp",
        "outputId": "e344dc42-6803-40a4-bc70-b553df56a323"
      },
      "outputs": [
        {
          "output_type": "stream",
          "name": "stdout",
          "text": [
            "/content/drive/MyDrive\n",
            "Cloning into 'GE_GRAPE_Mammogram_Classification'...\n",
            "remote: Enumerating objects: 72, done.\u001b[K\n",
            "remote: Counting objects: 100% (72/72), done.\u001b[K\n",
            "remote: Compressing objects: 100% (64/64), done.\u001b[K\n",
            "remote: Total 72 (delta 36), reused 17 (delta 4), pack-reused 0\u001b[K\n",
            "Unpacking objects: 100% (72/72), done.\n",
            "Cloning fyp repo in your Drive\n"
          ]
        }
      ],
      "source": [
        "import os.path\n",
        "\n",
        "PATH = '/content/drive/MyDrive/GE_GRAPE_Mammogram_Classification/'\n",
        "if os.path.exists(PATH):\n",
        "    print('fyp directory already exists')\n",
        "else:\n",
        "    %cd /content/drive/MyDrive/\n",
        "    !git clone https://github.com/relhwigi/GE_GRAPE_Mammogram_Classification.git\n",
        "    print('Cloning fyp repo in your Drive')"
      ]
    },
    {
      "cell_type": "markdown",
      "metadata": {
        "id": "WSp-9E5ythun"
      },
      "source": [
        "### ***Clone GRAPE repository***"
      ]
    },
    {
      "cell_type": "code",
      "execution_count": 3,
      "metadata": {
        "colab": {
          "base_uri": "https://localhost:8080/"
        },
        "id": "EmSTDvSxtpXG",
        "outputId": "2d5d1d48-68f7-4ac9-d2f4-cde4186cec2a"
      },
      "outputs": [
        {
          "output_type": "stream",
          "name": "stdout",
          "text": [
            "grape directory already exists\n",
            "/content/drive/MyDrive/grape\n"
          ]
        }
      ],
      "source": [
        "PATH = '/content/drive/MyDrive/grape/'\n",
        "if os.path.exists(PATH):\n",
        "    print('grape directory already exists')\n",
        "else:\n",
        "    %cd /content/drive/MyDrive/\n",
        "    !git clone https://github.com/UL-BDS/grape.git \n",
        "    print('Cloning grape in your Drive')\n",
        "\n",
        "%cd /content/drive/MyDrive/grape/"
      ]
    },
    {
      "cell_type": "code",
      "execution_count": 4,
      "metadata": {
        "id": "x-IWrHuMt93k"
      },
      "outputs": [],
      "source": [
        "# Suppressing Warnings:\n",
        "import warnings\n",
        "warnings.filterwarnings(\"ignore\")"
      ]
    },
    {
      "cell_type": "markdown",
      "metadata": {
        "id": "p0Zy8YEbwxOq"
      },
      "source": [
        "### ***Importing libraries***"
      ]
    },
    {
      "cell_type": "code",
      "execution_count": 5,
      "metadata": {
        "colab": {
          "base_uri": "https://localhost:8080/"
        },
        "id": "Ay1KC4bRfldb",
        "outputId": "b3472a0b-6996-4e7d-c5ee-d10efbd32a2d"
      },
      "outputs": [
        {
          "output_type": "stream",
          "name": "stdout",
          "text": [
            "Collecting deap==1.3\n",
            "  Downloading deap-1.3.0-cp37-cp37m-manylinux2010_x86_64.whl (152 kB)\n",
            "\u001b[K     |████████████████████████████████| 152 kB 4.1 MB/s \n",
            "\u001b[?25hRequirement already satisfied: numpy in /usr/local/lib/python3.7/dist-packages (from deap==1.3) (1.21.5)\n",
            "Installing collected packages: deap\n",
            "Successfully installed deap-1.3.0\n"
          ]
        }
      ],
      "source": [
        "!pip install deap==1.3 \n",
        "\n",
        "import algorithms\n",
        "from ponyge2_adapted_files import Grammar, ge\n",
        "from functions import add, sub, mul, pdiv, neg, greater_than_or_equal, less_than_or_equal\n",
        "\n",
        "import numpy as np\n",
        "from os import path\n",
        "import pandas as pd\n",
        "from collections import Counter\n",
        "import matplotlib.pyplot as plt\n",
        "from deap import creator, base, tools\n",
        "from imblearn.over_sampling import RandomOverSampler\n",
        "from sklearn.model_selection import train_test_split"
      ]
    },
    {
      "cell_type": "markdown",
      "metadata": {
        "id": "wwrckg4Sw3ZT"
      },
      "source": [
        "### ***Data Exploration***\n",
        "\n",
        "There are 2 datasets availble. A larger data set containing the full data and a smaller data set containing a subset of the data."
      ]
    },
    {
      "cell_type": "markdown",
      "metadata": {
        "id": "JTNF7cL1Q74H"
      },
      "source": [
        "**Large dataset**"
      ]
    },
    {
      "cell_type": "code",
      "execution_count": 6,
      "metadata": {
        "colab": {
          "base_uri": "https://localhost:8080/",
          "height": 297
        },
        "id": "ZBsYuyC5hBwE",
        "outputId": "2df911a3-bbc0-4a52-c047-b2eebce12a83"
      },
      "outputs": [
        {
          "output_type": "execute_result",
          "data": {
            "text/html": [
              "\n",
              "  <div id=\"df-d6b040a9-21bd-4b75-8382-1cd7f7c76b91\">\n",
              "    <div class=\"colab-df-container\">\n",
              "      <div>\n",
              "<style scoped>\n",
              "    .dataframe tbody tr th:only-of-type {\n",
              "        vertical-align: middle;\n",
              "    }\n",
              "\n",
              "    .dataframe tbody tr th {\n",
              "        vertical-align: top;\n",
              "    }\n",
              "\n",
              "    .dataframe thead th {\n",
              "        text-align: right;\n",
              "    }\n",
              "</style>\n",
              "<table border=\"1\" class=\"dataframe\">\n",
              "  <thead>\n",
              "    <tr style=\"text-align: right;\">\n",
              "      <th></th>\n",
              "      <th>PatientID</th>\n",
              "      <th>StudyID</th>\n",
              "      <th>PatientAge</th>\n",
              "      <th>ImgID</th>\n",
              "      <th>View</th>\n",
              "      <th>SegmentPosition</th>\n",
              "      <th>x0</th>\n",
              "      <th>x1</th>\n",
              "      <th>x2</th>\n",
              "      <th>x3</th>\n",
              "      <th>x4</th>\n",
              "      <th>x5</th>\n",
              "      <th>x6</th>\n",
              "      <th>x7</th>\n",
              "      <th>x8</th>\n",
              "      <th>x9</th>\n",
              "      <th>x10</th>\n",
              "      <th>x11</th>\n",
              "      <th>x12</th>\n",
              "      <th>x13</th>\n",
              "      <th>x14</th>\n",
              "      <th>x15</th>\n",
              "      <th>x16</th>\n",
              "      <th>x17</th>\n",
              "      <th>x18</th>\n",
              "      <th>x19</th>\n",
              "      <th>x20</th>\n",
              "      <th>x21</th>\n",
              "      <th>x22</th>\n",
              "      <th>x23</th>\n",
              "      <th>x24</th>\n",
              "      <th>x25</th>\n",
              "      <th>x26</th>\n",
              "      <th>x27</th>\n",
              "      <th>x28</th>\n",
              "      <th>x29</th>\n",
              "      <th>x30</th>\n",
              "      <th>x31</th>\n",
              "      <th>x32</th>\n",
              "      <th>x33</th>\n",
              "      <th>...</th>\n",
              "      <th>x65</th>\n",
              "      <th>x66</th>\n",
              "      <th>x67</th>\n",
              "      <th>x68</th>\n",
              "      <th>x69</th>\n",
              "      <th>x70</th>\n",
              "      <th>x71</th>\n",
              "      <th>x72</th>\n",
              "      <th>x73</th>\n",
              "      <th>x74</th>\n",
              "      <th>x75</th>\n",
              "      <th>x76</th>\n",
              "      <th>x77</th>\n",
              "      <th>x78</th>\n",
              "      <th>x79</th>\n",
              "      <th>x80</th>\n",
              "      <th>x81</th>\n",
              "      <th>x82</th>\n",
              "      <th>x83</th>\n",
              "      <th>x84</th>\n",
              "      <th>x85</th>\n",
              "      <th>x86</th>\n",
              "      <th>x87</th>\n",
              "      <th>x88</th>\n",
              "      <th>x89</th>\n",
              "      <th>x90</th>\n",
              "      <th>x91</th>\n",
              "      <th>x92</th>\n",
              "      <th>x93</th>\n",
              "      <th>x94</th>\n",
              "      <th>x95</th>\n",
              "      <th>x96</th>\n",
              "      <th>x97</th>\n",
              "      <th>x98</th>\n",
              "      <th>x99</th>\n",
              "      <th>x100</th>\n",
              "      <th>x101</th>\n",
              "      <th>x102</th>\n",
              "      <th>x103</th>\n",
              "      <th>Label</th>\n",
              "    </tr>\n",
              "  </thead>\n",
              "  <tbody>\n",
              "    <tr>\n",
              "      <th>0</th>\n",
              "      <td>optm1</td>\n",
              "      <td>1.2.826.0.1.3680043.9.3218.1.1.15315205.3583.1...</td>\n",
              "      <td>65</td>\n",
              "      <td>1.2.826.0.1.3680043.9.3218.1.1.15315205.3583.1...</td>\n",
              "      <td>CC</td>\n",
              "      <td>LA1</td>\n",
              "      <td>0.019791</td>\n",
              "      <td>70.750121</td>\n",
              "      <td>0.986798</td>\n",
              "      <td>2679.422225</td>\n",
              "      <td>0.280588</td>\n",
              "      <td>147.661857</td>\n",
              "      <td>10646.938779</td>\n",
              "      <td>7.747646</td>\n",
              "      <td>11.202839</td>\n",
              "      <td>0.000314</td>\n",
              "      <td>4.076002</td>\n",
              "      <td>-0.375260</td>\n",
              "      <td>0.997168</td>\n",
              "      <td>0.019626</td>\n",
              "      <td>84.163154</td>\n",
              "      <td>0.984285</td>\n",
              "      <td>2677.867573</td>\n",
              "      <td>0.265944</td>\n",
              "      <td>147.683884</td>\n",
              "      <td>10627.307136</td>\n",
              "      <td>7.747549</td>\n",
              "      <td>11.323964</td>\n",
              "      <td>0.000289</td>\n",
              "      <td>4.197319</td>\n",
              "      <td>-0.358078</td>\n",
              "      <td>0.996413</td>\n",
              "      <td>0.019630</td>\n",
              "      <td>77.824490</td>\n",
              "      <td>0.985561</td>\n",
              "      <td>2694.966117</td>\n",
              "      <td>0.275523</td>\n",
              "      <td>147.909924</td>\n",
              "      <td>10702.039977</td>\n",
              "      <td>7.754164</td>\n",
              "      <td>...</td>\n",
              "      <td>0.009253</td>\n",
              "      <td>87.836024</td>\n",
              "      <td>0.972762</td>\n",
              "      <td>1612.354750</td>\n",
              "      <td>0.234180</td>\n",
              "      <td>125.710824</td>\n",
              "      <td>6361.582974</td>\n",
              "      <td>7.734123</td>\n",
              "      <td>11.454076</td>\n",
              "      <td>0.000271</td>\n",
              "      <td>4.262486</td>\n",
              "      <td>-0.325168</td>\n",
              "      <td>0.994130</td>\n",
              "      <td>0.009331</td>\n",
              "      <td>78.661818</td>\n",
              "      <td>0.975880</td>\n",
              "      <td>1630.642198</td>\n",
              "      <td>0.251513</td>\n",
              "      <td>125.959761</td>\n",
              "      <td>6443.906973</td>\n",
              "      <td>7.742087</td>\n",
              "      <td>11.349892</td>\n",
              "      <td>0.000295</td>\n",
              "      <td>4.170668</td>\n",
              "      <td>-0.341879</td>\n",
              "      <td>0.995351</td>\n",
              "      <td>0.009309</td>\n",
              "      <td>91.440624</td>\n",
              "      <td>0.971643</td>\n",
              "      <td>1612.335914</td>\n",
              "      <td>0.236469</td>\n",
              "      <td>125.710631</td>\n",
              "      <td>6357.903033</td>\n",
              "      <td>7.732227</td>\n",
              "      <td>11.447468</td>\n",
              "      <td>0.000271</td>\n",
              "      <td>4.279557</td>\n",
              "      <td>-0.326134</td>\n",
              "      <td>0.994207</td>\n",
              "      <td>0</td>\n",
              "    </tr>\n",
              "    <tr>\n",
              "      <th>1</th>\n",
              "      <td>optm1</td>\n",
              "      <td>1.2.826.0.1.3680043.9.3218.1.1.15315205.3583.1...</td>\n",
              "      <td>65</td>\n",
              "      <td>1.2.826.0.1.3680043.9.3218.1.1.15315205.3583.1...</td>\n",
              "      <td>CC</td>\n",
              "      <td>RA1</td>\n",
              "      <td>0.994207</td>\n",
              "      <td>-0.326134</td>\n",
              "      <td>4.279557</td>\n",
              "      <td>0.000271</td>\n",
              "      <td>11.447468</td>\n",
              "      <td>7.732227</td>\n",
              "      <td>6357.903033</td>\n",
              "      <td>125.710631</td>\n",
              "      <td>0.236469</td>\n",
              "      <td>1612.335914</td>\n",
              "      <td>0.971643</td>\n",
              "      <td>91.440624</td>\n",
              "      <td>0.009309</td>\n",
              "      <td>0.995351</td>\n",
              "      <td>-0.341879</td>\n",
              "      <td>4.170668</td>\n",
              "      <td>0.000295</td>\n",
              "      <td>11.349892</td>\n",
              "      <td>7.742087</td>\n",
              "      <td>6443.906973</td>\n",
              "      <td>125.959761</td>\n",
              "      <td>0.251513</td>\n",
              "      <td>1630.642198</td>\n",
              "      <td>0.975880</td>\n",
              "      <td>78.661818</td>\n",
              "      <td>0.009331</td>\n",
              "      <td>0.994130</td>\n",
              "      <td>-0.325168</td>\n",
              "      <td>4.262486</td>\n",
              "      <td>0.000271</td>\n",
              "      <td>11.454076</td>\n",
              "      <td>7.734123</td>\n",
              "      <td>6361.582974</td>\n",
              "      <td>125.710824</td>\n",
              "      <td>...</td>\n",
              "      <td>0.996896</td>\n",
              "      <td>-0.368340</td>\n",
              "      <td>4.131941</td>\n",
              "      <td>0.000304</td>\n",
              "      <td>11.259636</td>\n",
              "      <td>7.754164</td>\n",
              "      <td>10702.039977</td>\n",
              "      <td>147.909924</td>\n",
              "      <td>0.275523</td>\n",
              "      <td>2694.966117</td>\n",
              "      <td>0.985561</td>\n",
              "      <td>77.824490</td>\n",
              "      <td>0.019630</td>\n",
              "      <td>0.996413</td>\n",
              "      <td>-0.358078</td>\n",
              "      <td>4.197319</td>\n",
              "      <td>0.000289</td>\n",
              "      <td>11.323964</td>\n",
              "      <td>7.747549</td>\n",
              "      <td>10627.307136</td>\n",
              "      <td>147.683884</td>\n",
              "      <td>0.265944</td>\n",
              "      <td>2677.867573</td>\n",
              "      <td>0.984285</td>\n",
              "      <td>84.163154</td>\n",
              "      <td>0.019626</td>\n",
              "      <td>0.997168</td>\n",
              "      <td>-0.375260</td>\n",
              "      <td>4.076002</td>\n",
              "      <td>0.000314</td>\n",
              "      <td>11.202839</td>\n",
              "      <td>7.747646</td>\n",
              "      <td>10646.938779</td>\n",
              "      <td>147.661857</td>\n",
              "      <td>0.280588</td>\n",
              "      <td>2679.422225</td>\n",
              "      <td>0.986798</td>\n",
              "      <td>70.750121</td>\n",
              "      <td>0.019791</td>\n",
              "      <td>0</td>\n",
              "    </tr>\n",
              "    <tr>\n",
              "      <th>2</th>\n",
              "      <td>optm1</td>\n",
              "      <td>1.2.826.0.1.3680043.9.3218.1.1.15315205.3583.1...</td>\n",
              "      <td>65</td>\n",
              "      <td>1.2.826.0.1.3680043.9.3218.1.1.15315205.3583.1...</td>\n",
              "      <td>CC</td>\n",
              "      <td>LB1</td>\n",
              "      <td>0.176898</td>\n",
              "      <td>29.279795</td>\n",
              "      <td>0.991535</td>\n",
              "      <td>1729.360146</td>\n",
              "      <td>0.543738</td>\n",
              "      <td>69.492803</td>\n",
              "      <td>6888.160789</td>\n",
              "      <td>5.588478</td>\n",
              "      <td>7.678311</td>\n",
              "      <td>0.001063</td>\n",
              "      <td>3.007836</td>\n",
              "      <td>-0.466993</td>\n",
              "      <td>0.995340</td>\n",
              "      <td>0.176755</td>\n",
              "      <td>38.247695</td>\n",
              "      <td>0.988937</td>\n",
              "      <td>1728.676323</td>\n",
              "      <td>0.527879</td>\n",
              "      <td>69.472768</td>\n",
              "      <td>6876.457598</td>\n",
              "      <td>5.587467</td>\n",
              "      <td>7.788665</td>\n",
              "      <td>0.001018</td>\n",
              "      <td>3.140099</td>\n",
              "      <td>-0.444989</td>\n",
              "      <td>0.994189</td>\n",
              "      <td>0.176731</td>\n",
              "      <td>36.386574</td>\n",
              "      <td>0.989479</td>\n",
              "      <td>1729.238136</td>\n",
              "      <td>0.536824</td>\n",
              "      <td>69.479784</td>\n",
              "      <td>6880.565969</td>\n",
              "      <td>5.589269</td>\n",
              "      <td>...</td>\n",
              "      <td>0.092548</td>\n",
              "      <td>49.175862</td>\n",
              "      <td>0.974096</td>\n",
              "      <td>949.183578</td>\n",
              "      <td>0.426549</td>\n",
              "      <td>70.014061</td>\n",
              "      <td>3747.558450</td>\n",
              "      <td>6.123452</td>\n",
              "      <td>8.832584</td>\n",
              "      <td>0.000764</td>\n",
              "      <td>3.565872</td>\n",
              "      <td>-0.374187</td>\n",
              "      <td>0.991387</td>\n",
              "      <td>0.092727</td>\n",
              "      <td>41.654020</td>\n",
              "      <td>0.978061</td>\n",
              "      <td>949.293642</td>\n",
              "      <td>0.442741</td>\n",
              "      <td>70.019677</td>\n",
              "      <td>3755.520550</td>\n",
              "      <td>6.123813</td>\n",
              "      <td>8.724835</td>\n",
              "      <td>0.000808</td>\n",
              "      <td>3.457819</td>\n",
              "      <td>-0.394026</td>\n",
              "      <td>0.993063</td>\n",
              "      <td>0.092775</td>\n",
              "      <td>43.496564</td>\n",
              "      <td>0.977087</td>\n",
              "      <td>949.179329</td>\n",
              "      <td>0.434262</td>\n",
              "      <td>70.013911</td>\n",
              "      <td>3753.220753</td>\n",
              "      <td>6.121706</td>\n",
              "      <td>8.761205</td>\n",
              "      <td>0.000787</td>\n",
              "      <td>3.495691</td>\n",
              "      <td>-0.387325</td>\n",
              "      <td>0.992537</td>\n",
              "      <td>0</td>\n",
              "    </tr>\n",
              "    <tr>\n",
              "      <th>3</th>\n",
              "      <td>optm1</td>\n",
              "      <td>1.2.826.0.1.3680043.9.3218.1.1.15315205.3583.1...</td>\n",
              "      <td>65</td>\n",
              "      <td>1.2.826.0.1.3680043.9.3218.1.1.15315205.3583.1...</td>\n",
              "      <td>CC</td>\n",
              "      <td>RB1</td>\n",
              "      <td>0.992537</td>\n",
              "      <td>-0.387325</td>\n",
              "      <td>3.495691</td>\n",
              "      <td>0.000787</td>\n",
              "      <td>8.761205</td>\n",
              "      <td>6.121706</td>\n",
              "      <td>3753.220753</td>\n",
              "      <td>70.013911</td>\n",
              "      <td>0.434262</td>\n",
              "      <td>949.179329</td>\n",
              "      <td>0.977087</td>\n",
              "      <td>43.496564</td>\n",
              "      <td>0.092775</td>\n",
              "      <td>0.993063</td>\n",
              "      <td>-0.394026</td>\n",
              "      <td>3.457819</td>\n",
              "      <td>0.000808</td>\n",
              "      <td>8.724835</td>\n",
              "      <td>6.123813</td>\n",
              "      <td>3755.520550</td>\n",
              "      <td>70.019677</td>\n",
              "      <td>0.442741</td>\n",
              "      <td>949.293642</td>\n",
              "      <td>0.978061</td>\n",
              "      <td>41.654020</td>\n",
              "      <td>0.092727</td>\n",
              "      <td>0.991387</td>\n",
              "      <td>-0.374187</td>\n",
              "      <td>3.565872</td>\n",
              "      <td>0.000764</td>\n",
              "      <td>8.832584</td>\n",
              "      <td>6.123452</td>\n",
              "      <td>3747.558450</td>\n",
              "      <td>70.014061</td>\n",
              "      <td>...</td>\n",
              "      <td>0.994659</td>\n",
              "      <td>-0.453387</td>\n",
              "      <td>3.096423</td>\n",
              "      <td>0.001041</td>\n",
              "      <td>7.746667</td>\n",
              "      <td>5.589269</td>\n",
              "      <td>6880.565969</td>\n",
              "      <td>69.479784</td>\n",
              "      <td>0.536824</td>\n",
              "      <td>1729.238136</td>\n",
              "      <td>0.989479</td>\n",
              "      <td>36.386574</td>\n",
              "      <td>0.176731</td>\n",
              "      <td>0.994189</td>\n",
              "      <td>-0.444989</td>\n",
              "      <td>3.140099</td>\n",
              "      <td>0.001018</td>\n",
              "      <td>7.788665</td>\n",
              "      <td>5.587467</td>\n",
              "      <td>6876.457598</td>\n",
              "      <td>69.472768</td>\n",
              "      <td>0.527879</td>\n",
              "      <td>1728.676323</td>\n",
              "      <td>0.988937</td>\n",
              "      <td>38.247695</td>\n",
              "      <td>0.176755</td>\n",
              "      <td>0.995340</td>\n",
              "      <td>-0.466993</td>\n",
              "      <td>3.007836</td>\n",
              "      <td>0.001063</td>\n",
              "      <td>7.678311</td>\n",
              "      <td>5.588478</td>\n",
              "      <td>6888.160789</td>\n",
              "      <td>69.492803</td>\n",
              "      <td>0.543738</td>\n",
              "      <td>1729.360146</td>\n",
              "      <td>0.991535</td>\n",
              "      <td>29.279795</td>\n",
              "      <td>0.176898</td>\n",
              "      <td>0</td>\n",
              "    </tr>\n",
              "    <tr>\n",
              "      <th>4</th>\n",
              "      <td>optm1</td>\n",
              "      <td>1.2.826.0.1.3680043.9.3218.1.1.15315205.3583.1...</td>\n",
              "      <td>65</td>\n",
              "      <td>1.2.826.0.1.3680043.9.3218.1.1.15315205.3583.1...</td>\n",
              "      <td>CC</td>\n",
              "      <td>LC1</td>\n",
              "      <td>0.525843</td>\n",
              "      <td>7.001352</td>\n",
              "      <td>0.994143</td>\n",
              "      <td>597.735239</td>\n",
              "      <td>0.796829</td>\n",
              "      <td>25.326144</td>\n",
              "      <td>2383.939606</td>\n",
              "      <td>2.888570</td>\n",
              "      <td>3.765628</td>\n",
              "      <td>0.003221</td>\n",
              "      <td>1.616226</td>\n",
              "      <td>-0.557700</td>\n",
              "      <td>0.972441</td>\n",
              "      <td>0.526075</td>\n",
              "      <td>8.623873</td>\n",
              "      <td>0.992788</td>\n",
              "      <td>597.848247</td>\n",
              "      <td>0.789314</td>\n",
              "      <td>25.316250</td>\n",
              "      <td>2382.769114</td>\n",
              "      <td>2.886327</td>\n",
              "      <td>3.807634</td>\n",
              "      <td>0.003188</td>\n",
              "      <td>1.673199</td>\n",
              "      <td>-0.540782</td>\n",
              "      <td>0.969807</td>\n",
              "      <td>0.526078</td>\n",
              "      <td>10.609301</td>\n",
              "      <td>0.991133</td>\n",
              "      <td>598.213914</td>\n",
              "      <td>0.790275</td>\n",
              "      <td>25.320748</td>\n",
              "      <td>2382.246357</td>\n",
              "      <td>2.887123</td>\n",
              "      <td>...</td>\n",
              "      <td>0.330231</td>\n",
              "      <td>27.833329</td>\n",
              "      <td>0.979076</td>\n",
              "      <td>665.089596</td>\n",
              "      <td>0.654940</td>\n",
              "      <td>37.178337</td>\n",
              "      <td>2632.525056</td>\n",
              "      <td>4.044753</td>\n",
              "      <td>5.653991</td>\n",
              "      <td>0.001568</td>\n",
              "      <td>2.530141</td>\n",
              "      <td>-0.438600</td>\n",
              "      <td>0.978911</td>\n",
              "      <td>0.330643</td>\n",
              "      <td>18.074722</td>\n",
              "      <td>0.986413</td>\n",
              "      <td>665.132874</td>\n",
              "      <td>0.672223</td>\n",
              "      <td>37.181671</td>\n",
              "      <td>2642.456775</td>\n",
              "      <td>4.045396</td>\n",
              "      <td>5.530116</td>\n",
              "      <td>0.001622</td>\n",
              "      <td>2.373880</td>\n",
              "      <td>-0.472770</td>\n",
              "      <td>0.983571</td>\n",
              "      <td>0.330663</td>\n",
              "      <td>16.596673</td>\n",
              "      <td>0.987523</td>\n",
              "      <td>665.092720</td>\n",
              "      <td>0.668818</td>\n",
              "      <td>37.178428</td>\n",
              "      <td>2643.774206</td>\n",
              "      <td>4.044079</td>\n",
              "      <td>5.525354</td>\n",
              "      <td>0.001611</td>\n",
              "      <td>2.364907</td>\n",
              "      <td>-0.474126</td>\n",
              "      <td>0.983734</td>\n",
              "      <td>0</td>\n",
              "    </tr>\n",
              "  </tbody>\n",
              "</table>\n",
              "<p>5 rows × 111 columns</p>\n",
              "</div>\n",
              "      <button class=\"colab-df-convert\" onclick=\"convertToInteractive('df-d6b040a9-21bd-4b75-8382-1cd7f7c76b91')\"\n",
              "              title=\"Convert this dataframe to an interactive table.\"\n",
              "              style=\"display:none;\">\n",
              "        \n",
              "  <svg xmlns=\"http://www.w3.org/2000/svg\" height=\"24px\"viewBox=\"0 0 24 24\"\n",
              "       width=\"24px\">\n",
              "    <path d=\"M0 0h24v24H0V0z\" fill=\"none\"/>\n",
              "    <path d=\"M18.56 5.44l.94 2.06.94-2.06 2.06-.94-2.06-.94-.94-2.06-.94 2.06-2.06.94zm-11 1L8.5 8.5l.94-2.06 2.06-.94-2.06-.94L8.5 2.5l-.94 2.06-2.06.94zm10 10l.94 2.06.94-2.06 2.06-.94-2.06-.94-.94-2.06-.94 2.06-2.06.94z\"/><path d=\"M17.41 7.96l-1.37-1.37c-.4-.4-.92-.59-1.43-.59-.52 0-1.04.2-1.43.59L10.3 9.45l-7.72 7.72c-.78.78-.78 2.05 0 2.83L4 21.41c.39.39.9.59 1.41.59.51 0 1.02-.2 1.41-.59l7.78-7.78 2.81-2.81c.8-.78.8-2.07 0-2.86zM5.41 20L4 18.59l7.72-7.72 1.47 1.35L5.41 20z\"/>\n",
              "  </svg>\n",
              "      </button>\n",
              "      \n",
              "  <style>\n",
              "    .colab-df-container {\n",
              "      display:flex;\n",
              "      flex-wrap:wrap;\n",
              "      gap: 12px;\n",
              "    }\n",
              "\n",
              "    .colab-df-convert {\n",
              "      background-color: #E8F0FE;\n",
              "      border: none;\n",
              "      border-radius: 50%;\n",
              "      cursor: pointer;\n",
              "      display: none;\n",
              "      fill: #1967D2;\n",
              "      height: 32px;\n",
              "      padding: 0 0 0 0;\n",
              "      width: 32px;\n",
              "    }\n",
              "\n",
              "    .colab-df-convert:hover {\n",
              "      background-color: #E2EBFA;\n",
              "      box-shadow: 0px 1px 2px rgba(60, 64, 67, 0.3), 0px 1px 3px 1px rgba(60, 64, 67, 0.15);\n",
              "      fill: #174EA6;\n",
              "    }\n",
              "\n",
              "    [theme=dark] .colab-df-convert {\n",
              "      background-color: #3B4455;\n",
              "      fill: #D2E3FC;\n",
              "    }\n",
              "\n",
              "    [theme=dark] .colab-df-convert:hover {\n",
              "      background-color: #434B5C;\n",
              "      box-shadow: 0px 1px 3px 1px rgba(0, 0, 0, 0.15);\n",
              "      filter: drop-shadow(0px 1px 2px rgba(0, 0, 0, 0.3));\n",
              "      fill: #FFFFFF;\n",
              "    }\n",
              "  </style>\n",
              "\n",
              "      <script>\n",
              "        const buttonEl =\n",
              "          document.querySelector('#df-d6b040a9-21bd-4b75-8382-1cd7f7c76b91 button.colab-df-convert');\n",
              "        buttonEl.style.display =\n",
              "          google.colab.kernel.accessAllowed ? 'block' : 'none';\n",
              "\n",
              "        async function convertToInteractive(key) {\n",
              "          const element = document.querySelector('#df-d6b040a9-21bd-4b75-8382-1cd7f7c76b91');\n",
              "          const dataTable =\n",
              "            await google.colab.kernel.invokeFunction('convertToInteractive',\n",
              "                                                     [key], {});\n",
              "          if (!dataTable) return;\n",
              "\n",
              "          const docLinkHtml = 'Like what you see? Visit the ' +\n",
              "            '<a target=\"_blank\" href=https://colab.research.google.com/notebooks/data_table.ipynb>data table notebook</a>'\n",
              "            + ' to learn more about interactive tables.';\n",
              "          element.innerHTML = '';\n",
              "          dataTable['output_type'] = 'display_data';\n",
              "          await google.colab.output.renderOutput(dataTable, element);\n",
              "          const docLink = document.createElement('div');\n",
              "          docLink.innerHTML = docLinkHtml;\n",
              "          element.appendChild(docLink);\n",
              "        }\n",
              "      </script>\n",
              "    </div>\n",
              "  </div>\n",
              "  "
            ],
            "text/plain": [
              "  PatientID                                            StudyID  ...      x103 Label\n",
              "0     optm1  1.2.826.0.1.3680043.9.3218.1.1.15315205.3583.1...  ...  0.994207     0\n",
              "1     optm1  1.2.826.0.1.3680043.9.3218.1.1.15315205.3583.1...  ...  0.019791     0\n",
              "2     optm1  1.2.826.0.1.3680043.9.3218.1.1.15315205.3583.1...  ...  0.992537     0\n",
              "3     optm1  1.2.826.0.1.3680043.9.3218.1.1.15315205.3583.1...  ...  0.176898     0\n",
              "4     optm1  1.2.826.0.1.3680043.9.3218.1.1.15315205.3583.1...  ...  0.983734     0\n",
              "\n",
              "[5 rows x 111 columns]"
            ]
          },
          "metadata": {},
          "execution_count": 6
        }
      ],
      "source": [
        "# loading in the full dataset into a pandas dataframe from GitHub\n",
        "full_data = pd.read_csv('https://media.githubusercontent.com/media/relhwigi/GE_GRAPE_Mammogram_Classification/main/data/haralick02.csv')\n",
        "\n",
        "# checking the data\n",
        "full_data.head()"
      ]
    },
    {
      "cell_type": "markdown",
      "metadata": {
        "id": "6v62BR8_RE3b"
      },
      "source": [
        "**Smaller dataset**"
      ]
    },
    {
      "cell_type": "code",
      "execution_count": 7,
      "metadata": {
        "colab": {
          "base_uri": "https://localhost:8080/",
          "height": 297
        },
        "id": "sUCGcHCrxa4C",
        "outputId": "a373eb0d-81d6-4975-b59c-c1efbd80501c"
      },
      "outputs": [
        {
          "output_type": "execute_result",
          "data": {
            "text/html": [
              "\n",
              "  <div id=\"df-dd0d3d06-b566-441d-b6b9-171223e77e45\">\n",
              "    <div class=\"colab-df-container\">\n",
              "      <div>\n",
              "<style scoped>\n",
              "    .dataframe tbody tr th:only-of-type {\n",
              "        vertical-align: middle;\n",
              "    }\n",
              "\n",
              "    .dataframe tbody tr th {\n",
              "        vertical-align: top;\n",
              "    }\n",
              "\n",
              "    .dataframe thead th {\n",
              "        text-align: right;\n",
              "    }\n",
              "</style>\n",
              "<table border=\"1\" class=\"dataframe\">\n",
              "  <thead>\n",
              "    <tr style=\"text-align: right;\">\n",
              "      <th></th>\n",
              "      <th>PatientID</th>\n",
              "      <th>StudyID</th>\n",
              "      <th>PatientAge</th>\n",
              "      <th>ImgID</th>\n",
              "      <th>View</th>\n",
              "      <th>SegmentPosition</th>\n",
              "      <th>x0</th>\n",
              "      <th>x1</th>\n",
              "      <th>x2</th>\n",
              "      <th>x3</th>\n",
              "      <th>x4</th>\n",
              "      <th>x5</th>\n",
              "      <th>x6</th>\n",
              "      <th>x7</th>\n",
              "      <th>x8</th>\n",
              "      <th>x9</th>\n",
              "      <th>x10</th>\n",
              "      <th>x11</th>\n",
              "      <th>x12</th>\n",
              "      <th>x13</th>\n",
              "      <th>x14</th>\n",
              "      <th>x15</th>\n",
              "      <th>x16</th>\n",
              "      <th>x17</th>\n",
              "      <th>x18</th>\n",
              "      <th>x19</th>\n",
              "      <th>x20</th>\n",
              "      <th>x21</th>\n",
              "      <th>x22</th>\n",
              "      <th>x23</th>\n",
              "      <th>x24</th>\n",
              "      <th>x25</th>\n",
              "      <th>x26</th>\n",
              "      <th>x27</th>\n",
              "      <th>x28</th>\n",
              "      <th>x29</th>\n",
              "      <th>x30</th>\n",
              "      <th>x31</th>\n",
              "      <th>x32</th>\n",
              "      <th>x33</th>\n",
              "      <th>...</th>\n",
              "      <th>x65</th>\n",
              "      <th>x66</th>\n",
              "      <th>x67</th>\n",
              "      <th>x68</th>\n",
              "      <th>x69</th>\n",
              "      <th>x70</th>\n",
              "      <th>x71</th>\n",
              "      <th>x72</th>\n",
              "      <th>x73</th>\n",
              "      <th>x74</th>\n",
              "      <th>x75</th>\n",
              "      <th>x76</th>\n",
              "      <th>x77</th>\n",
              "      <th>x78</th>\n",
              "      <th>x79</th>\n",
              "      <th>x80</th>\n",
              "      <th>x81</th>\n",
              "      <th>x82</th>\n",
              "      <th>x83</th>\n",
              "      <th>x84</th>\n",
              "      <th>x85</th>\n",
              "      <th>x86</th>\n",
              "      <th>x87</th>\n",
              "      <th>x88</th>\n",
              "      <th>x89</th>\n",
              "      <th>x90</th>\n",
              "      <th>x91</th>\n",
              "      <th>x92</th>\n",
              "      <th>x93</th>\n",
              "      <th>x94</th>\n",
              "      <th>x95</th>\n",
              "      <th>x96</th>\n",
              "      <th>x97</th>\n",
              "      <th>x98</th>\n",
              "      <th>x99</th>\n",
              "      <th>x100</th>\n",
              "      <th>x101</th>\n",
              "      <th>x102</th>\n",
              "      <th>x103</th>\n",
              "      <th>Label</th>\n",
              "    </tr>\n",
              "  </thead>\n",
              "  <tbody>\n",
              "    <tr>\n",
              "      <th>24994</th>\n",
              "      <td>optm1344</td>\n",
              "      <td>1.2.826.0.1.3680043.9.3218.1.1.1404259.6176.15...</td>\n",
              "      <td>66</td>\n",
              "      <td>1.2.826.0.1.3680043.9.3218.1.1.1404259.6176.15...</td>\n",
              "      <td>MLO</td>\n",
              "      <td>LC4</td>\n",
              "      <td>0.580839</td>\n",
              "      <td>3.045049</td>\n",
              "      <td>0.997699</td>\n",
              "      <td>661.727190</td>\n",
              "      <td>0.836922</td>\n",
              "      <td>26.268896</td>\n",
              "      <td>2643.863713</td>\n",
              "      <td>2.494799</td>\n",
              "      <td>3.163219</td>\n",
              "      <td>0.003258</td>\n",
              "      <td>1.314591</td>\n",
              "      <td>-0.599526</td>\n",
              "      <td>0.966099</td>\n",
              "      <td>0.580497</td>\n",
              "      <td>7.801042</td>\n",
              "      <td>0.994106</td>\n",
              "      <td>661.792593</td>\n",
              "      <td>0.815975</td>\n",
              "      <td>26.252181</td>\n",
              "      <td>2639.369329</td>\n",
              "      <td>2.496087</td>\n",
              "      <td>3.296281</td>\n",
              "      <td>0.003155</td>\n",
              "      <td>1.509786</td>\n",
              "      <td>-0.539391</td>\n",
              "      <td>0.955178</td>\n",
              "      <td>0.580715</td>\n",
              "      <td>5.653316</td>\n",
              "      <td>0.995729</td>\n",
              "      <td>661.779929</td>\n",
              "      <td>0.824111</td>\n",
              "      <td>26.248573</td>\n",
              "      <td>2641.466402</td>\n",
              "      <td>2.496146</td>\n",
              "      <td>...</td>\n",
              "      <td>0.740933</td>\n",
              "      <td>4.768997</td>\n",
              "      <td>0.996091</td>\n",
              "      <td>609.972040</td>\n",
              "      <td>0.893421</td>\n",
              "      <td>17.894553</td>\n",
              "      <td>2435.119162</td>\n",
              "      <td>1.634581</td>\n",
              "      <td>2.096980</td>\n",
              "      <td>0.004058</td>\n",
              "      <td>0.990489</td>\n",
              "      <td>-0.595274</td>\n",
              "      <td>0.911536</td>\n",
              "      <td>0.740852</td>\n",
              "      <td>5.103426</td>\n",
              "      <td>0.995816</td>\n",
              "      <td>609.850151</td>\n",
              "      <td>0.896355</td>\n",
              "      <td>17.890689</td>\n",
              "      <td>2434.297178</td>\n",
              "      <td>1.635636</td>\n",
              "      <td>2.084555</td>\n",
              "      <td>0.004073</td>\n",
              "      <td>0.977859</td>\n",
              "      <td>-0.603467</td>\n",
              "      <td>0.913760</td>\n",
              "      <td>0.740632</td>\n",
              "      <td>7.332761</td>\n",
              "      <td>0.993989</td>\n",
              "      <td>609.970714</td>\n",
              "      <td>0.890533</td>\n",
              "      <td>17.894517</td>\n",
              "      <td>2432.550097</td>\n",
              "      <td>1.636074</td>\n",
              "      <td>2.120537</td>\n",
              "      <td>0.004044</td>\n",
              "      <td>1.030084</td>\n",
              "      <td>-0.579495</td>\n",
              "      <td>0.907051</td>\n",
              "      <td>0</td>\n",
              "    </tr>\n",
              "    <tr>\n",
              "      <th>24995</th>\n",
              "      <td>optm1344</td>\n",
              "      <td>1.2.826.0.1.3680043.9.3218.1.1.1404259.6176.15...</td>\n",
              "      <td>66</td>\n",
              "      <td>1.2.826.0.1.3680043.9.3218.1.1.1404259.6176.15...</td>\n",
              "      <td>MLO</td>\n",
              "      <td>RC4</td>\n",
              "      <td>0.907051</td>\n",
              "      <td>-0.579495</td>\n",
              "      <td>1.030084</td>\n",
              "      <td>0.004044</td>\n",
              "      <td>2.120537</td>\n",
              "      <td>1.636074</td>\n",
              "      <td>2432.550097</td>\n",
              "      <td>17.894517</td>\n",
              "      <td>0.890533</td>\n",
              "      <td>609.970714</td>\n",
              "      <td>0.993989</td>\n",
              "      <td>7.332761</td>\n",
              "      <td>0.740632</td>\n",
              "      <td>0.913760</td>\n",
              "      <td>-0.603467</td>\n",
              "      <td>0.977859</td>\n",
              "      <td>0.004073</td>\n",
              "      <td>2.084555</td>\n",
              "      <td>1.635636</td>\n",
              "      <td>2434.297178</td>\n",
              "      <td>17.890689</td>\n",
              "      <td>0.896355</td>\n",
              "      <td>609.850151</td>\n",
              "      <td>0.995816</td>\n",
              "      <td>5.103426</td>\n",
              "      <td>0.740852</td>\n",
              "      <td>0.911536</td>\n",
              "      <td>-0.595274</td>\n",
              "      <td>0.990489</td>\n",
              "      <td>0.004058</td>\n",
              "      <td>2.096980</td>\n",
              "      <td>1.634581</td>\n",
              "      <td>2435.119162</td>\n",
              "      <td>17.894553</td>\n",
              "      <td>...</td>\n",
              "      <td>0.959646</td>\n",
              "      <td>-0.562159</td>\n",
              "      <td>1.439089</td>\n",
              "      <td>0.003190</td>\n",
              "      <td>3.244839</td>\n",
              "      <td>2.496146</td>\n",
              "      <td>2641.466402</td>\n",
              "      <td>26.248573</td>\n",
              "      <td>0.824111</td>\n",
              "      <td>661.779929</td>\n",
              "      <td>0.995729</td>\n",
              "      <td>5.653316</td>\n",
              "      <td>0.580715</td>\n",
              "      <td>0.955178</td>\n",
              "      <td>-0.539391</td>\n",
              "      <td>1.509786</td>\n",
              "      <td>0.003155</td>\n",
              "      <td>3.296281</td>\n",
              "      <td>2.496087</td>\n",
              "      <td>2639.369329</td>\n",
              "      <td>26.252181</td>\n",
              "      <td>0.815975</td>\n",
              "      <td>661.792593</td>\n",
              "      <td>0.994106</td>\n",
              "      <td>7.801042</td>\n",
              "      <td>0.580497</td>\n",
              "      <td>0.966099</td>\n",
              "      <td>-0.599526</td>\n",
              "      <td>1.314591</td>\n",
              "      <td>0.003258</td>\n",
              "      <td>3.163219</td>\n",
              "      <td>2.494799</td>\n",
              "      <td>2643.863713</td>\n",
              "      <td>26.268896</td>\n",
              "      <td>0.836922</td>\n",
              "      <td>661.727190</td>\n",
              "      <td>0.997699</td>\n",
              "      <td>3.045049</td>\n",
              "      <td>0.580839</td>\n",
              "      <td>0</td>\n",
              "    </tr>\n",
              "    <tr>\n",
              "      <th>24996</th>\n",
              "      <td>optm1344</td>\n",
              "      <td>1.2.826.0.1.3680043.9.3218.1.1.1404259.6176.15...</td>\n",
              "      <td>66</td>\n",
              "      <td>1.2.826.0.1.3680043.9.3218.1.1.1404259.6176.15...</td>\n",
              "      <td>MLO</td>\n",
              "      <td>LD4</td>\n",
              "      <td>0.826577</td>\n",
              "      <td>0.954606</td>\n",
              "      <td>0.998275</td>\n",
              "      <td>276.728460</td>\n",
              "      <td>0.940576</td>\n",
              "      <td>9.732558</td>\n",
              "      <td>1105.959234</td>\n",
              "      <td>1.102387</td>\n",
              "      <td>1.339445</td>\n",
              "      <td>0.007334</td>\n",
              "      <td>0.598755</td>\n",
              "      <td>-0.672619</td>\n",
              "      <td>0.861793</td>\n",
              "      <td>0.826406</td>\n",
              "      <td>3.155421</td>\n",
              "      <td>0.994277</td>\n",
              "      <td>275.694855</td>\n",
              "      <td>0.929461</td>\n",
              "      <td>9.693805</td>\n",
              "      <td>1099.623999</td>\n",
              "      <td>1.102562</td>\n",
              "      <td>1.406288</td>\n",
              "      <td>0.007233</td>\n",
              "      <td>0.706477</td>\n",
              "      <td>-0.601921</td>\n",
              "      <td>0.837899</td>\n",
              "      <td>0.826833</td>\n",
              "      <td>1.641757</td>\n",
              "      <td>0.997022</td>\n",
              "      <td>275.683547</td>\n",
              "      <td>0.935430</td>\n",
              "      <td>9.694291</td>\n",
              "      <td>1101.092433</td>\n",
              "      <td>1.100626</td>\n",
              "      <td>...</td>\n",
              "      <td>0.954617</td>\n",
              "      <td>0.496889</td>\n",
              "      <td>0.997059</td>\n",
              "      <td>84.471798</td>\n",
              "      <td>0.983721</td>\n",
              "      <td>2.450195</td>\n",
              "      <td>337.390304</td>\n",
              "      <td>0.332656</td>\n",
              "      <td>0.396962</td>\n",
              "      <td>0.005391</td>\n",
              "      <td>0.206537</td>\n",
              "      <td>-0.708741</td>\n",
              "      <td>0.594332</td>\n",
              "      <td>0.954392</td>\n",
              "      <td>0.957006</td>\n",
              "      <td>0.994345</td>\n",
              "      <td>84.616243</td>\n",
              "      <td>0.982837</td>\n",
              "      <td>2.456086</td>\n",
              "      <td>337.507966</td>\n",
              "      <td>0.334070</td>\n",
              "      <td>0.402915</td>\n",
              "      <td>0.005385</td>\n",
              "      <td>0.219292</td>\n",
              "      <td>-0.691725</td>\n",
              "      <td>0.589005</td>\n",
              "      <td>0.954291</td>\n",
              "      <td>1.905002</td>\n",
              "      <td>0.988724</td>\n",
              "      <td>84.475163</td>\n",
              "      <td>0.981381</td>\n",
              "      <td>2.450326</td>\n",
              "      <td>335.995648</td>\n",
              "      <td>0.334633</td>\n",
              "      <td>0.412324</td>\n",
              "      <td>0.005377</td>\n",
              "      <td>0.236487</td>\n",
              "      <td>-0.658832</td>\n",
              "      <td>0.577138</td>\n",
              "      <td>0</td>\n",
              "    </tr>\n",
              "    <tr>\n",
              "      <th>24997</th>\n",
              "      <td>optm1344</td>\n",
              "      <td>1.2.826.0.1.3680043.9.3218.1.1.1404259.6176.15...</td>\n",
              "      <td>66</td>\n",
              "      <td>1.2.826.0.1.3680043.9.3218.1.1.1404259.6176.15...</td>\n",
              "      <td>MLO</td>\n",
              "      <td>RD4</td>\n",
              "      <td>0.577138</td>\n",
              "      <td>-0.658832</td>\n",
              "      <td>0.236487</td>\n",
              "      <td>0.005377</td>\n",
              "      <td>0.412324</td>\n",
              "      <td>0.334633</td>\n",
              "      <td>335.995648</td>\n",
              "      <td>2.450326</td>\n",
              "      <td>0.981381</td>\n",
              "      <td>84.475163</td>\n",
              "      <td>0.988724</td>\n",
              "      <td>1.905002</td>\n",
              "      <td>0.954291</td>\n",
              "      <td>0.589005</td>\n",
              "      <td>-0.691725</td>\n",
              "      <td>0.219292</td>\n",
              "      <td>0.005385</td>\n",
              "      <td>0.402915</td>\n",
              "      <td>0.334070</td>\n",
              "      <td>337.507966</td>\n",
              "      <td>2.456086</td>\n",
              "      <td>0.982837</td>\n",
              "      <td>84.616243</td>\n",
              "      <td>0.994345</td>\n",
              "      <td>0.957006</td>\n",
              "      <td>0.954392</td>\n",
              "      <td>0.594332</td>\n",
              "      <td>-0.708741</td>\n",
              "      <td>0.206537</td>\n",
              "      <td>0.005391</td>\n",
              "      <td>0.396962</td>\n",
              "      <td>0.332656</td>\n",
              "      <td>337.390304</td>\n",
              "      <td>2.450195</td>\n",
              "      <td>...</td>\n",
              "      <td>0.851051</td>\n",
              "      <td>-0.640413</td>\n",
              "      <td>0.648221</td>\n",
              "      <td>0.007284</td>\n",
              "      <td>1.367621</td>\n",
              "      <td>1.100626</td>\n",
              "      <td>1101.092433</td>\n",
              "      <td>9.694291</td>\n",
              "      <td>0.935430</td>\n",
              "      <td>275.683547</td>\n",
              "      <td>0.997022</td>\n",
              "      <td>1.641757</td>\n",
              "      <td>0.826833</td>\n",
              "      <td>0.837899</td>\n",
              "      <td>-0.601921</td>\n",
              "      <td>0.706477</td>\n",
              "      <td>0.007233</td>\n",
              "      <td>1.406288</td>\n",
              "      <td>1.102562</td>\n",
              "      <td>1099.623999</td>\n",
              "      <td>9.693805</td>\n",
              "      <td>0.929461</td>\n",
              "      <td>275.694855</td>\n",
              "      <td>0.994277</td>\n",
              "      <td>3.155421</td>\n",
              "      <td>0.826406</td>\n",
              "      <td>0.861793</td>\n",
              "      <td>-0.672619</td>\n",
              "      <td>0.598755</td>\n",
              "      <td>0.007334</td>\n",
              "      <td>1.339445</td>\n",
              "      <td>1.102387</td>\n",
              "      <td>1105.959234</td>\n",
              "      <td>9.732558</td>\n",
              "      <td>0.940576</td>\n",
              "      <td>276.728460</td>\n",
              "      <td>0.998275</td>\n",
              "      <td>0.954606</td>\n",
              "      <td>0.826577</td>\n",
              "      <td>0</td>\n",
              "    </tr>\n",
              "    <tr>\n",
              "      <th>24998</th>\n",
              "      <td>optm1344</td>\n",
              "      <td>1.2.826.0.1.3680043.9.3218.1.1.1404259.6176.15...</td>\n",
              "      <td>66</td>\n",
              "      <td>1.2.826.0.1.3680043.9.3218.1.1.1404259.6176.15...</td>\n",
              "      <td>MLO</td>\n",
              "      <td>LE4</td>\n",
              "      <td>1.000000</td>\n",
              "      <td>0.000000</td>\n",
              "      <td>1.000000</td>\n",
              "      <td>0.000000</td>\n",
              "      <td>1.000000</td>\n",
              "      <td>0.000000</td>\n",
              "      <td>0.000000</td>\n",
              "      <td>-0.000000</td>\n",
              "      <td>-0.000000</td>\n",
              "      <td>0.000000</td>\n",
              "      <td>-0.000000</td>\n",
              "      <td>0.000000</td>\n",
              "      <td>0.000000</td>\n",
              "      <td>1.000000</td>\n",
              "      <td>0.000000</td>\n",
              "      <td>1.000000</td>\n",
              "      <td>0.000000</td>\n",
              "      <td>1.000000</td>\n",
              "      <td>0.000000</td>\n",
              "      <td>0.000000</td>\n",
              "      <td>-0.000000</td>\n",
              "      <td>-0.000000</td>\n",
              "      <td>0.000000</td>\n",
              "      <td>-0.000000</td>\n",
              "      <td>0.000000</td>\n",
              "      <td>0.000000</td>\n",
              "      <td>1.000000</td>\n",
              "      <td>0.000000</td>\n",
              "      <td>1.000000</td>\n",
              "      <td>0.000000</td>\n",
              "      <td>1.000000</td>\n",
              "      <td>0.000000</td>\n",
              "      <td>0.000000</td>\n",
              "      <td>-0.000000</td>\n",
              "      <td>...</td>\n",
              "      <td>1.000000</td>\n",
              "      <td>0.000000</td>\n",
              "      <td>1.000000</td>\n",
              "      <td>0.000000</td>\n",
              "      <td>1.000000</td>\n",
              "      <td>0.000000</td>\n",
              "      <td>0.000000</td>\n",
              "      <td>-0.000000</td>\n",
              "      <td>-0.000000</td>\n",
              "      <td>0.000000</td>\n",
              "      <td>-0.000000</td>\n",
              "      <td>0.000000</td>\n",
              "      <td>0.000000</td>\n",
              "      <td>1.000000</td>\n",
              "      <td>0.000000</td>\n",
              "      <td>1.000000</td>\n",
              "      <td>0.000000</td>\n",
              "      <td>1.000000</td>\n",
              "      <td>0.000000</td>\n",
              "      <td>0.000000</td>\n",
              "      <td>-0.000000</td>\n",
              "      <td>-0.000000</td>\n",
              "      <td>0.000000</td>\n",
              "      <td>-0.000000</td>\n",
              "      <td>0.000000</td>\n",
              "      <td>0.000000</td>\n",
              "      <td>1.000000</td>\n",
              "      <td>0.000000</td>\n",
              "      <td>1.000000</td>\n",
              "      <td>0.000000</td>\n",
              "      <td>1.000000</td>\n",
              "      <td>0.000000</td>\n",
              "      <td>0.000000</td>\n",
              "      <td>-0.000000</td>\n",
              "      <td>-0.000000</td>\n",
              "      <td>0.000000</td>\n",
              "      <td>-0.000000</td>\n",
              "      <td>0.000000</td>\n",
              "      <td>0.000000</td>\n",
              "      <td>0</td>\n",
              "    </tr>\n",
              "  </tbody>\n",
              "</table>\n",
              "<p>5 rows × 111 columns</p>\n",
              "</div>\n",
              "      <button class=\"colab-df-convert\" onclick=\"convertToInteractive('df-dd0d3d06-b566-441d-b6b9-171223e77e45')\"\n",
              "              title=\"Convert this dataframe to an interactive table.\"\n",
              "              style=\"display:none;\">\n",
              "        \n",
              "  <svg xmlns=\"http://www.w3.org/2000/svg\" height=\"24px\"viewBox=\"0 0 24 24\"\n",
              "       width=\"24px\">\n",
              "    <path d=\"M0 0h24v24H0V0z\" fill=\"none\"/>\n",
              "    <path d=\"M18.56 5.44l.94 2.06.94-2.06 2.06-.94-2.06-.94-.94-2.06-.94 2.06-2.06.94zm-11 1L8.5 8.5l.94-2.06 2.06-.94-2.06-.94L8.5 2.5l-.94 2.06-2.06.94zm10 10l.94 2.06.94-2.06 2.06-.94-2.06-.94-.94-2.06-.94 2.06-2.06.94z\"/><path d=\"M17.41 7.96l-1.37-1.37c-.4-.4-.92-.59-1.43-.59-.52 0-1.04.2-1.43.59L10.3 9.45l-7.72 7.72c-.78.78-.78 2.05 0 2.83L4 21.41c.39.39.9.59 1.41.59.51 0 1.02-.2 1.41-.59l7.78-7.78 2.81-2.81c.8-.78.8-2.07 0-2.86zM5.41 20L4 18.59l7.72-7.72 1.47 1.35L5.41 20z\"/>\n",
              "  </svg>\n",
              "      </button>\n",
              "      \n",
              "  <style>\n",
              "    .colab-df-container {\n",
              "      display:flex;\n",
              "      flex-wrap:wrap;\n",
              "      gap: 12px;\n",
              "    }\n",
              "\n",
              "    .colab-df-convert {\n",
              "      background-color: #E8F0FE;\n",
              "      border: none;\n",
              "      border-radius: 50%;\n",
              "      cursor: pointer;\n",
              "      display: none;\n",
              "      fill: #1967D2;\n",
              "      height: 32px;\n",
              "      padding: 0 0 0 0;\n",
              "      width: 32px;\n",
              "    }\n",
              "\n",
              "    .colab-df-convert:hover {\n",
              "      background-color: #E2EBFA;\n",
              "      box-shadow: 0px 1px 2px rgba(60, 64, 67, 0.3), 0px 1px 3px 1px rgba(60, 64, 67, 0.15);\n",
              "      fill: #174EA6;\n",
              "    }\n",
              "\n",
              "    [theme=dark] .colab-df-convert {\n",
              "      background-color: #3B4455;\n",
              "      fill: #D2E3FC;\n",
              "    }\n",
              "\n",
              "    [theme=dark] .colab-df-convert:hover {\n",
              "      background-color: #434B5C;\n",
              "      box-shadow: 0px 1px 3px 1px rgba(0, 0, 0, 0.15);\n",
              "      filter: drop-shadow(0px 1px 2px rgba(0, 0, 0, 0.3));\n",
              "      fill: #FFFFFF;\n",
              "    }\n",
              "  </style>\n",
              "\n",
              "      <script>\n",
              "        const buttonEl =\n",
              "          document.querySelector('#df-dd0d3d06-b566-441d-b6b9-171223e77e45 button.colab-df-convert');\n",
              "        buttonEl.style.display =\n",
              "          google.colab.kernel.accessAllowed ? 'block' : 'none';\n",
              "\n",
              "        async function convertToInteractive(key) {\n",
              "          const element = document.querySelector('#df-dd0d3d06-b566-441d-b6b9-171223e77e45');\n",
              "          const dataTable =\n",
              "            await google.colab.kernel.invokeFunction('convertToInteractive',\n",
              "                                                     [key], {});\n",
              "          if (!dataTable) return;\n",
              "\n",
              "          const docLinkHtml = 'Like what you see? Visit the ' +\n",
              "            '<a target=\"_blank\" href=https://colab.research.google.com/notebooks/data_table.ipynb>data table notebook</a>'\n",
              "            + ' to learn more about interactive tables.';\n",
              "          element.innerHTML = '';\n",
              "          dataTable['output_type'] = 'display_data';\n",
              "          await google.colab.output.renderOutput(dataTable, element);\n",
              "          const docLink = document.createElement('div');\n",
              "          docLink.innerHTML = docLinkHtml;\n",
              "          element.appendChild(docLink);\n",
              "        }\n",
              "      </script>\n",
              "    </div>\n",
              "  </div>\n",
              "  "
            ],
            "text/plain": [
              "      PatientID  ... Label\n",
              "24994  optm1344  ...     0\n",
              "24995  optm1344  ...     0\n",
              "24996  optm1344  ...     0\n",
              "24997  optm1344  ...     0\n",
              "24998  optm1344  ...     0\n",
              "\n",
              "[5 rows x 111 columns]"
            ]
          },
          "metadata": {},
          "execution_count": 7
        }
      ],
      "source": [
        "# loading in the sample dataset into a pandas dataframe from GitHub\n",
        "some_data = pd.read_csv('https://media.githubusercontent.com/media/relhwigi/GE_GRAPE_Mammogram_Classification/main/data/haralick02_250K.csv')\n",
        "\n",
        "# checking the data\n",
        "some_data.tail()"
      ]
    },
    {
      "cell_type": "markdown",
      "metadata": {
        "id": "PDx6mC6DQ4bF"
      },
      "source": [
        "**Extracting information on the data**"
      ]
    },
    {
      "cell_type": "markdown",
      "metadata": {
        "id": "J6QoHpI6RUpF"
      },
      "source": [
        "*Size of full dataset*"
      ]
    },
    {
      "cell_type": "code",
      "execution_count": 8,
      "metadata": {
        "colab": {
          "base_uri": "https://localhost:8080/"
        },
        "id": "K8gIuWHtlw_c",
        "outputId": "c92ba33c-b816-4246-a5a4-a024d576951f"
      },
      "outputs": [
        {
          "output_type": "execute_result",
          "data": {
            "text/plain": [
              "405280"
            ]
          },
          "metadata": {},
          "execution_count": 8
        }
      ],
      "source": [
        "# number of rows in full dataset\n",
        "full_number_of_samples = full_data['PatientID'].count()\n",
        "full_number_of_samples"
      ]
    },
    {
      "cell_type": "markdown",
      "metadata": {
        "id": "D5-5yJ5uRXbA"
      },
      "source": [
        "*Size of sample dataset*"
      ]
    },
    {
      "cell_type": "code",
      "execution_count": 9,
      "metadata": {
        "colab": {
          "base_uri": "https://localhost:8080/"
        },
        "id": "6zj_iS9mmoNi",
        "outputId": "ba23f965-9478-4f7d-ec85-8378a7de2ef5"
      },
      "outputs": [
        {
          "output_type": "execute_result",
          "data": {
            "text/plain": [
              "24999"
            ]
          },
          "metadata": {},
          "execution_count": 9
        }
      ],
      "source": [
        "# number of rows in some dataset\n",
        "some_number_of_samples = some_data['PatientID'].count()\n",
        "some_number_of_samples"
      ]
    },
    {
      "cell_type": "markdown",
      "metadata": {
        "id": "P1VjlToY399X"
      },
      "source": [
        "*Visualisation of size difference*"
      ]
    },
    {
      "cell_type": "code",
      "execution_count": 10,
      "metadata": {
        "colab": {
          "base_uri": "https://localhost:8080/",
          "height": 336
        },
        "id": "EcyY8zSL4EFi",
        "outputId": "d597eaf4-10df-4ce1-fb8d-f4f895647a66"
      },
      "outputs": [
        {
          "output_type": "display_data",
          "data": {
            "image/png": "[encoded data removed]",
            "text/plain": [
              "<Figure size 432x288 with 1 Axes>"
            ]
          },
          "metadata": {
            "needs_background": "light"
          }
        }
      ],
      "source": [
        "fig = plt.figure()\n",
        "ax = fig.add_axes([0,0,1,1])\n",
        "sets = ['Large dataset', 'Smaller dataset']\n",
        "samples = [full_number_of_samples, some_number_of_samples]\n",
        "ax.bar(sets,samples, color=\"#6aa84f\")\n",
        "plt.show()"
      ]
    },
    {
      "cell_type": "markdown",
      "metadata": {
        "id": "IzEcw2kIRgXu"
      },
      "source": [
        "*Full dataset label distribution*"
      ]
    },
    {
      "cell_type": "code",
      "execution_count": 11,
      "metadata": {
        "colab": {
          "base_uri": "https://localhost:8080/"
        },
        "id": "Uk0D_MKqmyQe",
        "outputId": "de911ef8-8d35-4341-ee1c-d019533240fa"
      },
      "outputs": [
        {
          "output_type": "execute_result",
          "data": {
            "text/plain": [
              "0    393021\n",
              "1     12259\n",
              "Name: Label, dtype: int64"
            ]
          },
          "metadata": {},
          "execution_count": 11
        }
      ],
      "source": [
        "# number of positive and negative cases in full dataset\n",
        "full_label_distribution = full_data['Label'].value_counts()\n",
        "full_label_distribution"
      ]
    },
    {
      "cell_type": "markdown",
      "metadata": {
        "id": "3-uHRgGR575J"
      },
      "source": [
        "\n",
        "*Visualisation of label distribution*"
      ]
    },
    {
      "cell_type": "code",
      "execution_count": 12,
      "metadata": {
        "colab": {
          "base_uri": "https://localhost:8080/",
          "height": 336
        },
        "id": "cpVqltjo58W5",
        "outputId": "68035155-a30d-4c54-d490-1901a6961725"
      },
      "outputs": [
        {
          "output_type": "display_data",
          "data": {
            "image/png": "[encoded data removed]",
            "text/plain": [
              "<Figure size 432x288 with 1 Axes>"
            ]
          },
          "metadata": {
            "needs_background": "light"
          }
        }
      ],
      "source": [
        "fig = plt.figure()\n",
        "ax = fig.add_axes([0,0,1,1])\n",
        "label = ['Negative case (0)', 'Positive case (1)']\n",
        "ax.bar(label , full_label_distribution, color=\"#6aa84f\")\n",
        "plt.show()"
      ]
    },
    {
      "cell_type": "markdown",
      "metadata": {
        "id": "_DnE3oLORg6R"
      },
      "source": [
        "*Some dataset label distribution*"
      ]
    },
    {
      "cell_type": "code",
      "execution_count": 13,
      "metadata": {
        "colab": {
          "base_uri": "https://localhost:8080/"
        },
        "id": "PAjp4hyyUQMy",
        "outputId": "8a2324af-000a-4b68-8b51-c1a228e24ff3"
      },
      "outputs": [
        {
          "output_type": "execute_result",
          "data": {
            "text/plain": [
              "0    24018\n",
              "1      981\n",
              "Name: Label, dtype: int64"
            ]
          },
          "metadata": {},
          "execution_count": 13
        }
      ],
      "source": [
        "# number of positive and negative cases in some dataset\n",
        "some_label_distribution = some_data['Label'].value_counts()\n",
        "some_label_distribution"
      ]
    },
    {
      "cell_type": "markdown",
      "metadata": {
        "id": "bIKfQwj5WSI8"
      },
      "source": [
        "*Mammogram views*"
      ]
    },
    {
      "cell_type": "code",
      "execution_count": 14,
      "metadata": {
        "colab": {
          "base_uri": "https://localhost:8080/"
        },
        "id": "aWCtuJsNWXgn",
        "outputId": "67380e13-4ffb-4a51-95a2-41314e6e48b7"
      },
      "outputs": [
        {
          "output_type": "execute_result",
          "data": {
            "text/plain": [
              "array(['CC', 'MLO', 'XCCL', 'ML', 'LM'], dtype=object)"
            ]
          },
          "metadata": {},
          "execution_count": 14
        }
      ],
      "source": [
        "# the different mammogram views in the dataset\n",
        "views = full_data.View.unique()\n",
        "views"
      ]
    },
    {
      "cell_type": "code",
      "execution_count": 15,
      "metadata": {
        "id": "iUW5gaB0YMae"
      },
      "outputs": [],
      "source": [
        "# getting the number of times each row occurs\n",
        "CC_popularity = len(full_data.loc[full_data['View'] == 'CC'])\n",
        "MLO_popularity = len(full_data.loc[full_data['View'] == 'MLO'])\n",
        "XCCL_popularity = len(full_data.loc[full_data['View'] == 'XCCL'])\n",
        "ML_popularity = len(full_data.loc[full_data['View'] == 'ML'])\n",
        "LM_popularity = len(full_data.loc[full_data['View'] == 'LM'])"
      ]
    },
    {
      "cell_type": "code",
      "execution_count": 16,
      "metadata": {
        "colab": {
          "base_uri": "https://localhost:8080/"
        },
        "id": "L0uL1tuBeM62",
        "outputId": "56230586-e285-4a4d-a973-710047521534"
      },
      "outputs": [
        {
          "output_type": "execute_result",
          "data": {
            "text/plain": [
              "205520"
            ]
          },
          "metadata": {},
          "execution_count": 16
        }
      ],
      "source": [
        "CC_popularity"
      ]
    },
    {
      "cell_type": "code",
      "execution_count": 17,
      "metadata": {
        "colab": {
          "base_uri": "https://localhost:8080/"
        },
        "id": "HklBV-QSeRGp",
        "outputId": "593c5aba-4dc1-4fdd-abe5-a5dd1f592121"
      },
      "outputs": [
        {
          "output_type": "execute_result",
          "data": {
            "text/plain": [
              "199320"
            ]
          },
          "metadata": {},
          "execution_count": 17
        }
      ],
      "source": [
        "MLO_popularity"
      ]
    },
    {
      "cell_type": "code",
      "execution_count": 18,
      "metadata": {
        "colab": {
          "base_uri": "https://localhost:8080/"
        },
        "id": "JoldQYwgeSqu",
        "outputId": "2175e677-2a3a-4e69-a050-b5929e4cfa12"
      },
      "outputs": [
        {
          "output_type": "execute_result",
          "data": {
            "text/plain": [
              "120"
            ]
          },
          "metadata": {},
          "execution_count": 18
        }
      ],
      "source": [
        "XCCL_popularity"
      ]
    },
    {
      "cell_type": "code",
      "execution_count": 19,
      "metadata": {
        "colab": {
          "base_uri": "https://localhost:8080/"
        },
        "id": "TSi1LRS_eUbv",
        "outputId": "e57e4895-d217-40d7-c2eb-e78305cae501"
      },
      "outputs": [
        {
          "output_type": "execute_result",
          "data": {
            "text/plain": [
              "240"
            ]
          },
          "metadata": {},
          "execution_count": 19
        }
      ],
      "source": [
        "ML_popularity"
      ]
    },
    {
      "cell_type": "code",
      "execution_count": 20,
      "metadata": {
        "colab": {
          "base_uri": "https://localhost:8080/"
        },
        "id": "I-EMDkJaeWEj",
        "outputId": "d8bf92e5-b849-46a0-d843-ed70e589e5a0"
      },
      "outputs": [
        {
          "output_type": "execute_result",
          "data": {
            "text/plain": [
              "80"
            ]
          },
          "metadata": {},
          "execution_count": 20
        }
      ],
      "source": [
        "LM_popularity"
      ]
    },
    {
      "cell_type": "markdown",
      "metadata": {
        "id": "0n4FMiIwepjD"
      },
      "source": [
        "*Percentage of samples that are CC or MLO view*"
      ]
    },
    {
      "cell_type": "code",
      "execution_count": 21,
      "metadata": {
        "colab": {
          "base_uri": "https://localhost:8080/"
        },
        "id": "PVmeQcspeYgF",
        "outputId": "93e5bf48-d1c0-4b8d-a5e3-2c6f15783c98"
      },
      "outputs": [
        {
          "output_type": "execute_result",
          "data": {
            "text/plain": [
              "99.89143308330043"
            ]
          },
          "metadata": {},
          "execution_count": 21
        }
      ],
      "source": [
        "((CC_popularity+MLO_popularity)/full_number_of_samples)*100"
      ]
    },
    {
      "cell_type": "markdown",
      "metadata": {
        "id": "P0s3SPpCRhZS"
      },
      "source": [
        "*Mammogram segments*"
      ]
    },
    {
      "cell_type": "code",
      "execution_count": 22,
      "metadata": {
        "colab": {
          "base_uri": "https://localhost:8080/"
        },
        "id": "A15LojUPVrwl",
        "outputId": "0430e384-e497-4669-ac73-8973ee6a43c7"
      },
      "outputs": [
        {
          "output_type": "execute_result",
          "data": {
            "text/plain": [
              "array(['LA1', 'RA1', 'LB1', 'RB1', 'LC1', 'RC1', 'LD1', 'RD1', 'LE1',\n",
              "       'RE1', 'LA2', 'RA2', 'LB2', 'RB2', 'LC2', 'RC2', 'LD2', 'RD2',\n",
              "       'LE2', 'RE2', 'LA3', 'RA3', 'LB3', 'RB3', 'LC3', 'RC3', 'LD3',\n",
              "       'RD3', 'LE3', 'RE3', 'LA4', 'RA4', 'LB4', 'RB4', 'LC4', 'RC4',\n",
              "       'LD4', 'RD4', 'LE4', 'RE4'], dtype=object)"
            ]
          },
          "metadata": {},
          "execution_count": 22
        }
      ],
      "source": [
        "# the different mammogram segments in the dataset\n",
        "segments = full_data.SegmentPosition.unique()\n",
        "segments"
      ]
    },
    {
      "cell_type": "markdown",
      "metadata": {
        "id": "DjYlszHbwV8W"
      },
      "source": [
        "*Approximate number of patients in full dataset*"
      ]
    },
    {
      "cell_type": "code",
      "execution_count": 23,
      "metadata": {
        "colab": {
          "base_uri": "https://localhost:8080/"
        },
        "id": "FHVnFNTJXd8J",
        "outputId": "22857f52-47e5-4f32-ecc6-c9a9afe0f17e"
      },
      "outputs": [
        {
          "output_type": "execute_result",
          "data": {
            "text/plain": [
              "4919"
            ]
          },
          "metadata": {},
          "execution_count": 23
        }
      ],
      "source": [
        "len(full_data.PatientID.unique())"
      ]
    },
    {
      "cell_type": "markdown",
      "metadata": {
        "id": "86JP4P8wwmny"
      },
      "source": [
        "Approximate number of patients in sample dataset"
      ]
    },
    {
      "cell_type": "code",
      "execution_count": 24,
      "metadata": {
        "colab": {
          "base_uri": "https://localhost:8080/"
        },
        "id": "qltaFQnfwrr3",
        "outputId": "0fd964e2-8d4e-4802-b760-02fdda516b30"
      },
      "outputs": [
        {
          "output_type": "execute_result",
          "data": {
            "text/plain": [
              "315"
            ]
          },
          "metadata": {},
          "execution_count": 24
        }
      ],
      "source": [
        "len(some_data.PatientID.unique())"
      ]
    },
    {
      "cell_type": "markdown",
      "metadata": {
        "id": "QCutV5OvSc2g"
      },
      "source": [
        "*Columns in the datasets*"
      ]
    },
    {
      "cell_type": "code",
      "execution_count": 25,
      "metadata": {
        "colab": {
          "base_uri": "https://localhost:8080/"
        },
        "id": "-Ydwz8nDXd3H",
        "outputId": "51fcfec8-9911-41e3-ddfa-36c6de33835e"
      },
      "outputs": [
        {
          "output_type": "execute_result",
          "data": {
            "text/plain": [
              "111"
            ]
          },
          "metadata": {},
          "execution_count": 25
        }
      ],
      "source": [
        "number_of_all_columns = len(full_data.columns)\n",
        "number_of_all_columns"
      ]
    },
    {
      "cell_type": "code",
      "execution_count": 26,
      "metadata": {
        "id": "Ran8xHfTShqy"
      },
      "outputs": [],
      "source": [
        "# the column names in both datasets are the same, extracting them here\n",
        "all_columns = full_data.columns.to_list()"
      ]
    },
    {
      "cell_type": "markdown",
      "metadata": {
        "id": "jGIGUBcEUVR6"
      },
      "source": [
        "### ***Data Preprocessing***\n",
        "\n",
        "The data is already very clean and concise but there are a few columns that are unnecessary for the task at hand. "
      ]
    },
    {
      "cell_type": "markdown",
      "metadata": {
        "id": "0aU8WQIqVABq"
      },
      "source": [
        "**Dropping columns from large dataset**"
      ]
    },
    {
      "cell_type": "code",
      "execution_count": 27,
      "metadata": {
        "id": "1nQmTVczUZSB"
      },
      "outputs": [],
      "source": [
        "full_data.drop(['PatientID', 'StudyID', 'PatientAge', 'ImgID', 'View', 'SegmentPosition'], axis=1, inplace=True)\n",
        "final_columns = full_data.columns.to_list()"
      ]
    },
    {
      "cell_type": "markdown",
      "metadata": {
        "id": "w3bPkvNkVGIY"
      },
      "source": [
        "**Dropping columns from smaller dataset**"
      ]
    },
    {
      "cell_type": "code",
      "execution_count": 28,
      "metadata": {
        "id": "-EinxR5gVMXL"
      },
      "outputs": [],
      "source": [
        "some_data.drop(['PatientID', 'StudyID', 'PatientAge', 'ImgID', 'View', 'SegmentPosition'], axis=1, inplace=True)"
      ]
    },
    {
      "cell_type": "markdown",
      "metadata": {
        "id": "95-yeYL_Y15H"
      },
      "source": [
        "**Number of columns remaining**"
      ]
    },
    {
      "cell_type": "code",
      "execution_count": 29,
      "metadata": {
        "colab": {
          "base_uri": "https://localhost:8080/"
        },
        "id": "GjXOCoG6Y5iX",
        "outputId": "39162739-e7ac-4d6e-bb68-9409b2b826b0"
      },
      "outputs": [
        {
          "output_type": "execute_result",
          "data": {
            "text/plain": [
              "105"
            ]
          },
          "metadata": {},
          "execution_count": 29
        }
      ],
      "source": [
        "final_number_of_columns = len(final_columns)\n",
        "final_number_of_columns"
      ]
    },
    {
      "cell_type": "markdown",
      "metadata": {
        "id": "_SR--iqxu4_R"
      },
      "source": [
        "**Train and test split**"
      ]
    },
    {
      "cell_type": "code",
      "execution_count": 30,
      "metadata": {
        "id": "MyYdAz5Iu_T9"
      },
      "outputs": [],
      "source": [
        "X = np.zeros([some_number_of_samples, final_number_of_columns-1], dtype=float)\n",
        "Y = np.zeros([some_number_of_samples,], dtype=int)\n",
        "\n",
        "for i in range(some_number_of_samples):\n",
        "    for j in range(final_number_of_columns-1):\n",
        "        X[i,j] = some_data['x'+ str(j)].iloc[i]\n",
        "for i in range(some_number_of_samples):\n",
        "    Y[i] = some_data['Label'].iloc[i]\n",
        "    \n",
        "X_train, X_test, Y_train, Y_test = train_test_split(X, Y, test_size=0.3, random_state=42)"
      ]
    },
    {
      "cell_type": "code",
      "execution_count": 31,
      "metadata": {
        "colab": {
          "base_uri": "https://localhost:8080/"
        },
        "id": "hCKsYEfpHPcb",
        "outputId": "6da92431-3675-4ef9-e587-acdba8f7c11d"
      },
      "outputs": [
        {
          "output_type": "stream",
          "name": "stdout",
          "text": [
            "Training (X,Y):\t (17499, 104) (17499,)\n",
            "Test (X,Y):\t (7500, 104) (7500,)\n"
          ]
        }
      ],
      "source": [
        "print('Training (X,Y):\\t', X_train.shape, Y_train.shape)\n",
        "print('Test (X,Y):\\t', X_test.shape, Y_test.shape)"
      ]
    },
    {
      "cell_type": "code",
      "execution_count": 32,
      "metadata": {
        "colab": {
          "base_uri": "https://localhost:8080/"
        },
        "id": "zE_2oyaWK8sV",
        "outputId": "ae57500b-7393-4dea-db7a-aad44b7af8a0"
      },
      "outputs": [
        {
          "output_type": "stream",
          "name": "stdout",
          "text": [
            "Counter({0: 16809, 1: 690})\n"
          ]
        }
      ],
      "source": [
        "print(Counter(Y_train))"
      ]
    },
    {
      "cell_type": "code",
      "execution_count": 33,
      "metadata": {
        "colab": {
          "base_uri": "https://localhost:8080/"
        },
        "id": "YY2gP9kDLaN0",
        "outputId": "f9683223-1c13-4467-8f16-50a9906fee0d"
      },
      "outputs": [
        {
          "output_type": "stream",
          "name": "stdout",
          "text": [
            "Counter({0: 7209, 1: 291})\n"
          ]
        }
      ],
      "source": [
        "print(Counter(Y_test))"
      ]
    },
    {
      "cell_type": "markdown",
      "metadata": {
        "id": "BkGKj7ZvKrVp"
      },
      "source": [
        "**Oversample train data**"
      ]
    },
    {
      "cell_type": "code",
      "execution_count": 34,
      "metadata": {
        "colab": {
          "base_uri": "https://localhost:8080/"
        },
        "id": "2U1-Cgz2KhBP",
        "outputId": "8c716917-a7f6-4d09-ac00-248d5ae0d990"
      },
      "outputs": [
        {
          "output_type": "stream",
          "name": "stdout",
          "text": [
            "Counter({0: 16809, 1: 16809})\n"
          ]
        }
      ],
      "source": [
        "# instantiating the random over sampler \n",
        "ros = RandomOverSampler()\n",
        "# resampling X, y\n",
        "X_ros, y_ros = ros.fit_resample(X_train, Y_train)\n",
        "# new class distribution \n",
        "print(Counter(y_ros))"
      ]
    },
    {
      "cell_type": "markdown",
      "metadata": {
        "id": "OdKX5IDEN17t"
      },
      "source": [
        "**Get transpose of X arrays**"
      ]
    },
    {
      "cell_type": "code",
      "execution_count": 35,
      "metadata": {
        "id": "dKNJqpZENRzl"
      },
      "outputs": [],
      "source": [
        "X_train = np.transpose(X_train)\n",
        "X_test = np.transpose(X_test)"
      ]
    },
    {
      "cell_type": "markdown",
      "metadata": {
        "id": "ZuWlszUdOJeb"
      },
      "source": [
        "### ***BNF Grammar***"
      ]
    },
    {
      "cell_type": "markdown",
      "metadata": {
        "id": "vBKvm0vF9-Q5"
      },
      "source": [
        "**Check grammar file**"
      ]
    },
    {
      "cell_type": "code",
      "execution_count": 36,
      "metadata": {
        "colab": {
          "base_uri": "https://localhost:8080/"
        },
        "id": "QPLX3BiIOPW6",
        "outputId": "085eab97-9681-4002-bb26-5df757af3124"
      },
      "outputs": [
        {
          "output_type": "stream",
          "name": "stdout",
          "text": [
            "<e> ::= add(<segment_a>,<segment_b>)|sub(<segment_a>,<segment_b>)|pdiv(<segment_a>,<segment_b>)|mul(<segment_a>,<segment_b>)|<decimal>|<segment_a>|add(<segment_b>,<segment_a>)|sub(<segment_b>,<segment_a>)|pdiv(<segment_b>,<segment_a>)|mul(<segment_b>,<segment_a>)|<segment_b>\n",
            "<decimal> ::= <n><n>.<n><n>\n",
            "<segment_a> ::= x[0]|x[1]|x[2]|x[3]|x[4]|x[5]|x[6]|x[7]|x[8]|x[9]|x[10]|x[11]|x[12]|x[13]|x[14]|x[15]|x[16]|x[17]|x[18]|x[19]|x[20]|x[21]|x[22]|x[23]|x[24]|x[25]|x[26]|x[27]|x[28]|x[29]|x[30]|x[31]|x[32]|x[33]|x[34]|x[35]|x[36]|x[37]|x[38]|x[39]|x[40]|x[41]|x[42]|x[43]|x[44]|x[45]|x[46]|x[47]|x[48]|x[49]|x[50]|x[51]\n",
            "<segment_b> ::= x[52]|x[53]|x[54]|x[55]|x[56]|x[57]|x[58]|x[59]|x[60]|x[61]|x[62]|x[63]|x[64]|x[65]|x[66]|x[67]|x[68]|x[69]|x[70]|x[71]|x[72]|x[73]|x[74]|x[75]|x[76]|x[77]|x[78]|x[79]|x[80]|x[81]|x[82]|x[83]|x[84]|x[85]|x[86]|x[87]|x[88]|x[89]|x[90]|x[91]|x[92]|x[93]|x[94]|x[95]|x[96]|x[97]|x[98]|x[99]|x[100]|x[101]|x[102]|x[103]\n",
            "<n> ::= 0 | 1 | 2 | 3 | 4 | 5 | 6 | 7 | 8 | 9\n",
            "\n"
          ]
        }
      ],
      "source": [
        "f = open(\"../GE_GRAPE_Mammogram_Classification/grammar7.bnf\", \"r\")\n",
        "print(f.read())\n",
        "f.close() "
      ]
    },
    {
      "cell_type": "markdown",
      "metadata": {
        "id": "HYOLy6yE-U4V"
      },
      "source": [
        "**Setup grammar**"
      ]
    },
    {
      "cell_type": "code",
      "execution_count": 37,
      "metadata": {
        "id": "TRHEj0Bz-SM6",
        "colab": {
          "base_uri": "https://localhost:8080/"
        },
        "outputId": "c2af1044-61e5-459b-fe28-02802ad3463a"
      },
      "outputs": [
        {
          "output_type": "stream",
          "name": "stdout",
          "text": [
            "Warning: Grammar contains unit production for production rule <decimal>\n",
            "         Unit productions consume GE codons.\n"
          ]
        }
      ],
      "source": [
        "BNF_GRAMMAR = Grammar(\"../GE_GRAPE_Mammogram_Classification/grammar7.bnf\")"
      ]
    },
    {
      "cell_type": "markdown",
      "metadata": {
        "id": "KcznfmO2-wrD"
      },
      "source": [
        "### ***Fitness Function***"
      ]
    },
    {
      "cell_type": "code",
      "execution_count": 38,
      "metadata": {
        "id": "11maiZtD-38u"
      },
      "outputs": [],
      "source": [
        "def fitness_eval(individual, points):\n",
        "  x= points[0]\n",
        "  Y= points[1]\n",
        "\n",
        "  if individual.invalid==True:\n",
        "    return np.NaN,\n",
        "\n",
        "  try:\n",
        "    pred= eval(individual.phenotype)\n",
        "  except (FloatingPointError, ZeroDivisionError, OverflowError, MemoryError):\n",
        "    return np.NaN,\n",
        "  assert np.isrealobj(pred)\n",
        "\n",
        "  try:\n",
        "    Y_class= [1 if pred[i] > 0 else 0 for i in range(len(Y))]\n",
        "  except (IndexError, TypeError):\n",
        "    return np.NaN,\n",
        "\n",
        "  compare= np.equal(Y,Y_class)\n",
        "  fitness= 1- np.mean(compare)\n",
        "\n",
        "  return fitness,"
      ]
    },
    {
      "cell_type": "markdown",
      "metadata": {
        "id": "_ES4srscgvmk"
      },
      "source": [
        "### ***Grammatical Evolution***"
      ]
    },
    {
      "cell_type": "markdown",
      "metadata": {
        "id": "P3qnJwaCg2WH"
      },
      "source": [
        "**Setting GE parameters**"
      ]
    },
    {
      "cell_type": "code",
      "execution_count": 39,
      "metadata": {
        "id": "XxaQnX98g1QW"
      },
      "outputs": [],
      "source": [
        "POPULATION_SIZE = 1000\n",
        "MAX_GENERATIONS = 40\n",
        "P_CROSSOVER = 0.8\n",
        "P_MUTATION = 0.2\n",
        "ELITE_SIZE = round(0.01*POPULATION_SIZE)\n",
        "HALL_OF_FAME_SIZE = 1\n",
        "MAX_INIT_TREE_DEPTH = 11\n",
        "MIN_INIT_TREE_DEPTH = 6\n",
        "MAX_TREE_DEPTH = 17\n",
        "MAX_WRAPS = 3\n",
        "CODON_SIZE = 255"
      ]
    },
    {
      "cell_type": "markdown",
      "metadata": {
        "id": "kQvfhVRShG2h"
      },
      "source": [
        "**Creating DEAP toolbox**"
      ]
    },
    {
      "cell_type": "code",
      "execution_count": 40,
      "metadata": {
        "id": "xyTxT2XAg88A"
      },
      "outputs": [],
      "source": [
        "toolbox = base.Toolbox()\n",
        "\n",
        "creator.create(\"FitnessMin\", base.Fitness, weights=(-1.0,))\n",
        "\n",
        "creator.create('Individual', ge.Individual, fitness=creator.FitnessMin)\n",
        "\n",
        "toolbox.register(\"populationCreator\", ge.initialisation_PI_Grow, creator.Individual) \n",
        "\n",
        "toolbox.register(\"evaluate\", fitness_eval)\n",
        "\n",
        "toolbox.register(\"select\", ge.selTournament, tournsize=5)\n",
        "\n",
        "toolbox.register(\"mate\", ge.crossover_onepoint)\n",
        "\n",
        "toolbox.register(\"mutate\", ge.mutation_int_flip_per_codon)"
      ]
    },
    {
      "cell_type": "markdown",
      "metadata": {
        "id": "zyD4QviNhaJP"
      },
      "source": [
        "**Main function**"
      ]
    },
    {
      "cell_type": "code",
      "execution_count": 41,
      "metadata": {
        "colab": {
          "base_uri": "https://localhost:8080/"
        },
        "id": "SkoNjefiht1-",
        "outputId": "369103fe-c373-4129-8396-b0eef2c62f73"
      },
      "outputs": [
        {
          "output_type": "stream",
          "name": "stdout",
          "text": [
            "gen\tinvalid\tavg    \tstd     \tmin      \tmax     \tfitness_test\tbest_ind_length\tavg_length\tmax_length\tselection_time\tgeneration_time\n",
            "0  \t0      \t0.77424\t0.248269\t0.0394308\t0.960569\t0.0388      \t4              \t4.257     \t9         \t0             \t7.66077        \n",
            "1  \t3      \t0.647464\t0.265274\t0.0394308\t0.960569\t0.0388      \t4              \t4.359     \t13        \t0.0122883     \t7.84952        \n",
            "2  \t26     \t0.567176\t0.285395\t0.0394308\t0.960569\t0.0388      \t4              \t4.383     \t13        \t0.0103273     \t7.3504         \n",
            "3  \t48     \t0.506599\t0.292602\t0.0394308\t0.960569\t0.0388      \t4              \t4.404     \t13        \t0.0121777     \t7.26507        \n",
            "4  \t34     \t0.459946\t0.290217\t0.0394308\t0.960569\t0.0388      \t4              \t4.596     \t13        \t0.0113258     \t7.50656        \n",
            "5  \t30     \t0.442648\t0.312535\t0.0394308\t0.960569\t0.0388      \t4              \t4.966     \t15        \t0.0110614     \t7.58048        \n",
            "6  \t34     \t0.435349\t0.310564\t0.0394308\t0.960569\t0.0388      \t4              \t5.212     \t16        \t0.00960088    \t7.51589        \n",
            "7  \t21     \t0.432785\t0.309694\t0.0394308\t0.960569\t0.0388      \t4              \t5.71      \t17        \t0.0126331     \t7.64005        \n",
            "8  \t29     \t0.450483\t0.319133\t0.0394308\t0.960569\t0.0388      \t4              \t6.054     \t17        \t0.0105112     \t7.46682        \n",
            "9  \t11     \t0.441539\t0.32032 \t0.0394308\t0.960569\t0.0388      \t4              \t6.416     \t19        \t0.00994229    \t8.30365        \n",
            "10 \t7      \t0.423032\t0.319258\t0.0394308\t0.960569\t0.0388      \t4              \t6.726     \t18        \t0.0112033     \t9.05519        \n",
            "11 \t10     \t0.42697 \t0.328427\t0.0394308\t0.960569\t0.0388      \t4              \t6.969     \t19        \t0.0115902     \t7.71116        \n",
            "12 \t12     \t0.41353 \t0.316264\t0.0394308\t0.960569\t0.0388      \t4              \t7.181     \t19        \t0.0112827     \t7.69767        \n",
            "13 \t11     \t0.424469\t0.324336\t0.0394308\t0.960569\t0.0388      \t4              \t7.241     \t20        \t0.0117478     \t7.60181        \n",
            "14 \t10     \t0.395088\t0.322835\t0.0394308\t0.960569\t0.0388      \t4              \t7.285     \t20        \t0.0103028     \t7.6874         \n",
            "15 \t8      \t0.395831\t0.315587\t0.0394308\t0.960569\t0.0388      \t4              \t7.407     \t19        \t0.0107484     \t7.6602         \n",
            "16 \t7      \t0.407463\t0.329058\t0.0394308\t0.960455\t0.0388      \t4              \t7.756     \t21        \t0.00998545    \t7.49379        \n",
            "17 \t6      \t0.429203\t0.324749\t0.0394308\t0.960569\t0.0388      \t4              \t8.052     \t21        \t0.00978017    \t7.32338        \n",
            "18 \t9      \t0.403616\t0.323153\t0.0394308\t0.960455\t0.0388      \t4              \t8.271     \t22        \t0.0102048     \t7.34836        \n",
            "19 \t4      \t0.401678\t0.326056\t0.0394308\t0.960569\t0.0388      \t4              \t8.594     \t22        \t0.0105636     \t7.49002        \n",
            "20 \t9      \t0.398782\t0.323256\t0.0394308\t0.960569\t0.0388      \t4              \t8.819     \t22        \t0.0100734     \t7.41437        \n",
            "21 \t4      \t0.405037\t0.324817\t0.0394308\t0.960569\t0.0388      \t4              \t9.023     \t22        \t0.00940299    \t7.49559        \n",
            "22 \t3      \t0.380407\t0.322026\t0.0394308\t0.953654\t0.0388      \t4              \t9.19      \t22        \t0.00952888    \t7.65481        \n",
            "23 \t4      \t0.383247\t0.320221\t0.0394308\t0.960569\t0.0388      \t4              \t9.42      \t24        \t0.00941658    \t7.52278        \n",
            "24 \t4      \t0.399595\t0.334118\t0.0394308\t0.960569\t0.0388      \t4              \t9.283     \t26        \t0.00983286    \t7.46182        \n",
            "25 \t9      \t0.394029\t0.331947\t0.0394308\t0.960569\t0.0388      \t4              \t9.437     \t27        \t0.00956059    \t7.33871        \n",
            "26 \t5      \t0.393528\t0.330157\t0.0394308\t0.960569\t0.0388      \t4              \t9.445     \t27        \t0.00982833    \t7.53504        \n",
            "27 \t7      \t0.387704\t0.332788\t0.0394308\t0.960569\t0.0388      \t4              \t9.759     \t28        \t0.00999594    \t7.60568        \n",
            "28 \t5      \t0.371612\t0.325196\t0.0394308\t0.953597\t0.0388      \t4              \t10.257    \t26        \t0.00999331    \t7.55445        \n",
            "29 \t1      \t0.3925  \t0.337129\t0.0394308\t0.960569\t0.0388      \t4              \t10.561    \t27        \t0.00986671    \t7.44568        \n",
            "30 \t4      \t0.388034\t0.333084\t0.0394308\t0.960569\t0.0388      \t4              \t10.636    \t26        \t0.0102475     \t7.4486         \n",
            "31 \t5      \t0.400657\t0.33416 \t0.0394308\t0.960569\t0.0388      \t4              \t10.264    \t28        \t0.0106061     \t7.51429        \n",
            "32 \t3      \t0.392263\t0.33316 \t0.0394308\t0.960569\t0.0388      \t4              \t10.042    \t28        \t0.0109119     \t7.55611        \n",
            "33 \t3      \t0.392797\t0.330378\t0.0394308\t0.960569\t0.0388      \t4              \t10.25     \t29        \t0.0121932     \t7.64902        \n",
            "34 \t1      \t0.398515\t0.3284  \t0.0394308\t0.960569\t0.0388      \t4              \t10.722    \t28        \t0.0102139     \t7.7393         \n",
            "35 \t5      \t0.396814\t0.33771 \t0.0394308\t0.960569\t0.0388      \t4              \t10.884    \t28        \t0.0126712     \t7.60625        \n",
            "36 \t5      \t0.413542\t0.329635\t0.0394308\t0.960455\t0.0388      \t4              \t10.572    \t28        \t0.0104055     \t7.52615        \n",
            "37 \t6      \t0.40433 \t0.326735\t0.0394308\t0.960569\t0.0388      \t4              \t10.434    \t28        \t0.0106888     \t7.60993        \n",
            "38 \t5      \t0.399913\t0.333326\t0.0394308\t0.960569\t0.0388      \t4              \t10.765    \t28        \t0.00967002    \t7.53114        \n",
            "39 \t3      \t0.405549\t0.32748 \t0.0394308\t0.953654\t0.0388      \t4              \t11.145    \t27        \t0.0100319     \t7.62267        \n",
            "40 \t1      \t0.39378 \t0.330782\t0.0394308\t0.960569\t0.0388      \t4              \t10.965    \t28        \t0.0101621     \t7.70278        \n"
          ]
        }
      ],
      "source": [
        "population = toolbox.populationCreator(size=POPULATION_SIZE, \n",
        "                                        bnf_grammar=BNF_GRAMMAR, \n",
        "                                        min_init_tree_depth=MIN_INIT_TREE_DEPTH,\n",
        "                                        max_init_tree_depth=MAX_INIT_TREE_DEPTH,\n",
        "                                        max_tree_depth=MAX_TREE_DEPTH, \n",
        "                                        max_wraps=MAX_WRAPS,\n",
        "                                        codon_size=CODON_SIZE\n",
        "                                        )\n",
        "\n",
        "hof = tools.HallOfFame(HALL_OF_FAME_SIZE)\n",
        "\n",
        "stats = tools.Statistics(key=lambda ind: ind.fitness.values)\n",
        "stats.register(\"avg\", np.nanmean)\n",
        "stats.register(\"std\", np.nanstd)\n",
        "stats.register(\"min\", np.nanmin)\n",
        "stats.register(\"max\", np.nanmax)\n",
        "\n",
        "population, logbook = algorithms.ge_eaSimpleWithElitism(population, toolbox, cxpb=P_CROSSOVER, mutpb=P_MUTATION,\n",
        "                                                        ngen=MAX_GENERATIONS, elite_size=ELITE_SIZE,\n",
        "                                                        bnf_grammar=BNF_GRAMMAR, codon_size=CODON_SIZE, \n",
        "                                                        max_tree_depth=MAX_TREE_DEPTH, max_wraps=MAX_WRAPS,\n",
        "                                                        points_train=[X_train, Y_train], \n",
        "                                                        points_test=[X_test, Y_test], \n",
        "                                                        stats=stats, halloffame=hof, verbose=True)"
      ]
    },
    {
      "cell_type": "markdown",
      "metadata": {
        "id": "BiCfXlqGiNKY"
      },
      "source": [
        "**Statistics**"
      ]
    },
    {
      "cell_type": "code",
      "execution_count": 42,
      "metadata": {
        "colab": {
          "base_uri": "https://localhost:8080/",
          "height": 1000
        },
        "id": "iNFVRbX6iWpn",
        "outputId": "497ff216-71ee-4b8b-ded2-97a3d3f74fad"
      },
      "outputs": [
        {
          "output_type": "display_data",
          "data": {
            "text/html": [
              "\n",
              "  <div id=\"df-49e1a0fc-6a99-49a2-ae35-0aba62ce8b13\">\n",
              "    <div class=\"colab-df-container\">\n",
              "      <div>\n",
              "<style scoped>\n",
              "    .dataframe tbody tr th:only-of-type {\n",
              "        vertical-align: middle;\n",
              "    }\n",
              "\n",
              "    .dataframe tbody tr th {\n",
              "        vertical-align: top;\n",
              "    }\n",
              "\n",
              "    .dataframe thead th {\n",
              "        text-align: right;\n",
              "    }\n",
              "</style>\n",
              "<table border=\"1\" class=\"dataframe\">\n",
              "  <thead>\n",
              "    <tr style=\"text-align: center;\">\n",
              "      <th></th>\n",
              "      <th>gen</th>\n",
              "      <th>invalid</th>\n",
              "      <th>avg</th>\n",
              "      <th>std</th>\n",
              "      <th>min</th>\n",
              "      <th>max</th>\n",
              "      <th>fitness_test</th>\n",
              "      <th>best_ind_length</th>\n",
              "      <th>avg_length</th>\n",
              "      <th>max_length</th>\n",
              "      <th>selection_time</th>\n",
              "      <th>generation_time</th>\n",
              "    </tr>\n",
              "  </thead>\n",
              "  <tbody>\n",
              "    <tr>\n",
              "      <th>0</th>\n",
              "      <td>0</td>\n",
              "      <td>0</td>\n",
              "      <td>0.774240</td>\n",
              "      <td>0.248269</td>\n",
              "      <td>0.039431</td>\n",
              "      <td>0.960569</td>\n",
              "      <td>0.0388</td>\n",
              "      <td>4</td>\n",
              "      <td>4.257</td>\n",
              "      <td>9</td>\n",
              "      <td>0.000000</td>\n",
              "      <td>7.660769</td>\n",
              "    </tr>\n",
              "    <tr>\n",
              "      <th>1</th>\n",
              "      <td>1</td>\n",
              "      <td>3</td>\n",
              "      <td>0.647464</td>\n",
              "      <td>0.265274</td>\n",
              "      <td>0.039431</td>\n",
              "      <td>0.960569</td>\n",
              "      <td>0.0388</td>\n",
              "      <td>4</td>\n",
              "      <td>4.359</td>\n",
              "      <td>13</td>\n",
              "      <td>0.012288</td>\n",
              "      <td>7.849516</td>\n",
              "    </tr>\n",
              "    <tr>\n",
              "      <th>2</th>\n",
              "      <td>2</td>\n",
              "      <td>26</td>\n",
              "      <td>0.567176</td>\n",
              "      <td>0.285395</td>\n",
              "      <td>0.039431</td>\n",
              "      <td>0.960569</td>\n",
              "      <td>0.0388</td>\n",
              "      <td>4</td>\n",
              "      <td>4.383</td>\n",
              "      <td>13</td>\n",
              "      <td>0.010327</td>\n",
              "      <td>7.350404</td>\n",
              "    </tr>\n",
              "    <tr>\n",
              "      <th>3</th>\n",
              "      <td>3</td>\n",
              "      <td>48</td>\n",
              "      <td>0.506599</td>\n",
              "      <td>0.292602</td>\n",
              "      <td>0.039431</td>\n",
              "      <td>0.960569</td>\n",
              "      <td>0.0388</td>\n",
              "      <td>4</td>\n",
              "      <td>4.404</td>\n",
              "      <td>13</td>\n",
              "      <td>0.012178</td>\n",
              "      <td>7.265067</td>\n",
              "    </tr>\n",
              "    <tr>\n",
              "      <th>4</th>\n",
              "      <td>4</td>\n",
              "      <td>34</td>\n",
              "      <td>0.459946</td>\n",
              "      <td>0.290217</td>\n",
              "      <td>0.039431</td>\n",
              "      <td>0.960569</td>\n",
              "      <td>0.0388</td>\n",
              "      <td>4</td>\n",
              "      <td>4.596</td>\n",
              "      <td>13</td>\n",
              "      <td>0.011326</td>\n",
              "      <td>7.506557</td>\n",
              "    </tr>\n",
              "    <tr>\n",
              "      <th>5</th>\n",
              "      <td>5</td>\n",
              "      <td>30</td>\n",
              "      <td>0.442648</td>\n",
              "      <td>0.312535</td>\n",
              "      <td>0.039431</td>\n",
              "      <td>0.960569</td>\n",
              "      <td>0.0388</td>\n",
              "      <td>4</td>\n",
              "      <td>4.966</td>\n",
              "      <td>15</td>\n",
              "      <td>0.011061</td>\n",
              "      <td>7.580483</td>\n",
              "    </tr>\n",
              "    <tr>\n",
              "      <th>6</th>\n",
              "      <td>6</td>\n",
              "      <td>34</td>\n",
              "      <td>0.435349</td>\n",
              "      <td>0.310564</td>\n",
              "      <td>0.039431</td>\n",
              "      <td>0.960569</td>\n",
              "      <td>0.0388</td>\n",
              "      <td>4</td>\n",
              "      <td>5.212</td>\n",
              "      <td>16</td>\n",
              "      <td>0.009601</td>\n",
              "      <td>7.515889</td>\n",
              "    </tr>\n",
              "    <tr>\n",
              "      <th>7</th>\n",
              "      <td>7</td>\n",
              "      <td>21</td>\n",
              "      <td>0.432785</td>\n",
              "      <td>0.309694</td>\n",
              "      <td>0.039431</td>\n",
              "      <td>0.960569</td>\n",
              "      <td>0.0388</td>\n",
              "      <td>4</td>\n",
              "      <td>5.710</td>\n",
              "      <td>17</td>\n",
              "      <td>0.012633</td>\n",
              "      <td>7.640049</td>\n",
              "    </tr>\n",
              "    <tr>\n",
              "      <th>8</th>\n",
              "      <td>8</td>\n",
              "      <td>29</td>\n",
              "      <td>0.450483</td>\n",
              "      <td>0.319133</td>\n",
              "      <td>0.039431</td>\n",
              "      <td>0.960569</td>\n",
              "      <td>0.0388</td>\n",
              "      <td>4</td>\n",
              "      <td>6.054</td>\n",
              "      <td>17</td>\n",
              "      <td>0.010511</td>\n",
              "      <td>7.466817</td>\n",
              "    </tr>\n",
              "    <tr>\n",
              "      <th>9</th>\n",
              "      <td>9</td>\n",
              "      <td>11</td>\n",
              "      <td>0.441539</td>\n",
              "      <td>0.320320</td>\n",
              "      <td>0.039431</td>\n",
              "      <td>0.960569</td>\n",
              "      <td>0.0388</td>\n",
              "      <td>4</td>\n",
              "      <td>6.416</td>\n",
              "      <td>19</td>\n",
              "      <td>0.009942</td>\n",
              "      <td>8.303647</td>\n",
              "    </tr>\n",
              "    <tr>\n",
              "      <th>10</th>\n",
              "      <td>10</td>\n",
              "      <td>7</td>\n",
              "      <td>0.423032</td>\n",
              "      <td>0.319258</td>\n",
              "      <td>0.039431</td>\n",
              "      <td>0.960569</td>\n",
              "      <td>0.0388</td>\n",
              "      <td>4</td>\n",
              "      <td>6.726</td>\n",
              "      <td>18</td>\n",
              "      <td>0.011203</td>\n",
              "      <td>9.055194</td>\n",
              "    </tr>\n",
              "    <tr>\n",
              "      <th>11</th>\n",
              "      <td>11</td>\n",
              "      <td>10</td>\n",
              "      <td>0.426970</td>\n",
              "      <td>0.328427</td>\n",
              "      <td>0.039431</td>\n",
              "      <td>0.960569</td>\n",
              "      <td>0.0388</td>\n",
              "      <td>4</td>\n",
              "      <td>6.969</td>\n",
              "      <td>19</td>\n",
              "      <td>0.011590</td>\n",
              "      <td>7.711162</td>\n",
              "    </tr>\n",
              "    <tr>\n",
              "      <th>12</th>\n",
              "      <td>12</td>\n",
              "      <td>12</td>\n",
              "      <td>0.413530</td>\n",
              "      <td>0.316264</td>\n",
              "      <td>0.039431</td>\n",
              "      <td>0.960569</td>\n",
              "      <td>0.0388</td>\n",
              "      <td>4</td>\n",
              "      <td>7.181</td>\n",
              "      <td>19</td>\n",
              "      <td>0.011283</td>\n",
              "      <td>7.697671</td>\n",
              "    </tr>\n",
              "    <tr>\n",
              "      <th>13</th>\n",
              "      <td>13</td>\n",
              "      <td>11</td>\n",
              "      <td>0.424469</td>\n",
              "      <td>0.324336</td>\n",
              "      <td>0.039431</td>\n",
              "      <td>0.960569</td>\n",
              "      <td>0.0388</td>\n",
              "      <td>4</td>\n",
              "      <td>7.241</td>\n",
              "      <td>20</td>\n",
              "      <td>0.011748</td>\n",
              "      <td>7.601808</td>\n",
              "    </tr>\n",
              "    <tr>\n",
              "      <th>14</th>\n",
              "      <td>14</td>\n",
              "      <td>10</td>\n",
              "      <td>0.395088</td>\n",
              "      <td>0.322835</td>\n",
              "      <td>0.039431</td>\n",
              "      <td>0.960569</td>\n",
              "      <td>0.0388</td>\n",
              "      <td>4</td>\n",
              "      <td>7.285</td>\n",
              "      <td>20</td>\n",
              "      <td>0.010303</td>\n",
              "      <td>7.687397</td>\n",
              "    </tr>\n",
              "    <tr>\n",
              "      <th>15</th>\n",
              "      <td>15</td>\n",
              "      <td>8</td>\n",
              "      <td>0.395831</td>\n",
              "      <td>0.315587</td>\n",
              "      <td>0.039431</td>\n",
              "      <td>0.960569</td>\n",
              "      <td>0.0388</td>\n",
              "      <td>4</td>\n",
              "      <td>7.407</td>\n",
              "      <td>19</td>\n",
              "      <td>0.010748</td>\n",
              "      <td>7.660199</td>\n",
              "    </tr>\n",
              "    <tr>\n",
              "      <th>16</th>\n",
              "      <td>16</td>\n",
              "      <td>7</td>\n",
              "      <td>0.407463</td>\n",
              "      <td>0.329058</td>\n",
              "      <td>0.039431</td>\n",
              "      <td>0.960455</td>\n",
              "      <td>0.0388</td>\n",
              "      <td>4</td>\n",
              "      <td>7.756</td>\n",
              "      <td>21</td>\n",
              "      <td>0.009985</td>\n",
              "      <td>7.493794</td>\n",
              "    </tr>\n",
              "    <tr>\n",
              "      <th>17</th>\n",
              "      <td>17</td>\n",
              "      <td>6</td>\n",
              "      <td>0.429203</td>\n",
              "      <td>0.324749</td>\n",
              "      <td>0.039431</td>\n",
              "      <td>0.960569</td>\n",
              "      <td>0.0388</td>\n",
              "      <td>4</td>\n",
              "      <td>8.052</td>\n",
              "      <td>21</td>\n",
              "      <td>0.009780</td>\n",
              "      <td>7.323379</td>\n",
              "    </tr>\n",
              "    <tr>\n",
              "      <th>18</th>\n",
              "      <td>18</td>\n",
              "      <td>9</td>\n",
              "      <td>0.403616</td>\n",
              "      <td>0.323153</td>\n",
              "      <td>0.039431</td>\n",
              "      <td>0.960455</td>\n",
              "      <td>0.0388</td>\n",
              "      <td>4</td>\n",
              "      <td>8.271</td>\n",
              "      <td>22</td>\n",
              "      <td>0.010205</td>\n",
              "      <td>7.348359</td>\n",
              "    </tr>\n",
              "    <tr>\n",
              "      <th>19</th>\n",
              "      <td>19</td>\n",
              "      <td>4</td>\n",
              "      <td>0.401678</td>\n",
              "      <td>0.326056</td>\n",
              "      <td>0.039431</td>\n",
              "      <td>0.960569</td>\n",
              "      <td>0.0388</td>\n",
              "      <td>4</td>\n",
              "      <td>8.594</td>\n",
              "      <td>22</td>\n",
              "      <td>0.010564</td>\n",
              "      <td>7.490016</td>\n",
              "    </tr>\n",
              "    <tr>\n",
              "      <th>20</th>\n",
              "      <td>20</td>\n",
              "      <td>9</td>\n",
              "      <td>0.398782</td>\n",
              "      <td>0.323256</td>\n",
              "      <td>0.039431</td>\n",
              "      <td>0.960569</td>\n",
              "      <td>0.0388</td>\n",
              "      <td>4</td>\n",
              "      <td>8.819</td>\n",
              "      <td>22</td>\n",
              "      <td>0.010073</td>\n",
              "      <td>7.414366</td>\n",
              "    </tr>\n",
              "    <tr>\n",
              "      <th>21</th>\n",
              "      <td>21</td>\n",
              "      <td>4</td>\n",
              "      <td>0.405037</td>\n",
              "      <td>0.324817</td>\n",
              "      <td>0.039431</td>\n",
              "      <td>0.960569</td>\n",
              "      <td>0.0388</td>\n",
              "      <td>4</td>\n",
              "      <td>9.023</td>\n",
              "      <td>22</td>\n",
              "      <td>0.009403</td>\n",
              "      <td>7.495587</td>\n",
              "    </tr>\n",
              "    <tr>\n",
              "      <th>22</th>\n",
              "      <td>22</td>\n",
              "      <td>3</td>\n",
              "      <td>0.380407</td>\n",
              "      <td>0.322026</td>\n",
              "      <td>0.039431</td>\n",
              "      <td>0.953654</td>\n",
              "      <td>0.0388</td>\n",
              "      <td>4</td>\n",
              "      <td>9.190</td>\n",
              "      <td>22</td>\n",
              "      <td>0.009529</td>\n",
              "      <td>7.654812</td>\n",
              "    </tr>\n",
              "    <tr>\n",
              "      <th>23</th>\n",
              "      <td>23</td>\n",
              "      <td>4</td>\n",
              "      <td>0.383247</td>\n",
              "      <td>0.320221</td>\n",
              "      <td>0.039431</td>\n",
              "      <td>0.960569</td>\n",
              "      <td>0.0388</td>\n",
              "      <td>4</td>\n",
              "      <td>9.420</td>\n",
              "      <td>24</td>\n",
              "      <td>0.009417</td>\n",
              "      <td>7.522778</td>\n",
              "    </tr>\n",
              "    <tr>\n",
              "      <th>24</th>\n",
              "      <td>24</td>\n",
              "      <td>4</td>\n",
              "      <td>0.399595</td>\n",
              "      <td>0.334118</td>\n",
              "      <td>0.039431</td>\n",
              "      <td>0.960569</td>\n",
              "      <td>0.0388</td>\n",
              "      <td>4</td>\n",
              "      <td>9.283</td>\n",
              "      <td>26</td>\n",
              "      <td>0.009833</td>\n",
              "      <td>7.461819</td>\n",
              "    </tr>\n",
              "    <tr>\n",
              "      <th>25</th>\n",
              "      <td>25</td>\n",
              "      <td>9</td>\n",
              "      <td>0.394029</td>\n",
              "      <td>0.331947</td>\n",
              "      <td>0.039431</td>\n",
              "      <td>0.960569</td>\n",
              "      <td>0.0388</td>\n",
              "      <td>4</td>\n",
              "      <td>9.437</td>\n",
              "      <td>27</td>\n",
              "      <td>0.009561</td>\n",
              "      <td>7.338712</td>\n",
              "    </tr>\n",
              "    <tr>\n",
              "      <th>26</th>\n",
              "      <td>26</td>\n",
              "      <td>5</td>\n",
              "      <td>0.393528</td>\n",
              "      <td>0.330157</td>\n",
              "      <td>0.039431</td>\n",
              "      <td>0.960569</td>\n",
              "      <td>0.0388</td>\n",
              "      <td>4</td>\n",
              "      <td>9.445</td>\n",
              "      <td>27</td>\n",
              "      <td>0.009828</td>\n",
              "      <td>7.535042</td>\n",
              "    </tr>\n",
              "    <tr>\n",
              "      <th>27</th>\n",
              "      <td>27</td>\n",
              "      <td>7</td>\n",
              "      <td>0.387704</td>\n",
              "      <td>0.332788</td>\n",
              "      <td>0.039431</td>\n",
              "      <td>0.960569</td>\n",
              "      <td>0.0388</td>\n",
              "      <td>4</td>\n",
              "      <td>9.759</td>\n",
              "      <td>28</td>\n",
              "      <td>0.009996</td>\n",
              "      <td>7.605676</td>\n",
              "    </tr>\n",
              "    <tr>\n",
              "      <th>28</th>\n",
              "      <td>28</td>\n",
              "      <td>5</td>\n",
              "      <td>0.371612</td>\n",
              "      <td>0.325196</td>\n",
              "      <td>0.039431</td>\n",
              "      <td>0.953597</td>\n",
              "      <td>0.0388</td>\n",
              "      <td>4</td>\n",
              "      <td>10.257</td>\n",
              "      <td>26</td>\n",
              "      <td>0.009993</td>\n",
              "      <td>7.554446</td>\n",
              "    </tr>\n",
              "    <tr>\n",
              "      <th>29</th>\n",
              "      <td>29</td>\n",
              "      <td>1</td>\n",
              "      <td>0.392500</td>\n",
              "      <td>0.337129</td>\n",
              "      <td>0.039431</td>\n",
              "      <td>0.960569</td>\n",
              "      <td>0.0388</td>\n",
              "      <td>4</td>\n",
              "      <td>10.561</td>\n",
              "      <td>27</td>\n",
              "      <td>0.009867</td>\n",
              "      <td>7.445680</td>\n",
              "    </tr>\n",
              "    <tr>\n",
              "      <th>30</th>\n",
              "      <td>30</td>\n",
              "      <td>4</td>\n",
              "      <td>0.388034</td>\n",
              "      <td>0.333084</td>\n",
              "      <td>0.039431</td>\n",
              "      <td>0.960569</td>\n",
              "      <td>0.0388</td>\n",
              "      <td>4</td>\n",
              "      <td>10.636</td>\n",
              "      <td>26</td>\n",
              "      <td>0.010247</td>\n",
              "      <td>7.448596</td>\n",
              "    </tr>\n",
              "    <tr>\n",
              "      <th>31</th>\n",
              "      <td>31</td>\n",
              "      <td>5</td>\n",
              "      <td>0.400657</td>\n",
              "      <td>0.334160</td>\n",
              "      <td>0.039431</td>\n",
              "      <td>0.960569</td>\n",
              "      <td>0.0388</td>\n",
              "      <td>4</td>\n",
              "      <td>10.264</td>\n",
              "      <td>28</td>\n",
              "      <td>0.010606</td>\n",
              "      <td>7.514292</td>\n",
              "    </tr>\n",
              "    <tr>\n",
              "      <th>32</th>\n",
              "      <td>32</td>\n",
              "      <td>3</td>\n",
              "      <td>0.392263</td>\n",
              "      <td>0.333160</td>\n",
              "      <td>0.039431</td>\n",
              "      <td>0.960569</td>\n",
              "      <td>0.0388</td>\n",
              "      <td>4</td>\n",
              "      <td>10.042</td>\n",
              "      <td>28</td>\n",
              "      <td>0.010912</td>\n",
              "      <td>7.556108</td>\n",
              "    </tr>\n",
              "    <tr>\n",
              "      <th>33</th>\n",
              "      <td>33</td>\n",
              "      <td>3</td>\n",
              "      <td>0.392797</td>\n",
              "      <td>0.330378</td>\n",
              "      <td>0.039431</td>\n",
              "      <td>0.960569</td>\n",
              "      <td>0.0388</td>\n",
              "      <td>4</td>\n",
              "      <td>10.250</td>\n",
              "      <td>29</td>\n",
              "      <td>0.012193</td>\n",
              "      <td>7.649021</td>\n",
              "    </tr>\n",
              "    <tr>\n",
              "      <th>34</th>\n",
              "      <td>34</td>\n",
              "      <td>1</td>\n",
              "      <td>0.398515</td>\n",
              "      <td>0.328400</td>\n",
              "      <td>0.039431</td>\n",
              "      <td>0.960569</td>\n",
              "      <td>0.0388</td>\n",
              "      <td>4</td>\n",
              "      <td>10.722</td>\n",
              "      <td>28</td>\n",
              "      <td>0.010214</td>\n",
              "      <td>7.739303</td>\n",
              "    </tr>\n",
              "    <tr>\n",
              "      <th>35</th>\n",
              "      <td>35</td>\n",
              "      <td>5</td>\n",
              "      <td>0.396814</td>\n",
              "      <td>0.337710</td>\n",
              "      <td>0.039431</td>\n",
              "      <td>0.960569</td>\n",
              "      <td>0.0388</td>\n",
              "      <td>4</td>\n",
              "      <td>10.884</td>\n",
              "      <td>28</td>\n",
              "      <td>0.012671</td>\n",
              "      <td>7.606251</td>\n",
              "    </tr>\n",
              "    <tr>\n",
              "      <th>36</th>\n",
              "      <td>36</td>\n",
              "      <td>5</td>\n",
              "      <td>0.413542</td>\n",
              "      <td>0.329635</td>\n",
              "      <td>0.039431</td>\n",
              "      <td>0.960455</td>\n",
              "      <td>0.0388</td>\n",
              "      <td>4</td>\n",
              "      <td>10.572</td>\n",
              "      <td>28</td>\n",
              "      <td>0.010406</td>\n",
              "      <td>7.526149</td>\n",
              "    </tr>\n",
              "    <tr>\n",
              "      <th>37</th>\n",
              "      <td>37</td>\n",
              "      <td>6</td>\n",
              "      <td>0.404330</td>\n",
              "      <td>0.326735</td>\n",
              "      <td>0.039431</td>\n",
              "      <td>0.960569</td>\n",
              "      <td>0.0388</td>\n",
              "      <td>4</td>\n",
              "      <td>10.434</td>\n",
              "      <td>28</td>\n",
              "      <td>0.010689</td>\n",
              "      <td>7.609934</td>\n",
              "    </tr>\n",
              "    <tr>\n",
              "      <th>38</th>\n",
              "      <td>38</td>\n",
              "      <td>5</td>\n",
              "      <td>0.399913</td>\n",
              "      <td>0.333326</td>\n",
              "      <td>0.039431</td>\n",
              "      <td>0.960569</td>\n",
              "      <td>0.0388</td>\n",
              "      <td>4</td>\n",
              "      <td>10.765</td>\n",
              "      <td>28</td>\n",
              "      <td>0.009670</td>\n",
              "      <td>7.531144</td>\n",
              "    </tr>\n",
              "    <tr>\n",
              "      <th>39</th>\n",
              "      <td>39</td>\n",
              "      <td>3</td>\n",
              "      <td>0.405549</td>\n",
              "      <td>0.327480</td>\n",
              "      <td>0.039431</td>\n",
              "      <td>0.953654</td>\n",
              "      <td>0.0388</td>\n",
              "      <td>4</td>\n",
              "      <td>11.145</td>\n",
              "      <td>27</td>\n",
              "      <td>0.010032</td>\n",
              "      <td>7.622669</td>\n",
              "    </tr>\n",
              "    <tr>\n",
              "      <th>40</th>\n",
              "      <td>40</td>\n",
              "      <td>1</td>\n",
              "      <td>0.393780</td>\n",
              "      <td>0.330782</td>\n",
              "      <td>0.039431</td>\n",
              "      <td>0.960569</td>\n",
              "      <td>0.0388</td>\n",
              "      <td>4</td>\n",
              "      <td>10.965</td>\n",
              "      <td>28</td>\n",
              "      <td>0.010162</td>\n",
              "      <td>7.702777</td>\n",
              "    </tr>\n",
              "  </tbody>\n",
              "</table>\n",
              "</div>\n",
              "      <button class=\"colab-df-convert\" onclick=\"convertToInteractive('df-49e1a0fc-6a99-49a2-ae35-0aba62ce8b13')\"\n",
              "              title=\"Convert this dataframe to an interactive table.\"\n",
              "              style=\"display:none;\">\n",
              "        \n",
              "  <svg xmlns=\"http://www.w3.org/2000/svg\" height=\"24px\"viewBox=\"0 0 24 24\"\n",
              "       width=\"24px\">\n",
              "    <path d=\"M0 0h24v24H0V0z\" fill=\"none\"/>\n",
              "    <path d=\"M18.56 5.44l.94 2.06.94-2.06 2.06-.94-2.06-.94-.94-2.06-.94 2.06-2.06.94zm-11 1L8.5 8.5l.94-2.06 2.06-.94-2.06-.94L8.5 2.5l-.94 2.06-2.06.94zm10 10l.94 2.06.94-2.06 2.06-.94-2.06-.94-.94-2.06-.94 2.06-2.06.94z\"/><path d=\"M17.41 7.96l-1.37-1.37c-.4-.4-.92-.59-1.43-.59-.52 0-1.04.2-1.43.59L10.3 9.45l-7.72 7.72c-.78.78-.78 2.05 0 2.83L4 21.41c.39.39.9.59 1.41.59.51 0 1.02-.2 1.41-.59l7.78-7.78 2.81-2.81c.8-.78.8-2.07 0-2.86zM5.41 20L4 18.59l7.72-7.72 1.47 1.35L5.41 20z\"/>\n",
              "  </svg>\n",
              "      </button>\n",
              "      \n",
              "  <style>\n",
              "    .colab-df-container {\n",
              "      display:flex;\n",
              "      flex-wrap:wrap;\n",
              "      gap: 12px;\n",
              "    }\n",
              "\n",
              "    .colab-df-convert {\n",
              "      background-color: #E8F0FE;\n",
              "      border: none;\n",
              "      border-radius: 50%;\n",
              "      cursor: pointer;\n",
              "      display: none;\n",
              "      fill: #1967D2;\n",
              "      height: 32px;\n",
              "      padding: 0 0 0 0;\n",
              "      width: 32px;\n",
              "    }\n",
              "\n",
              "    .colab-df-convert:hover {\n",
              "      background-color: #E2EBFA;\n",
              "      box-shadow: 0px 1px 2px rgba(60, 64, 67, 0.3), 0px 1px 3px 1px rgba(60, 64, 67, 0.15);\n",
              "      fill: #174EA6;\n",
              "    }\n",
              "\n",
              "    [theme=dark] .colab-df-convert {\n",
              "      background-color: #3B4455;\n",
              "      fill: #D2E3FC;\n",
              "    }\n",
              "\n",
              "    [theme=dark] .colab-df-convert:hover {\n",
              "      background-color: #434B5C;\n",
              "      box-shadow: 0px 1px 3px 1px rgba(0, 0, 0, 0.15);\n",
              "      filter: drop-shadow(0px 1px 2px rgba(0, 0, 0, 0.3));\n",
              "      fill: #FFFFFF;\n",
              "    }\n",
              "  </style>\n",
              "\n",
              "      <script>\n",
              "        const buttonEl =\n",
              "          document.querySelector('#df-49e1a0fc-6a99-49a2-ae35-0aba62ce8b13 button.colab-df-convert');\n",
              "        buttonEl.style.display =\n",
              "          google.colab.kernel.accessAllowed ? 'block' : 'none';\n",
              "\n",
              "        async function convertToInteractive(key) {\n",
              "          const element = document.querySelector('#df-49e1a0fc-6a99-49a2-ae35-0aba62ce8b13');\n",
              "          const dataTable =\n",
              "            await google.colab.kernel.invokeFunction('convertToInteractive',\n",
              "                                                     [key], {});\n",
              "          if (!dataTable) return;\n",
              "\n",
              "          const docLinkHtml = 'Like what you see? Visit the ' +\n",
              "            '<a target=\"_blank\" href=https://colab.research.google.com/notebooks/data_table.ipynb>data table notebook</a>'\n",
              "            + ' to learn more about interactive tables.';\n",
              "          element.innerHTML = '';\n",
              "          dataTable['output_type'] = 'display_data';\n",
              "          await google.colab.output.renderOutput(dataTable, element);\n",
              "          const docLink = document.createElement('div');\n",
              "          docLink.innerHTML = docLinkHtml;\n",
              "          element.appendChild(docLink);\n",
              "        }\n",
              "      </script>\n",
              "    </div>\n",
              "  </div>\n",
              "  "
            ],
            "text/plain": [
              "    gen  invalid     avg       std       min       max    fitness_test  best_ind_length  avg_length  max_length  selection_time  generation_time\n",
              "0    0      0     0.774240  0.248269  0.039431  0.960569     0.0388            4            4.257         9         0.000000        7.660769    \n",
              "1    1      3     0.647464  0.265274  0.039431  0.960569     0.0388            4            4.359        13         0.012288        7.849516    \n",
              "2    2     26     0.567176  0.285395  0.039431  0.960569     0.0388            4            4.383        13         0.010327        7.350404    \n",
              "3    3     48     0.506599  0.292602  0.039431  0.960569     0.0388            4            4.404        13         0.012178        7.265067    \n",
              "4    4     34     0.459946  0.290217  0.039431  0.960569     0.0388            4            4.596        13         0.011326        7.506557    \n",
              "5    5     30     0.442648  0.312535  0.039431  0.960569     0.0388            4            4.966        15         0.011061        7.580483    \n",
              "6    6     34     0.435349  0.310564  0.039431  0.960569     0.0388            4            5.212        16         0.009601        7.515889    \n",
              "7    7     21     0.432785  0.309694  0.039431  0.960569     0.0388            4            5.710        17         0.012633        7.640049    \n",
              "8    8     29     0.450483  0.319133  0.039431  0.960569     0.0388            4            6.054        17         0.010511        7.466817    \n",
              "9    9     11     0.441539  0.320320  0.039431  0.960569     0.0388            4            6.416        19         0.009942        8.303647    \n",
              "10  10      7     0.423032  0.319258  0.039431  0.960569     0.0388            4            6.726        18         0.011203        9.055194    \n",
              "11  11     10     0.426970  0.328427  0.039431  0.960569     0.0388            4            6.969        19         0.011590        7.711162    \n",
              "12  12     12     0.413530  0.316264  0.039431  0.960569     0.0388            4            7.181        19         0.011283        7.697671    \n",
              "13  13     11     0.424469  0.324336  0.039431  0.960569     0.0388            4            7.241        20         0.011748        7.601808    \n",
              "14  14     10     0.395088  0.322835  0.039431  0.960569     0.0388            4            7.285        20         0.010303        7.687397    \n",
              "15  15      8     0.395831  0.315587  0.039431  0.960569     0.0388            4            7.407        19         0.010748        7.660199    \n",
              "16  16      7     0.407463  0.329058  0.039431  0.960455     0.0388            4            7.756        21         0.009985        7.493794    \n",
              "17  17      6     0.429203  0.324749  0.039431  0.960569     0.0388            4            8.052        21         0.009780        7.323379    \n",
              "18  18      9     0.403616  0.323153  0.039431  0.960455     0.0388            4            8.271        22         0.010205        7.348359    \n",
              "19  19      4     0.401678  0.326056  0.039431  0.960569     0.0388            4            8.594        22         0.010564        7.490016    \n",
              "20  20      9     0.398782  0.323256  0.039431  0.960569     0.0388            4            8.819        22         0.010073        7.414366    \n",
              "21  21      4     0.405037  0.324817  0.039431  0.960569     0.0388            4            9.023        22         0.009403        7.495587    \n",
              "22  22      3     0.380407  0.322026  0.039431  0.953654     0.0388            4            9.190        22         0.009529        7.654812    \n",
              "23  23      4     0.383247  0.320221  0.039431  0.960569     0.0388            4            9.420        24         0.009417        7.522778    \n",
              "24  24      4     0.399595  0.334118  0.039431  0.960569     0.0388            4            9.283        26         0.009833        7.461819    \n",
              "25  25      9     0.394029  0.331947  0.039431  0.960569     0.0388            4            9.437        27         0.009561        7.338712    \n",
              "26  26      5     0.393528  0.330157  0.039431  0.960569     0.0388            4            9.445        27         0.009828        7.535042    \n",
              "27  27      7     0.387704  0.332788  0.039431  0.960569     0.0388            4            9.759        28         0.009996        7.605676    \n",
              "28  28      5     0.371612  0.325196  0.039431  0.953597     0.0388            4           10.257        26         0.009993        7.554446    \n",
              "29  29      1     0.392500  0.337129  0.039431  0.960569     0.0388            4           10.561        27         0.009867        7.445680    \n",
              "30  30      4     0.388034  0.333084  0.039431  0.960569     0.0388            4           10.636        26         0.010247        7.448596    \n",
              "31  31      5     0.400657  0.334160  0.039431  0.960569     0.0388            4           10.264        28         0.010606        7.514292    \n",
              "32  32      3     0.392263  0.333160  0.039431  0.960569     0.0388            4           10.042        28         0.010912        7.556108    \n",
              "33  33      3     0.392797  0.330378  0.039431  0.960569     0.0388            4           10.250        29         0.012193        7.649021    \n",
              "34  34      1     0.398515  0.328400  0.039431  0.960569     0.0388            4           10.722        28         0.010214        7.739303    \n",
              "35  35      5     0.396814  0.337710  0.039431  0.960569     0.0388            4           10.884        28         0.012671        7.606251    \n",
              "36  36      5     0.413542  0.329635  0.039431  0.960455     0.0388            4           10.572        28         0.010406        7.526149    \n",
              "37  37      6     0.404330  0.326735  0.039431  0.960569     0.0388            4           10.434        28         0.010689        7.609934    \n",
              "38  38      5     0.399913  0.333326  0.039431  0.960569     0.0388            4           10.765        28         0.009670        7.531144    \n",
              "39  39      3     0.405549  0.327480  0.039431  0.953654     0.0388            4           11.145        27         0.010032        7.622669    \n",
              "40  40      1     0.393780  0.330782  0.039431  0.960569     0.0388            4           10.965        28         0.010162        7.702777    "
            ]
          },
          "metadata": {}
        }
      ],
      "source": [
        "max_fitness_values, mean_fitness_values = logbook.select(\"max\", \"avg\")\n",
        "min_fitness_values, std_fitness_values = logbook.select(\"min\", \"std\")\n",
        "fitness_test = logbook.select(\"fitness_test\")\n",
        "best_ind_length = logbook.select(\"best_ind_length\")\n",
        "avg_length = logbook.select(\"avg_length\")\n",
        "max_length = logbook.select(\"max_length\")\n",
        "selection_time = logbook.select(\"selection_time\")\n",
        "generation_time = logbook.select(\"generation_time\")\n",
        "gen, invalid = logbook.select(\"gen\", \"invalid\")\n",
        "\n",
        "header = ['gen', 'invalid', 'avg', 'std', 'min', 'max', 'fitness_test', 'best_ind_length', 'avg_length', 'max_length', 'selection_time', 'generation_time']\n",
        "\n",
        "results = pd.DataFrame(list(zip(gen, invalid, mean_fitness_values, std_fitness_values, min_fitness_values, max_fitness_values, fitness_test, best_ind_length, avg_length, max_length, selection_time, generation_time)),\n",
        "               columns = header)\n",
        "\n",
        "pd.set_option('display.max_rows', None)\n",
        "pd.set_option('display.max_columns', None)\n",
        "pd.set_option('display.width', 10000)\n",
        "pd.set_option('display.colheader_justify', 'center')\n",
        "\n",
        "display(results)"
      ]
    },
    {
      "cell_type": "markdown",
      "metadata": {
        "id": "EsQIYiKeiibw"
      },
      "source": [
        "**Best individual**"
      ]
    },
    {
      "cell_type": "code",
      "execution_count": 43,
      "metadata": {
        "colab": {
          "base_uri": "https://localhost:8080/"
        },
        "id": "GWi5Ovh6iiG9",
        "outputId": "11b7da80-ae2a-46ce-c72c-dabdb8bf8772"
      },
      "outputs": [
        {
          "output_type": "stream",
          "name": "stdout",
          "text": [
            "Best individual: \n",
            "mul(x[40],x[76])\n",
            "\n",
            "Training Fitness:  0.03943082461854963\n",
            "\n",
            "Depth:  3\n",
            "\n",
            "Length of the genome:  4\n",
            "\n",
            "Used portion of the genome: 0.75\n",
            "\n"
          ]
        }
      ],
      "source": [
        "print(\"Best individual: \")\n",
        "print(hof.items[0].phenotype)\n",
        "print()\n",
        "print(\"Training Fitness: \", hof.items[0].fitness.values[0])\n",
        "print()\n",
        "print(\"Depth: \", hof.items[0].depth)\n",
        "print()\n",
        "print(\"Length of the genome: \", len(hof.items[0].genome))\n",
        "print()\n",
        "print(f'Used portion of the genome: {hof.items[0].used_codons/len(hof.items[0].genome):.2f}')\n",
        "print()"
      ]
    },
    {
      "cell_type": "markdown",
      "metadata": {
        "id": "yUp1HViHio4t"
      },
      "source": [
        "**Best individuals plots**"
      ]
    },
    {
      "cell_type": "code",
      "execution_count": 44,
      "metadata": {
        "colab": {
          "base_uri": "https://localhost:8080/",
          "height": 301
        },
        "id": "qlWdxb_3iyUJ",
        "outputId": "9426e800-ddd6-43bd-e0ce-896afd48401d"
      },
      "outputs": [
        {
          "output_type": "display_data",
          "data": {
            "image/png": "[encoded data removed]",
            "text/plain": [
              "<Figure size 432x288 with 1 Axes>"
            ]
          },
          "metadata": {
            "needs_background": "light"
          }
        }
      ],
      "source": [
        "plt.plot(gen, min_fitness_values, color='red', label=\"Training fitness\")\n",
        "plt.plot(gen, fitness_test, color='blue', label=\"Test fitness\")\n",
        "plt.legend(fontsize=12)\n",
        "plt.xlabel('Generations', fontsize=14)\n",
        "plt.ylabel('Best Fitness', fontsize=14)\n",
        "plt.title('Best Fitness over Generations', fontsize=16)\n",
        "plt.show()"
      ]
    },
    {
      "cell_type": "markdown",
      "metadata": {
        "id": "LFpk_CVmi2Z1"
      },
      "source": [
        "**Average fitness plot**"
      ]
    },
    {
      "cell_type": "code",
      "execution_count": 45,
      "metadata": {
        "colab": {
          "base_uri": "https://localhost:8080/",
          "height": 295
        },
        "id": "1QguD0FPi0yc",
        "outputId": "048161f2-458b-41a8-fddc-262e37f9d73d"
      },
      "outputs": [
        {
          "output_type": "display_data",
          "data": {
            "image/png": "[encoded data removed]",
            "text/plain": [
              "<Figure size 432x288 with 1 Axes>"
            ]
          },
          "metadata": {
            "needs_background": "light"
          }
        }
      ],
      "source": [
        "plt.xlabel('Generations')\n",
        "plt.ylabel('Average Fitness')\n",
        "plt.title('Average Fitness over Generations')\n",
        "plt.errorbar(gen, mean_fitness_values, yerr=std_fitness_values,label=\"Best\", color=\"Green\")\n",
        "plt.show()"
      ]
    },
    {
      "cell_type": "markdown",
      "metadata": {
        "id": "3uEYnmB2jBlH"
      },
      "source": [
        "**Genome length plots**"
      ]
    },
    {
      "cell_type": "code",
      "execution_count": 46,
      "metadata": {
        "colab": {
          "base_uri": "https://localhost:8080/",
          "height": 301
        },
        "id": "Wb_98RtvjMJP",
        "outputId": "dee5f4d2-9b36-4a22-85a7-603b6a8319f4"
      },
      "outputs": [
        {
          "output_type": "display_data",
          "data": {
            "image/png": "[encoded data removed]",
            "text/plain": [
              "<Figure size 432x288 with 1 Axes>"
            ]
          },
          "metadata": {
            "needs_background": "light"
          }
        }
      ],
      "source": [
        "plt.plot(gen, max_length, color='red', label=\"Maximum\")\n",
        "plt.plot(gen, avg_length, color='blue', label=\"Average\")\n",
        "plt.plot(gen, best_ind_length, color='green', label=\"Best individual\")\n",
        "plt.legend(fontsize=12)\n",
        "plt.xlabel('Generations', fontsize=14)\n",
        "plt.ylabel('Genome Length', fontsize=14)\n",
        "plt.title('Genome Length over Generations', fontsize=16)\n",
        "plt.show()"
      ]
    }
  ],
  "metadata": {
    "colab": {
      "collapsed_sections": [],
      "name": "Mammography_Classification.ipynb",
      "provenance": [],
      "authorship_tag": "ABX9TyM2UrQa4+pJyz6eFW5JLrYM",
      "include_colab_link": true
    },
    "kernelspec": {
      "display_name": "Python 3",
      "name": "python3"
    },
    "language_info": {
      "name": "python"
    }
  },
  "nbformat": 4,
  "nbformat_minor": 0
}