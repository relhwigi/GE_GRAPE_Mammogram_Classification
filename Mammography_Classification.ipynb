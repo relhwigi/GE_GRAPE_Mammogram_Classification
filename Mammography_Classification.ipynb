{
  "nbformat": 4,
  "nbformat_minor": 0,
  "metadata": {
    "colab": {
      "name": "Mammography_Classification.ipynb",
      "provenance": [],
      "authorship_tag": "ABX9TyN2Dxic+EMitYGM1k4wy2iS",
      "include_colab_link": true
    },
    "kernelspec": {
      "name": "python3",
      "display_name": "Python 3"
    },
    "language_info": {
      "name": "python"
    }
  },
  "cells": [
    {
      "cell_type": "markdown",
      "metadata": {
        "id": "view-in-github",
        "colab_type": "text"
      },
      "source": [
        "<a href=\"https://colab.research.google.com/github/relhwigi/GE_GRAPE_Mammogram_Classification/blob/main/Mammography_Classification.ipynb\" target=\"_parent\"><img src=\"https://colab.research.google.com/assets/colab-badge.svg\" alt=\"Open In Colab\"/></a>"
      ]
    },
    {
      "cell_type": "markdown",
      "source": [
        "# **Machine Learning using Grammatical Evolution**\n",
        "###Classification of mammogram segments as containing or not containing suspicious growth. \n",
        "Ranya El-Hwigi 18227449"
      ],
      "metadata": {
        "id": "LyRwEVCMv6r-"
      }
    },
    {
      "cell_type": "markdown",
      "source": [
        "### ***Importing libraries***"
      ],
      "metadata": {
        "id": "p0Zy8YEbwxOq"
      }
    },
    {
      "cell_type": "code",
      "execution_count": 68,
      "metadata": {
        "id": "Ay1KC4bRfldb"
      },
      "outputs": [],
      "source": [
        "import pandas as pd\n",
        "import matplotlib.pyplot as plt\n",
        "from imblearn.over_sampling import RandomOverSampler"
      ]
    },
    {
      "cell_type": "markdown",
      "source": [
        "### ***Data Exploration***\n",
        "\n",
        "There are 2 datasets availble. A larger data set containing the full data and a smaller data set containing a subset of the data."
      ],
      "metadata": {
        "id": "wwrckg4Sw3ZT"
      }
    },
    {
      "cell_type": "markdown",
      "source": [
        "**Large dataset**"
      ],
      "metadata": {
        "id": "JTNF7cL1Q74H"
      }
    },
    {
      "cell_type": "code",
      "source": [
        "# loading in the full dataset into a pandas dataframe from GitHub\n",
        "full_data = pd.read_csv('https://media.githubusercontent.com/media/relhwigi/GE_GRAPE_Mammogram_Classification/main/data/haralick02.csv')\n",
        "\n",
        "# checking the data\n",
        "full_data.head()"
      ],
      "metadata": {
        "id": "ZBsYuyC5hBwE",
        "colab": {
          "base_uri": "https://localhost:8080/",
          "height": 297
        },
        "outputId": "900d57d8-f706-4db1-b801-7ecd3a656d0e"
      },
      "execution_count": 20,
      "outputs": [
        {
          "output_type": "execute_result",
          "data": {
            "text/html": [
              "\n",
              "  <div id=\"df-8b445843-d322-4b0c-9234-076c6e3767cb\">\n",
              "    <div class=\"colab-df-container\">\n",
              "      <div>\n",
              "<style scoped>\n",
              "    .dataframe tbody tr th:only-of-type {\n",
              "        vertical-align: middle;\n",
              "    }\n",
              "\n",
              "    .dataframe tbody tr th {\n",
              "        vertical-align: top;\n",
              "    }\n",
              "\n",
              "    .dataframe thead th {\n",
              "        text-align: right;\n",
              "    }\n",
              "</style>\n",
              "<table border=\"1\" class=\"dataframe\">\n",
              "  <thead>\n",
              "    <tr style=\"text-align: right;\">\n",
              "      <th></th>\n",
              "      <th>PatientID</th>\n",
              "      <th>StudyID</th>\n",
              "      <th>PatientAge</th>\n",
              "      <th>ImgID</th>\n",
              "      <th>View</th>\n",
              "      <th>SegmentPosition</th>\n",
              "      <th>x0</th>\n",
              "      <th>x1</th>\n",
              "      <th>x2</th>\n",
              "      <th>x3</th>\n",
              "      <th>x4</th>\n",
              "      <th>x5</th>\n",
              "      <th>x6</th>\n",
              "      <th>x7</th>\n",
              "      <th>x8</th>\n",
              "      <th>x9</th>\n",
              "      <th>x10</th>\n",
              "      <th>x11</th>\n",
              "      <th>x12</th>\n",
              "      <th>x13</th>\n",
              "      <th>x14</th>\n",
              "      <th>x15</th>\n",
              "      <th>x16</th>\n",
              "      <th>x17</th>\n",
              "      <th>x18</th>\n",
              "      <th>x19</th>\n",
              "      <th>x20</th>\n",
              "      <th>x21</th>\n",
              "      <th>x22</th>\n",
              "      <th>x23</th>\n",
              "      <th>x24</th>\n",
              "      <th>x25</th>\n",
              "      <th>x26</th>\n",
              "      <th>x27</th>\n",
              "      <th>x28</th>\n",
              "      <th>x29</th>\n",
              "      <th>x30</th>\n",
              "      <th>x31</th>\n",
              "      <th>x32</th>\n",
              "      <th>x33</th>\n",
              "      <th>...</th>\n",
              "      <th>x65</th>\n",
              "      <th>x66</th>\n",
              "      <th>x67</th>\n",
              "      <th>x68</th>\n",
              "      <th>x69</th>\n",
              "      <th>x70</th>\n",
              "      <th>x71</th>\n",
              "      <th>x72</th>\n",
              "      <th>x73</th>\n",
              "      <th>x74</th>\n",
              "      <th>x75</th>\n",
              "      <th>x76</th>\n",
              "      <th>x77</th>\n",
              "      <th>x78</th>\n",
              "      <th>x79</th>\n",
              "      <th>x80</th>\n",
              "      <th>x81</th>\n",
              "      <th>x82</th>\n",
              "      <th>x83</th>\n",
              "      <th>x84</th>\n",
              "      <th>x85</th>\n",
              "      <th>x86</th>\n",
              "      <th>x87</th>\n",
              "      <th>x88</th>\n",
              "      <th>x89</th>\n",
              "      <th>x90</th>\n",
              "      <th>x91</th>\n",
              "      <th>x92</th>\n",
              "      <th>x93</th>\n",
              "      <th>x94</th>\n",
              "      <th>x95</th>\n",
              "      <th>x96</th>\n",
              "      <th>x97</th>\n",
              "      <th>x98</th>\n",
              "      <th>x99</th>\n",
              "      <th>x100</th>\n",
              "      <th>x101</th>\n",
              "      <th>x102</th>\n",
              "      <th>x103</th>\n",
              "      <th>Label</th>\n",
              "    </tr>\n",
              "  </thead>\n",
              "  <tbody>\n",
              "    <tr>\n",
              "      <th>0</th>\n",
              "      <td>optm1</td>\n",
              "      <td>1.2.826.0.1.3680043.9.3218.1.1.15315205.3583.1...</td>\n",
              "      <td>65</td>\n",
              "      <td>1.2.826.0.1.3680043.9.3218.1.1.15315205.3583.1...</td>\n",
              "      <td>CC</td>\n",
              "      <td>LA1</td>\n",
              "      <td>0.019791</td>\n",
              "      <td>70.750121</td>\n",
              "      <td>0.986798</td>\n",
              "      <td>2679.422225</td>\n",
              "      <td>0.280588</td>\n",
              "      <td>147.661857</td>\n",
              "      <td>10646.938779</td>\n",
              "      <td>7.747646</td>\n",
              "      <td>11.202839</td>\n",
              "      <td>0.000314</td>\n",
              "      <td>4.076002</td>\n",
              "      <td>-0.375260</td>\n",
              "      <td>0.997168</td>\n",
              "      <td>0.019626</td>\n",
              "      <td>84.163154</td>\n",
              "      <td>0.984285</td>\n",
              "      <td>2677.867573</td>\n",
              "      <td>0.265944</td>\n",
              "      <td>147.683884</td>\n",
              "      <td>10627.307136</td>\n",
              "      <td>7.747549</td>\n",
              "      <td>11.323964</td>\n",
              "      <td>0.000289</td>\n",
              "      <td>4.197319</td>\n",
              "      <td>-0.358078</td>\n",
              "      <td>0.996413</td>\n",
              "      <td>0.019630</td>\n",
              "      <td>77.824490</td>\n",
              "      <td>0.985561</td>\n",
              "      <td>2694.966117</td>\n",
              "      <td>0.275523</td>\n",
              "      <td>147.909924</td>\n",
              "      <td>10702.039977</td>\n",
              "      <td>7.754164</td>\n",
              "      <td>...</td>\n",
              "      <td>0.009253</td>\n",
              "      <td>87.836024</td>\n",
              "      <td>0.972762</td>\n",
              "      <td>1612.354750</td>\n",
              "      <td>0.234180</td>\n",
              "      <td>125.710824</td>\n",
              "      <td>6361.582974</td>\n",
              "      <td>7.734123</td>\n",
              "      <td>11.454076</td>\n",
              "      <td>0.000271</td>\n",
              "      <td>4.262486</td>\n",
              "      <td>-0.325168</td>\n",
              "      <td>0.994130</td>\n",
              "      <td>0.009331</td>\n",
              "      <td>78.661818</td>\n",
              "      <td>0.975880</td>\n",
              "      <td>1630.642198</td>\n",
              "      <td>0.251513</td>\n",
              "      <td>125.959761</td>\n",
              "      <td>6443.906973</td>\n",
              "      <td>7.742087</td>\n",
              "      <td>11.349892</td>\n",
              "      <td>0.000295</td>\n",
              "      <td>4.170668</td>\n",
              "      <td>-0.341879</td>\n",
              "      <td>0.995351</td>\n",
              "      <td>0.009309</td>\n",
              "      <td>91.440624</td>\n",
              "      <td>0.971643</td>\n",
              "      <td>1612.335914</td>\n",
              "      <td>0.236469</td>\n",
              "      <td>125.710631</td>\n",
              "      <td>6357.903033</td>\n",
              "      <td>7.732227</td>\n",
              "      <td>11.447468</td>\n",
              "      <td>0.000271</td>\n",
              "      <td>4.279557</td>\n",
              "      <td>-0.326134</td>\n",
              "      <td>0.994207</td>\n",
              "      <td>0</td>\n",
              "    </tr>\n",
              "    <tr>\n",
              "      <th>1</th>\n",
              "      <td>optm1</td>\n",
              "      <td>1.2.826.0.1.3680043.9.3218.1.1.15315205.3583.1...</td>\n",
              "      <td>65</td>\n",
              "      <td>1.2.826.0.1.3680043.9.3218.1.1.15315205.3583.1...</td>\n",
              "      <td>CC</td>\n",
              "      <td>RA1</td>\n",
              "      <td>0.994207</td>\n",
              "      <td>-0.326134</td>\n",
              "      <td>4.279557</td>\n",
              "      <td>0.000271</td>\n",
              "      <td>11.447468</td>\n",
              "      <td>7.732227</td>\n",
              "      <td>6357.903033</td>\n",
              "      <td>125.710631</td>\n",
              "      <td>0.236469</td>\n",
              "      <td>1612.335914</td>\n",
              "      <td>0.971643</td>\n",
              "      <td>91.440624</td>\n",
              "      <td>0.009309</td>\n",
              "      <td>0.995351</td>\n",
              "      <td>-0.341879</td>\n",
              "      <td>4.170668</td>\n",
              "      <td>0.000295</td>\n",
              "      <td>11.349892</td>\n",
              "      <td>7.742087</td>\n",
              "      <td>6443.906973</td>\n",
              "      <td>125.959761</td>\n",
              "      <td>0.251513</td>\n",
              "      <td>1630.642198</td>\n",
              "      <td>0.975880</td>\n",
              "      <td>78.661818</td>\n",
              "      <td>0.009331</td>\n",
              "      <td>0.994130</td>\n",
              "      <td>-0.325168</td>\n",
              "      <td>4.262486</td>\n",
              "      <td>0.000271</td>\n",
              "      <td>11.454076</td>\n",
              "      <td>7.734123</td>\n",
              "      <td>6361.582974</td>\n",
              "      <td>125.710824</td>\n",
              "      <td>...</td>\n",
              "      <td>0.996896</td>\n",
              "      <td>-0.368340</td>\n",
              "      <td>4.131941</td>\n",
              "      <td>0.000304</td>\n",
              "      <td>11.259636</td>\n",
              "      <td>7.754164</td>\n",
              "      <td>10702.039977</td>\n",
              "      <td>147.909924</td>\n",
              "      <td>0.275523</td>\n",
              "      <td>2694.966117</td>\n",
              "      <td>0.985561</td>\n",
              "      <td>77.824490</td>\n",
              "      <td>0.019630</td>\n",
              "      <td>0.996413</td>\n",
              "      <td>-0.358078</td>\n",
              "      <td>4.197319</td>\n",
              "      <td>0.000289</td>\n",
              "      <td>11.323964</td>\n",
              "      <td>7.747549</td>\n",
              "      <td>10627.307136</td>\n",
              "      <td>147.683884</td>\n",
              "      <td>0.265944</td>\n",
              "      <td>2677.867573</td>\n",
              "      <td>0.984285</td>\n",
              "      <td>84.163154</td>\n",
              "      <td>0.019626</td>\n",
              "      <td>0.997168</td>\n",
              "      <td>-0.375260</td>\n",
              "      <td>4.076002</td>\n",
              "      <td>0.000314</td>\n",
              "      <td>11.202839</td>\n",
              "      <td>7.747646</td>\n",
              "      <td>10646.938779</td>\n",
              "      <td>147.661857</td>\n",
              "      <td>0.280588</td>\n",
              "      <td>2679.422225</td>\n",
              "      <td>0.986798</td>\n",
              "      <td>70.750121</td>\n",
              "      <td>0.019791</td>\n",
              "      <td>0</td>\n",
              "    </tr>\n",
              "    <tr>\n",
              "      <th>2</th>\n",
              "      <td>optm1</td>\n",
              "      <td>1.2.826.0.1.3680043.9.3218.1.1.15315205.3583.1...</td>\n",
              "      <td>65</td>\n",
              "      <td>1.2.826.0.1.3680043.9.3218.1.1.15315205.3583.1...</td>\n",
              "      <td>CC</td>\n",
              "      <td>LB1</td>\n",
              "      <td>0.176898</td>\n",
              "      <td>29.279795</td>\n",
              "      <td>0.991535</td>\n",
              "      <td>1729.360146</td>\n",
              "      <td>0.543738</td>\n",
              "      <td>69.492803</td>\n",
              "      <td>6888.160789</td>\n",
              "      <td>5.588478</td>\n",
              "      <td>7.678311</td>\n",
              "      <td>0.001063</td>\n",
              "      <td>3.007836</td>\n",
              "      <td>-0.466993</td>\n",
              "      <td>0.995340</td>\n",
              "      <td>0.176755</td>\n",
              "      <td>38.247695</td>\n",
              "      <td>0.988937</td>\n",
              "      <td>1728.676323</td>\n",
              "      <td>0.527879</td>\n",
              "      <td>69.472768</td>\n",
              "      <td>6876.457598</td>\n",
              "      <td>5.587467</td>\n",
              "      <td>7.788665</td>\n",
              "      <td>0.001018</td>\n",
              "      <td>3.140099</td>\n",
              "      <td>-0.444989</td>\n",
              "      <td>0.994189</td>\n",
              "      <td>0.176731</td>\n",
              "      <td>36.386574</td>\n",
              "      <td>0.989479</td>\n",
              "      <td>1729.238136</td>\n",
              "      <td>0.536824</td>\n",
              "      <td>69.479784</td>\n",
              "      <td>6880.565969</td>\n",
              "      <td>5.589269</td>\n",
              "      <td>...</td>\n",
              "      <td>0.092548</td>\n",
              "      <td>49.175862</td>\n",
              "      <td>0.974096</td>\n",
              "      <td>949.183578</td>\n",
              "      <td>0.426549</td>\n",
              "      <td>70.014061</td>\n",
              "      <td>3747.558450</td>\n",
              "      <td>6.123452</td>\n",
              "      <td>8.832584</td>\n",
              "      <td>0.000764</td>\n",
              "      <td>3.565872</td>\n",
              "      <td>-0.374187</td>\n",
              "      <td>0.991387</td>\n",
              "      <td>0.092727</td>\n",
              "      <td>41.654020</td>\n",
              "      <td>0.978061</td>\n",
              "      <td>949.293642</td>\n",
              "      <td>0.442741</td>\n",
              "      <td>70.019677</td>\n",
              "      <td>3755.520550</td>\n",
              "      <td>6.123813</td>\n",
              "      <td>8.724835</td>\n",
              "      <td>0.000808</td>\n",
              "      <td>3.457819</td>\n",
              "      <td>-0.394026</td>\n",
              "      <td>0.993063</td>\n",
              "      <td>0.092775</td>\n",
              "      <td>43.496564</td>\n",
              "      <td>0.977087</td>\n",
              "      <td>949.179329</td>\n",
              "      <td>0.434262</td>\n",
              "      <td>70.013911</td>\n",
              "      <td>3753.220753</td>\n",
              "      <td>6.121706</td>\n",
              "      <td>8.761205</td>\n",
              "      <td>0.000787</td>\n",
              "      <td>3.495691</td>\n",
              "      <td>-0.387325</td>\n",
              "      <td>0.992537</td>\n",
              "      <td>0</td>\n",
              "    </tr>\n",
              "    <tr>\n",
              "      <th>3</th>\n",
              "      <td>optm1</td>\n",
              "      <td>1.2.826.0.1.3680043.9.3218.1.1.15315205.3583.1...</td>\n",
              "      <td>65</td>\n",
              "      <td>1.2.826.0.1.3680043.9.3218.1.1.15315205.3583.1...</td>\n",
              "      <td>CC</td>\n",
              "      <td>RB1</td>\n",
              "      <td>0.992537</td>\n",
              "      <td>-0.387325</td>\n",
              "      <td>3.495691</td>\n",
              "      <td>0.000787</td>\n",
              "      <td>8.761205</td>\n",
              "      <td>6.121706</td>\n",
              "      <td>3753.220753</td>\n",
              "      <td>70.013911</td>\n",
              "      <td>0.434262</td>\n",
              "      <td>949.179329</td>\n",
              "      <td>0.977087</td>\n",
              "      <td>43.496564</td>\n",
              "      <td>0.092775</td>\n",
              "      <td>0.993063</td>\n",
              "      <td>-0.394026</td>\n",
              "      <td>3.457819</td>\n",
              "      <td>0.000808</td>\n",
              "      <td>8.724835</td>\n",
              "      <td>6.123813</td>\n",
              "      <td>3755.520550</td>\n",
              "      <td>70.019677</td>\n",
              "      <td>0.442741</td>\n",
              "      <td>949.293642</td>\n",
              "      <td>0.978061</td>\n",
              "      <td>41.654020</td>\n",
              "      <td>0.092727</td>\n",
              "      <td>0.991387</td>\n",
              "      <td>-0.374187</td>\n",
              "      <td>3.565872</td>\n",
              "      <td>0.000764</td>\n",
              "      <td>8.832584</td>\n",
              "      <td>6.123452</td>\n",
              "      <td>3747.558450</td>\n",
              "      <td>70.014061</td>\n",
              "      <td>...</td>\n",
              "      <td>0.994659</td>\n",
              "      <td>-0.453387</td>\n",
              "      <td>3.096423</td>\n",
              "      <td>0.001041</td>\n",
              "      <td>7.746667</td>\n",
              "      <td>5.589269</td>\n",
              "      <td>6880.565969</td>\n",
              "      <td>69.479784</td>\n",
              "      <td>0.536824</td>\n",
              "      <td>1729.238136</td>\n",
              "      <td>0.989479</td>\n",
              "      <td>36.386574</td>\n",
              "      <td>0.176731</td>\n",
              "      <td>0.994189</td>\n",
              "      <td>-0.444989</td>\n",
              "      <td>3.140099</td>\n",
              "      <td>0.001018</td>\n",
              "      <td>7.788665</td>\n",
              "      <td>5.587467</td>\n",
              "      <td>6876.457598</td>\n",
              "      <td>69.472768</td>\n",
              "      <td>0.527879</td>\n",
              "      <td>1728.676323</td>\n",
              "      <td>0.988937</td>\n",
              "      <td>38.247695</td>\n",
              "      <td>0.176755</td>\n",
              "      <td>0.995340</td>\n",
              "      <td>-0.466993</td>\n",
              "      <td>3.007836</td>\n",
              "      <td>0.001063</td>\n",
              "      <td>7.678311</td>\n",
              "      <td>5.588478</td>\n",
              "      <td>6888.160789</td>\n",
              "      <td>69.492803</td>\n",
              "      <td>0.543738</td>\n",
              "      <td>1729.360146</td>\n",
              "      <td>0.991535</td>\n",
              "      <td>29.279795</td>\n",
              "      <td>0.176898</td>\n",
              "      <td>0</td>\n",
              "    </tr>\n",
              "    <tr>\n",
              "      <th>4</th>\n",
              "      <td>optm1</td>\n",
              "      <td>1.2.826.0.1.3680043.9.3218.1.1.15315205.3583.1...</td>\n",
              "      <td>65</td>\n",
              "      <td>1.2.826.0.1.3680043.9.3218.1.1.15315205.3583.1...</td>\n",
              "      <td>CC</td>\n",
              "      <td>LC1</td>\n",
              "      <td>0.525843</td>\n",
              "      <td>7.001352</td>\n",
              "      <td>0.994143</td>\n",
              "      <td>597.735239</td>\n",
              "      <td>0.796829</td>\n",
              "      <td>25.326144</td>\n",
              "      <td>2383.939606</td>\n",
              "      <td>2.888570</td>\n",
              "      <td>3.765628</td>\n",
              "      <td>0.003221</td>\n",
              "      <td>1.616226</td>\n",
              "      <td>-0.557700</td>\n",
              "      <td>0.972441</td>\n",
              "      <td>0.526075</td>\n",
              "      <td>8.623873</td>\n",
              "      <td>0.992788</td>\n",
              "      <td>597.848247</td>\n",
              "      <td>0.789314</td>\n",
              "      <td>25.316250</td>\n",
              "      <td>2382.769114</td>\n",
              "      <td>2.886327</td>\n",
              "      <td>3.807634</td>\n",
              "      <td>0.003188</td>\n",
              "      <td>1.673199</td>\n",
              "      <td>-0.540782</td>\n",
              "      <td>0.969807</td>\n",
              "      <td>0.526078</td>\n",
              "      <td>10.609301</td>\n",
              "      <td>0.991133</td>\n",
              "      <td>598.213914</td>\n",
              "      <td>0.790275</td>\n",
              "      <td>25.320748</td>\n",
              "      <td>2382.246357</td>\n",
              "      <td>2.887123</td>\n",
              "      <td>...</td>\n",
              "      <td>0.330231</td>\n",
              "      <td>27.833329</td>\n",
              "      <td>0.979076</td>\n",
              "      <td>665.089596</td>\n",
              "      <td>0.654940</td>\n",
              "      <td>37.178337</td>\n",
              "      <td>2632.525056</td>\n",
              "      <td>4.044753</td>\n",
              "      <td>5.653991</td>\n",
              "      <td>0.001568</td>\n",
              "      <td>2.530141</td>\n",
              "      <td>-0.438600</td>\n",
              "      <td>0.978911</td>\n",
              "      <td>0.330643</td>\n",
              "      <td>18.074722</td>\n",
              "      <td>0.986413</td>\n",
              "      <td>665.132874</td>\n",
              "      <td>0.672223</td>\n",
              "      <td>37.181671</td>\n",
              "      <td>2642.456775</td>\n",
              "      <td>4.045396</td>\n",
              "      <td>5.530116</td>\n",
              "      <td>0.001622</td>\n",
              "      <td>2.373880</td>\n",
              "      <td>-0.472770</td>\n",
              "      <td>0.983571</td>\n",
              "      <td>0.330663</td>\n",
              "      <td>16.596673</td>\n",
              "      <td>0.987523</td>\n",
              "      <td>665.092720</td>\n",
              "      <td>0.668818</td>\n",
              "      <td>37.178428</td>\n",
              "      <td>2643.774206</td>\n",
              "      <td>4.044079</td>\n",
              "      <td>5.525354</td>\n",
              "      <td>0.001611</td>\n",
              "      <td>2.364907</td>\n",
              "      <td>-0.474126</td>\n",
              "      <td>0.983734</td>\n",
              "      <td>0</td>\n",
              "    </tr>\n",
              "  </tbody>\n",
              "</table>\n",
              "<p>5 rows × 111 columns</p>\n",
              "</div>\n",
              "      <button class=\"colab-df-convert\" onclick=\"convertToInteractive('df-8b445843-d322-4b0c-9234-076c6e3767cb')\"\n",
              "              title=\"Convert this dataframe to an interactive table.\"\n",
              "              style=\"display:none;\">\n",
              "        \n",
              "  <svg xmlns=\"http://www.w3.org/2000/svg\" height=\"24px\"viewBox=\"0 0 24 24\"\n",
              "       width=\"24px\">\n",
              "    <path d=\"M0 0h24v24H0V0z\" fill=\"none\"/>\n",
              "    <path d=\"M18.56 5.44l.94 2.06.94-2.06 2.06-.94-2.06-.94-.94-2.06-.94 2.06-2.06.94zm-11 1L8.5 8.5l.94-2.06 2.06-.94-2.06-.94L8.5 2.5l-.94 2.06-2.06.94zm10 10l.94 2.06.94-2.06 2.06-.94-2.06-.94-.94-2.06-.94 2.06-2.06.94z\"/><path d=\"M17.41 7.96l-1.37-1.37c-.4-.4-.92-.59-1.43-.59-.52 0-1.04.2-1.43.59L10.3 9.45l-7.72 7.72c-.78.78-.78 2.05 0 2.83L4 21.41c.39.39.9.59 1.41.59.51 0 1.02-.2 1.41-.59l7.78-7.78 2.81-2.81c.8-.78.8-2.07 0-2.86zM5.41 20L4 18.59l7.72-7.72 1.47 1.35L5.41 20z\"/>\n",
              "  </svg>\n",
              "      </button>\n",
              "      \n",
              "  <style>\n",
              "    .colab-df-container {\n",
              "      display:flex;\n",
              "      flex-wrap:wrap;\n",
              "      gap: 12px;\n",
              "    }\n",
              "\n",
              "    .colab-df-convert {\n",
              "      background-color: #E8F0FE;\n",
              "      border: none;\n",
              "      border-radius: 50%;\n",
              "      cursor: pointer;\n",
              "      display: none;\n",
              "      fill: #1967D2;\n",
              "      height: 32px;\n",
              "      padding: 0 0 0 0;\n",
              "      width: 32px;\n",
              "    }\n",
              "\n",
              "    .colab-df-convert:hover {\n",
              "      background-color: #E2EBFA;\n",
              "      box-shadow: 0px 1px 2px rgba(60, 64, 67, 0.3), 0px 1px 3px 1px rgba(60, 64, 67, 0.15);\n",
              "      fill: #174EA6;\n",
              "    }\n",
              "\n",
              "    [theme=dark] .colab-df-convert {\n",
              "      background-color: #3B4455;\n",
              "      fill: #D2E3FC;\n",
              "    }\n",
              "\n",
              "    [theme=dark] .colab-df-convert:hover {\n",
              "      background-color: #434B5C;\n",
              "      box-shadow: 0px 1px 3px 1px rgba(0, 0, 0, 0.15);\n",
              "      filter: drop-shadow(0px 1px 2px rgba(0, 0, 0, 0.3));\n",
              "      fill: #FFFFFF;\n",
              "    }\n",
              "  </style>\n",
              "\n",
              "      <script>\n",
              "        const buttonEl =\n",
              "          document.querySelector('#df-8b445843-d322-4b0c-9234-076c6e3767cb button.colab-df-convert');\n",
              "        buttonEl.style.display =\n",
              "          google.colab.kernel.accessAllowed ? 'block' : 'none';\n",
              "\n",
              "        async function convertToInteractive(key) {\n",
              "          const element = document.querySelector('#df-8b445843-d322-4b0c-9234-076c6e3767cb');\n",
              "          const dataTable =\n",
              "            await google.colab.kernel.invokeFunction('convertToInteractive',\n",
              "                                                     [key], {});\n",
              "          if (!dataTable) return;\n",
              "\n",
              "          const docLinkHtml = 'Like what you see? Visit the ' +\n",
              "            '<a target=\"_blank\" href=https://colab.research.google.com/notebooks/data_table.ipynb>data table notebook</a>'\n",
              "            + ' to learn more about interactive tables.';\n",
              "          element.innerHTML = '';\n",
              "          dataTable['output_type'] = 'display_data';\n",
              "          await google.colab.output.renderOutput(dataTable, element);\n",
              "          const docLink = document.createElement('div');\n",
              "          docLink.innerHTML = docLinkHtml;\n",
              "          element.appendChild(docLink);\n",
              "        }\n",
              "      </script>\n",
              "    </div>\n",
              "  </div>\n",
              "  "
            ],
            "text/plain": [
              "  PatientID                                            StudyID  ...      x103 Label\n",
              "0     optm1  1.2.826.0.1.3680043.9.3218.1.1.15315205.3583.1...  ...  0.994207     0\n",
              "1     optm1  1.2.826.0.1.3680043.9.3218.1.1.15315205.3583.1...  ...  0.019791     0\n",
              "2     optm1  1.2.826.0.1.3680043.9.3218.1.1.15315205.3583.1...  ...  0.992537     0\n",
              "3     optm1  1.2.826.0.1.3680043.9.3218.1.1.15315205.3583.1...  ...  0.176898     0\n",
              "4     optm1  1.2.826.0.1.3680043.9.3218.1.1.15315205.3583.1...  ...  0.983734     0\n",
              "\n",
              "[5 rows x 111 columns]"
            ]
          },
          "metadata": {},
          "execution_count": 20
        }
      ]
    },
    {
      "cell_type": "markdown",
      "source": [
        "**Smaller dataset**"
      ],
      "metadata": {
        "id": "6v62BR8_RE3b"
      }
    },
    {
      "cell_type": "code",
      "source": [
        "# loading in the sample dataset into a pandas dataframe from GitHub\n",
        "some_data = pd.read_csv('https://media.githubusercontent.com/media/relhwigi/GE_GRAPE_Mammogram_Classification/main/data/haralick02_250K.csv')\n",
        "\n",
        "# checking the data\n",
        "some_data.tail()"
      ],
      "metadata": {
        "colab": {
          "base_uri": "https://localhost:8080/",
          "height": 297
        },
        "id": "sUCGcHCrxa4C",
        "outputId": "93abd3c2-aa2b-42ae-a968-c9e56492b9f9"
      },
      "execution_count": 21,
      "outputs": [
        {
          "output_type": "execute_result",
          "data": {
            "text/html": [
              "\n",
              "  <div id=\"df-b206c461-9060-4547-8124-2f717123a7f2\">\n",
              "    <div class=\"colab-df-container\">\n",
              "      <div>\n",
              "<style scoped>\n",
              "    .dataframe tbody tr th:only-of-type {\n",
              "        vertical-align: middle;\n",
              "    }\n",
              "\n",
              "    .dataframe tbody tr th {\n",
              "        vertical-align: top;\n",
              "    }\n",
              "\n",
              "    .dataframe thead th {\n",
              "        text-align: right;\n",
              "    }\n",
              "</style>\n",
              "<table border=\"1\" class=\"dataframe\">\n",
              "  <thead>\n",
              "    <tr style=\"text-align: right;\">\n",
              "      <th></th>\n",
              "      <th>PatientID</th>\n",
              "      <th>StudyID</th>\n",
              "      <th>PatientAge</th>\n",
              "      <th>ImgID</th>\n",
              "      <th>View</th>\n",
              "      <th>SegmentPosition</th>\n",
              "      <th>x0</th>\n",
              "      <th>x1</th>\n",
              "      <th>x2</th>\n",
              "      <th>x3</th>\n",
              "      <th>x4</th>\n",
              "      <th>x5</th>\n",
              "      <th>x6</th>\n",
              "      <th>x7</th>\n",
              "      <th>x8</th>\n",
              "      <th>x9</th>\n",
              "      <th>x10</th>\n",
              "      <th>x11</th>\n",
              "      <th>x12</th>\n",
              "      <th>x13</th>\n",
              "      <th>x14</th>\n",
              "      <th>x15</th>\n",
              "      <th>x16</th>\n",
              "      <th>x17</th>\n",
              "      <th>x18</th>\n",
              "      <th>x19</th>\n",
              "      <th>x20</th>\n",
              "      <th>x21</th>\n",
              "      <th>x22</th>\n",
              "      <th>x23</th>\n",
              "      <th>x24</th>\n",
              "      <th>x25</th>\n",
              "      <th>x26</th>\n",
              "      <th>x27</th>\n",
              "      <th>x28</th>\n",
              "      <th>x29</th>\n",
              "      <th>x30</th>\n",
              "      <th>x31</th>\n",
              "      <th>x32</th>\n",
              "      <th>x33</th>\n",
              "      <th>...</th>\n",
              "      <th>x65</th>\n",
              "      <th>x66</th>\n",
              "      <th>x67</th>\n",
              "      <th>x68</th>\n",
              "      <th>x69</th>\n",
              "      <th>x70</th>\n",
              "      <th>x71</th>\n",
              "      <th>x72</th>\n",
              "      <th>x73</th>\n",
              "      <th>x74</th>\n",
              "      <th>x75</th>\n",
              "      <th>x76</th>\n",
              "      <th>x77</th>\n",
              "      <th>x78</th>\n",
              "      <th>x79</th>\n",
              "      <th>x80</th>\n",
              "      <th>x81</th>\n",
              "      <th>x82</th>\n",
              "      <th>x83</th>\n",
              "      <th>x84</th>\n",
              "      <th>x85</th>\n",
              "      <th>x86</th>\n",
              "      <th>x87</th>\n",
              "      <th>x88</th>\n",
              "      <th>x89</th>\n",
              "      <th>x90</th>\n",
              "      <th>x91</th>\n",
              "      <th>x92</th>\n",
              "      <th>x93</th>\n",
              "      <th>x94</th>\n",
              "      <th>x95</th>\n",
              "      <th>x96</th>\n",
              "      <th>x97</th>\n",
              "      <th>x98</th>\n",
              "      <th>x99</th>\n",
              "      <th>x100</th>\n",
              "      <th>x101</th>\n",
              "      <th>x102</th>\n",
              "      <th>x103</th>\n",
              "      <th>Label</th>\n",
              "    </tr>\n",
              "  </thead>\n",
              "  <tbody>\n",
              "    <tr>\n",
              "      <th>24994</th>\n",
              "      <td>optm1344</td>\n",
              "      <td>1.2.826.0.1.3680043.9.3218.1.1.1404259.6176.15...</td>\n",
              "      <td>66</td>\n",
              "      <td>1.2.826.0.1.3680043.9.3218.1.1.1404259.6176.15...</td>\n",
              "      <td>MLO</td>\n",
              "      <td>LC4</td>\n",
              "      <td>0.580839</td>\n",
              "      <td>3.045049</td>\n",
              "      <td>0.997699</td>\n",
              "      <td>661.727190</td>\n",
              "      <td>0.836922</td>\n",
              "      <td>26.268896</td>\n",
              "      <td>2643.863713</td>\n",
              "      <td>2.494799</td>\n",
              "      <td>3.163219</td>\n",
              "      <td>0.003258</td>\n",
              "      <td>1.314591</td>\n",
              "      <td>-0.599526</td>\n",
              "      <td>0.966099</td>\n",
              "      <td>0.580497</td>\n",
              "      <td>7.801042</td>\n",
              "      <td>0.994106</td>\n",
              "      <td>661.792593</td>\n",
              "      <td>0.815975</td>\n",
              "      <td>26.252181</td>\n",
              "      <td>2639.369329</td>\n",
              "      <td>2.496087</td>\n",
              "      <td>3.296281</td>\n",
              "      <td>0.003155</td>\n",
              "      <td>1.509786</td>\n",
              "      <td>-0.539391</td>\n",
              "      <td>0.955178</td>\n",
              "      <td>0.580715</td>\n",
              "      <td>5.653316</td>\n",
              "      <td>0.995729</td>\n",
              "      <td>661.779929</td>\n",
              "      <td>0.824111</td>\n",
              "      <td>26.248573</td>\n",
              "      <td>2641.466402</td>\n",
              "      <td>2.496146</td>\n",
              "      <td>...</td>\n",
              "      <td>0.740933</td>\n",
              "      <td>4.768997</td>\n",
              "      <td>0.996091</td>\n",
              "      <td>609.972040</td>\n",
              "      <td>0.893421</td>\n",
              "      <td>17.894553</td>\n",
              "      <td>2435.119162</td>\n",
              "      <td>1.634581</td>\n",
              "      <td>2.096980</td>\n",
              "      <td>0.004058</td>\n",
              "      <td>0.990489</td>\n",
              "      <td>-0.595274</td>\n",
              "      <td>0.911536</td>\n",
              "      <td>0.740852</td>\n",
              "      <td>5.103426</td>\n",
              "      <td>0.995816</td>\n",
              "      <td>609.850151</td>\n",
              "      <td>0.896355</td>\n",
              "      <td>17.890689</td>\n",
              "      <td>2434.297178</td>\n",
              "      <td>1.635636</td>\n",
              "      <td>2.084555</td>\n",
              "      <td>0.004073</td>\n",
              "      <td>0.977859</td>\n",
              "      <td>-0.603467</td>\n",
              "      <td>0.913760</td>\n",
              "      <td>0.740632</td>\n",
              "      <td>7.332761</td>\n",
              "      <td>0.993989</td>\n",
              "      <td>609.970714</td>\n",
              "      <td>0.890533</td>\n",
              "      <td>17.894517</td>\n",
              "      <td>2432.550097</td>\n",
              "      <td>1.636074</td>\n",
              "      <td>2.120537</td>\n",
              "      <td>0.004044</td>\n",
              "      <td>1.030084</td>\n",
              "      <td>-0.579495</td>\n",
              "      <td>0.907051</td>\n",
              "      <td>0</td>\n",
              "    </tr>\n",
              "    <tr>\n",
              "      <th>24995</th>\n",
              "      <td>optm1344</td>\n",
              "      <td>1.2.826.0.1.3680043.9.3218.1.1.1404259.6176.15...</td>\n",
              "      <td>66</td>\n",
              "      <td>1.2.826.0.1.3680043.9.3218.1.1.1404259.6176.15...</td>\n",
              "      <td>MLO</td>\n",
              "      <td>RC4</td>\n",
              "      <td>0.907051</td>\n",
              "      <td>-0.579495</td>\n",
              "      <td>1.030084</td>\n",
              "      <td>0.004044</td>\n",
              "      <td>2.120537</td>\n",
              "      <td>1.636074</td>\n",
              "      <td>2432.550097</td>\n",
              "      <td>17.894517</td>\n",
              "      <td>0.890533</td>\n",
              "      <td>609.970714</td>\n",
              "      <td>0.993989</td>\n",
              "      <td>7.332761</td>\n",
              "      <td>0.740632</td>\n",
              "      <td>0.913760</td>\n",
              "      <td>-0.603467</td>\n",
              "      <td>0.977859</td>\n",
              "      <td>0.004073</td>\n",
              "      <td>2.084555</td>\n",
              "      <td>1.635636</td>\n",
              "      <td>2434.297178</td>\n",
              "      <td>17.890689</td>\n",
              "      <td>0.896355</td>\n",
              "      <td>609.850151</td>\n",
              "      <td>0.995816</td>\n",
              "      <td>5.103426</td>\n",
              "      <td>0.740852</td>\n",
              "      <td>0.911536</td>\n",
              "      <td>-0.595274</td>\n",
              "      <td>0.990489</td>\n",
              "      <td>0.004058</td>\n",
              "      <td>2.096980</td>\n",
              "      <td>1.634581</td>\n",
              "      <td>2435.119162</td>\n",
              "      <td>17.894553</td>\n",
              "      <td>...</td>\n",
              "      <td>0.959646</td>\n",
              "      <td>-0.562159</td>\n",
              "      <td>1.439089</td>\n",
              "      <td>0.003190</td>\n",
              "      <td>3.244839</td>\n",
              "      <td>2.496146</td>\n",
              "      <td>2641.466402</td>\n",
              "      <td>26.248573</td>\n",
              "      <td>0.824111</td>\n",
              "      <td>661.779929</td>\n",
              "      <td>0.995729</td>\n",
              "      <td>5.653316</td>\n",
              "      <td>0.580715</td>\n",
              "      <td>0.955178</td>\n",
              "      <td>-0.539391</td>\n",
              "      <td>1.509786</td>\n",
              "      <td>0.003155</td>\n",
              "      <td>3.296281</td>\n",
              "      <td>2.496087</td>\n",
              "      <td>2639.369329</td>\n",
              "      <td>26.252181</td>\n",
              "      <td>0.815975</td>\n",
              "      <td>661.792593</td>\n",
              "      <td>0.994106</td>\n",
              "      <td>7.801042</td>\n",
              "      <td>0.580497</td>\n",
              "      <td>0.966099</td>\n",
              "      <td>-0.599526</td>\n",
              "      <td>1.314591</td>\n",
              "      <td>0.003258</td>\n",
              "      <td>3.163219</td>\n",
              "      <td>2.494799</td>\n",
              "      <td>2643.863713</td>\n",
              "      <td>26.268896</td>\n",
              "      <td>0.836922</td>\n",
              "      <td>661.727190</td>\n",
              "      <td>0.997699</td>\n",
              "      <td>3.045049</td>\n",
              "      <td>0.580839</td>\n",
              "      <td>0</td>\n",
              "    </tr>\n",
              "    <tr>\n",
              "      <th>24996</th>\n",
              "      <td>optm1344</td>\n",
              "      <td>1.2.826.0.1.3680043.9.3218.1.1.1404259.6176.15...</td>\n",
              "      <td>66</td>\n",
              "      <td>1.2.826.0.1.3680043.9.3218.1.1.1404259.6176.15...</td>\n",
              "      <td>MLO</td>\n",
              "      <td>LD4</td>\n",
              "      <td>0.826577</td>\n",
              "      <td>0.954606</td>\n",
              "      <td>0.998275</td>\n",
              "      <td>276.728460</td>\n",
              "      <td>0.940576</td>\n",
              "      <td>9.732558</td>\n",
              "      <td>1105.959234</td>\n",
              "      <td>1.102387</td>\n",
              "      <td>1.339445</td>\n",
              "      <td>0.007334</td>\n",
              "      <td>0.598755</td>\n",
              "      <td>-0.672619</td>\n",
              "      <td>0.861793</td>\n",
              "      <td>0.826406</td>\n",
              "      <td>3.155421</td>\n",
              "      <td>0.994277</td>\n",
              "      <td>275.694855</td>\n",
              "      <td>0.929461</td>\n",
              "      <td>9.693805</td>\n",
              "      <td>1099.623999</td>\n",
              "      <td>1.102562</td>\n",
              "      <td>1.406288</td>\n",
              "      <td>0.007233</td>\n",
              "      <td>0.706477</td>\n",
              "      <td>-0.601921</td>\n",
              "      <td>0.837899</td>\n",
              "      <td>0.826833</td>\n",
              "      <td>1.641757</td>\n",
              "      <td>0.997022</td>\n",
              "      <td>275.683547</td>\n",
              "      <td>0.935430</td>\n",
              "      <td>9.694291</td>\n",
              "      <td>1101.092433</td>\n",
              "      <td>1.100626</td>\n",
              "      <td>...</td>\n",
              "      <td>0.954617</td>\n",
              "      <td>0.496889</td>\n",
              "      <td>0.997059</td>\n",
              "      <td>84.471798</td>\n",
              "      <td>0.983721</td>\n",
              "      <td>2.450195</td>\n",
              "      <td>337.390304</td>\n",
              "      <td>0.332656</td>\n",
              "      <td>0.396962</td>\n",
              "      <td>0.005391</td>\n",
              "      <td>0.206537</td>\n",
              "      <td>-0.708741</td>\n",
              "      <td>0.594332</td>\n",
              "      <td>0.954392</td>\n",
              "      <td>0.957006</td>\n",
              "      <td>0.994345</td>\n",
              "      <td>84.616243</td>\n",
              "      <td>0.982837</td>\n",
              "      <td>2.456086</td>\n",
              "      <td>337.507966</td>\n",
              "      <td>0.334070</td>\n",
              "      <td>0.402915</td>\n",
              "      <td>0.005385</td>\n",
              "      <td>0.219292</td>\n",
              "      <td>-0.691725</td>\n",
              "      <td>0.589005</td>\n",
              "      <td>0.954291</td>\n",
              "      <td>1.905002</td>\n",
              "      <td>0.988724</td>\n",
              "      <td>84.475163</td>\n",
              "      <td>0.981381</td>\n",
              "      <td>2.450326</td>\n",
              "      <td>335.995648</td>\n",
              "      <td>0.334633</td>\n",
              "      <td>0.412324</td>\n",
              "      <td>0.005377</td>\n",
              "      <td>0.236487</td>\n",
              "      <td>-0.658832</td>\n",
              "      <td>0.577138</td>\n",
              "      <td>0</td>\n",
              "    </tr>\n",
              "    <tr>\n",
              "      <th>24997</th>\n",
              "      <td>optm1344</td>\n",
              "      <td>1.2.826.0.1.3680043.9.3218.1.1.1404259.6176.15...</td>\n",
              "      <td>66</td>\n",
              "      <td>1.2.826.0.1.3680043.9.3218.1.1.1404259.6176.15...</td>\n",
              "      <td>MLO</td>\n",
              "      <td>RD4</td>\n",
              "      <td>0.577138</td>\n",
              "      <td>-0.658832</td>\n",
              "      <td>0.236487</td>\n",
              "      <td>0.005377</td>\n",
              "      <td>0.412324</td>\n",
              "      <td>0.334633</td>\n",
              "      <td>335.995648</td>\n",
              "      <td>2.450326</td>\n",
              "      <td>0.981381</td>\n",
              "      <td>84.475163</td>\n",
              "      <td>0.988724</td>\n",
              "      <td>1.905002</td>\n",
              "      <td>0.954291</td>\n",
              "      <td>0.589005</td>\n",
              "      <td>-0.691725</td>\n",
              "      <td>0.219292</td>\n",
              "      <td>0.005385</td>\n",
              "      <td>0.402915</td>\n",
              "      <td>0.334070</td>\n",
              "      <td>337.507966</td>\n",
              "      <td>2.456086</td>\n",
              "      <td>0.982837</td>\n",
              "      <td>84.616243</td>\n",
              "      <td>0.994345</td>\n",
              "      <td>0.957006</td>\n",
              "      <td>0.954392</td>\n",
              "      <td>0.594332</td>\n",
              "      <td>-0.708741</td>\n",
              "      <td>0.206537</td>\n",
              "      <td>0.005391</td>\n",
              "      <td>0.396962</td>\n",
              "      <td>0.332656</td>\n",
              "      <td>337.390304</td>\n",
              "      <td>2.450195</td>\n",
              "      <td>...</td>\n",
              "      <td>0.851051</td>\n",
              "      <td>-0.640413</td>\n",
              "      <td>0.648221</td>\n",
              "      <td>0.007284</td>\n",
              "      <td>1.367621</td>\n",
              "      <td>1.100626</td>\n",
              "      <td>1101.092433</td>\n",
              "      <td>9.694291</td>\n",
              "      <td>0.935430</td>\n",
              "      <td>275.683547</td>\n",
              "      <td>0.997022</td>\n",
              "      <td>1.641757</td>\n",
              "      <td>0.826833</td>\n",
              "      <td>0.837899</td>\n",
              "      <td>-0.601921</td>\n",
              "      <td>0.706477</td>\n",
              "      <td>0.007233</td>\n",
              "      <td>1.406288</td>\n",
              "      <td>1.102562</td>\n",
              "      <td>1099.623999</td>\n",
              "      <td>9.693805</td>\n",
              "      <td>0.929461</td>\n",
              "      <td>275.694855</td>\n",
              "      <td>0.994277</td>\n",
              "      <td>3.155421</td>\n",
              "      <td>0.826406</td>\n",
              "      <td>0.861793</td>\n",
              "      <td>-0.672619</td>\n",
              "      <td>0.598755</td>\n",
              "      <td>0.007334</td>\n",
              "      <td>1.339445</td>\n",
              "      <td>1.102387</td>\n",
              "      <td>1105.959234</td>\n",
              "      <td>9.732558</td>\n",
              "      <td>0.940576</td>\n",
              "      <td>276.728460</td>\n",
              "      <td>0.998275</td>\n",
              "      <td>0.954606</td>\n",
              "      <td>0.826577</td>\n",
              "      <td>0</td>\n",
              "    </tr>\n",
              "    <tr>\n",
              "      <th>24998</th>\n",
              "      <td>optm1344</td>\n",
              "      <td>1.2.826.0.1.3680043.9.3218.1.1.1404259.6176.15...</td>\n",
              "      <td>66</td>\n",
              "      <td>1.2.826.0.1.3680043.9.3218.1.1.1404259.6176.15...</td>\n",
              "      <td>MLO</td>\n",
              "      <td>LE4</td>\n",
              "      <td>1.000000</td>\n",
              "      <td>0.000000</td>\n",
              "      <td>1.000000</td>\n",
              "      <td>0.000000</td>\n",
              "      <td>1.000000</td>\n",
              "      <td>0.000000</td>\n",
              "      <td>0.000000</td>\n",
              "      <td>-0.000000</td>\n",
              "      <td>-0.000000</td>\n",
              "      <td>0.000000</td>\n",
              "      <td>-0.000000</td>\n",
              "      <td>0.000000</td>\n",
              "      <td>0.000000</td>\n",
              "      <td>1.000000</td>\n",
              "      <td>0.000000</td>\n",
              "      <td>1.000000</td>\n",
              "      <td>0.000000</td>\n",
              "      <td>1.000000</td>\n",
              "      <td>0.000000</td>\n",
              "      <td>0.000000</td>\n",
              "      <td>-0.000000</td>\n",
              "      <td>-0.000000</td>\n",
              "      <td>0.000000</td>\n",
              "      <td>-0.000000</td>\n",
              "      <td>0.000000</td>\n",
              "      <td>0.000000</td>\n",
              "      <td>1.000000</td>\n",
              "      <td>0.000000</td>\n",
              "      <td>1.000000</td>\n",
              "      <td>0.000000</td>\n",
              "      <td>1.000000</td>\n",
              "      <td>0.000000</td>\n",
              "      <td>0.000000</td>\n",
              "      <td>-0.000000</td>\n",
              "      <td>...</td>\n",
              "      <td>1.000000</td>\n",
              "      <td>0.000000</td>\n",
              "      <td>1.000000</td>\n",
              "      <td>0.000000</td>\n",
              "      <td>1.000000</td>\n",
              "      <td>0.000000</td>\n",
              "      <td>0.000000</td>\n",
              "      <td>-0.000000</td>\n",
              "      <td>-0.000000</td>\n",
              "      <td>0.000000</td>\n",
              "      <td>-0.000000</td>\n",
              "      <td>0.000000</td>\n",
              "      <td>0.000000</td>\n",
              "      <td>1.000000</td>\n",
              "      <td>0.000000</td>\n",
              "      <td>1.000000</td>\n",
              "      <td>0.000000</td>\n",
              "      <td>1.000000</td>\n",
              "      <td>0.000000</td>\n",
              "      <td>0.000000</td>\n",
              "      <td>-0.000000</td>\n",
              "      <td>-0.000000</td>\n",
              "      <td>0.000000</td>\n",
              "      <td>-0.000000</td>\n",
              "      <td>0.000000</td>\n",
              "      <td>0.000000</td>\n",
              "      <td>1.000000</td>\n",
              "      <td>0.000000</td>\n",
              "      <td>1.000000</td>\n",
              "      <td>0.000000</td>\n",
              "      <td>1.000000</td>\n",
              "      <td>0.000000</td>\n",
              "      <td>0.000000</td>\n",
              "      <td>-0.000000</td>\n",
              "      <td>-0.000000</td>\n",
              "      <td>0.000000</td>\n",
              "      <td>-0.000000</td>\n",
              "      <td>0.000000</td>\n",
              "      <td>0.000000</td>\n",
              "      <td>0</td>\n",
              "    </tr>\n",
              "  </tbody>\n",
              "</table>\n",
              "<p>5 rows × 111 columns</p>\n",
              "</div>\n",
              "      <button class=\"colab-df-convert\" onclick=\"convertToInteractive('df-b206c461-9060-4547-8124-2f717123a7f2')\"\n",
              "              title=\"Convert this dataframe to an interactive table.\"\n",
              "              style=\"display:none;\">\n",
              "        \n",
              "  <svg xmlns=\"http://www.w3.org/2000/svg\" height=\"24px\"viewBox=\"0 0 24 24\"\n",
              "       width=\"24px\">\n",
              "    <path d=\"M0 0h24v24H0V0z\" fill=\"none\"/>\n",
              "    <path d=\"M18.56 5.44l.94 2.06.94-2.06 2.06-.94-2.06-.94-.94-2.06-.94 2.06-2.06.94zm-11 1L8.5 8.5l.94-2.06 2.06-.94-2.06-.94L8.5 2.5l-.94 2.06-2.06.94zm10 10l.94 2.06.94-2.06 2.06-.94-2.06-.94-.94-2.06-.94 2.06-2.06.94z\"/><path d=\"M17.41 7.96l-1.37-1.37c-.4-.4-.92-.59-1.43-.59-.52 0-1.04.2-1.43.59L10.3 9.45l-7.72 7.72c-.78.78-.78 2.05 0 2.83L4 21.41c.39.39.9.59 1.41.59.51 0 1.02-.2 1.41-.59l7.78-7.78 2.81-2.81c.8-.78.8-2.07 0-2.86zM5.41 20L4 18.59l7.72-7.72 1.47 1.35L5.41 20z\"/>\n",
              "  </svg>\n",
              "      </button>\n",
              "      \n",
              "  <style>\n",
              "    .colab-df-container {\n",
              "      display:flex;\n",
              "      flex-wrap:wrap;\n",
              "      gap: 12px;\n",
              "    }\n",
              "\n",
              "    .colab-df-convert {\n",
              "      background-color: #E8F0FE;\n",
              "      border: none;\n",
              "      border-radius: 50%;\n",
              "      cursor: pointer;\n",
              "      display: none;\n",
              "      fill: #1967D2;\n",
              "      height: 32px;\n",
              "      padding: 0 0 0 0;\n",
              "      width: 32px;\n",
              "    }\n",
              "\n",
              "    .colab-df-convert:hover {\n",
              "      background-color: #E2EBFA;\n",
              "      box-shadow: 0px 1px 2px rgba(60, 64, 67, 0.3), 0px 1px 3px 1px rgba(60, 64, 67, 0.15);\n",
              "      fill: #174EA6;\n",
              "    }\n",
              "\n",
              "    [theme=dark] .colab-df-convert {\n",
              "      background-color: #3B4455;\n",
              "      fill: #D2E3FC;\n",
              "    }\n",
              "\n",
              "    [theme=dark] .colab-df-convert:hover {\n",
              "      background-color: #434B5C;\n",
              "      box-shadow: 0px 1px 3px 1px rgba(0, 0, 0, 0.15);\n",
              "      filter: drop-shadow(0px 1px 2px rgba(0, 0, 0, 0.3));\n",
              "      fill: #FFFFFF;\n",
              "    }\n",
              "  </style>\n",
              "\n",
              "      <script>\n",
              "        const buttonEl =\n",
              "          document.querySelector('#df-b206c461-9060-4547-8124-2f717123a7f2 button.colab-df-convert');\n",
              "        buttonEl.style.display =\n",
              "          google.colab.kernel.accessAllowed ? 'block' : 'none';\n",
              "\n",
              "        async function convertToInteractive(key) {\n",
              "          const element = document.querySelector('#df-b206c461-9060-4547-8124-2f717123a7f2');\n",
              "          const dataTable =\n",
              "            await google.colab.kernel.invokeFunction('convertToInteractive',\n",
              "                                                     [key], {});\n",
              "          if (!dataTable) return;\n",
              "\n",
              "          const docLinkHtml = 'Like what you see? Visit the ' +\n",
              "            '<a target=\"_blank\" href=https://colab.research.google.com/notebooks/data_table.ipynb>data table notebook</a>'\n",
              "            + ' to learn more about interactive tables.';\n",
              "          element.innerHTML = '';\n",
              "          dataTable['output_type'] = 'display_data';\n",
              "          await google.colab.output.renderOutput(dataTable, element);\n",
              "          const docLink = document.createElement('div');\n",
              "          docLink.innerHTML = docLinkHtml;\n",
              "          element.appendChild(docLink);\n",
              "        }\n",
              "      </script>\n",
              "    </div>\n",
              "  </div>\n",
              "  "
            ],
            "text/plain": [
              "      PatientID  ... Label\n",
              "24994  optm1344  ...     0\n",
              "24995  optm1344  ...     0\n",
              "24996  optm1344  ...     0\n",
              "24997  optm1344  ...     0\n",
              "24998  optm1344  ...     0\n",
              "\n",
              "[5 rows x 111 columns]"
            ]
          },
          "metadata": {},
          "execution_count": 21
        }
      ]
    },
    {
      "cell_type": "markdown",
      "source": [
        "**Extracting information on the data**"
      ],
      "metadata": {
        "id": "PDx6mC6DQ4bF"
      }
    },
    {
      "cell_type": "markdown",
      "source": [
        "*Size of full dataset*"
      ],
      "metadata": {
        "id": "J6QoHpI6RUpF"
      }
    },
    {
      "cell_type": "code",
      "source": [
        "# number of rows in full dataset\n",
        "full_number_of_samples = full_data['PatientID'].count()\n",
        "full_number_of_samples"
      ],
      "metadata": {
        "colab": {
          "base_uri": "https://localhost:8080/"
        },
        "id": "K8gIuWHtlw_c",
        "outputId": "1e5398a5-d63b-43df-b0db-ea4ea73b487c"
      },
      "execution_count": 22,
      "outputs": [
        {
          "output_type": "execute_result",
          "data": {
            "text/plain": [
              "405280"
            ]
          },
          "metadata": {},
          "execution_count": 22
        }
      ]
    },
    {
      "cell_type": "markdown",
      "source": [
        "*Size of sample dataset*"
      ],
      "metadata": {
        "id": "D5-5yJ5uRXbA"
      }
    },
    {
      "cell_type": "code",
      "source": [
        "# number of rows in some dataset\n",
        "some_number_of_samples = some_data['PatientID'].count()\n",
        "some_number_of_samples"
      ],
      "metadata": {
        "id": "6zj_iS9mmoNi",
        "colab": {
          "base_uri": "https://localhost:8080/"
        },
        "outputId": "2f8bafb3-eba2-4e6d-eda9-208a560a67dd"
      },
      "execution_count": 23,
      "outputs": [
        {
          "output_type": "execute_result",
          "data": {
            "text/plain": [
              "24999"
            ]
          },
          "metadata": {},
          "execution_count": 23
        }
      ]
    },
    {
      "cell_type": "markdown",
      "source": [
        "*Visualisation of size difference*"
      ],
      "metadata": {
        "id": "P1VjlToY399X"
      }
    },
    {
      "cell_type": "code",
      "source": [
        "fig = plt.figure()\n",
        "ax = fig.add_axes([0,0,1,1])\n",
        "sets = ['Large dataset', 'Smaller dataset']\n",
        "samples = [full_number_of_samples, some_number_of_samples]\n",
        "ax.bar(sets,samples, color=\"#6aa84f\")\n",
        "plt.show()"
      ],
      "metadata": {
        "colab": {
          "base_uri": "https://localhost:8080/",
          "height": 336
        },
        "id": "EcyY8zSL4EFi",
        "outputId": "650405a1-6507-495a-fcc6-e90d5de23e18"
      },
      "execution_count": 24,
      "outputs": [
        {
          "output_type": "display_data",
          "data": {
            "image/png": "[encoded data removed]",
            "text/plain": [
              "<Figure size 432x288 with 1 Axes>"
            ]
          },
          "metadata": {
            "needs_background": "light"
          }
        }
      ]
    },
    {
      "cell_type": "markdown",
      "source": [
        "*Full dataset label distribution*"
      ],
      "metadata": {
        "id": "IzEcw2kIRgXu"
      }
    },
    {
      "cell_type": "code",
      "source": [
        "# number of positive and negative cases in full dataset\n",
        "full_label_distribution = full_data['Label'].value_counts()\n",
        "full_label_distribution"
      ],
      "metadata": {
        "colab": {
          "base_uri": "https://localhost:8080/"
        },
        "id": "Uk0D_MKqmyQe",
        "outputId": "73604948-c470-40eb-fb2d-63e20813d142"
      },
      "execution_count": 25,
      "outputs": [
        {
          "output_type": "execute_result",
          "data": {
            "text/plain": [
              "0    393021\n",
              "1     12259\n",
              "Name: Label, dtype: int64"
            ]
          },
          "metadata": {},
          "execution_count": 25
        }
      ]
    },
    {
      "cell_type": "markdown",
      "source": [
        "\n",
        "*Visualisation of label distribution*"
      ],
      "metadata": {
        "id": "3-uHRgGR575J"
      }
    },
    {
      "cell_type": "code",
      "source": [
        "fig = plt.figure()\n",
        "ax = fig.add_axes([0,0,1,1])\n",
        "label = ['Negative case (0)', 'Positive case (1)']\n",
        "ax.bar(label , full_label_distribution, color=\"#6aa84f\")\n",
        "plt.show()"
      ],
      "metadata": {
        "colab": {
          "base_uri": "https://localhost:8080/",
          "height": 336
        },
        "id": "cpVqltjo58W5",
        "outputId": "ba8114a3-a14f-484d-be14-04e08eb73ed4"
      },
      "execution_count": 26,
      "outputs": [
        {
          "output_type": "display_data",
          "data": {
            "image/png": "[encoded data removed]",
            "text/plain": [
              "<Figure size 432x288 with 1 Axes>"
            ]
          },
          "metadata": {
            "needs_background": "light"
          }
        }
      ]
    },
    {
      "cell_type": "markdown",
      "source": [
        "*Some dataset label distribution*"
      ],
      "metadata": {
        "id": "_DnE3oLORg6R"
      }
    },
    {
      "cell_type": "code",
      "source": [
        "# number of positive and negative cases in some dataset\n",
        "some_label_distribution = some_data['Label'].value_counts()\n",
        "some_label_distribution"
      ],
      "metadata": {
        "colab": {
          "base_uri": "https://localhost:8080/"
        },
        "id": "PAjp4hyyUQMy",
        "outputId": "7c0d160d-0886-4b9e-83e7-c9029ebb7a4a"
      },
      "execution_count": 27,
      "outputs": [
        {
          "output_type": "execute_result",
          "data": {
            "text/plain": [
              "0    24018\n",
              "1      981\n",
              "Name: Label, dtype: int64"
            ]
          },
          "metadata": {},
          "execution_count": 27
        }
      ]
    },
    {
      "cell_type": "markdown",
      "source": [
        "*Mammogram views*"
      ],
      "metadata": {
        "id": "bIKfQwj5WSI8"
      }
    },
    {
      "cell_type": "code",
      "source": [
        "# the different mammogram views in the dataset\n",
        "views = full_data.View.unique()\n",
        "views"
      ],
      "metadata": {
        "colab": {
          "base_uri": "https://localhost:8080/"
        },
        "id": "aWCtuJsNWXgn",
        "outputId": "e25eda02-50c4-42ba-96fe-a7c46c59c5e9"
      },
      "execution_count": 34,
      "outputs": [
        {
          "output_type": "execute_result",
          "data": {
            "text/plain": [
              "array(['CC', 'MLO', 'XCCL', 'ML', 'LM'], dtype=object)"
            ]
          },
          "metadata": {},
          "execution_count": 34
        }
      ]
    },
    {
      "cell_type": "code",
      "source": [
        "# getting the number of times each row occurs\n",
        "CC_popularity = len(full_data.loc[full_data['View'] == 'CC'])\n",
        "MLO_popularity = len(full_data.loc[full_data['View'] == 'MLO'])\n",
        "XCCL_popularity = len(full_data.loc[full_data['View'] == 'XCCL'])\n",
        "ML_popularity = len(full_data.loc[full_data['View'] == 'ML'])\n",
        "LM_popularity = len(full_data.loc[full_data['View'] == 'LM'])"
      ],
      "metadata": {
        "id": "iUW5gaB0YMae"
      },
      "execution_count": 41,
      "outputs": []
    },
    {
      "cell_type": "code",
      "source": [
        "CC_popularity"
      ],
      "metadata": {
        "colab": {
          "base_uri": "https://localhost:8080/"
        },
        "id": "L0uL1tuBeM62",
        "outputId": "8a21262a-04bf-49a1-fdca-6651481b3c44"
      },
      "execution_count": 60,
      "outputs": [
        {
          "output_type": "execute_result",
          "data": {
            "text/plain": [
              "205520"
            ]
          },
          "metadata": {},
          "execution_count": 60
        }
      ]
    },
    {
      "cell_type": "code",
      "source": [
        "MLO_popularity"
      ],
      "metadata": {
        "colab": {
          "base_uri": "https://localhost:8080/"
        },
        "id": "HklBV-QSeRGp",
        "outputId": "fb928285-20fb-42b0-cde9-b4a08ffd7528"
      },
      "execution_count": 61,
      "outputs": [
        {
          "output_type": "execute_result",
          "data": {
            "text/plain": [
              "199320"
            ]
          },
          "metadata": {},
          "execution_count": 61
        }
      ]
    },
    {
      "cell_type": "code",
      "source": [
        "XCCL_popularity"
      ],
      "metadata": {
        "colab": {
          "base_uri": "https://localhost:8080/"
        },
        "id": "JoldQYwgeSqu",
        "outputId": "0b9f754f-4a73-4447-b3b6-996cc2d92f04"
      },
      "execution_count": 62,
      "outputs": [
        {
          "output_type": "execute_result",
          "data": {
            "text/plain": [
              "120"
            ]
          },
          "metadata": {},
          "execution_count": 62
        }
      ]
    },
    {
      "cell_type": "code",
      "source": [
        "ML_popularity"
      ],
      "metadata": {
        "colab": {
          "base_uri": "https://localhost:8080/"
        },
        "id": "TSi1LRS_eUbv",
        "outputId": "6cf0810d-8f39-4df9-88bc-3c813586d87e"
      },
      "execution_count": 63,
      "outputs": [
        {
          "output_type": "execute_result",
          "data": {
            "text/plain": [
              "240"
            ]
          },
          "metadata": {},
          "execution_count": 63
        }
      ]
    },
    {
      "cell_type": "code",
      "source": [
        "LM_popularity"
      ],
      "metadata": {
        "colab": {
          "base_uri": "https://localhost:8080/"
        },
        "id": "I-EMDkJaeWEj",
        "outputId": "14b66023-5d30-4b4c-9592-0a156a79d918"
      },
      "execution_count": 64,
      "outputs": [
        {
          "output_type": "execute_result",
          "data": {
            "text/plain": [
              "80"
            ]
          },
          "metadata": {},
          "execution_count": 64
        }
      ]
    },
    {
      "cell_type": "markdown",
      "source": [
        "*Percentage of samples that are CC or MLO view*"
      ],
      "metadata": {
        "id": "0n4FMiIwepjD"
      }
    },
    {
      "cell_type": "code",
      "source": [
        "((CC_popularity+MLO_popularity)/full_number_of_samples)*100"
      ],
      "metadata": {
        "colab": {
          "base_uri": "https://localhost:8080/"
        },
        "id": "PVmeQcspeYgF",
        "outputId": "9cb73645-bfbe-41d3-d19b-2da5325662e4"
      },
      "execution_count": 66,
      "outputs": [
        {
          "output_type": "execute_result",
          "data": {
            "text/plain": [
              "99.89143308330043"
            ]
          },
          "metadata": {},
          "execution_count": 66
        }
      ]
    },
    {
      "cell_type": "markdown",
      "source": [
        "*Mammogram segments*"
      ],
      "metadata": {
        "id": "P0s3SPpCRhZS"
      }
    },
    {
      "cell_type": "code",
      "source": [
        "# the different mammogram segments in the dataset\n",
        "segments = full_data.SegmentPosition.unique()\n",
        "segments"
      ],
      "metadata": {
        "colab": {
          "base_uri": "https://localhost:8080/"
        },
        "id": "A15LojUPVrwl",
        "outputId": "d4668d7a-3391-48f8-fb59-1838095e5ef7"
      },
      "execution_count": 35,
      "outputs": [
        {
          "output_type": "execute_result",
          "data": {
            "text/plain": [
              "array(['LA1', 'RA1', 'LB1', 'RB1', 'LC1', 'RC1', 'LD1', 'RD1', 'LE1',\n",
              "       'RE1', 'LA2', 'RA2', 'LB2', 'RB2', 'LC2', 'RC2', 'LD2', 'RD2',\n",
              "       'LE2', 'RE2', 'LA3', 'RA3', 'LB3', 'RB3', 'LC3', 'RC3', 'LD3',\n",
              "       'RD3', 'LE3', 'RE3', 'LA4', 'RA4', 'LB4', 'RB4', 'LC4', 'RC4',\n",
              "       'LD4', 'RD4', 'LE4', 'RE4'], dtype=object)"
            ]
          },
          "metadata": {},
          "execution_count": 35
        }
      ]
    },
    {
      "cell_type": "markdown",
      "source": [
        "*Approximate number of patients in full dataset*"
      ],
      "metadata": {
        "id": "DjYlszHbwV8W"
      }
    },
    {
      "cell_type": "code",
      "source": [
        "len(full_data.PatientID.unique())"
      ],
      "metadata": {
        "colab": {
          "base_uri": "https://localhost:8080/"
        },
        "id": "FHVnFNTJXd8J",
        "outputId": "8ab6ebd8-a9e1-4713-9109-07990dffbfc8"
      },
      "execution_count": 36,
      "outputs": [
        {
          "output_type": "execute_result",
          "data": {
            "text/plain": [
              "4919"
            ]
          },
          "metadata": {},
          "execution_count": 36
        }
      ]
    },
    {
      "cell_type": "markdown",
      "source": [
        "Approximate number of patients in sample dataset"
      ],
      "metadata": {
        "id": "86JP4P8wwmny"
      }
    },
    {
      "cell_type": "code",
      "source": [
        "len(some_data.PatientID.unique())"
      ],
      "metadata": {
        "colab": {
          "base_uri": "https://localhost:8080/"
        },
        "id": "qltaFQnfwrr3",
        "outputId": "fba5625c-7e9f-48ea-ef54-93e4d67c5c6c"
      },
      "execution_count": 37,
      "outputs": [
        {
          "output_type": "execute_result",
          "data": {
            "text/plain": [
              "315"
            ]
          },
          "metadata": {},
          "execution_count": 37
        }
      ]
    },
    {
      "cell_type": "markdown",
      "source": [
        "*Columns in the datasets*"
      ],
      "metadata": {
        "id": "QCutV5OvSc2g"
      }
    },
    {
      "cell_type": "code",
      "source": [
        "number_of_all_columns = len(full_data.columns)\n",
        "number_of_all_columns"
      ],
      "metadata": {
        "colab": {
          "base_uri": "https://localhost:8080/"
        },
        "id": "-Ydwz8nDXd3H",
        "outputId": "4a876e74-407f-43b8-fbee-d1fab9eab709"
      },
      "execution_count": null,
      "outputs": [
        {
          "output_type": "execute_result",
          "data": {
            "text/plain": [
              "111"
            ]
          },
          "metadata": {},
          "execution_count": 32
        }
      ]
    },
    {
      "cell_type": "code",
      "source": [
        "# the column names in both datasets are the same, extracting them here\n",
        "all_columns = full_data.columns.to_list()\n",
        "all_columns"
      ],
      "metadata": {
        "colab": {
          "base_uri": "https://localhost:8080/"
        },
        "id": "Ran8xHfTShqy",
        "outputId": "1ba4273d-77ca-46c8-e3f4-b2cfbcf49d16"
      },
      "execution_count": null,
      "outputs": [
        {
          "output_type": "execute_result",
          "data": {
            "text/plain": [
              "['PatientID',\n",
              " 'StudyID',\n",
              " 'PatientAge',\n",
              " 'ImgID',\n",
              " 'View',\n",
              " 'SegmentPosition',\n",
              " 'x0',\n",
              " 'x1',\n",
              " 'x2',\n",
              " 'x3',\n",
              " 'x4',\n",
              " 'x5',\n",
              " 'x6',\n",
              " 'x7',\n",
              " 'x8',\n",
              " 'x9',\n",
              " 'x10',\n",
              " 'x11',\n",
              " 'x12',\n",
              " 'x13',\n",
              " 'x14',\n",
              " 'x15',\n",
              " 'x16',\n",
              " 'x17',\n",
              " 'x18',\n",
              " 'x19',\n",
              " 'x20',\n",
              " 'x21',\n",
              " 'x22',\n",
              " 'x23',\n",
              " 'x24',\n",
              " 'x25',\n",
              " 'x26',\n",
              " 'x27',\n",
              " 'x28',\n",
              " 'x29',\n",
              " 'x30',\n",
              " 'x31',\n",
              " 'x32',\n",
              " 'x33',\n",
              " 'x34',\n",
              " 'x35',\n",
              " 'x36',\n",
              " 'x37',\n",
              " 'x38',\n",
              " 'x39',\n",
              " 'x40',\n",
              " 'x41',\n",
              " 'x42',\n",
              " 'x43',\n",
              " 'x44',\n",
              " 'x45',\n",
              " 'x46',\n",
              " 'x47',\n",
              " 'x48',\n",
              " 'x49',\n",
              " 'x50',\n",
              " 'x51',\n",
              " 'x52',\n",
              " 'x53',\n",
              " 'x54',\n",
              " 'x55',\n",
              " 'x56',\n",
              " 'x57',\n",
              " 'x58',\n",
              " 'x59',\n",
              " 'x60',\n",
              " 'x61',\n",
              " 'x62',\n",
              " 'x63',\n",
              " 'x64',\n",
              " 'x65',\n",
              " 'x66',\n",
              " 'x67',\n",
              " 'x68',\n",
              " 'x69',\n",
              " 'x70',\n",
              " 'x71',\n",
              " 'x72',\n",
              " 'x73',\n",
              " 'x74',\n",
              " 'x75',\n",
              " 'x76',\n",
              " 'x77',\n",
              " 'x78',\n",
              " 'x79',\n",
              " 'x80',\n",
              " 'x81',\n",
              " 'x82',\n",
              " 'x83',\n",
              " 'x84',\n",
              " 'x85',\n",
              " 'x86',\n",
              " 'x87',\n",
              " 'x88',\n",
              " 'x89',\n",
              " 'x90',\n",
              " 'x91',\n",
              " 'x92',\n",
              " 'x93',\n",
              " 'x94',\n",
              " 'x95',\n",
              " 'x96',\n",
              " 'x97',\n",
              " 'x98',\n",
              " 'x99',\n",
              " 'x100',\n",
              " 'x101',\n",
              " 'x102',\n",
              " 'x103',\n",
              " 'Label']"
            ]
          },
          "metadata": {},
          "execution_count": 37
        }
      ]
    },
    {
      "cell_type": "markdown",
      "source": [
        "### ***Data Preprocessing***\n",
        "\n",
        "The data is already very clean and concise but there are a few columns that are unnecessary for the task at hand. "
      ],
      "metadata": {
        "id": "jGIGUBcEUVR6"
      }
    },
    {
      "cell_type": "markdown",
      "source": [
        "**Dropping columns from large dataset**"
      ],
      "metadata": {
        "id": "0aU8WQIqVABq"
      }
    },
    {
      "cell_type": "code",
      "source": [
        "full_data.drop(['PatientID', 'StudyID', 'PatientAge', 'ImgID', 'View', 'SegmentPosition'], axis=1, inplace=True)\n",
        "final_columns = full_data.columns.to_list()\n",
        "final_columns"
      ],
      "metadata": {
        "colab": {
          "base_uri": "https://localhost:8080/"
        },
        "id": "1nQmTVczUZSB",
        "outputId": "ed6038be-c44d-4d97-eb2c-44068ea5c37b"
      },
      "execution_count": null,
      "outputs": [
        {
          "output_type": "execute_result",
          "data": {
            "text/plain": [
              "['x0',\n",
              " 'x1',\n",
              " 'x2',\n",
              " 'x3',\n",
              " 'x4',\n",
              " 'x5',\n",
              " 'x6',\n",
              " 'x7',\n",
              " 'x8',\n",
              " 'x9',\n",
              " 'x10',\n",
              " 'x11',\n",
              " 'x12',\n",
              " 'x13',\n",
              " 'x14',\n",
              " 'x15',\n",
              " 'x16',\n",
              " 'x17',\n",
              " 'x18',\n",
              " 'x19',\n",
              " 'x20',\n",
              " 'x21',\n",
              " 'x22',\n",
              " 'x23',\n",
              " 'x24',\n",
              " 'x25',\n",
              " 'x26',\n",
              " 'x27',\n",
              " 'x28',\n",
              " 'x29',\n",
              " 'x30',\n",
              " 'x31',\n",
              " 'x32',\n",
              " 'x33',\n",
              " 'x34',\n",
              " 'x35',\n",
              " 'x36',\n",
              " 'x37',\n",
              " 'x38',\n",
              " 'x39',\n",
              " 'x40',\n",
              " 'x41',\n",
              " 'x42',\n",
              " 'x43',\n",
              " 'x44',\n",
              " 'x45',\n",
              " 'x46',\n",
              " 'x47',\n",
              " 'x48',\n",
              " 'x49',\n",
              " 'x50',\n",
              " 'x51',\n",
              " 'x52',\n",
              " 'x53',\n",
              " 'x54',\n",
              " 'x55',\n",
              " 'x56',\n",
              " 'x57',\n",
              " 'x58',\n",
              " 'x59',\n",
              " 'x60',\n",
              " 'x61',\n",
              " 'x62',\n",
              " 'x63',\n",
              " 'x64',\n",
              " 'x65',\n",
              " 'x66',\n",
              " 'x67',\n",
              " 'x68',\n",
              " 'x69',\n",
              " 'x70',\n",
              " 'x71',\n",
              " 'x72',\n",
              " 'x73',\n",
              " 'x74',\n",
              " 'x75',\n",
              " 'x76',\n",
              " 'x77',\n",
              " 'x78',\n",
              " 'x79',\n",
              " 'x80',\n",
              " 'x81',\n",
              " 'x82',\n",
              " 'x83',\n",
              " 'x84',\n",
              " 'x85',\n",
              " 'x86',\n",
              " 'x87',\n",
              " 'x88',\n",
              " 'x89',\n",
              " 'x90',\n",
              " 'x91',\n",
              " 'x92',\n",
              " 'x93',\n",
              " 'x94',\n",
              " 'x95',\n",
              " 'x96',\n",
              " 'x97',\n",
              " 'x98',\n",
              " 'x99',\n",
              " 'x100',\n",
              " 'x101',\n",
              " 'x102',\n",
              " 'x103',\n",
              " 'Label']"
            ]
          },
          "metadata": {},
          "execution_count": 38
        }
      ]
    },
    {
      "cell_type": "markdown",
      "source": [
        "**Dropping columns from smaller dataset**"
      ],
      "metadata": {
        "id": "w3bPkvNkVGIY"
      }
    },
    {
      "cell_type": "code",
      "source": [
        "some_data.drop(['PatientID', 'StudyID', 'PatientAge', 'ImgID', 'View', 'SegmentPosition'], axis=1, inplace=True)\n",
        "some_data.columns.to_list()"
      ],
      "metadata": {
        "colab": {
          "base_uri": "https://localhost:8080/"
        },
        "id": "-EinxR5gVMXL",
        "outputId": "437ee6e1-0d2a-4836-8608-13c78294a226"
      },
      "execution_count": null,
      "outputs": [
        {
          "output_type": "execute_result",
          "data": {
            "text/plain": [
              "['x0',\n",
              " 'x1',\n",
              " 'x2',\n",
              " 'x3',\n",
              " 'x4',\n",
              " 'x5',\n",
              " 'x6',\n",
              " 'x7',\n",
              " 'x8',\n",
              " 'x9',\n",
              " 'x10',\n",
              " 'x11',\n",
              " 'x12',\n",
              " 'x13',\n",
              " 'x14',\n",
              " 'x15',\n",
              " 'x16',\n",
              " 'x17',\n",
              " 'x18',\n",
              " 'x19',\n",
              " 'x20',\n",
              " 'x21',\n",
              " 'x22',\n",
              " 'x23',\n",
              " 'x24',\n",
              " 'x25',\n",
              " 'x26',\n",
              " 'x27',\n",
              " 'x28',\n",
              " 'x29',\n",
              " 'x30',\n",
              " 'x31',\n",
              " 'x32',\n",
              " 'x33',\n",
              " 'x34',\n",
              " 'x35',\n",
              " 'x36',\n",
              " 'x37',\n",
              " 'x38',\n",
              " 'x39',\n",
              " 'x40',\n",
              " 'x41',\n",
              " 'x42',\n",
              " 'x43',\n",
              " 'x44',\n",
              " 'x45',\n",
              " 'x46',\n",
              " 'x47',\n",
              " 'x48',\n",
              " 'x49',\n",
              " 'x50',\n",
              " 'x51',\n",
              " 'x52',\n",
              " 'x53',\n",
              " 'x54',\n",
              " 'x55',\n",
              " 'x56',\n",
              " 'x57',\n",
              " 'x58',\n",
              " 'x59',\n",
              " 'x60',\n",
              " 'x61',\n",
              " 'x62',\n",
              " 'x63',\n",
              " 'x64',\n",
              " 'x65',\n",
              " 'x66',\n",
              " 'x67',\n",
              " 'x68',\n",
              " 'x69',\n",
              " 'x70',\n",
              " 'x71',\n",
              " 'x72',\n",
              " 'x73',\n",
              " 'x74',\n",
              " 'x75',\n",
              " 'x76',\n",
              " 'x77',\n",
              " 'x78',\n",
              " 'x79',\n",
              " 'x80',\n",
              " 'x81',\n",
              " 'x82',\n",
              " 'x83',\n",
              " 'x84',\n",
              " 'x85',\n",
              " 'x86',\n",
              " 'x87',\n",
              " 'x88',\n",
              " 'x89',\n",
              " 'x90',\n",
              " 'x91',\n",
              " 'x92',\n",
              " 'x93',\n",
              " 'x94',\n",
              " 'x95',\n",
              " 'x96',\n",
              " 'x97',\n",
              " 'x98',\n",
              " 'x99',\n",
              " 'x100',\n",
              " 'x101',\n",
              " 'x102',\n",
              " 'x103',\n",
              " 'Label']"
            ]
          },
          "metadata": {},
          "execution_count": 39
        }
      ]
    },
    {
      "cell_type": "markdown",
      "source": [
        "**Number of columns remaining**"
      ],
      "metadata": {
        "id": "95-yeYL_Y15H"
      }
    },
    {
      "cell_type": "code",
      "source": [
        "final_number_of_columns = len(final_columns)\n",
        "final_number_of_columns"
      ],
      "metadata": {
        "colab": {
          "base_uri": "https://localhost:8080/"
        },
        "id": "GjXOCoG6Y5iX",
        "outputId": "909ac1af-7a37-4e39-a23e-72d7707255c3"
      },
      "execution_count": null,
      "outputs": [
        {
          "output_type": "execute_result",
          "data": {
            "text/plain": [
              "105"
            ]
          },
          "metadata": {},
          "execution_count": 41
        }
      ]
    }
  ]
}