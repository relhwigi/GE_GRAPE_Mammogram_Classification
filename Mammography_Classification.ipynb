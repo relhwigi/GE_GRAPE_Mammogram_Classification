{
  "nbformat": 4,
  "nbformat_minor": 0,
  "metadata": {
    "colab": {
      "name": "Mammography_Classification.ipynb",
      "provenance": [],
      "authorship_tag": "ABX9TyPb+xhu1iXqBnuRMJ7jIRyE",
      "include_colab_link": true
    },
    "kernelspec": {
      "name": "python3",
      "display_name": "Python 3"
    },
    "language_info": {
      "name": "python"
    }
  },
  "cells": [
    {
      "cell_type": "markdown",
      "metadata": {
        "id": "view-in-github",
        "colab_type": "text"
      },
      "source": [
        "<a href=\"https://colab.research.google.com/github/relhwigi/GE_GRAPE_Mammogram_Classification/blob/main/Mammography_Classification.ipynb\" target=\"_parent\"><img src=\"https://colab.research.google.com/assets/colab-badge.svg\" alt=\"Open In Colab\"/></a>"
      ]
    },
    {
      "cell_type": "markdown",
      "source": [
        "# **Machine Learning using Grammatical Evolution**\n",
        "###Classification of mammogram segments as containing or not containing suspicious growth. \n",
        "Ranya El-Hwigi 18227449"
      ],
      "metadata": {
        "id": "LyRwEVCMv6r-"
      }
    },
    {
      "cell_type": "markdown",
      "source": [
        "### ***Mounting drive***"
      ],
      "metadata": {
        "id": "V5obuAinsy6K"
      }
    },
    {
      "cell_type": "code",
      "source": [
        "from google.colab import drive\n",
        "drive.mount('/content/drive', force_remount=True)"
      ],
      "metadata": {
        "colab": {
          "base_uri": "https://localhost:8080/"
        },
        "id": "Kz41QMTWsynG",
        "outputId": "a677426f-e68b-46ba-bd6f-c95890432395"
      },
      "execution_count": 1,
      "outputs": [
        {
          "output_type": "stream",
          "name": "stdout",
          "text": [
            "Mounted at /content/drive\n"
          ]
        }
      ]
    },
    {
      "cell_type": "markdown",
      "source": [
        "### ***Clone grammar repository***"
      ],
      "metadata": {
        "id": "jpUFL3HZ5Awi"
      }
    },
    {
      "cell_type": "code",
      "source": [
        "import os.path\n",
        "\n",
        "PATH = '/content/drive/MyDrive/GE_GRAPE_Mammogram_Classification/'\n",
        "if os.path.exists(PATH):\n",
        "    print('grammar directory already exists')\n",
        "else:\n",
        "    %cd /content/drive/MyDrive/\n",
        "    !git clone https://github.com/relhwigi/GE_GRAPE_Mammogram_Classification.git\n",
        "    print('Cloning repo in your Drive')"
      ],
      "metadata": {
        "colab": {
          "base_uri": "https://localhost:8080/"
        },
        "id": "8gXbx1FP5IEp",
        "outputId": "9fcd7ad6-f672-4fdb-ce0b-01d3052229a9"
      },
      "execution_count": 2,
      "outputs": [
        {
          "output_type": "stream",
          "name": "stdout",
          "text": [
            "grammar directory already exists\n"
          ]
        }
      ]
    },
    {
      "cell_type": "markdown",
      "source": [
        "### ***Clone GRAPE repository***"
      ],
      "metadata": {
        "id": "WSp-9E5ythun"
      }
    },
    {
      "cell_type": "code",
      "source": [
        "PATH = '/content/drive/MyDrive/grape/'\n",
        "if os.path.exists(PATH):\n",
        "    print('grape directory already exists')\n",
        "else:\n",
        "    %cd /content/drive/MyDrive/\n",
        "    !git clone https://github.com/UL-BDS/grape.git \n",
        "    print('Cloning grape in your Drive')\n",
        "\n",
        "%cd /content/drive/MyDrive/grape/"
      ],
      "metadata": {
        "colab": {
          "base_uri": "https://localhost:8080/"
        },
        "id": "EmSTDvSxtpXG",
        "outputId": "b348fa6c-84e2-40ee-e338-eb1e10b62086"
      },
      "execution_count": 3,
      "outputs": [
        {
          "output_type": "stream",
          "name": "stdout",
          "text": [
            "grape directory already exists\n",
            "/content/drive/MyDrive/grape\n"
          ]
        }
      ]
    },
    {
      "cell_type": "code",
      "source": [
        "# Suppressing Warnings:\n",
        "import warnings\n",
        "warnings.filterwarnings(\"ignore\")"
      ],
      "metadata": {
        "id": "x-IWrHuMt93k"
      },
      "execution_count": 4,
      "outputs": []
    },
    {
      "cell_type": "markdown",
      "source": [
        "### ***Importing libraries***"
      ],
      "metadata": {
        "id": "p0Zy8YEbwxOq"
      }
    },
    {
      "cell_type": "code",
      "execution_count": 5,
      "metadata": {
        "id": "Ay1KC4bRfldb",
        "colab": {
          "base_uri": "https://localhost:8080/"
        },
        "outputId": "c7196be5-f59d-44f2-bfca-0d6259aef935"
      },
      "outputs": [
        {
          "output_type": "stream",
          "name": "stdout",
          "text": [
            "Collecting deap==1.3\n",
            "  Downloading deap-1.3.0-cp37-cp37m-manylinux2010_x86_64.whl (152 kB)\n",
            "\u001b[?25l\r\u001b[K     |██▏                             | 10 kB 27.5 MB/s eta 0:00:01\r\u001b[K     |████▎                           | 20 kB 28.6 MB/s eta 0:00:01\r\u001b[K     |██████▍                         | 30 kB 19.0 MB/s eta 0:00:01\r\u001b[K     |████████▋                       | 40 kB 15.5 MB/s eta 0:00:01\r\u001b[K     |██████████▊                     | 51 kB 8.9 MB/s eta 0:00:01\r\u001b[K     |████████████▉                   | 61 kB 9.7 MB/s eta 0:00:01\r\u001b[K     |███████████████                 | 71 kB 9.0 MB/s eta 0:00:01\r\u001b[K     |█████████████████▏              | 81 kB 9.8 MB/s eta 0:00:01\r\u001b[K     |███████████████████▎            | 92 kB 10.3 MB/s eta 0:00:01\r\u001b[K     |█████████████████████▍          | 102 kB 8.6 MB/s eta 0:00:01\r\u001b[K     |███████████████████████▋        | 112 kB 8.6 MB/s eta 0:00:01\r\u001b[K     |█████████████████████████▊      | 122 kB 8.6 MB/s eta 0:00:01\r\u001b[K     |███████████████████████████▉    | 133 kB 8.6 MB/s eta 0:00:01\r\u001b[K     |██████████████████████████████  | 143 kB 8.6 MB/s eta 0:00:01\r\u001b[K     |████████████████████████████████| 152 kB 8.6 MB/s \n",
            "\u001b[?25hRequirement already satisfied: numpy in /usr/local/lib/python3.7/dist-packages (from deap==1.3) (1.19.5)\n",
            "Installing collected packages: deap\n",
            "Successfully installed deap-1.3.0\n"
          ]
        }
      ],
      "source": [
        "!pip install deap==1.3 \n",
        "\n",
        "import algorithms\n",
        "from ponyge2_adapted_files import Grammar, ge\n",
        "from functions import add, sub, mul, pdiv, neg\n",
        "\n",
        "import numpy as np\n",
        "from os import path\n",
        "import pandas as pd\n",
        "from collections import Counter\n",
        "import matplotlib.pyplot as plt\n",
        "from deap import creator, base, tools\n",
        "from imblearn.over_sampling import RandomOverSampler\n",
        "from sklearn.model_selection import train_test_split"
      ]
    },
    {
      "cell_type": "markdown",
      "source": [
        "### ***Data Exploration***\n",
        "\n",
        "There are 2 datasets availble. A larger data set containing the full data and a smaller data set containing a subset of the data."
      ],
      "metadata": {
        "id": "wwrckg4Sw3ZT"
      }
    },
    {
      "cell_type": "markdown",
      "source": [
        "**Large dataset**"
      ],
      "metadata": {
        "id": "JTNF7cL1Q74H"
      }
    },
    {
      "cell_type": "code",
      "source": [
        "# loading in the full dataset into a pandas dataframe from GitHub\n",
        "full_data = pd.read_csv('https://media.githubusercontent.com/media/relhwigi/GE_GRAPE_Mammogram_Classification/main/data/haralick02.csv')\n",
        "\n",
        "# checking the data\n",
        "full_data.head()"
      ],
      "metadata": {
        "id": "ZBsYuyC5hBwE",
        "colab": {
          "base_uri": "https://localhost:8080/",
          "height": 297
        },
        "outputId": "dedd6c3f-3e55-422f-b1df-c4c27d1d2ec3"
      },
      "execution_count": 6,
      "outputs": [
        {
          "output_type": "execute_result",
          "data": {
            "text/html": [
              "\n",
              "  <div id=\"df-7aafcf6f-057c-4d9f-8df5-e1f015980987\">\n",
              "    <div class=\"colab-df-container\">\n",
              "      <div>\n",
              "<style scoped>\n",
              "    .dataframe tbody tr th:only-of-type {\n",
              "        vertical-align: middle;\n",
              "    }\n",
              "\n",
              "    .dataframe tbody tr th {\n",
              "        vertical-align: top;\n",
              "    }\n",
              "\n",
              "    .dataframe thead th {\n",
              "        text-align: right;\n",
              "    }\n",
              "</style>\n",
              "<table border=\"1\" class=\"dataframe\">\n",
              "  <thead>\n",
              "    <tr style=\"text-align: right;\">\n",
              "      <th></th>\n",
              "      <th>PatientID</th>\n",
              "      <th>StudyID</th>\n",
              "      <th>PatientAge</th>\n",
              "      <th>ImgID</th>\n",
              "      <th>View</th>\n",
              "      <th>SegmentPosition</th>\n",
              "      <th>x0</th>\n",
              "      <th>x1</th>\n",
              "      <th>x2</th>\n",
              "      <th>x3</th>\n",
              "      <th>x4</th>\n",
              "      <th>x5</th>\n",
              "      <th>x6</th>\n",
              "      <th>x7</th>\n",
              "      <th>x8</th>\n",
              "      <th>x9</th>\n",
              "      <th>x10</th>\n",
              "      <th>x11</th>\n",
              "      <th>x12</th>\n",
              "      <th>x13</th>\n",
              "      <th>x14</th>\n",
              "      <th>x15</th>\n",
              "      <th>x16</th>\n",
              "      <th>x17</th>\n",
              "      <th>x18</th>\n",
              "      <th>x19</th>\n",
              "      <th>x20</th>\n",
              "      <th>x21</th>\n",
              "      <th>x22</th>\n",
              "      <th>x23</th>\n",
              "      <th>x24</th>\n",
              "      <th>x25</th>\n",
              "      <th>x26</th>\n",
              "      <th>x27</th>\n",
              "      <th>x28</th>\n",
              "      <th>x29</th>\n",
              "      <th>x30</th>\n",
              "      <th>x31</th>\n",
              "      <th>x32</th>\n",
              "      <th>x33</th>\n",
              "      <th>...</th>\n",
              "      <th>x65</th>\n",
              "      <th>x66</th>\n",
              "      <th>x67</th>\n",
              "      <th>x68</th>\n",
              "      <th>x69</th>\n",
              "      <th>x70</th>\n",
              "      <th>x71</th>\n",
              "      <th>x72</th>\n",
              "      <th>x73</th>\n",
              "      <th>x74</th>\n",
              "      <th>x75</th>\n",
              "      <th>x76</th>\n",
              "      <th>x77</th>\n",
              "      <th>x78</th>\n",
              "      <th>x79</th>\n",
              "      <th>x80</th>\n",
              "      <th>x81</th>\n",
              "      <th>x82</th>\n",
              "      <th>x83</th>\n",
              "      <th>x84</th>\n",
              "      <th>x85</th>\n",
              "      <th>x86</th>\n",
              "      <th>x87</th>\n",
              "      <th>x88</th>\n",
              "      <th>x89</th>\n",
              "      <th>x90</th>\n",
              "      <th>x91</th>\n",
              "      <th>x92</th>\n",
              "      <th>x93</th>\n",
              "      <th>x94</th>\n",
              "      <th>x95</th>\n",
              "      <th>x96</th>\n",
              "      <th>x97</th>\n",
              "      <th>x98</th>\n",
              "      <th>x99</th>\n",
              "      <th>x100</th>\n",
              "      <th>x101</th>\n",
              "      <th>x102</th>\n",
              "      <th>x103</th>\n",
              "      <th>Label</th>\n",
              "    </tr>\n",
              "  </thead>\n",
              "  <tbody>\n",
              "    <tr>\n",
              "      <th>0</th>\n",
              "      <td>optm1</td>\n",
              "      <td>1.2.826.0.1.3680043.9.3218.1.1.15315205.3583.1...</td>\n",
              "      <td>65</td>\n",
              "      <td>1.2.826.0.1.3680043.9.3218.1.1.15315205.3583.1...</td>\n",
              "      <td>CC</td>\n",
              "      <td>LA1</td>\n",
              "      <td>0.019791</td>\n",
              "      <td>70.750121</td>\n",
              "      <td>0.986798</td>\n",
              "      <td>2679.422225</td>\n",
              "      <td>0.280588</td>\n",
              "      <td>147.661857</td>\n",
              "      <td>10646.938779</td>\n",
              "      <td>7.747646</td>\n",
              "      <td>11.202839</td>\n",
              "      <td>0.000314</td>\n",
              "      <td>4.076002</td>\n",
              "      <td>-0.375260</td>\n",
              "      <td>0.997168</td>\n",
              "      <td>0.019626</td>\n",
              "      <td>84.163154</td>\n",
              "      <td>0.984285</td>\n",
              "      <td>2677.867573</td>\n",
              "      <td>0.265944</td>\n",
              "      <td>147.683884</td>\n",
              "      <td>10627.307136</td>\n",
              "      <td>7.747549</td>\n",
              "      <td>11.323964</td>\n",
              "      <td>0.000289</td>\n",
              "      <td>4.197319</td>\n",
              "      <td>-0.358078</td>\n",
              "      <td>0.996413</td>\n",
              "      <td>0.019630</td>\n",
              "      <td>77.824490</td>\n",
              "      <td>0.985561</td>\n",
              "      <td>2694.966117</td>\n",
              "      <td>0.275523</td>\n",
              "      <td>147.909924</td>\n",
              "      <td>10702.039977</td>\n",
              "      <td>7.754164</td>\n",
              "      <td>...</td>\n",
              "      <td>0.009253</td>\n",
              "      <td>87.836024</td>\n",
              "      <td>0.972762</td>\n",
              "      <td>1612.354750</td>\n",
              "      <td>0.234180</td>\n",
              "      <td>125.710824</td>\n",
              "      <td>6361.582974</td>\n",
              "      <td>7.734123</td>\n",
              "      <td>11.454076</td>\n",
              "      <td>0.000271</td>\n",
              "      <td>4.262486</td>\n",
              "      <td>-0.325168</td>\n",
              "      <td>0.994130</td>\n",
              "      <td>0.009331</td>\n",
              "      <td>78.661818</td>\n",
              "      <td>0.975880</td>\n",
              "      <td>1630.642198</td>\n",
              "      <td>0.251513</td>\n",
              "      <td>125.959761</td>\n",
              "      <td>6443.906973</td>\n",
              "      <td>7.742087</td>\n",
              "      <td>11.349892</td>\n",
              "      <td>0.000295</td>\n",
              "      <td>4.170668</td>\n",
              "      <td>-0.341879</td>\n",
              "      <td>0.995351</td>\n",
              "      <td>0.009309</td>\n",
              "      <td>91.440624</td>\n",
              "      <td>0.971643</td>\n",
              "      <td>1612.335914</td>\n",
              "      <td>0.236469</td>\n",
              "      <td>125.710631</td>\n",
              "      <td>6357.903033</td>\n",
              "      <td>7.732227</td>\n",
              "      <td>11.447468</td>\n",
              "      <td>0.000271</td>\n",
              "      <td>4.279557</td>\n",
              "      <td>-0.326134</td>\n",
              "      <td>0.994207</td>\n",
              "      <td>0</td>\n",
              "    </tr>\n",
              "    <tr>\n",
              "      <th>1</th>\n",
              "      <td>optm1</td>\n",
              "      <td>1.2.826.0.1.3680043.9.3218.1.1.15315205.3583.1...</td>\n",
              "      <td>65</td>\n",
              "      <td>1.2.826.0.1.3680043.9.3218.1.1.15315205.3583.1...</td>\n",
              "      <td>CC</td>\n",
              "      <td>RA1</td>\n",
              "      <td>0.994207</td>\n",
              "      <td>-0.326134</td>\n",
              "      <td>4.279557</td>\n",
              "      <td>0.000271</td>\n",
              "      <td>11.447468</td>\n",
              "      <td>7.732227</td>\n",
              "      <td>6357.903033</td>\n",
              "      <td>125.710631</td>\n",
              "      <td>0.236469</td>\n",
              "      <td>1612.335914</td>\n",
              "      <td>0.971643</td>\n",
              "      <td>91.440624</td>\n",
              "      <td>0.009309</td>\n",
              "      <td>0.995351</td>\n",
              "      <td>-0.341879</td>\n",
              "      <td>4.170668</td>\n",
              "      <td>0.000295</td>\n",
              "      <td>11.349892</td>\n",
              "      <td>7.742087</td>\n",
              "      <td>6443.906973</td>\n",
              "      <td>125.959761</td>\n",
              "      <td>0.251513</td>\n",
              "      <td>1630.642198</td>\n",
              "      <td>0.975880</td>\n",
              "      <td>78.661818</td>\n",
              "      <td>0.009331</td>\n",
              "      <td>0.994130</td>\n",
              "      <td>-0.325168</td>\n",
              "      <td>4.262486</td>\n",
              "      <td>0.000271</td>\n",
              "      <td>11.454076</td>\n",
              "      <td>7.734123</td>\n",
              "      <td>6361.582974</td>\n",
              "      <td>125.710824</td>\n",
              "      <td>...</td>\n",
              "      <td>0.996896</td>\n",
              "      <td>-0.368340</td>\n",
              "      <td>4.131941</td>\n",
              "      <td>0.000304</td>\n",
              "      <td>11.259636</td>\n",
              "      <td>7.754164</td>\n",
              "      <td>10702.039977</td>\n",
              "      <td>147.909924</td>\n",
              "      <td>0.275523</td>\n",
              "      <td>2694.966117</td>\n",
              "      <td>0.985561</td>\n",
              "      <td>77.824490</td>\n",
              "      <td>0.019630</td>\n",
              "      <td>0.996413</td>\n",
              "      <td>-0.358078</td>\n",
              "      <td>4.197319</td>\n",
              "      <td>0.000289</td>\n",
              "      <td>11.323964</td>\n",
              "      <td>7.747549</td>\n",
              "      <td>10627.307136</td>\n",
              "      <td>147.683884</td>\n",
              "      <td>0.265944</td>\n",
              "      <td>2677.867573</td>\n",
              "      <td>0.984285</td>\n",
              "      <td>84.163154</td>\n",
              "      <td>0.019626</td>\n",
              "      <td>0.997168</td>\n",
              "      <td>-0.375260</td>\n",
              "      <td>4.076002</td>\n",
              "      <td>0.000314</td>\n",
              "      <td>11.202839</td>\n",
              "      <td>7.747646</td>\n",
              "      <td>10646.938779</td>\n",
              "      <td>147.661857</td>\n",
              "      <td>0.280588</td>\n",
              "      <td>2679.422225</td>\n",
              "      <td>0.986798</td>\n",
              "      <td>70.750121</td>\n",
              "      <td>0.019791</td>\n",
              "      <td>0</td>\n",
              "    </tr>\n",
              "    <tr>\n",
              "      <th>2</th>\n",
              "      <td>optm1</td>\n",
              "      <td>1.2.826.0.1.3680043.9.3218.1.1.15315205.3583.1...</td>\n",
              "      <td>65</td>\n",
              "      <td>1.2.826.0.1.3680043.9.3218.1.1.15315205.3583.1...</td>\n",
              "      <td>CC</td>\n",
              "      <td>LB1</td>\n",
              "      <td>0.176898</td>\n",
              "      <td>29.279795</td>\n",
              "      <td>0.991535</td>\n",
              "      <td>1729.360146</td>\n",
              "      <td>0.543738</td>\n",
              "      <td>69.492803</td>\n",
              "      <td>6888.160789</td>\n",
              "      <td>5.588478</td>\n",
              "      <td>7.678311</td>\n",
              "      <td>0.001063</td>\n",
              "      <td>3.007836</td>\n",
              "      <td>-0.466993</td>\n",
              "      <td>0.995340</td>\n",
              "      <td>0.176755</td>\n",
              "      <td>38.247695</td>\n",
              "      <td>0.988937</td>\n",
              "      <td>1728.676323</td>\n",
              "      <td>0.527879</td>\n",
              "      <td>69.472768</td>\n",
              "      <td>6876.457598</td>\n",
              "      <td>5.587467</td>\n",
              "      <td>7.788665</td>\n",
              "      <td>0.001018</td>\n",
              "      <td>3.140099</td>\n",
              "      <td>-0.444989</td>\n",
              "      <td>0.994189</td>\n",
              "      <td>0.176731</td>\n",
              "      <td>36.386574</td>\n",
              "      <td>0.989479</td>\n",
              "      <td>1729.238136</td>\n",
              "      <td>0.536824</td>\n",
              "      <td>69.479784</td>\n",
              "      <td>6880.565969</td>\n",
              "      <td>5.589269</td>\n",
              "      <td>...</td>\n",
              "      <td>0.092548</td>\n",
              "      <td>49.175862</td>\n",
              "      <td>0.974096</td>\n",
              "      <td>949.183578</td>\n",
              "      <td>0.426549</td>\n",
              "      <td>70.014061</td>\n",
              "      <td>3747.558450</td>\n",
              "      <td>6.123452</td>\n",
              "      <td>8.832584</td>\n",
              "      <td>0.000764</td>\n",
              "      <td>3.565872</td>\n",
              "      <td>-0.374187</td>\n",
              "      <td>0.991387</td>\n",
              "      <td>0.092727</td>\n",
              "      <td>41.654020</td>\n",
              "      <td>0.978061</td>\n",
              "      <td>949.293642</td>\n",
              "      <td>0.442741</td>\n",
              "      <td>70.019677</td>\n",
              "      <td>3755.520550</td>\n",
              "      <td>6.123813</td>\n",
              "      <td>8.724835</td>\n",
              "      <td>0.000808</td>\n",
              "      <td>3.457819</td>\n",
              "      <td>-0.394026</td>\n",
              "      <td>0.993063</td>\n",
              "      <td>0.092775</td>\n",
              "      <td>43.496564</td>\n",
              "      <td>0.977087</td>\n",
              "      <td>949.179329</td>\n",
              "      <td>0.434262</td>\n",
              "      <td>70.013911</td>\n",
              "      <td>3753.220753</td>\n",
              "      <td>6.121706</td>\n",
              "      <td>8.761205</td>\n",
              "      <td>0.000787</td>\n",
              "      <td>3.495691</td>\n",
              "      <td>-0.387325</td>\n",
              "      <td>0.992537</td>\n",
              "      <td>0</td>\n",
              "    </tr>\n",
              "    <tr>\n",
              "      <th>3</th>\n",
              "      <td>optm1</td>\n",
              "      <td>1.2.826.0.1.3680043.9.3218.1.1.15315205.3583.1...</td>\n",
              "      <td>65</td>\n",
              "      <td>1.2.826.0.1.3680043.9.3218.1.1.15315205.3583.1...</td>\n",
              "      <td>CC</td>\n",
              "      <td>RB1</td>\n",
              "      <td>0.992537</td>\n",
              "      <td>-0.387325</td>\n",
              "      <td>3.495691</td>\n",
              "      <td>0.000787</td>\n",
              "      <td>8.761205</td>\n",
              "      <td>6.121706</td>\n",
              "      <td>3753.220753</td>\n",
              "      <td>70.013911</td>\n",
              "      <td>0.434262</td>\n",
              "      <td>949.179329</td>\n",
              "      <td>0.977087</td>\n",
              "      <td>43.496564</td>\n",
              "      <td>0.092775</td>\n",
              "      <td>0.993063</td>\n",
              "      <td>-0.394026</td>\n",
              "      <td>3.457819</td>\n",
              "      <td>0.000808</td>\n",
              "      <td>8.724835</td>\n",
              "      <td>6.123813</td>\n",
              "      <td>3755.520550</td>\n",
              "      <td>70.019677</td>\n",
              "      <td>0.442741</td>\n",
              "      <td>949.293642</td>\n",
              "      <td>0.978061</td>\n",
              "      <td>41.654020</td>\n",
              "      <td>0.092727</td>\n",
              "      <td>0.991387</td>\n",
              "      <td>-0.374187</td>\n",
              "      <td>3.565872</td>\n",
              "      <td>0.000764</td>\n",
              "      <td>8.832584</td>\n",
              "      <td>6.123452</td>\n",
              "      <td>3747.558450</td>\n",
              "      <td>70.014061</td>\n",
              "      <td>...</td>\n",
              "      <td>0.994659</td>\n",
              "      <td>-0.453387</td>\n",
              "      <td>3.096423</td>\n",
              "      <td>0.001041</td>\n",
              "      <td>7.746667</td>\n",
              "      <td>5.589269</td>\n",
              "      <td>6880.565969</td>\n",
              "      <td>69.479784</td>\n",
              "      <td>0.536824</td>\n",
              "      <td>1729.238136</td>\n",
              "      <td>0.989479</td>\n",
              "      <td>36.386574</td>\n",
              "      <td>0.176731</td>\n",
              "      <td>0.994189</td>\n",
              "      <td>-0.444989</td>\n",
              "      <td>3.140099</td>\n",
              "      <td>0.001018</td>\n",
              "      <td>7.788665</td>\n",
              "      <td>5.587467</td>\n",
              "      <td>6876.457598</td>\n",
              "      <td>69.472768</td>\n",
              "      <td>0.527879</td>\n",
              "      <td>1728.676323</td>\n",
              "      <td>0.988937</td>\n",
              "      <td>38.247695</td>\n",
              "      <td>0.176755</td>\n",
              "      <td>0.995340</td>\n",
              "      <td>-0.466993</td>\n",
              "      <td>3.007836</td>\n",
              "      <td>0.001063</td>\n",
              "      <td>7.678311</td>\n",
              "      <td>5.588478</td>\n",
              "      <td>6888.160789</td>\n",
              "      <td>69.492803</td>\n",
              "      <td>0.543738</td>\n",
              "      <td>1729.360146</td>\n",
              "      <td>0.991535</td>\n",
              "      <td>29.279795</td>\n",
              "      <td>0.176898</td>\n",
              "      <td>0</td>\n",
              "    </tr>\n",
              "    <tr>\n",
              "      <th>4</th>\n",
              "      <td>optm1</td>\n",
              "      <td>1.2.826.0.1.3680043.9.3218.1.1.15315205.3583.1...</td>\n",
              "      <td>65</td>\n",
              "      <td>1.2.826.0.1.3680043.9.3218.1.1.15315205.3583.1...</td>\n",
              "      <td>CC</td>\n",
              "      <td>LC1</td>\n",
              "      <td>0.525843</td>\n",
              "      <td>7.001352</td>\n",
              "      <td>0.994143</td>\n",
              "      <td>597.735239</td>\n",
              "      <td>0.796829</td>\n",
              "      <td>25.326144</td>\n",
              "      <td>2383.939606</td>\n",
              "      <td>2.888570</td>\n",
              "      <td>3.765628</td>\n",
              "      <td>0.003221</td>\n",
              "      <td>1.616226</td>\n",
              "      <td>-0.557700</td>\n",
              "      <td>0.972441</td>\n",
              "      <td>0.526075</td>\n",
              "      <td>8.623873</td>\n",
              "      <td>0.992788</td>\n",
              "      <td>597.848247</td>\n",
              "      <td>0.789314</td>\n",
              "      <td>25.316250</td>\n",
              "      <td>2382.769114</td>\n",
              "      <td>2.886327</td>\n",
              "      <td>3.807634</td>\n",
              "      <td>0.003188</td>\n",
              "      <td>1.673199</td>\n",
              "      <td>-0.540782</td>\n",
              "      <td>0.969807</td>\n",
              "      <td>0.526078</td>\n",
              "      <td>10.609301</td>\n",
              "      <td>0.991133</td>\n",
              "      <td>598.213914</td>\n",
              "      <td>0.790275</td>\n",
              "      <td>25.320748</td>\n",
              "      <td>2382.246357</td>\n",
              "      <td>2.887123</td>\n",
              "      <td>...</td>\n",
              "      <td>0.330231</td>\n",
              "      <td>27.833329</td>\n",
              "      <td>0.979076</td>\n",
              "      <td>665.089596</td>\n",
              "      <td>0.654940</td>\n",
              "      <td>37.178337</td>\n",
              "      <td>2632.525056</td>\n",
              "      <td>4.044753</td>\n",
              "      <td>5.653991</td>\n",
              "      <td>0.001568</td>\n",
              "      <td>2.530141</td>\n",
              "      <td>-0.438600</td>\n",
              "      <td>0.978911</td>\n",
              "      <td>0.330643</td>\n",
              "      <td>18.074722</td>\n",
              "      <td>0.986413</td>\n",
              "      <td>665.132874</td>\n",
              "      <td>0.672223</td>\n",
              "      <td>37.181671</td>\n",
              "      <td>2642.456775</td>\n",
              "      <td>4.045396</td>\n",
              "      <td>5.530116</td>\n",
              "      <td>0.001622</td>\n",
              "      <td>2.373880</td>\n",
              "      <td>-0.472770</td>\n",
              "      <td>0.983571</td>\n",
              "      <td>0.330663</td>\n",
              "      <td>16.596673</td>\n",
              "      <td>0.987523</td>\n",
              "      <td>665.092720</td>\n",
              "      <td>0.668818</td>\n",
              "      <td>37.178428</td>\n",
              "      <td>2643.774206</td>\n",
              "      <td>4.044079</td>\n",
              "      <td>5.525354</td>\n",
              "      <td>0.001611</td>\n",
              "      <td>2.364907</td>\n",
              "      <td>-0.474126</td>\n",
              "      <td>0.983734</td>\n",
              "      <td>0</td>\n",
              "    </tr>\n",
              "  </tbody>\n",
              "</table>\n",
              "<p>5 rows × 111 columns</p>\n",
              "</div>\n",
              "      <button class=\"colab-df-convert\" onclick=\"convertToInteractive('df-7aafcf6f-057c-4d9f-8df5-e1f015980987')\"\n",
              "              title=\"Convert this dataframe to an interactive table.\"\n",
              "              style=\"display:none;\">\n",
              "        \n",
              "  <svg xmlns=\"http://www.w3.org/2000/svg\" height=\"24px\"viewBox=\"0 0 24 24\"\n",
              "       width=\"24px\">\n",
              "    <path d=\"M0 0h24v24H0V0z\" fill=\"none\"/>\n",
              "    <path d=\"M18.56 5.44l.94 2.06.94-2.06 2.06-.94-2.06-.94-.94-2.06-.94 2.06-2.06.94zm-11 1L8.5 8.5l.94-2.06 2.06-.94-2.06-.94L8.5 2.5l-.94 2.06-2.06.94zm10 10l.94 2.06.94-2.06 2.06-.94-2.06-.94-.94-2.06-.94 2.06-2.06.94z\"/><path d=\"M17.41 7.96l-1.37-1.37c-.4-.4-.92-.59-1.43-.59-.52 0-1.04.2-1.43.59L10.3 9.45l-7.72 7.72c-.78.78-.78 2.05 0 2.83L4 21.41c.39.39.9.59 1.41.59.51 0 1.02-.2 1.41-.59l7.78-7.78 2.81-2.81c.8-.78.8-2.07 0-2.86zM5.41 20L4 18.59l7.72-7.72 1.47 1.35L5.41 20z\"/>\n",
              "  </svg>\n",
              "      </button>\n",
              "      \n",
              "  <style>\n",
              "    .colab-df-container {\n",
              "      display:flex;\n",
              "      flex-wrap:wrap;\n",
              "      gap: 12px;\n",
              "    }\n",
              "\n",
              "    .colab-df-convert {\n",
              "      background-color: #E8F0FE;\n",
              "      border: none;\n",
              "      border-radius: 50%;\n",
              "      cursor: pointer;\n",
              "      display: none;\n",
              "      fill: #1967D2;\n",
              "      height: 32px;\n",
              "      padding: 0 0 0 0;\n",
              "      width: 32px;\n",
              "    }\n",
              "\n",
              "    .colab-df-convert:hover {\n",
              "      background-color: #E2EBFA;\n",
              "      box-shadow: 0px 1px 2px rgba(60, 64, 67, 0.3), 0px 1px 3px 1px rgba(60, 64, 67, 0.15);\n",
              "      fill: #174EA6;\n",
              "    }\n",
              "\n",
              "    [theme=dark] .colab-df-convert {\n",
              "      background-color: #3B4455;\n",
              "      fill: #D2E3FC;\n",
              "    }\n",
              "\n",
              "    [theme=dark] .colab-df-convert:hover {\n",
              "      background-color: #434B5C;\n",
              "      box-shadow: 0px 1px 3px 1px rgba(0, 0, 0, 0.15);\n",
              "      filter: drop-shadow(0px 1px 2px rgba(0, 0, 0, 0.3));\n",
              "      fill: #FFFFFF;\n",
              "    }\n",
              "  </style>\n",
              "\n",
              "      <script>\n",
              "        const buttonEl =\n",
              "          document.querySelector('#df-7aafcf6f-057c-4d9f-8df5-e1f015980987 button.colab-df-convert');\n",
              "        buttonEl.style.display =\n",
              "          google.colab.kernel.accessAllowed ? 'block' : 'none';\n",
              "\n",
              "        async function convertToInteractive(key) {\n",
              "          const element = document.querySelector('#df-7aafcf6f-057c-4d9f-8df5-e1f015980987');\n",
              "          const dataTable =\n",
              "            await google.colab.kernel.invokeFunction('convertToInteractive',\n",
              "                                                     [key], {});\n",
              "          if (!dataTable) return;\n",
              "\n",
              "          const docLinkHtml = 'Like what you see? Visit the ' +\n",
              "            '<a target=\"_blank\" href=https://colab.research.google.com/notebooks/data_table.ipynb>data table notebook</a>'\n",
              "            + ' to learn more about interactive tables.';\n",
              "          element.innerHTML = '';\n",
              "          dataTable['output_type'] = 'display_data';\n",
              "          await google.colab.output.renderOutput(dataTable, element);\n",
              "          const docLink = document.createElement('div');\n",
              "          docLink.innerHTML = docLinkHtml;\n",
              "          element.appendChild(docLink);\n",
              "        }\n",
              "      </script>\n",
              "    </div>\n",
              "  </div>\n",
              "  "
            ],
            "text/plain": [
              "  PatientID                                            StudyID  ...      x103 Label\n",
              "0     optm1  1.2.826.0.1.3680043.9.3218.1.1.15315205.3583.1...  ...  0.994207     0\n",
              "1     optm1  1.2.826.0.1.3680043.9.3218.1.1.15315205.3583.1...  ...  0.019791     0\n",
              "2     optm1  1.2.826.0.1.3680043.9.3218.1.1.15315205.3583.1...  ...  0.992537     0\n",
              "3     optm1  1.2.826.0.1.3680043.9.3218.1.1.15315205.3583.1...  ...  0.176898     0\n",
              "4     optm1  1.2.826.0.1.3680043.9.3218.1.1.15315205.3583.1...  ...  0.983734     0\n",
              "\n",
              "[5 rows x 111 columns]"
            ]
          },
          "metadata": {},
          "execution_count": 6
        }
      ]
    },
    {
      "cell_type": "markdown",
      "source": [
        "**Smaller dataset**"
      ],
      "metadata": {
        "id": "6v62BR8_RE3b"
      }
    },
    {
      "cell_type": "code",
      "source": [
        "# loading in the sample dataset into a pandas dataframe from GitHub\n",
        "some_data = pd.read_csv('https://media.githubusercontent.com/media/relhwigi/GE_GRAPE_Mammogram_Classification/main/data/haralick02_250K.csv')\n",
        "\n",
        "# checking the data\n",
        "some_data.tail()"
      ],
      "metadata": {
        "colab": {
          "base_uri": "https://localhost:8080/",
          "height": 297
        },
        "id": "sUCGcHCrxa4C",
        "outputId": "ca99d935-c280-4e13-e666-58848536708d"
      },
      "execution_count": 7,
      "outputs": [
        {
          "output_type": "execute_result",
          "data": {
            "text/html": [
              "\n",
              "  <div id=\"df-efe3449a-8a15-4607-942e-314082b5c7d6\">\n",
              "    <div class=\"colab-df-container\">\n",
              "      <div>\n",
              "<style scoped>\n",
              "    .dataframe tbody tr th:only-of-type {\n",
              "        vertical-align: middle;\n",
              "    }\n",
              "\n",
              "    .dataframe tbody tr th {\n",
              "        vertical-align: top;\n",
              "    }\n",
              "\n",
              "    .dataframe thead th {\n",
              "        text-align: right;\n",
              "    }\n",
              "</style>\n",
              "<table border=\"1\" class=\"dataframe\">\n",
              "  <thead>\n",
              "    <tr style=\"text-align: right;\">\n",
              "      <th></th>\n",
              "      <th>PatientID</th>\n",
              "      <th>StudyID</th>\n",
              "      <th>PatientAge</th>\n",
              "      <th>ImgID</th>\n",
              "      <th>View</th>\n",
              "      <th>SegmentPosition</th>\n",
              "      <th>x0</th>\n",
              "      <th>x1</th>\n",
              "      <th>x2</th>\n",
              "      <th>x3</th>\n",
              "      <th>x4</th>\n",
              "      <th>x5</th>\n",
              "      <th>x6</th>\n",
              "      <th>x7</th>\n",
              "      <th>x8</th>\n",
              "      <th>x9</th>\n",
              "      <th>x10</th>\n",
              "      <th>x11</th>\n",
              "      <th>x12</th>\n",
              "      <th>x13</th>\n",
              "      <th>x14</th>\n",
              "      <th>x15</th>\n",
              "      <th>x16</th>\n",
              "      <th>x17</th>\n",
              "      <th>x18</th>\n",
              "      <th>x19</th>\n",
              "      <th>x20</th>\n",
              "      <th>x21</th>\n",
              "      <th>x22</th>\n",
              "      <th>x23</th>\n",
              "      <th>x24</th>\n",
              "      <th>x25</th>\n",
              "      <th>x26</th>\n",
              "      <th>x27</th>\n",
              "      <th>x28</th>\n",
              "      <th>x29</th>\n",
              "      <th>x30</th>\n",
              "      <th>x31</th>\n",
              "      <th>x32</th>\n",
              "      <th>x33</th>\n",
              "      <th>...</th>\n",
              "      <th>x65</th>\n",
              "      <th>x66</th>\n",
              "      <th>x67</th>\n",
              "      <th>x68</th>\n",
              "      <th>x69</th>\n",
              "      <th>x70</th>\n",
              "      <th>x71</th>\n",
              "      <th>x72</th>\n",
              "      <th>x73</th>\n",
              "      <th>x74</th>\n",
              "      <th>x75</th>\n",
              "      <th>x76</th>\n",
              "      <th>x77</th>\n",
              "      <th>x78</th>\n",
              "      <th>x79</th>\n",
              "      <th>x80</th>\n",
              "      <th>x81</th>\n",
              "      <th>x82</th>\n",
              "      <th>x83</th>\n",
              "      <th>x84</th>\n",
              "      <th>x85</th>\n",
              "      <th>x86</th>\n",
              "      <th>x87</th>\n",
              "      <th>x88</th>\n",
              "      <th>x89</th>\n",
              "      <th>x90</th>\n",
              "      <th>x91</th>\n",
              "      <th>x92</th>\n",
              "      <th>x93</th>\n",
              "      <th>x94</th>\n",
              "      <th>x95</th>\n",
              "      <th>x96</th>\n",
              "      <th>x97</th>\n",
              "      <th>x98</th>\n",
              "      <th>x99</th>\n",
              "      <th>x100</th>\n",
              "      <th>x101</th>\n",
              "      <th>x102</th>\n",
              "      <th>x103</th>\n",
              "      <th>Label</th>\n",
              "    </tr>\n",
              "  </thead>\n",
              "  <tbody>\n",
              "    <tr>\n",
              "      <th>24994</th>\n",
              "      <td>optm1344</td>\n",
              "      <td>1.2.826.0.1.3680043.9.3218.1.1.1404259.6176.15...</td>\n",
              "      <td>66</td>\n",
              "      <td>1.2.826.0.1.3680043.9.3218.1.1.1404259.6176.15...</td>\n",
              "      <td>MLO</td>\n",
              "      <td>LC4</td>\n",
              "      <td>0.580839</td>\n",
              "      <td>3.045049</td>\n",
              "      <td>0.997699</td>\n",
              "      <td>661.727190</td>\n",
              "      <td>0.836922</td>\n",
              "      <td>26.268896</td>\n",
              "      <td>2643.863713</td>\n",
              "      <td>2.494799</td>\n",
              "      <td>3.163219</td>\n",
              "      <td>0.003258</td>\n",
              "      <td>1.314591</td>\n",
              "      <td>-0.599526</td>\n",
              "      <td>0.966099</td>\n",
              "      <td>0.580497</td>\n",
              "      <td>7.801042</td>\n",
              "      <td>0.994106</td>\n",
              "      <td>661.792593</td>\n",
              "      <td>0.815975</td>\n",
              "      <td>26.252181</td>\n",
              "      <td>2639.369329</td>\n",
              "      <td>2.496087</td>\n",
              "      <td>3.296281</td>\n",
              "      <td>0.003155</td>\n",
              "      <td>1.509786</td>\n",
              "      <td>-0.539391</td>\n",
              "      <td>0.955178</td>\n",
              "      <td>0.580715</td>\n",
              "      <td>5.653316</td>\n",
              "      <td>0.995729</td>\n",
              "      <td>661.779929</td>\n",
              "      <td>0.824111</td>\n",
              "      <td>26.248573</td>\n",
              "      <td>2641.466402</td>\n",
              "      <td>2.496146</td>\n",
              "      <td>...</td>\n",
              "      <td>0.740933</td>\n",
              "      <td>4.768997</td>\n",
              "      <td>0.996091</td>\n",
              "      <td>609.972040</td>\n",
              "      <td>0.893421</td>\n",
              "      <td>17.894553</td>\n",
              "      <td>2435.119162</td>\n",
              "      <td>1.634581</td>\n",
              "      <td>2.096980</td>\n",
              "      <td>0.004058</td>\n",
              "      <td>0.990489</td>\n",
              "      <td>-0.595274</td>\n",
              "      <td>0.911536</td>\n",
              "      <td>0.740852</td>\n",
              "      <td>5.103426</td>\n",
              "      <td>0.995816</td>\n",
              "      <td>609.850151</td>\n",
              "      <td>0.896355</td>\n",
              "      <td>17.890689</td>\n",
              "      <td>2434.297178</td>\n",
              "      <td>1.635636</td>\n",
              "      <td>2.084555</td>\n",
              "      <td>0.004073</td>\n",
              "      <td>0.977859</td>\n",
              "      <td>-0.603467</td>\n",
              "      <td>0.913760</td>\n",
              "      <td>0.740632</td>\n",
              "      <td>7.332761</td>\n",
              "      <td>0.993989</td>\n",
              "      <td>609.970714</td>\n",
              "      <td>0.890533</td>\n",
              "      <td>17.894517</td>\n",
              "      <td>2432.550097</td>\n",
              "      <td>1.636074</td>\n",
              "      <td>2.120537</td>\n",
              "      <td>0.004044</td>\n",
              "      <td>1.030084</td>\n",
              "      <td>-0.579495</td>\n",
              "      <td>0.907051</td>\n",
              "      <td>0</td>\n",
              "    </tr>\n",
              "    <tr>\n",
              "      <th>24995</th>\n",
              "      <td>optm1344</td>\n",
              "      <td>1.2.826.0.1.3680043.9.3218.1.1.1404259.6176.15...</td>\n",
              "      <td>66</td>\n",
              "      <td>1.2.826.0.1.3680043.9.3218.1.1.1404259.6176.15...</td>\n",
              "      <td>MLO</td>\n",
              "      <td>RC4</td>\n",
              "      <td>0.907051</td>\n",
              "      <td>-0.579495</td>\n",
              "      <td>1.030084</td>\n",
              "      <td>0.004044</td>\n",
              "      <td>2.120537</td>\n",
              "      <td>1.636074</td>\n",
              "      <td>2432.550097</td>\n",
              "      <td>17.894517</td>\n",
              "      <td>0.890533</td>\n",
              "      <td>609.970714</td>\n",
              "      <td>0.993989</td>\n",
              "      <td>7.332761</td>\n",
              "      <td>0.740632</td>\n",
              "      <td>0.913760</td>\n",
              "      <td>-0.603467</td>\n",
              "      <td>0.977859</td>\n",
              "      <td>0.004073</td>\n",
              "      <td>2.084555</td>\n",
              "      <td>1.635636</td>\n",
              "      <td>2434.297178</td>\n",
              "      <td>17.890689</td>\n",
              "      <td>0.896355</td>\n",
              "      <td>609.850151</td>\n",
              "      <td>0.995816</td>\n",
              "      <td>5.103426</td>\n",
              "      <td>0.740852</td>\n",
              "      <td>0.911536</td>\n",
              "      <td>-0.595274</td>\n",
              "      <td>0.990489</td>\n",
              "      <td>0.004058</td>\n",
              "      <td>2.096980</td>\n",
              "      <td>1.634581</td>\n",
              "      <td>2435.119162</td>\n",
              "      <td>17.894553</td>\n",
              "      <td>...</td>\n",
              "      <td>0.959646</td>\n",
              "      <td>-0.562159</td>\n",
              "      <td>1.439089</td>\n",
              "      <td>0.003190</td>\n",
              "      <td>3.244839</td>\n",
              "      <td>2.496146</td>\n",
              "      <td>2641.466402</td>\n",
              "      <td>26.248573</td>\n",
              "      <td>0.824111</td>\n",
              "      <td>661.779929</td>\n",
              "      <td>0.995729</td>\n",
              "      <td>5.653316</td>\n",
              "      <td>0.580715</td>\n",
              "      <td>0.955178</td>\n",
              "      <td>-0.539391</td>\n",
              "      <td>1.509786</td>\n",
              "      <td>0.003155</td>\n",
              "      <td>3.296281</td>\n",
              "      <td>2.496087</td>\n",
              "      <td>2639.369329</td>\n",
              "      <td>26.252181</td>\n",
              "      <td>0.815975</td>\n",
              "      <td>661.792593</td>\n",
              "      <td>0.994106</td>\n",
              "      <td>7.801042</td>\n",
              "      <td>0.580497</td>\n",
              "      <td>0.966099</td>\n",
              "      <td>-0.599526</td>\n",
              "      <td>1.314591</td>\n",
              "      <td>0.003258</td>\n",
              "      <td>3.163219</td>\n",
              "      <td>2.494799</td>\n",
              "      <td>2643.863713</td>\n",
              "      <td>26.268896</td>\n",
              "      <td>0.836922</td>\n",
              "      <td>661.727190</td>\n",
              "      <td>0.997699</td>\n",
              "      <td>3.045049</td>\n",
              "      <td>0.580839</td>\n",
              "      <td>0</td>\n",
              "    </tr>\n",
              "    <tr>\n",
              "      <th>24996</th>\n",
              "      <td>optm1344</td>\n",
              "      <td>1.2.826.0.1.3680043.9.3218.1.1.1404259.6176.15...</td>\n",
              "      <td>66</td>\n",
              "      <td>1.2.826.0.1.3680043.9.3218.1.1.1404259.6176.15...</td>\n",
              "      <td>MLO</td>\n",
              "      <td>LD4</td>\n",
              "      <td>0.826577</td>\n",
              "      <td>0.954606</td>\n",
              "      <td>0.998275</td>\n",
              "      <td>276.728460</td>\n",
              "      <td>0.940576</td>\n",
              "      <td>9.732558</td>\n",
              "      <td>1105.959234</td>\n",
              "      <td>1.102387</td>\n",
              "      <td>1.339445</td>\n",
              "      <td>0.007334</td>\n",
              "      <td>0.598755</td>\n",
              "      <td>-0.672619</td>\n",
              "      <td>0.861793</td>\n",
              "      <td>0.826406</td>\n",
              "      <td>3.155421</td>\n",
              "      <td>0.994277</td>\n",
              "      <td>275.694855</td>\n",
              "      <td>0.929461</td>\n",
              "      <td>9.693805</td>\n",
              "      <td>1099.623999</td>\n",
              "      <td>1.102562</td>\n",
              "      <td>1.406288</td>\n",
              "      <td>0.007233</td>\n",
              "      <td>0.706477</td>\n",
              "      <td>-0.601921</td>\n",
              "      <td>0.837899</td>\n",
              "      <td>0.826833</td>\n",
              "      <td>1.641757</td>\n",
              "      <td>0.997022</td>\n",
              "      <td>275.683547</td>\n",
              "      <td>0.935430</td>\n",
              "      <td>9.694291</td>\n",
              "      <td>1101.092433</td>\n",
              "      <td>1.100626</td>\n",
              "      <td>...</td>\n",
              "      <td>0.954617</td>\n",
              "      <td>0.496889</td>\n",
              "      <td>0.997059</td>\n",
              "      <td>84.471798</td>\n",
              "      <td>0.983721</td>\n",
              "      <td>2.450195</td>\n",
              "      <td>337.390304</td>\n",
              "      <td>0.332656</td>\n",
              "      <td>0.396962</td>\n",
              "      <td>0.005391</td>\n",
              "      <td>0.206537</td>\n",
              "      <td>-0.708741</td>\n",
              "      <td>0.594332</td>\n",
              "      <td>0.954392</td>\n",
              "      <td>0.957006</td>\n",
              "      <td>0.994345</td>\n",
              "      <td>84.616243</td>\n",
              "      <td>0.982837</td>\n",
              "      <td>2.456086</td>\n",
              "      <td>337.507966</td>\n",
              "      <td>0.334070</td>\n",
              "      <td>0.402915</td>\n",
              "      <td>0.005385</td>\n",
              "      <td>0.219292</td>\n",
              "      <td>-0.691725</td>\n",
              "      <td>0.589005</td>\n",
              "      <td>0.954291</td>\n",
              "      <td>1.905002</td>\n",
              "      <td>0.988724</td>\n",
              "      <td>84.475163</td>\n",
              "      <td>0.981381</td>\n",
              "      <td>2.450326</td>\n",
              "      <td>335.995648</td>\n",
              "      <td>0.334633</td>\n",
              "      <td>0.412324</td>\n",
              "      <td>0.005377</td>\n",
              "      <td>0.236487</td>\n",
              "      <td>-0.658832</td>\n",
              "      <td>0.577138</td>\n",
              "      <td>0</td>\n",
              "    </tr>\n",
              "    <tr>\n",
              "      <th>24997</th>\n",
              "      <td>optm1344</td>\n",
              "      <td>1.2.826.0.1.3680043.9.3218.1.1.1404259.6176.15...</td>\n",
              "      <td>66</td>\n",
              "      <td>1.2.826.0.1.3680043.9.3218.1.1.1404259.6176.15...</td>\n",
              "      <td>MLO</td>\n",
              "      <td>RD4</td>\n",
              "      <td>0.577138</td>\n",
              "      <td>-0.658832</td>\n",
              "      <td>0.236487</td>\n",
              "      <td>0.005377</td>\n",
              "      <td>0.412324</td>\n",
              "      <td>0.334633</td>\n",
              "      <td>335.995648</td>\n",
              "      <td>2.450326</td>\n",
              "      <td>0.981381</td>\n",
              "      <td>84.475163</td>\n",
              "      <td>0.988724</td>\n",
              "      <td>1.905002</td>\n",
              "      <td>0.954291</td>\n",
              "      <td>0.589005</td>\n",
              "      <td>-0.691725</td>\n",
              "      <td>0.219292</td>\n",
              "      <td>0.005385</td>\n",
              "      <td>0.402915</td>\n",
              "      <td>0.334070</td>\n",
              "      <td>337.507966</td>\n",
              "      <td>2.456086</td>\n",
              "      <td>0.982837</td>\n",
              "      <td>84.616243</td>\n",
              "      <td>0.994345</td>\n",
              "      <td>0.957006</td>\n",
              "      <td>0.954392</td>\n",
              "      <td>0.594332</td>\n",
              "      <td>-0.708741</td>\n",
              "      <td>0.206537</td>\n",
              "      <td>0.005391</td>\n",
              "      <td>0.396962</td>\n",
              "      <td>0.332656</td>\n",
              "      <td>337.390304</td>\n",
              "      <td>2.450195</td>\n",
              "      <td>...</td>\n",
              "      <td>0.851051</td>\n",
              "      <td>-0.640413</td>\n",
              "      <td>0.648221</td>\n",
              "      <td>0.007284</td>\n",
              "      <td>1.367621</td>\n",
              "      <td>1.100626</td>\n",
              "      <td>1101.092433</td>\n",
              "      <td>9.694291</td>\n",
              "      <td>0.935430</td>\n",
              "      <td>275.683547</td>\n",
              "      <td>0.997022</td>\n",
              "      <td>1.641757</td>\n",
              "      <td>0.826833</td>\n",
              "      <td>0.837899</td>\n",
              "      <td>-0.601921</td>\n",
              "      <td>0.706477</td>\n",
              "      <td>0.007233</td>\n",
              "      <td>1.406288</td>\n",
              "      <td>1.102562</td>\n",
              "      <td>1099.623999</td>\n",
              "      <td>9.693805</td>\n",
              "      <td>0.929461</td>\n",
              "      <td>275.694855</td>\n",
              "      <td>0.994277</td>\n",
              "      <td>3.155421</td>\n",
              "      <td>0.826406</td>\n",
              "      <td>0.861793</td>\n",
              "      <td>-0.672619</td>\n",
              "      <td>0.598755</td>\n",
              "      <td>0.007334</td>\n",
              "      <td>1.339445</td>\n",
              "      <td>1.102387</td>\n",
              "      <td>1105.959234</td>\n",
              "      <td>9.732558</td>\n",
              "      <td>0.940576</td>\n",
              "      <td>276.728460</td>\n",
              "      <td>0.998275</td>\n",
              "      <td>0.954606</td>\n",
              "      <td>0.826577</td>\n",
              "      <td>0</td>\n",
              "    </tr>\n",
              "    <tr>\n",
              "      <th>24998</th>\n",
              "      <td>optm1344</td>\n",
              "      <td>1.2.826.0.1.3680043.9.3218.1.1.1404259.6176.15...</td>\n",
              "      <td>66</td>\n",
              "      <td>1.2.826.0.1.3680043.9.3218.1.1.1404259.6176.15...</td>\n",
              "      <td>MLO</td>\n",
              "      <td>LE4</td>\n",
              "      <td>1.000000</td>\n",
              "      <td>0.000000</td>\n",
              "      <td>1.000000</td>\n",
              "      <td>0.000000</td>\n",
              "      <td>1.000000</td>\n",
              "      <td>0.000000</td>\n",
              "      <td>0.000000</td>\n",
              "      <td>-0.000000</td>\n",
              "      <td>-0.000000</td>\n",
              "      <td>0.000000</td>\n",
              "      <td>-0.000000</td>\n",
              "      <td>0.000000</td>\n",
              "      <td>0.000000</td>\n",
              "      <td>1.000000</td>\n",
              "      <td>0.000000</td>\n",
              "      <td>1.000000</td>\n",
              "      <td>0.000000</td>\n",
              "      <td>1.000000</td>\n",
              "      <td>0.000000</td>\n",
              "      <td>0.000000</td>\n",
              "      <td>-0.000000</td>\n",
              "      <td>-0.000000</td>\n",
              "      <td>0.000000</td>\n",
              "      <td>-0.000000</td>\n",
              "      <td>0.000000</td>\n",
              "      <td>0.000000</td>\n",
              "      <td>1.000000</td>\n",
              "      <td>0.000000</td>\n",
              "      <td>1.000000</td>\n",
              "      <td>0.000000</td>\n",
              "      <td>1.000000</td>\n",
              "      <td>0.000000</td>\n",
              "      <td>0.000000</td>\n",
              "      <td>-0.000000</td>\n",
              "      <td>...</td>\n",
              "      <td>1.000000</td>\n",
              "      <td>0.000000</td>\n",
              "      <td>1.000000</td>\n",
              "      <td>0.000000</td>\n",
              "      <td>1.000000</td>\n",
              "      <td>0.000000</td>\n",
              "      <td>0.000000</td>\n",
              "      <td>-0.000000</td>\n",
              "      <td>-0.000000</td>\n",
              "      <td>0.000000</td>\n",
              "      <td>-0.000000</td>\n",
              "      <td>0.000000</td>\n",
              "      <td>0.000000</td>\n",
              "      <td>1.000000</td>\n",
              "      <td>0.000000</td>\n",
              "      <td>1.000000</td>\n",
              "      <td>0.000000</td>\n",
              "      <td>1.000000</td>\n",
              "      <td>0.000000</td>\n",
              "      <td>0.000000</td>\n",
              "      <td>-0.000000</td>\n",
              "      <td>-0.000000</td>\n",
              "      <td>0.000000</td>\n",
              "      <td>-0.000000</td>\n",
              "      <td>0.000000</td>\n",
              "      <td>0.000000</td>\n",
              "      <td>1.000000</td>\n",
              "      <td>0.000000</td>\n",
              "      <td>1.000000</td>\n",
              "      <td>0.000000</td>\n",
              "      <td>1.000000</td>\n",
              "      <td>0.000000</td>\n",
              "      <td>0.000000</td>\n",
              "      <td>-0.000000</td>\n",
              "      <td>-0.000000</td>\n",
              "      <td>0.000000</td>\n",
              "      <td>-0.000000</td>\n",
              "      <td>0.000000</td>\n",
              "      <td>0.000000</td>\n",
              "      <td>0</td>\n",
              "    </tr>\n",
              "  </tbody>\n",
              "</table>\n",
              "<p>5 rows × 111 columns</p>\n",
              "</div>\n",
              "      <button class=\"colab-df-convert\" onclick=\"convertToInteractive('df-efe3449a-8a15-4607-942e-314082b5c7d6')\"\n",
              "              title=\"Convert this dataframe to an interactive table.\"\n",
              "              style=\"display:none;\">\n",
              "        \n",
              "  <svg xmlns=\"http://www.w3.org/2000/svg\" height=\"24px\"viewBox=\"0 0 24 24\"\n",
              "       width=\"24px\">\n",
              "    <path d=\"M0 0h24v24H0V0z\" fill=\"none\"/>\n",
              "    <path d=\"M18.56 5.44l.94 2.06.94-2.06 2.06-.94-2.06-.94-.94-2.06-.94 2.06-2.06.94zm-11 1L8.5 8.5l.94-2.06 2.06-.94-2.06-.94L8.5 2.5l-.94 2.06-2.06.94zm10 10l.94 2.06.94-2.06 2.06-.94-2.06-.94-.94-2.06-.94 2.06-2.06.94z\"/><path d=\"M17.41 7.96l-1.37-1.37c-.4-.4-.92-.59-1.43-.59-.52 0-1.04.2-1.43.59L10.3 9.45l-7.72 7.72c-.78.78-.78 2.05 0 2.83L4 21.41c.39.39.9.59 1.41.59.51 0 1.02-.2 1.41-.59l7.78-7.78 2.81-2.81c.8-.78.8-2.07 0-2.86zM5.41 20L4 18.59l7.72-7.72 1.47 1.35L5.41 20z\"/>\n",
              "  </svg>\n",
              "      </button>\n",
              "      \n",
              "  <style>\n",
              "    .colab-df-container {\n",
              "      display:flex;\n",
              "      flex-wrap:wrap;\n",
              "      gap: 12px;\n",
              "    }\n",
              "\n",
              "    .colab-df-convert {\n",
              "      background-color: #E8F0FE;\n",
              "      border: none;\n",
              "      border-radius: 50%;\n",
              "      cursor: pointer;\n",
              "      display: none;\n",
              "      fill: #1967D2;\n",
              "      height: 32px;\n",
              "      padding: 0 0 0 0;\n",
              "      width: 32px;\n",
              "    }\n",
              "\n",
              "    .colab-df-convert:hover {\n",
              "      background-color: #E2EBFA;\n",
              "      box-shadow: 0px 1px 2px rgba(60, 64, 67, 0.3), 0px 1px 3px 1px rgba(60, 64, 67, 0.15);\n",
              "      fill: #174EA6;\n",
              "    }\n",
              "\n",
              "    [theme=dark] .colab-df-convert {\n",
              "      background-color: #3B4455;\n",
              "      fill: #D2E3FC;\n",
              "    }\n",
              "\n",
              "    [theme=dark] .colab-df-convert:hover {\n",
              "      background-color: #434B5C;\n",
              "      box-shadow: 0px 1px 3px 1px rgba(0, 0, 0, 0.15);\n",
              "      filter: drop-shadow(0px 1px 2px rgba(0, 0, 0, 0.3));\n",
              "      fill: #FFFFFF;\n",
              "    }\n",
              "  </style>\n",
              "\n",
              "      <script>\n",
              "        const buttonEl =\n",
              "          document.querySelector('#df-efe3449a-8a15-4607-942e-314082b5c7d6 button.colab-df-convert');\n",
              "        buttonEl.style.display =\n",
              "          google.colab.kernel.accessAllowed ? 'block' : 'none';\n",
              "\n",
              "        async function convertToInteractive(key) {\n",
              "          const element = document.querySelector('#df-efe3449a-8a15-4607-942e-314082b5c7d6');\n",
              "          const dataTable =\n",
              "            await google.colab.kernel.invokeFunction('convertToInteractive',\n",
              "                                                     [key], {});\n",
              "          if (!dataTable) return;\n",
              "\n",
              "          const docLinkHtml = 'Like what you see? Visit the ' +\n",
              "            '<a target=\"_blank\" href=https://colab.research.google.com/notebooks/data_table.ipynb>data table notebook</a>'\n",
              "            + ' to learn more about interactive tables.';\n",
              "          element.innerHTML = '';\n",
              "          dataTable['output_type'] = 'display_data';\n",
              "          await google.colab.output.renderOutput(dataTable, element);\n",
              "          const docLink = document.createElement('div');\n",
              "          docLink.innerHTML = docLinkHtml;\n",
              "          element.appendChild(docLink);\n",
              "        }\n",
              "      </script>\n",
              "    </div>\n",
              "  </div>\n",
              "  "
            ],
            "text/plain": [
              "      PatientID  ... Label\n",
              "24994  optm1344  ...     0\n",
              "24995  optm1344  ...     0\n",
              "24996  optm1344  ...     0\n",
              "24997  optm1344  ...     0\n",
              "24998  optm1344  ...     0\n",
              "\n",
              "[5 rows x 111 columns]"
            ]
          },
          "metadata": {},
          "execution_count": 7
        }
      ]
    },
    {
      "cell_type": "markdown",
      "source": [
        "**Extracting information on the data**"
      ],
      "metadata": {
        "id": "PDx6mC6DQ4bF"
      }
    },
    {
      "cell_type": "markdown",
      "source": [
        "*Size of full dataset*"
      ],
      "metadata": {
        "id": "J6QoHpI6RUpF"
      }
    },
    {
      "cell_type": "code",
      "source": [
        "# number of rows in full dataset\n",
        "full_number_of_samples = full_data['PatientID'].count()\n",
        "full_number_of_samples"
      ],
      "metadata": {
        "colab": {
          "base_uri": "https://localhost:8080/"
        },
        "id": "K8gIuWHtlw_c",
        "outputId": "6641a6db-f901-4c68-a857-69d59b58202b"
      },
      "execution_count": 8,
      "outputs": [
        {
          "output_type": "execute_result",
          "data": {
            "text/plain": [
              "405280"
            ]
          },
          "metadata": {},
          "execution_count": 8
        }
      ]
    },
    {
      "cell_type": "markdown",
      "source": [
        "*Size of sample dataset*"
      ],
      "metadata": {
        "id": "D5-5yJ5uRXbA"
      }
    },
    {
      "cell_type": "code",
      "source": [
        "# number of rows in some dataset\n",
        "some_number_of_samples = some_data['PatientID'].count()\n",
        "some_number_of_samples"
      ],
      "metadata": {
        "id": "6zj_iS9mmoNi",
        "colab": {
          "base_uri": "https://localhost:8080/"
        },
        "outputId": "fdc11741-6083-4f4a-b0fd-c1db3a70d28d"
      },
      "execution_count": 9,
      "outputs": [
        {
          "output_type": "execute_result",
          "data": {
            "text/plain": [
              "24999"
            ]
          },
          "metadata": {},
          "execution_count": 9
        }
      ]
    },
    {
      "cell_type": "markdown",
      "source": [
        "*Visualisation of size difference*"
      ],
      "metadata": {
        "id": "P1VjlToY399X"
      }
    },
    {
      "cell_type": "code",
      "source": [
        "fig = plt.figure()\n",
        "ax = fig.add_axes([0,0,1,1])\n",
        "sets = ['Large dataset', 'Smaller dataset']\n",
        "samples = [full_number_of_samples, some_number_of_samples]\n",
        "ax.bar(sets,samples, color=\"#6aa84f\")\n",
        "plt.show()"
      ],
      "metadata": {
        "colab": {
          "base_uri": "https://localhost:8080/",
          "height": 336
        },
        "id": "EcyY8zSL4EFi",
        "outputId": "41807d22-d5da-41d7-fffd-b5b51b6c91ef"
      },
      "execution_count": 10,
      "outputs": [
        {
          "output_type": "display_data",
          "data": {
            "image/png": "[encoded data removed]",
            "text/plain": [
              "<Figure size 432x288 with 1 Axes>"
            ]
          },
          "metadata": {
            "needs_background": "light"
          }
        }
      ]
    },
    {
      "cell_type": "markdown",
      "source": [
        "*Full dataset label distribution*"
      ],
      "metadata": {
        "id": "IzEcw2kIRgXu"
      }
    },
    {
      "cell_type": "code",
      "source": [
        "# number of positive and negative cases in full dataset\n",
        "full_label_distribution = full_data['Label'].value_counts()\n",
        "full_label_distribution"
      ],
      "metadata": {
        "colab": {
          "base_uri": "https://localhost:8080/"
        },
        "id": "Uk0D_MKqmyQe",
        "outputId": "efd4c19f-298b-4b7d-d57a-372336112b67"
      },
      "execution_count": 11,
      "outputs": [
        {
          "output_type": "execute_result",
          "data": {
            "text/plain": [
              "0    393021\n",
              "1     12259\n",
              "Name: Label, dtype: int64"
            ]
          },
          "metadata": {},
          "execution_count": 11
        }
      ]
    },
    {
      "cell_type": "markdown",
      "source": [
        "\n",
        "*Visualisation of label distribution*"
      ],
      "metadata": {
        "id": "3-uHRgGR575J"
      }
    },
    {
      "cell_type": "code",
      "source": [
        "fig = plt.figure()\n",
        "ax = fig.add_axes([0,0,1,1])\n",
        "label = ['Negative case (0)', 'Positive case (1)']\n",
        "ax.bar(label , full_label_distribution, color=\"#6aa84f\")\n",
        "plt.show()"
      ],
      "metadata": {
        "colab": {
          "base_uri": "https://localhost:8080/",
          "height": 336
        },
        "id": "cpVqltjo58W5",
        "outputId": "4f3b8095-8f37-4545-dd64-656429ead343"
      },
      "execution_count": 12,
      "outputs": [
        {
          "output_type": "display_data",
          "data": {
            "image/png": "[encoded data removed]",
            "text/plain": [
              "<Figure size 432x288 with 1 Axes>"
            ]
          },
          "metadata": {
            "needs_background": "light"
          }
        }
      ]
    },
    {
      "cell_type": "markdown",
      "source": [
        "*Some dataset label distribution*"
      ],
      "metadata": {
        "id": "_DnE3oLORg6R"
      }
    },
    {
      "cell_type": "code",
      "source": [
        "# number of positive and negative cases in some dataset\n",
        "some_label_distribution = some_data['Label'].value_counts()\n",
        "some_label_distribution"
      ],
      "metadata": {
        "colab": {
          "base_uri": "https://localhost:8080/"
        },
        "id": "PAjp4hyyUQMy",
        "outputId": "96de8075-19c3-4d08-c552-a6133df48dd5"
      },
      "execution_count": 13,
      "outputs": [
        {
          "output_type": "execute_result",
          "data": {
            "text/plain": [
              "0    24018\n",
              "1      981\n",
              "Name: Label, dtype: int64"
            ]
          },
          "metadata": {},
          "execution_count": 13
        }
      ]
    },
    {
      "cell_type": "markdown",
      "source": [
        "*Mammogram views*"
      ],
      "metadata": {
        "id": "bIKfQwj5WSI8"
      }
    },
    {
      "cell_type": "code",
      "source": [
        "# the different mammogram views in the dataset\n",
        "views = full_data.View.unique()\n",
        "views"
      ],
      "metadata": {
        "colab": {
          "base_uri": "https://localhost:8080/"
        },
        "id": "aWCtuJsNWXgn",
        "outputId": "6f929787-41e5-4c9d-baf1-5fc7ab7e372e"
      },
      "execution_count": 14,
      "outputs": [
        {
          "output_type": "execute_result",
          "data": {
            "text/plain": [
              "array(['CC', 'MLO', 'XCCL', 'ML', 'LM'], dtype=object)"
            ]
          },
          "metadata": {},
          "execution_count": 14
        }
      ]
    },
    {
      "cell_type": "code",
      "source": [
        "# getting the number of times each row occurs\n",
        "CC_popularity = len(full_data.loc[full_data['View'] == 'CC'])\n",
        "MLO_popularity = len(full_data.loc[full_data['View'] == 'MLO'])\n",
        "XCCL_popularity = len(full_data.loc[full_data['View'] == 'XCCL'])\n",
        "ML_popularity = len(full_data.loc[full_data['View'] == 'ML'])\n",
        "LM_popularity = len(full_data.loc[full_data['View'] == 'LM'])"
      ],
      "metadata": {
        "id": "iUW5gaB0YMae"
      },
      "execution_count": 15,
      "outputs": []
    },
    {
      "cell_type": "code",
      "source": [
        "CC_popularity"
      ],
      "metadata": {
        "colab": {
          "base_uri": "https://localhost:8080/"
        },
        "id": "L0uL1tuBeM62",
        "outputId": "0c473cc2-5d1f-45ee-db9d-e386a7810708"
      },
      "execution_count": 16,
      "outputs": [
        {
          "output_type": "execute_result",
          "data": {
            "text/plain": [
              "205520"
            ]
          },
          "metadata": {},
          "execution_count": 16
        }
      ]
    },
    {
      "cell_type": "code",
      "source": [
        "MLO_popularity"
      ],
      "metadata": {
        "colab": {
          "base_uri": "https://localhost:8080/"
        },
        "id": "HklBV-QSeRGp",
        "outputId": "50f30c51-4d9a-497a-e3a5-73a33dae5698"
      },
      "execution_count": 17,
      "outputs": [
        {
          "output_type": "execute_result",
          "data": {
            "text/plain": [
              "199320"
            ]
          },
          "metadata": {},
          "execution_count": 17
        }
      ]
    },
    {
      "cell_type": "code",
      "source": [
        "XCCL_popularity"
      ],
      "metadata": {
        "colab": {
          "base_uri": "https://localhost:8080/"
        },
        "id": "JoldQYwgeSqu",
        "outputId": "cac5dbc6-0586-4155-cac7-cdf8b2d53121"
      },
      "execution_count": 18,
      "outputs": [
        {
          "output_type": "execute_result",
          "data": {
            "text/plain": [
              "120"
            ]
          },
          "metadata": {},
          "execution_count": 18
        }
      ]
    },
    {
      "cell_type": "code",
      "source": [
        "ML_popularity"
      ],
      "metadata": {
        "colab": {
          "base_uri": "https://localhost:8080/"
        },
        "id": "TSi1LRS_eUbv",
        "outputId": "c558d9b2-9b11-40f1-8d7f-c26f457fcfa3"
      },
      "execution_count": 19,
      "outputs": [
        {
          "output_type": "execute_result",
          "data": {
            "text/plain": [
              "240"
            ]
          },
          "metadata": {},
          "execution_count": 19
        }
      ]
    },
    {
      "cell_type": "code",
      "source": [
        "LM_popularity"
      ],
      "metadata": {
        "colab": {
          "base_uri": "https://localhost:8080/"
        },
        "id": "I-EMDkJaeWEj",
        "outputId": "15357a58-182b-4d9a-954d-5fd209c918a2"
      },
      "execution_count": 20,
      "outputs": [
        {
          "output_type": "execute_result",
          "data": {
            "text/plain": [
              "80"
            ]
          },
          "metadata": {},
          "execution_count": 20
        }
      ]
    },
    {
      "cell_type": "markdown",
      "source": [
        "*Percentage of samples that are CC or MLO view*"
      ],
      "metadata": {
        "id": "0n4FMiIwepjD"
      }
    },
    {
      "cell_type": "code",
      "source": [
        "((CC_popularity+MLO_popularity)/full_number_of_samples)*100"
      ],
      "metadata": {
        "colab": {
          "base_uri": "https://localhost:8080/"
        },
        "id": "PVmeQcspeYgF",
        "outputId": "df384345-e449-4de3-b9c6-b6eb3685d83a"
      },
      "execution_count": 21,
      "outputs": [
        {
          "output_type": "execute_result",
          "data": {
            "text/plain": [
              "99.89143308330043"
            ]
          },
          "metadata": {},
          "execution_count": 21
        }
      ]
    },
    {
      "cell_type": "markdown",
      "source": [
        "*Mammogram segments*"
      ],
      "metadata": {
        "id": "P0s3SPpCRhZS"
      }
    },
    {
      "cell_type": "code",
      "source": [
        "# the different mammogram segments in the dataset\n",
        "segments = full_data.SegmentPosition.unique()\n",
        "segments"
      ],
      "metadata": {
        "colab": {
          "base_uri": "https://localhost:8080/"
        },
        "id": "A15LojUPVrwl",
        "outputId": "4565e822-9a07-40bd-be26-eaad05a46132"
      },
      "execution_count": 22,
      "outputs": [
        {
          "output_type": "execute_result",
          "data": {
            "text/plain": [
              "array(['LA1', 'RA1', 'LB1', 'RB1', 'LC1', 'RC1', 'LD1', 'RD1', 'LE1',\n",
              "       'RE1', 'LA2', 'RA2', 'LB2', 'RB2', 'LC2', 'RC2', 'LD2', 'RD2',\n",
              "       'LE2', 'RE2', 'LA3', 'RA3', 'LB3', 'RB3', 'LC3', 'RC3', 'LD3',\n",
              "       'RD3', 'LE3', 'RE3', 'LA4', 'RA4', 'LB4', 'RB4', 'LC4', 'RC4',\n",
              "       'LD4', 'RD4', 'LE4', 'RE4'], dtype=object)"
            ]
          },
          "metadata": {},
          "execution_count": 22
        }
      ]
    },
    {
      "cell_type": "markdown",
      "source": [
        "*Approximate number of patients in full dataset*"
      ],
      "metadata": {
        "id": "DjYlszHbwV8W"
      }
    },
    {
      "cell_type": "code",
      "source": [
        "len(full_data.PatientID.unique())"
      ],
      "metadata": {
        "colab": {
          "base_uri": "https://localhost:8080/"
        },
        "id": "FHVnFNTJXd8J",
        "outputId": "2fdca847-2a05-4d98-8c8e-81db3b745afc"
      },
      "execution_count": 23,
      "outputs": [
        {
          "output_type": "execute_result",
          "data": {
            "text/plain": [
              "4919"
            ]
          },
          "metadata": {},
          "execution_count": 23
        }
      ]
    },
    {
      "cell_type": "markdown",
      "source": [
        "Approximate number of patients in sample dataset"
      ],
      "metadata": {
        "id": "86JP4P8wwmny"
      }
    },
    {
      "cell_type": "code",
      "source": [
        "len(some_data.PatientID.unique())"
      ],
      "metadata": {
        "colab": {
          "base_uri": "https://localhost:8080/"
        },
        "id": "qltaFQnfwrr3",
        "outputId": "86502fcf-c6d4-4a2b-de24-d0a07bd2ec4b"
      },
      "execution_count": 24,
      "outputs": [
        {
          "output_type": "execute_result",
          "data": {
            "text/plain": [
              "315"
            ]
          },
          "metadata": {},
          "execution_count": 24
        }
      ]
    },
    {
      "cell_type": "markdown",
      "source": [
        "*Columns in the datasets*"
      ],
      "metadata": {
        "id": "QCutV5OvSc2g"
      }
    },
    {
      "cell_type": "code",
      "source": [
        "number_of_all_columns = len(full_data.columns)\n",
        "number_of_all_columns"
      ],
      "metadata": {
        "colab": {
          "base_uri": "https://localhost:8080/"
        },
        "id": "-Ydwz8nDXd3H",
        "outputId": "07d8c837-2dca-46fe-88b3-21bf84b222cb"
      },
      "execution_count": 25,
      "outputs": [
        {
          "output_type": "execute_result",
          "data": {
            "text/plain": [
              "111"
            ]
          },
          "metadata": {},
          "execution_count": 25
        }
      ]
    },
    {
      "cell_type": "code",
      "source": [
        "# the column names in both datasets are the same, extracting them here\n",
        "all_columns = full_data.columns.to_list()"
      ],
      "metadata": {
        "id": "Ran8xHfTShqy"
      },
      "execution_count": 26,
      "outputs": []
    },
    {
      "cell_type": "markdown",
      "source": [
        "### ***Data Preprocessing***\n",
        "\n",
        "The data is already very clean and concise but there are a few columns that are unnecessary for the task at hand. "
      ],
      "metadata": {
        "id": "jGIGUBcEUVR6"
      }
    },
    {
      "cell_type": "markdown",
      "source": [
        "**Dropping columns from large dataset**"
      ],
      "metadata": {
        "id": "0aU8WQIqVABq"
      }
    },
    {
      "cell_type": "code",
      "source": [
        "full_data.drop(['PatientID', 'StudyID', 'PatientAge', 'ImgID', 'View', 'SegmentPosition'], axis=1, inplace=True)\n",
        "final_columns = full_data.columns.to_list()"
      ],
      "metadata": {
        "id": "1nQmTVczUZSB"
      },
      "execution_count": 27,
      "outputs": []
    },
    {
      "cell_type": "markdown",
      "source": [
        "**Dropping columns from smaller dataset**"
      ],
      "metadata": {
        "id": "w3bPkvNkVGIY"
      }
    },
    {
      "cell_type": "code",
      "source": [
        "some_data.drop(['PatientID', 'StudyID', 'PatientAge', 'ImgID', 'View', 'SegmentPosition'], axis=1, inplace=True)"
      ],
      "metadata": {
        "id": "-EinxR5gVMXL"
      },
      "execution_count": 28,
      "outputs": []
    },
    {
      "cell_type": "markdown",
      "source": [
        "**Number of columns remaining**"
      ],
      "metadata": {
        "id": "95-yeYL_Y15H"
      }
    },
    {
      "cell_type": "code",
      "source": [
        "final_number_of_columns = len(final_columns)\n",
        "final_number_of_columns"
      ],
      "metadata": {
        "colab": {
          "base_uri": "https://localhost:8080/"
        },
        "id": "GjXOCoG6Y5iX",
        "outputId": "fe776c57-cada-43f8-889f-714616e8973d"
      },
      "execution_count": 29,
      "outputs": [
        {
          "output_type": "execute_result",
          "data": {
            "text/plain": [
              "105"
            ]
          },
          "metadata": {},
          "execution_count": 29
        }
      ]
    },
    {
      "cell_type": "markdown",
      "source": [
        "**Train and test split**"
      ],
      "metadata": {
        "id": "_SR--iqxu4_R"
      }
    },
    {
      "cell_type": "code",
      "source": [
        "X = np.zeros([some_number_of_samples, final_number_of_columns-1], dtype=float)\n",
        "Y = np.zeros([some_number_of_samples,], dtype=int)\n",
        "\n",
        "for i in range(some_number_of_samples):\n",
        "    for j in range(final_number_of_columns-1):\n",
        "        X[i,j] = some_data['x'+ str(j)].iloc[i]\n",
        "for i in range(some_number_of_samples):\n",
        "    Y[i] = some_data['Label'].iloc[i]\n",
        "    \n",
        "X_train, X_test, Y_train, Y_test = train_test_split(X, Y, test_size=0.3, random_state=42)"
      ],
      "metadata": {
        "id": "MyYdAz5Iu_T9"
      },
      "execution_count": 30,
      "outputs": []
    },
    {
      "cell_type": "code",
      "source": [
        " print('Training (X,Y):\\t', X_train.shape, Y_train.shape)\n",
        " print('Test (X,Y):\\t', X_test.shape, Y_test.shape)"
      ],
      "metadata": {
        "colab": {
          "base_uri": "https://localhost:8080/"
        },
        "id": "hCKsYEfpHPcb",
        "outputId": "f81e012a-b117-43e3-8fe9-587c05dce9ce"
      },
      "execution_count": 31,
      "outputs": [
        {
          "output_type": "stream",
          "name": "stdout",
          "text": [
            "Training (X,Y):\t (17499, 104) (17499,)\n",
            "Test (X,Y):\t (7500, 104) (7500,)\n"
          ]
        }
      ]
    },
    {
      "cell_type": "code",
      "source": [
        "print(Counter(Y_train))"
      ],
      "metadata": {
        "colab": {
          "base_uri": "https://localhost:8080/"
        },
        "id": "zE_2oyaWK8sV",
        "outputId": "f0beff19-e008-4e1a-de44-c7b300db91a8"
      },
      "execution_count": 32,
      "outputs": [
        {
          "output_type": "stream",
          "name": "stdout",
          "text": [
            "Counter({0: 16809, 1: 690})\n"
          ]
        }
      ]
    },
    {
      "cell_type": "code",
      "source": [
        "print(Counter(Y_test))"
      ],
      "metadata": {
        "colab": {
          "base_uri": "https://localhost:8080/"
        },
        "id": "YY2gP9kDLaN0",
        "outputId": "5dba0bb7-557a-4ee1-c28d-c11c8bfb460c"
      },
      "execution_count": 33,
      "outputs": [
        {
          "output_type": "stream",
          "name": "stdout",
          "text": [
            "Counter({0: 7209, 1: 291})\n"
          ]
        }
      ]
    },
    {
      "cell_type": "markdown",
      "source": [
        "**Oversample train data**"
      ],
      "metadata": {
        "id": "BkGKj7ZvKrVp"
      }
    },
    {
      "cell_type": "code",
      "source": [
        "# instantiating the random over sampler \n",
        "ros = RandomOverSampler()\n",
        "# resampling X, y\n",
        "X_ros, y_ros = ros.fit_resample(X_train, Y_train)\n",
        "# new class distribution \n",
        "print(Counter(y_ros))"
      ],
      "metadata": {
        "colab": {
          "base_uri": "https://localhost:8080/"
        },
        "id": "2U1-Cgz2KhBP",
        "outputId": "fbd3c675-533b-46b2-88b2-efc0f483d6cc"
      },
      "execution_count": 34,
      "outputs": [
        {
          "output_type": "stream",
          "name": "stdout",
          "text": [
            "Counter({0: 16809, 1: 16809})\n"
          ]
        }
      ]
    },
    {
      "cell_type": "markdown",
      "source": [
        "**Get transpose of X arrays**"
      ],
      "metadata": {
        "id": "OdKX5IDEN17t"
      }
    },
    {
      "cell_type": "code",
      "source": [
        "X_train = np.transpose(X_train)\n",
        "X_test = np.transpose(X_test)"
      ],
      "metadata": {
        "id": "dKNJqpZENRzl"
      },
      "execution_count": 35,
      "outputs": []
    },
    {
      "cell_type": "markdown",
      "source": [
        "### ***BNF Grammar***"
      ],
      "metadata": {
        "id": "ZuWlszUdOJeb"
      }
    },
    {
      "cell_type": "markdown",
      "source": [
        "**Check grammar file**"
      ],
      "metadata": {
        "id": "vBKvm0vF9-Q5"
      }
    },
    {
      "cell_type": "code",
      "source": [
        "f = open(\"../GE_GRAPE_Mammogram_Classification/grammar.bnf\", \"r\")\n",
        "print(f.read())\n",
        "f.close() "
      ],
      "metadata": {
        "id": "QPLX3BiIOPW6",
        "colab": {
          "base_uri": "https://localhost:8080/"
        },
        "outputId": "dc5a98db-a8fb-4ffe-b116-184daebf01ef"
      },
      "execution_count": 36,
      "outputs": [
        {
          "output_type": "stream",
          "name": "stdout",
          "text": [
            "<e> ::= add(<e>,<e>)|sub(<e>,<e>)|pdiv(<e>,<e>)|mul(<e>,<e>)|neg(<e>)|add(<e>,<e>)|sub(<e>,<e>)|pdiv(<e>,<e>)|mul(<e>,<e>)|neg(<e>)|add(<e>,<e>)|sub(<e>,<e>)|pdiv(<e>,<e>)|mul(<e>,<e>)|neg(<e>)|add(<e>,<e>)|sub(<e>,<e>)|pdiv(<e>,<e>)|mul(<e>,<e>)|neg(<e>)|add(<e>,<e>)|sub(<e>,<e>)|pdiv(<e>,<e>)|mul(<e>,<e>)|neg(<e>)|add(<e>,<e>)|sub(<e>,<e>)|pdiv(<e>,<e>)|mul(<e>,<e>)|neg(<e>)|add(<e>,<e>)|sub(<e>,<e>)|pdiv(<e>,<e>)|mul(<e>,<e>)|neg(<e>)|add(<e>,<e>)|sub(<e>,<e>)|pdiv(<e>,<e>)|mul(<e>,<e>)|neg(<e>)|add(<e>,<e>)|sub(<e>,<e>)|pdiv(<e>,<e>)|mul(<e>,<e>)|neg(<e>)|add(<e>,<e>)|sub(<e>,<e>)|pdiv(<e>,<e>)|mul(<e>,<e>)|neg(<e>)|add(<e>,<e>)|sub(<e>,<e>)|pdiv(<e>,<e>)|mul(<e>,<e>)|neg(<e>)|add(<e>,<e>)|sub(<e>,<e>)|pdiv(<e>,<e>)|mul(<e>,<e>)|neg(<e>)|add(<e>,<e>)|sub(<e>,<e>)|pdiv(<e>,<e>)|mul(<e>,<e>)|neg(<e>)|add(<e>,<e>)|sub(<e>,<e>)|pdiv(<e>,<e>)|mul(<e>,<e>)|neg(<e>)|add(<e>,<e>)|sub(<e>,<e>)|pdiv(<e>,<e>)|mul(<e>,<e>)|neg(<e>)|add(<e>,<e>)|sub(<e>,<e>)|pdiv(<e>,<e>)|mul(<e>,<e>)|neg(<e>)|add(<e>,<e>)|sub(<e>,<e>)|pdiv(<e>,<e>)|mul(<e>,<e>)|neg(<e>)|add(<e>,<e>)|sub(<e>,<e>)|pdiv(<e>,<e>)|mul(<e>,<e>)|neg(<e>)|add(<e>,<e>)|sub(<e>,<e>)|pdiv(<e>,<e>)|mul(<e>,<e>)|neg(<e>)|add(<e>,<e>)|sub(<e>,<e>)|pdiv(<e>,<e>)|mul(<e>,<e>)|neg(<e>)|add(<e>,<e>)|sub(<e>,<e>)|pdiv(<e>,<e>)|mul(<e>,<e>)|neg(<e>)|x[0]|x[1]|x[2]|x[3]|x[4]|x[5]|x[6]|x[7]|x[8]|x[9]|x[10]|x[11]|x[12]|x[13]|x[14]|x[15]|x[16]|x[17]|x[18]|x[19]|x[20]|x[21]|x[22]|x[23]|x[24]|x[25]|x[26]|x[27]|x[28]|x[29]|x[30]|x[31]|x[32]|x[33]|x[34]|x[35]|x[36]|x[37]|x[38]|x[39]|x[40]|x[41]|x[42]|x[43]|x[44]|x[45]|x[46]|x[47]|x[48]|x[49]|x[50]|x[51]|x[52]|x[53]|x[54]|x[55]|x[56]|x[57]|x[58]|x[59]|x[60]|x[61]|x[62]|x[63]|x[64]|x[65]|x[66]|x[67]|x[68]|x[69]|x[70]|x[71]|x[72]|x[73]|x[74]|x[75]|x[76]|x[77]|x[78]|x[79]|x[80]|x[81]|x[82]|x[83]|x[84]|x[85]|x[86]|x[87]|x[88]|x[89]|x[90]|x[91]|x[92]|x[93]|x[94]|x[95]|x[96]|x[97]|x[98]|x[99]|x[100]|x[101]|x[102]|x[103]|<c><c>.<c><c>|<c><c>.<c><c>|<c><c>.<c><c>|<c><c>.<c><c>|<c><c>.<c><c>|<c><c>.<c><c>|<c><c>.<c><c>|<c><c>.<c><c>|<c><c>.<c><c>|<c><c>.<c><c>|<c><c>.<c><c>|<c><c>.<c><c>|<c><c>.<c><c>|<c><c>.<c><c>|<c><c>.<c><c>|<c><c>.<c><c>|<c><c>.<c><c>|<c><c>.<c><c>|<c><c>.<c><c>|<c><c>.<c><c>|<c><c>.<c><c>|<c><c>.<c><c>|<c><c>.<c><c>|<c><c>.<c><c>|<c><c>.<c><c>|<c><c>.<c><c>|<c><c>.<c><c>|<c><c>.<c><c>|<c><c>.<c><c>|<c><c>.<c><c>|<c><c>.<c><c>|<c><c>.<c><c>|<c><c>.<c><c>|<c><c>.<c><c>|<c><c>.<c><c>|<c><c>.<c><c>|<c><c>.<c><c>|<c><c>.<c><c>|<c><c>.<c><c>|<c><c>.<c><c>|<c><c>.<c><c>|<c><c>.<c><c>|<c><c>.<c><c>|<c><c>.<c><c>|<c><c>.<c><c>|<c><c>.<c><c>|<c><c>.<c><c>|<c><c>.<c><c>|<c><c>.<c><c>|<c><c>.<c><c>|<c><c>.<c><c>|<c><c>.<c><c>|<c><c>.<c><c>|<c><c>.<c><c>|<c><c>.<c><c>|<c><c>.<c><c>|<c><c>.<c><c>|<c><c>.<c><c>|<c><c>.<c><c>|<c><c>.<c><c>|<c><c>.<c><c>|<c><c>.<c><c>|<c><c>.<c><c>|<c><c>.<c><c>|<c><c>.<c><c>|<c><c>.<c><c>|<c><c>.<c><c>|<c><c>.<c><c>|<c><c>.<c><c>|<c><c>.<c><c>|<c><c>.<c><c>|<c><c>.<c><c>|<c><c>.<c><c>|<c><c>.<c><c>|<c><c>.<c><c>|<c><c>.<c><c>|<c><c>.<c><c>|<c><c>.<c><c>|<c><c>.<c><c>|<c><c>.<c><c>|<c><c>.<c><c>|<c><c>.<c><c>|<c><c>.<c><c>|<c><c>.<c><c>|<c><c>.<c><c>|<c><c>.<c><c>|<c><c>.<c><c>|<c><c>.<c><c>|<c><c>.<c><c>|<c><c>.<c><c>|<c><c>.<c><c>|<c><c>.<c><c>|<c><c>.<c><c>|<c><c>.<c><c>|<c><c>.<c><c>|<c><c>.<c><c>|<c><c>.<c><c>|<c><c>.<c><c>|<c><c>.<c><c>|<c><c>.<c><c>|<c><c>.<c><c>|<c><c>.<c><c>|<c><c>.<c><c>|<c><c>.<c><c>\n",
            "<c> ::= 0 | 1 | 2 | 3 | 4 | 5 | 6 | 7 | 8 | 9\n",
            "\n"
          ]
        }
      ]
    },
    {
      "cell_type": "markdown",
      "source": [
        "**Setup grammar**"
      ],
      "metadata": {
        "id": "HYOLy6yE-U4V"
      }
    },
    {
      "cell_type": "code",
      "source": [
        "BNF_GRAMMAR = Grammar(\"../GE_GRAPE_Mammogram_Classification/grammar.bnf\")"
      ],
      "metadata": {
        "id": "TRHEj0Bz-SM6"
      },
      "execution_count": 37,
      "outputs": []
    },
    {
      "cell_type": "markdown",
      "source": [
        "### ***Fitness Function***"
      ],
      "metadata": {
        "id": "KcznfmO2-wrD"
      }
    },
    {
      "cell_type": "code",
      "source": [
        "def fitness_eval(individual, points):\n",
        "  x= points[0]\n",
        "  Y= points[1]\n",
        "\n",
        "  if individual.invalid==True:\n",
        "    return np.NaN,\n",
        "\n",
        "  # Evaluate the expression\n",
        "  try:\n",
        "    pred= eval(individual.phenotype)\n",
        "  except (FloatingPointError, ZeroDivisionError, OverflowError, MemoryError):\n",
        "    # FP err can happen through eg overflow (lots of pow/exp calls)\n",
        "    # ZeroDiv can happen when using unprotected operators\n",
        "    return np.NaN,\n",
        "  assert np.isrealobj(pred)\n",
        "\n",
        "  try:\n",
        "    Y_class= [1 if pred[i] > 0 else 0 for i in range(len(Y))]\n",
        "  except (IndexError, TypeError):\n",
        "    return np.NaN,\n",
        "\n",
        "  compare= np.equal(Y,Y_class)\n",
        "  fitness= 1- np.mean(compare)\n",
        "\n",
        "  return fitness,"
      ],
      "metadata": {
        "id": "11maiZtD-38u"
      },
      "execution_count": 39,
      "outputs": []
    },
    {
      "cell_type": "markdown",
      "source": [
        "### ***Grammatical Evolution***"
      ],
      "metadata": {
        "id": "_ES4srscgvmk"
      }
    },
    {
      "cell_type": "markdown",
      "source": [
        "**Setting GE parameters**"
      ],
      "metadata": {
        "id": "P3qnJwaCg2WH"
      }
    },
    {
      "cell_type": "code",
      "source": [
        "POPULATION_SIZE = 1000\n",
        "MAX_GENERATIONS = 200\n",
        "P_CROSSOVER = 0.8\n",
        "P_MUTATION = 0.01\n",
        "ELITE_SIZE = round(0.01*POPULATION_SIZE)\n",
        "\n",
        "HALL_OF_FAME_SIZE = 1\n",
        "MAX_INIT_TREE_DEPTH = 10\n",
        "MIN_INIT_TREE_DEPTH = 1\n",
        "MAX_TREE_DEPTH = 17\n",
        "MAX_WRAPS = 0\n",
        "CODON_SIZE = 255"
      ],
      "metadata": {
        "id": "XxaQnX98g1QW"
      },
      "execution_count": 43,
      "outputs": []
    },
    {
      "cell_type": "markdown",
      "source": [
        "**Creating DEAP toolbox**"
      ],
      "metadata": {
        "id": "kQvfhVRShG2h"
      }
    },
    {
      "cell_type": "code",
      "source": [
        "toolbox = base.Toolbox()\n",
        "\n",
        "# define a single objective, minimising fitness strategy:\n",
        "creator.create(\"FitnessMin\", base.Fitness, weights=(-1.0,))\n",
        "\n",
        "creator.create('Individual', ge.Individual, fitness=creator.FitnessMin)\n",
        "\n",
        "toolbox.register(\"populationCreator\", ge.initialisation_PI_Grow, creator.Individual) \n",
        "\n",
        "toolbox.register(\"evaluate\", fitness_eval)\n",
        "\n",
        "# Tournament selection:\n",
        "toolbox.register(\"select\", ge.selTournament, tournsize=7)\n",
        "\n",
        "# Single-point crossover:\n",
        "toolbox.register(\"mate\", ge.crossover_onepoint)\n",
        "\n",
        "# Flip-int mutation:\n",
        "toolbox.register(\"mutate\", ge.mutation_int_flip_per_codon)"
      ],
      "metadata": {
        "id": "xyTxT2XAg88A"
      },
      "execution_count": 44,
      "outputs": []
    },
    {
      "cell_type": "markdown",
      "source": [
        "**Main function**"
      ],
      "metadata": {
        "id": "zyD4QviNhaJP"
      }
    },
    {
      "cell_type": "code",
      "source": [
        "# create initial population (generation 0):\n",
        "population = toolbox.populationCreator(size=POPULATION_SIZE, \n",
        "                                        bnf_grammar=BNF_GRAMMAR, \n",
        "                                        min_init_tree_depth=MIN_INIT_TREE_DEPTH,\n",
        "                                        max_init_tree_depth=MAX_INIT_TREE_DEPTH,\n",
        "                                        max_tree_depth=MAX_TREE_DEPTH, \n",
        "                                        max_wraps=MAX_WRAPS,\n",
        "                                        codon_size=CODON_SIZE\n",
        "                                        )\n",
        "\n",
        "# define the hall-of-fame object:\n",
        "hof = tools.HallOfFame(HALL_OF_FAME_SIZE)\n",
        "\n",
        "# prepare the statistics object:\n",
        "stats = tools.Statistics(key=lambda ind: ind.fitness.values)\n",
        "stats.register(\"avg\", np.nanmean)\n",
        "stats.register(\"std\", np.nanstd)\n",
        "stats.register(\"min\", np.nanmin)\n",
        "stats.register(\"max\", np.nanmax)\n",
        "\n",
        "# perform the Grammatical Evolution flow:\n",
        "population, logbook = algorithms.ge_eaSimpleWithElitism(population, toolbox, cxpb=P_CROSSOVER, mutpb=P_MUTATION,\n",
        "                                                        ngen=MAX_GENERATIONS, elite_size=ELITE_SIZE,\n",
        "                                                        bnf_grammar=BNF_GRAMMAR, codon_size=CODON_SIZE, \n",
        "                                                        max_tree_depth=MAX_TREE_DEPTH, max_wraps=MAX_WRAPS,\n",
        "                                                        points_train=[X_train, Y_train], \n",
        "                                                        points_test=[X_test, Y_test], \n",
        "                                                        stats=stats, halloffame=hof, verbose=True)"
      ],
      "metadata": {
        "colab": {
          "base_uri": "https://localhost:8080/",
          "height": 375
        },
        "id": "SkoNjefiht1-",
        "outputId": "e025f76b-7105-4971-bf73-d5044c52695b"
      },
      "execution_count": 45,
      "outputs": [
        {
          "output_type": "error",
          "ename": "ValueError",
          "evalue": "ignored",
          "traceback": [
            "\u001b[0;31m---------------------------------------------------------------------------\u001b[0m",
            "\u001b[0;31mValueError\u001b[0m                                Traceback (most recent call last)",
            "\u001b[0;32m<ipython-input-45-1bdaa8f74dc8>\u001b[0m in \u001b[0;36m<module>\u001b[0;34m()\u001b[0m\n\u001b[1;32m      6\u001b[0m                                         \u001b[0mmax_tree_depth\u001b[0m\u001b[0;34m=\u001b[0m\u001b[0mMAX_TREE_DEPTH\u001b[0m\u001b[0;34m,\u001b[0m\u001b[0;34m\u001b[0m\u001b[0;34m\u001b[0m\u001b[0m\n\u001b[1;32m      7\u001b[0m                                         \u001b[0mmax_wraps\u001b[0m\u001b[0;34m=\u001b[0m\u001b[0mMAX_WRAPS\u001b[0m\u001b[0;34m,\u001b[0m\u001b[0;34m\u001b[0m\u001b[0;34m\u001b[0m\u001b[0m\n\u001b[0;32m----> 8\u001b[0;31m                                         \u001b[0mcodon_size\u001b[0m\u001b[0;34m=\u001b[0m\u001b[0mCODON_SIZE\u001b[0m\u001b[0;34m\u001b[0m\u001b[0;34m\u001b[0m\u001b[0m\n\u001b[0m\u001b[1;32m      9\u001b[0m                                         )\n\u001b[1;32m     10\u001b[0m \u001b[0;34m\u001b[0m\u001b[0m\n",
            "\u001b[0;32m/content/drive/MyDrive/grape/ponyge2_adapted_files.py\u001b[0m in \u001b[0;36minitialisation_PI_Grow\u001b[0;34m(ind_class, size, bnf_grammar, min_init_tree_depth, max_init_tree_depth, max_tree_depth, max_wraps, codon_size)\u001b[0m\n\u001b[1;32m    135\u001b[0m \u001b[0;34m\u001b[0m\u001b[0m\n\u001b[1;32m    136\u001b[0m                     \u001b[0;31m# Generate individual using \"Grow\"\u001b[0m\u001b[0;34m\u001b[0m\u001b[0;34m\u001b[0m\u001b[0;34m\u001b[0m\u001b[0m\n\u001b[0;32m--> 137\u001b[0;31m                     \u001b[0mind\u001b[0m \u001b[0;34m=\u001b[0m \u001b[0mgenerate_PI_ind_tree\u001b[0m\u001b[0;34m(\u001b[0m\u001b[0mind_class\u001b[0m\u001b[0;34m,\u001b[0m \u001b[0mdepth\u001b[0m\u001b[0;34m,\u001b[0m \u001b[0mbnf_grammar\u001b[0m\u001b[0;34m,\u001b[0m \u001b[0mmax_tree_depth\u001b[0m\u001b[0;34m,\u001b[0m \u001b[0mmax_wraps\u001b[0m\u001b[0;34m,\u001b[0m \u001b[0mcodon_size\u001b[0m\u001b[0;34m)\u001b[0m\u001b[0;34m\u001b[0m\u001b[0;34m\u001b[0m\u001b[0m\n\u001b[0m\u001b[1;32m    138\u001b[0m \u001b[0;34m\u001b[0m\u001b[0m\n\u001b[1;32m    139\u001b[0m                     \u001b[0;31m# Append individual to population\u001b[0m\u001b[0;34m\u001b[0m\u001b[0;34m\u001b[0m\u001b[0;34m\u001b[0m\u001b[0m\n",
            "\u001b[0;32m/content/drive/MyDrive/grape/ponyge2_adapted_files.py\u001b[0m in \u001b[0;36mgenerate_PI_ind_tree\u001b[0;34m(ind_class, max_depth, bnf_grammar, max_tree_depth, max_wraps, codon_size)\u001b[0m\n\u001b[1;32m   1614\u001b[0m \u001b[0;34m\u001b[0m\u001b[0m\n\u001b[1;32m   1615\u001b[0m     \u001b[0;31m# Generate a tree\u001b[0m\u001b[0;34m\u001b[0m\u001b[0;34m\u001b[0m\u001b[0;34m\u001b[0m\u001b[0m\n\u001b[0;32m-> 1616\u001b[0;31m     \u001b[0mgenome\u001b[0m\u001b[0;34m,\u001b[0m \u001b[0moutput\u001b[0m\u001b[0;34m,\u001b[0m \u001b[0mnodes\u001b[0m\u001b[0;34m,\u001b[0m \u001b[0mdepth\u001b[0m \u001b[0;34m=\u001b[0m \u001b[0mpi_grow\u001b[0m\u001b[0;34m(\u001b[0m\u001b[0mind_tree\u001b[0m\u001b[0;34m,\u001b[0m \u001b[0mmax_depth\u001b[0m\u001b[0;34m,\u001b[0m \u001b[0mbnf_grammar\u001b[0m\u001b[0;34m,\u001b[0m \u001b[0mcodon_size\u001b[0m\u001b[0;34m)\u001b[0m\u001b[0;34m\u001b[0m\u001b[0;34m\u001b[0m\u001b[0m\n\u001b[0m\u001b[1;32m   1617\u001b[0m \u001b[0;34m\u001b[0m\u001b[0m\n\u001b[1;32m   1618\u001b[0m     \u001b[0;31m# Get remaining individual information\u001b[0m\u001b[0;34m\u001b[0m\u001b[0;34m\u001b[0m\u001b[0;34m\u001b[0m\u001b[0m\n",
            "\u001b[0;32m/content/drive/MyDrive/grape/ponyge2_adapted_files.py\u001b[0m in \u001b[0;36mpi_grow\u001b[0;34m(tree, max_depth, bnf_grammar, codon_size)\u001b[0m\n\u001b[1;32m   1700\u001b[0m         codon = randrange(productions['no_choices'],\n\u001b[1;32m   1701\u001b[0m                           \u001b[0mcodon_size\u001b[0m\u001b[0;34m,\u001b[0m\u001b[0;31m#bnf_grammar.codon_size,\u001b[0m\u001b[0;34m\u001b[0m\u001b[0;34m\u001b[0m\u001b[0m\n\u001b[0;32m-> 1702\u001b[0;31m                           productions['no_choices']) + prod_index\n\u001b[0m\u001b[1;32m   1703\u001b[0m \u001b[0;34m\u001b[0m\u001b[0m\n\u001b[1;32m   1704\u001b[0m         \u001b[0;31m# Set the codon for the current node and append codon to the genome.\u001b[0m\u001b[0;34m\u001b[0m\u001b[0;34m\u001b[0m\u001b[0;34m\u001b[0m\u001b[0m\n",
            "\u001b[0;32m/usr/lib/python3.7/random.py\u001b[0m in \u001b[0;36mrandrange\u001b[0;34m(self, start, stop, step, _int)\u001b[0m\n\u001b[1;32m    212\u001b[0m \u001b[0;34m\u001b[0m\u001b[0m\n\u001b[1;32m    213\u001b[0m         \u001b[0;32mif\u001b[0m \u001b[0mn\u001b[0m \u001b[0;34m<=\u001b[0m \u001b[0;36m0\u001b[0m\u001b[0;34m:\u001b[0m\u001b[0;34m\u001b[0m\u001b[0;34m\u001b[0m\u001b[0m\n\u001b[0;32m--> 214\u001b[0;31m             \u001b[0;32mraise\u001b[0m \u001b[0mValueError\u001b[0m\u001b[0;34m(\u001b[0m\u001b[0;34m\"empty range for randrange()\"\u001b[0m\u001b[0;34m)\u001b[0m\u001b[0;34m\u001b[0m\u001b[0;34m\u001b[0m\u001b[0m\n\u001b[0m\u001b[1;32m    215\u001b[0m \u001b[0;34m\u001b[0m\u001b[0m\n\u001b[1;32m    216\u001b[0m         \u001b[0;32mreturn\u001b[0m \u001b[0mistart\u001b[0m \u001b[0;34m+\u001b[0m \u001b[0mistep\u001b[0m\u001b[0;34m*\u001b[0m\u001b[0mself\u001b[0m\u001b[0;34m.\u001b[0m\u001b[0m_randbelow\u001b[0m\u001b[0;34m(\u001b[0m\u001b[0mn\u001b[0m\u001b[0;34m)\u001b[0m\u001b[0;34m\u001b[0m\u001b[0;34m\u001b[0m\u001b[0m\n",
            "\u001b[0;31mValueError\u001b[0m: empty range for randrange()"
          ]
        }
      ]
    },
    {
      "cell_type": "markdown",
      "source": [
        "**Statistics**"
      ],
      "metadata": {
        "id": "BiCfXlqGiNKY"
      }
    },
    {
      "cell_type": "code",
      "source": [
        "max_fitness_values, mean_fitness_values = logbook.select(\"max\", \"avg\")\n",
        "min_fitness_values, std_fitness_values = logbook.select(\"min\", \"std\")\n",
        "fitness_test = logbook.select(\"fitness_test\")\n",
        "best_ind_length = logbook.select(\"best_ind_length\")\n",
        "avg_length = logbook.select(\"avg_length\")\n",
        "max_length = logbook.select(\"max_length\")\n",
        "selection_time = logbook.select(\"selection_time\")\n",
        "generation_time = logbook.select(\"generation_time\")\n",
        "gen, invalid = logbook.select(\"gen\", \"invalid\")\n",
        "\n",
        "header = ['gen', 'invalid', 'avg', 'std', 'min', 'max', 'fitness_test', 'best_ind_length', 'avg_length', 'max_length', 'selection_time', 'generation_time']\n",
        "\n",
        "results = pd.DataFrame(list(zip(gen, invalid, mean_fitness_values, std_fitness_values, min_fitness_values, max_fitness_values, fitness_test, best_ind_length, avg_length, max_length, selection_time, generation_time)),\n",
        "               columns = header)\n",
        "\n",
        "pd.set_option('display.max_rows', None)\n",
        "pd.set_option('display.max_columns', None)\n",
        "pd.set_option('display.width', 10000)\n",
        "pd.set_option('display.colheader_justify', 'center')\n",
        "\n",
        "display(results)"
      ],
      "metadata": {
        "id": "iNFVRbX6iWpn"
      },
      "execution_count": null,
      "outputs": []
    },
    {
      "cell_type": "markdown",
      "source": [
        "**Best individual**"
      ],
      "metadata": {
        "id": "EsQIYiKeiibw"
      }
    },
    {
      "cell_type": "code",
      "source": [
        "print(\"Best individual: \")\n",
        "print(hof.items[0].phenotype)\n",
        "print()\n",
        "print(\"Training Fitness: \", hof.items[0].fitness.values[0])\n",
        "print()\n",
        "print(\"Depth: \", hof.items[0].depth)\n",
        "print()\n",
        "print(\"Length of the genome: \", len(hof.items[0].genome))\n",
        "print()\n",
        "print(f'Used portion of the genome: {hof.items[0].used_codons/len(hof.items[0].genome):.2f}')\n",
        "print()"
      ],
      "metadata": {
        "id": "GWi5Ovh6iiG9"
      },
      "execution_count": null,
      "outputs": []
    },
    {
      "cell_type": "markdown",
      "source": [
        "**Best individuals plots**"
      ],
      "metadata": {
        "id": "yUp1HViHio4t"
      }
    },
    {
      "cell_type": "code",
      "source": [
        "plt.plot(gen, min_fitness_values, color='red', label=\"Training fitness\")\n",
        "plt.plot(gen, fitness_test, color='blue', label=\"Test fitness\")\n",
        "plt.legend(fontsize=12)\n",
        "plt.xlabel('Generations', fontsize=14)\n",
        "plt.ylabel('Best Fitness', fontsize=14)\n",
        "plt.title('Best Fitness over Generations', fontsize=16)\n",
        "plt.show()"
      ],
      "metadata": {
        "colab": {
          "base_uri": "https://localhost:8080/",
          "height": 232
        },
        "id": "qlWdxb_3iyUJ",
        "outputId": "ed4139b5-050d-4189-e371-ed58c863d7e9"
      },
      "execution_count": 42,
      "outputs": [
        {
          "output_type": "error",
          "ename": "NameError",
          "evalue": "ignored",
          "traceback": [
            "\u001b[0;31m---------------------------------------------------------------------------\u001b[0m",
            "\u001b[0;31mNameError\u001b[0m                                 Traceback (most recent call last)",
            "\u001b[0;32m<ipython-input-42-484a887cc963>\u001b[0m in \u001b[0;36m<module>\u001b[0;34m()\u001b[0m\n\u001b[0;32m----> 1\u001b[0;31m \u001b[0mplt\u001b[0m\u001b[0;34m.\u001b[0m\u001b[0mplot\u001b[0m\u001b[0;34m(\u001b[0m\u001b[0mgen\u001b[0m\u001b[0;34m,\u001b[0m \u001b[0mmin_fitness_values\u001b[0m\u001b[0;34m,\u001b[0m \u001b[0mcolor\u001b[0m\u001b[0;34m=\u001b[0m\u001b[0;34m'red'\u001b[0m\u001b[0;34m,\u001b[0m \u001b[0mlabel\u001b[0m\u001b[0;34m=\u001b[0m\u001b[0;34m\"Training fitness\"\u001b[0m\u001b[0;34m)\u001b[0m\u001b[0;34m\u001b[0m\u001b[0;34m\u001b[0m\u001b[0m\n\u001b[0m\u001b[1;32m      2\u001b[0m \u001b[0mplt\u001b[0m\u001b[0;34m.\u001b[0m\u001b[0mplot\u001b[0m\u001b[0;34m(\u001b[0m\u001b[0mgen\u001b[0m\u001b[0;34m,\u001b[0m \u001b[0mfitness_test\u001b[0m\u001b[0;34m,\u001b[0m \u001b[0mcolor\u001b[0m\u001b[0;34m=\u001b[0m\u001b[0;34m'blue'\u001b[0m\u001b[0;34m,\u001b[0m \u001b[0mlabel\u001b[0m\u001b[0;34m=\u001b[0m\u001b[0;34m\"Test fitness\"\u001b[0m\u001b[0;34m)\u001b[0m\u001b[0;34m\u001b[0m\u001b[0;34m\u001b[0m\u001b[0m\n\u001b[1;32m      3\u001b[0m \u001b[0mplt\u001b[0m\u001b[0;34m.\u001b[0m\u001b[0mlegend\u001b[0m\u001b[0;34m(\u001b[0m\u001b[0mfontsize\u001b[0m\u001b[0;34m=\u001b[0m\u001b[0;36m12\u001b[0m\u001b[0;34m)\u001b[0m\u001b[0;34m\u001b[0m\u001b[0;34m\u001b[0m\u001b[0m\n\u001b[1;32m      4\u001b[0m \u001b[0mplt\u001b[0m\u001b[0;34m.\u001b[0m\u001b[0mxlabel\u001b[0m\u001b[0;34m(\u001b[0m\u001b[0;34m'Generations'\u001b[0m\u001b[0;34m,\u001b[0m \u001b[0mfontsize\u001b[0m\u001b[0;34m=\u001b[0m\u001b[0;36m14\u001b[0m\u001b[0;34m)\u001b[0m\u001b[0;34m\u001b[0m\u001b[0;34m\u001b[0m\u001b[0m\n\u001b[1;32m      5\u001b[0m \u001b[0mplt\u001b[0m\u001b[0;34m.\u001b[0m\u001b[0mylabel\u001b[0m\u001b[0;34m(\u001b[0m\u001b[0;34m'Best Fitness'\u001b[0m\u001b[0;34m,\u001b[0m \u001b[0mfontsize\u001b[0m\u001b[0;34m=\u001b[0m\u001b[0;36m14\u001b[0m\u001b[0;34m)\u001b[0m\u001b[0;34m\u001b[0m\u001b[0;34m\u001b[0m\u001b[0m\n",
            "\u001b[0;31mNameError\u001b[0m: name 'gen' is not defined"
          ]
        }
      ]
    },
    {
      "cell_type": "markdown",
      "source": [
        "**Average fitness plot**"
      ],
      "metadata": {
        "id": "LFpk_CVmi2Z1"
      }
    },
    {
      "cell_type": "code",
      "source": [
        "plt.xlabel('Generations')\n",
        "plt.ylabel('Average Fitness')\n",
        "plt.title('Average Fitness over Generations')\n",
        "plt.errorbar(gen, mean_fitness_values, yerr=std_fitness_values,label=\"Best\", color=\"Green\")\n",
        "plt.show()"
      ],
      "metadata": {
        "id": "1QguD0FPi0yc"
      },
      "execution_count": null,
      "outputs": []
    },
    {
      "cell_type": "markdown",
      "source": [
        "**Genome length plots**"
      ],
      "metadata": {
        "id": "3uEYnmB2jBlH"
      }
    },
    {
      "cell_type": "code",
      "source": [
        "plt.plot(gen, max_length, color='red', label=\"Maximum\")\n",
        "plt.plot(gen, avg_length, color='blue', label=\"Average\")\n",
        "plt.plot(gen, best_ind_length, color='green', label=\"Best individual\")\n",
        "plt.legend(fontsize=12)\n",
        "plt.xlabel('Generations', fontsize=14)\n",
        "plt.ylabel('Genome Length', fontsize=14)\n",
        "plt.title('Genome Length over Generations', fontsize=16)\n",
        "plt.show()"
      ],
      "metadata": {
        "id": "Wb_98RtvjMJP"
      },
      "execution_count": null,
      "outputs": []
    }
  ]
}