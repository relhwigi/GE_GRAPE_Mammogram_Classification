{
 "cells": [
  {
   "cell_type": "markdown",
   "metadata": {
    "id": "LyRwEVCMv6r-"
   },
   "source": [
    "# **Machine Learning using Grammatical Evolution Exploratory Data Analysis**\n",
    "### Classification of mammogram segments as containing or not containing suspicious growth. \n",
    "Ranya El-Hwigi 18227449"
   ]
  },
  {
   "cell_type": "markdown",
   "metadata": {
    "id": "p0Zy8YEbwxOq"
   },
   "source": [
    "### ***Importing libraries***"
   ]
  },
  {
   "cell_type": "code",
   "execution_count": 1,
   "metadata": {
    "colab": {
     "base_uri": "https://localhost:8080/"
    },
    "id": "Ay1KC4bRfldb",
    "outputId": "9471e7e8-a273-4d55-a01f-e09b55937176"
   },
   "outputs": [
    {
     "name": "stdout",
     "output_type": "stream",
     "text": [
      "Requirement already satisfied: deap in /Users/ranyahwigi/opt/anaconda3/lib/python3.9/site-packages (1.3.1)\r\n",
      "Requirement already satisfied: numpy in /Users/ranyahwigi/opt/anaconda3/lib/python3.9/site-packages (from deap) (1.22.3)\r\n"
     ]
    }
   ],
   "source": [
    "!pip install deap\n",
    "import numpy as np\n",
    "from os import path\n",
    "import pandas as pd\n",
    "from collections import Counter\n",
    "import matplotlib.pyplot as plt\n",
    "from deap import creator, base, tools\n",
    "from imblearn.over_sampling import RandomOverSampler\n",
    "from sklearn.model_selection import train_test_split\n",
    "from sklearn.preprocessing import MinMaxScaler\n",
    "import seaborn as sns"
   ]
  },
  {
   "cell_type": "markdown",
   "metadata": {
    "id": "wwrckg4Sw3ZT"
   },
   "source": [
    "### ***Data Exploration***\n",
    "\n",
    "There are 2 datasets availble. A larger data set containing the full data and a smaller data set containing a subset of the data."
   ]
  },
  {
   "cell_type": "markdown",
   "metadata": {
    "id": "JTNF7cL1Q74H"
   },
   "source": [
    "**Large dataset**"
   ]
  },
  {
   "cell_type": "code",
   "execution_count": null,
   "metadata": {
    "colab": {
     "base_uri": "https://localhost:8080/",
     "height": 297
    },
    "id": "ZBsYuyC5hBwE",
    "outputId": "36462b98-e803-4e34-c6f7-b3f9e8bdfb7a"
   },
   "outputs": [
    {
     "data": {
      "text/html": [
       "\n",
       "  <div id=\"df-01eace7b-8ccb-429a-99db-0d56bcd98928\">\n",
       "    <div class=\"colab-df-container\">\n",
       "      <div>\n",
       "<style scoped>\n",
       "    .dataframe tbody tr th:only-of-type {\n",
       "        vertical-align: middle;\n",
       "    }\n",
       "\n",
       "    .dataframe tbody tr th {\n",
       "        vertical-align: top;\n",
       "    }\n",
       "\n",
       "    .dataframe thead th {\n",
       "        text-align: right;\n",
       "    }\n",
       "</style>\n",
       "<table border=\"1\" class=\"dataframe\">\n",
       "  <thead>\n",
       "    <tr style=\"text-align: right;\">\n",
       "      <th></th>\n",
       "      <th>PatientID</th>\n",
       "      <th>StudyID</th>\n",
       "      <th>PatientAge</th>\n",
       "      <th>ImgID</th>\n",
       "      <th>View</th>\n",
       "      <th>SegmentPosition</th>\n",
       "      <th>x0</th>\n",
       "      <th>x1</th>\n",
       "      <th>x2</th>\n",
       "      <th>x3</th>\n",
       "      <th>...</th>\n",
       "      <th>x95</th>\n",
       "      <th>x96</th>\n",
       "      <th>x97</th>\n",
       "      <th>x98</th>\n",
       "      <th>x99</th>\n",
       "      <th>x100</th>\n",
       "      <th>x101</th>\n",
       "      <th>x102</th>\n",
       "      <th>x103</th>\n",
       "      <th>Label</th>\n",
       "    </tr>\n",
       "  </thead>\n",
       "  <tbody>\n",
       "    <tr>\n",
       "      <th>0</th>\n",
       "      <td>optm1</td>\n",
       "      <td>1.2.826.0.1.3680043.9.3218.1.1.15315205.3583.1...</td>\n",
       "      <td>65</td>\n",
       "      <td>1.2.826.0.1.3680043.9.3218.1.1.15315205.3583.1...</td>\n",
       "      <td>CC</td>\n",
       "      <td>LA1</td>\n",
       "      <td>0.019791</td>\n",
       "      <td>70.750121</td>\n",
       "      <td>0.986798</td>\n",
       "      <td>2679.422225</td>\n",
       "      <td>...</td>\n",
       "      <td>0.236469</td>\n",
       "      <td>125.710631</td>\n",
       "      <td>6357.903033</td>\n",
       "      <td>7.732227</td>\n",
       "      <td>11.447468</td>\n",
       "      <td>0.000271</td>\n",
       "      <td>4.279557</td>\n",
       "      <td>-0.326134</td>\n",
       "      <td>0.994207</td>\n",
       "      <td>0</td>\n",
       "    </tr>\n",
       "    <tr>\n",
       "      <th>1</th>\n",
       "      <td>optm1</td>\n",
       "      <td>1.2.826.0.1.3680043.9.3218.1.1.15315205.3583.1...</td>\n",
       "      <td>65</td>\n",
       "      <td>1.2.826.0.1.3680043.9.3218.1.1.15315205.3583.1...</td>\n",
       "      <td>CC</td>\n",
       "      <td>RA1</td>\n",
       "      <td>0.994207</td>\n",
       "      <td>-0.326134</td>\n",
       "      <td>4.279557</td>\n",
       "      <td>0.000271</td>\n",
       "      <td>...</td>\n",
       "      <td>11.202839</td>\n",
       "      <td>7.747646</td>\n",
       "      <td>10646.938779</td>\n",
       "      <td>147.661857</td>\n",
       "      <td>0.280588</td>\n",
       "      <td>2679.422225</td>\n",
       "      <td>0.986798</td>\n",
       "      <td>70.750121</td>\n",
       "      <td>0.019791</td>\n",
       "      <td>0</td>\n",
       "    </tr>\n",
       "    <tr>\n",
       "      <th>2</th>\n",
       "      <td>optm1</td>\n",
       "      <td>1.2.826.0.1.3680043.9.3218.1.1.15315205.3583.1...</td>\n",
       "      <td>65</td>\n",
       "      <td>1.2.826.0.1.3680043.9.3218.1.1.15315205.3583.1...</td>\n",
       "      <td>CC</td>\n",
       "      <td>LB1</td>\n",
       "      <td>0.176898</td>\n",
       "      <td>29.279795</td>\n",
       "      <td>0.991535</td>\n",
       "      <td>1729.360146</td>\n",
       "      <td>...</td>\n",
       "      <td>0.434262</td>\n",
       "      <td>70.013911</td>\n",
       "      <td>3753.220753</td>\n",
       "      <td>6.121706</td>\n",
       "      <td>8.761205</td>\n",
       "      <td>0.000787</td>\n",
       "      <td>3.495691</td>\n",
       "      <td>-0.387325</td>\n",
       "      <td>0.992537</td>\n",
       "      <td>0</td>\n",
       "    </tr>\n",
       "    <tr>\n",
       "      <th>3</th>\n",
       "      <td>optm1</td>\n",
       "      <td>1.2.826.0.1.3680043.9.3218.1.1.15315205.3583.1...</td>\n",
       "      <td>65</td>\n",
       "      <td>1.2.826.0.1.3680043.9.3218.1.1.15315205.3583.1...</td>\n",
       "      <td>CC</td>\n",
       "      <td>RB1</td>\n",
       "      <td>0.992537</td>\n",
       "      <td>-0.387325</td>\n",
       "      <td>3.495691</td>\n",
       "      <td>0.000787</td>\n",
       "      <td>...</td>\n",
       "      <td>7.678311</td>\n",
       "      <td>5.588478</td>\n",
       "      <td>6888.160789</td>\n",
       "      <td>69.492803</td>\n",
       "      <td>0.543738</td>\n",
       "      <td>1729.360146</td>\n",
       "      <td>0.991535</td>\n",
       "      <td>29.279795</td>\n",
       "      <td>0.176898</td>\n",
       "      <td>0</td>\n",
       "    </tr>\n",
       "    <tr>\n",
       "      <th>4</th>\n",
       "      <td>optm1</td>\n",
       "      <td>1.2.826.0.1.3680043.9.3218.1.1.15315205.3583.1...</td>\n",
       "      <td>65</td>\n",
       "      <td>1.2.826.0.1.3680043.9.3218.1.1.15315205.3583.1...</td>\n",
       "      <td>CC</td>\n",
       "      <td>LC1</td>\n",
       "      <td>0.525843</td>\n",
       "      <td>7.001352</td>\n",
       "      <td>0.994143</td>\n",
       "      <td>597.735239</td>\n",
       "      <td>...</td>\n",
       "      <td>0.668818</td>\n",
       "      <td>37.178428</td>\n",
       "      <td>2643.774206</td>\n",
       "      <td>4.044079</td>\n",
       "      <td>5.525354</td>\n",
       "      <td>0.001611</td>\n",
       "      <td>2.364907</td>\n",
       "      <td>-0.474126</td>\n",
       "      <td>0.983734</td>\n",
       "      <td>0</td>\n",
       "    </tr>\n",
       "  </tbody>\n",
       "</table>\n",
       "<p>5 rows × 111 columns</p>\n",
       "</div>\n",
       "      <button class=\"colab-df-convert\" onclick=\"convertToInteractive('df-01eace7b-8ccb-429a-99db-0d56bcd98928')\"\n",
       "              title=\"Convert this dataframe to an interactive table.\"\n",
       "              style=\"display:none;\">\n",
       "        \n",
       "  <svg xmlns=\"http://www.w3.org/2000/svg\" height=\"24px\"viewBox=\"0 0 24 24\"\n",
       "       width=\"24px\">\n",
       "    <path d=\"M0 0h24v24H0V0z\" fill=\"none\"/>\n",
       "    <path d=\"M18.56 5.44l.94 2.06.94-2.06 2.06-.94-2.06-.94-.94-2.06-.94 2.06-2.06.94zm-11 1L8.5 8.5l.94-2.06 2.06-.94-2.06-.94L8.5 2.5l-.94 2.06-2.06.94zm10 10l.94 2.06.94-2.06 2.06-.94-2.06-.94-.94-2.06-.94 2.06-2.06.94z\"/><path d=\"M17.41 7.96l-1.37-1.37c-.4-.4-.92-.59-1.43-.59-.52 0-1.04.2-1.43.59L10.3 9.45l-7.72 7.72c-.78.78-.78 2.05 0 2.83L4 21.41c.39.39.9.59 1.41.59.51 0 1.02-.2 1.41-.59l7.78-7.78 2.81-2.81c.8-.78.8-2.07 0-2.86zM5.41 20L4 18.59l7.72-7.72 1.47 1.35L5.41 20z\"/>\n",
       "  </svg>\n",
       "      </button>\n",
       "      \n",
       "  <style>\n",
       "    .colab-df-container {\n",
       "      display:flex;\n",
       "      flex-wrap:wrap;\n",
       "      gap: 12px;\n",
       "    }\n",
       "\n",
       "    .colab-df-convert {\n",
       "      background-color: #E8F0FE;\n",
       "      border: none;\n",
       "      border-radius: 50%;\n",
       "      cursor: pointer;\n",
       "      display: none;\n",
       "      fill: #1967D2;\n",
       "      height: 32px;\n",
       "      padding: 0 0 0 0;\n",
       "      width: 32px;\n",
       "    }\n",
       "\n",
       "    .colab-df-convert:hover {\n",
       "      background-color: #E2EBFA;\n",
       "      box-shadow: 0px 1px 2px rgba(60, 64, 67, 0.3), 0px 1px 3px 1px rgba(60, 64, 67, 0.15);\n",
       "      fill: #174EA6;\n",
       "    }\n",
       "\n",
       "    [theme=dark] .colab-df-convert {\n",
       "      background-color: #3B4455;\n",
       "      fill: #D2E3FC;\n",
       "    }\n",
       "\n",
       "    [theme=dark] .colab-df-convert:hover {\n",
       "      background-color: #434B5C;\n",
       "      box-shadow: 0px 1px 3px 1px rgba(0, 0, 0, 0.15);\n",
       "      filter: drop-shadow(0px 1px 2px rgba(0, 0, 0, 0.3));\n",
       "      fill: #FFFFFF;\n",
       "    }\n",
       "  </style>\n",
       "\n",
       "      <script>\n",
       "        const buttonEl =\n",
       "          document.querySelector('#df-01eace7b-8ccb-429a-99db-0d56bcd98928 button.colab-df-convert');\n",
       "        buttonEl.style.display =\n",
       "          google.colab.kernel.accessAllowed ? 'block' : 'none';\n",
       "\n",
       "        async function convertToInteractive(key) {\n",
       "          const element = document.querySelector('#df-01eace7b-8ccb-429a-99db-0d56bcd98928');\n",
       "          const dataTable =\n",
       "            await google.colab.kernel.invokeFunction('convertToInteractive',\n",
       "                                                     [key], {});\n",
       "          if (!dataTable) return;\n",
       "\n",
       "          const docLinkHtml = 'Like what you see? Visit the ' +\n",
       "            '<a target=\"_blank\" href=https://colab.research.google.com/notebooks/data_table.ipynb>data table notebook</a>'\n",
       "            + ' to learn more about interactive tables.';\n",
       "          element.innerHTML = '';\n",
       "          dataTable['output_type'] = 'display_data';\n",
       "          await google.colab.output.renderOutput(dataTable, element);\n",
       "          const docLink = document.createElement('div');\n",
       "          docLink.innerHTML = docLinkHtml;\n",
       "          element.appendChild(docLink);\n",
       "        }\n",
       "      </script>\n",
       "    </div>\n",
       "  </div>\n",
       "  "
      ],
      "text/plain": [
       "  PatientID                                            StudyID  PatientAge  \\\n",
       "0     optm1  1.2.826.0.1.3680043.9.3218.1.1.15315205.3583.1...          65   \n",
       "1     optm1  1.2.826.0.1.3680043.9.3218.1.1.15315205.3583.1...          65   \n",
       "2     optm1  1.2.826.0.1.3680043.9.3218.1.1.15315205.3583.1...          65   \n",
       "3     optm1  1.2.826.0.1.3680043.9.3218.1.1.15315205.3583.1...          65   \n",
       "4     optm1  1.2.826.0.1.3680043.9.3218.1.1.15315205.3583.1...          65   \n",
       "\n",
       "                                               ImgID View SegmentPosition  \\\n",
       "0  1.2.826.0.1.3680043.9.3218.1.1.15315205.3583.1...   CC             LA1   \n",
       "1  1.2.826.0.1.3680043.9.3218.1.1.15315205.3583.1...   CC             RA1   \n",
       "2  1.2.826.0.1.3680043.9.3218.1.1.15315205.3583.1...   CC             LB1   \n",
       "3  1.2.826.0.1.3680043.9.3218.1.1.15315205.3583.1...   CC             RB1   \n",
       "4  1.2.826.0.1.3680043.9.3218.1.1.15315205.3583.1...   CC             LC1   \n",
       "\n",
       "         x0         x1        x2           x3  ...        x95         x96  \\\n",
       "0  0.019791  70.750121  0.986798  2679.422225  ...   0.236469  125.710631   \n",
       "1  0.994207  -0.326134  4.279557     0.000271  ...  11.202839    7.747646   \n",
       "2  0.176898  29.279795  0.991535  1729.360146  ...   0.434262   70.013911   \n",
       "3  0.992537  -0.387325  3.495691     0.000787  ...   7.678311    5.588478   \n",
       "4  0.525843   7.001352  0.994143   597.735239  ...   0.668818   37.178428   \n",
       "\n",
       "            x97         x98        x99         x100      x101       x102  \\\n",
       "0   6357.903033    7.732227  11.447468     0.000271  4.279557  -0.326134   \n",
       "1  10646.938779  147.661857   0.280588  2679.422225  0.986798  70.750121   \n",
       "2   3753.220753    6.121706   8.761205     0.000787  3.495691  -0.387325   \n",
       "3   6888.160789   69.492803   0.543738  1729.360146  0.991535  29.279795   \n",
       "4   2643.774206    4.044079   5.525354     0.001611  2.364907  -0.474126   \n",
       "\n",
       "       x103  Label  \n",
       "0  0.994207      0  \n",
       "1  0.019791      0  \n",
       "2  0.992537      0  \n",
       "3  0.176898      0  \n",
       "4  0.983734      0  \n",
       "\n",
       "[5 rows x 111 columns]"
      ]
     },
     "execution_count": 44,
     "metadata": {},
     "output_type": "execute_result"
    }
   ],
   "source": [
    "# loading in the full dataset into a pandas dataframe from GitHub\n",
    "full_data = pd.read_csv('https://media.githubusercontent.com/media/relhwigi/GE_GRAPE_Mammogram_Classification/main/data/haralick02.csv')\n",
    "\n",
    "# checking the data\n",
    "full_data.head()"
   ]
  },
  {
   "cell_type": "code",
   "execution_count": null,
   "metadata": {
    "colab": {
     "base_uri": "https://localhost:8080/",
     "height": 390
    },
    "id": "Wj37tZgzbAvA",
    "outputId": "a9b0fc46-0e72-44f9-c925-b7e48de5e144"
   },
   "outputs": [
    {
     "data": {
      "text/html": [
       "\n",
       "  <div id=\"df-f472674f-e872-4bed-8dae-e9cb7c9935cb\">\n",
       "    <div class=\"colab-df-container\">\n",
       "      <div>\n",
       "<style scoped>\n",
       "    .dataframe tbody tr th:only-of-type {\n",
       "        vertical-align: middle;\n",
       "    }\n",
       "\n",
       "    .dataframe tbody tr th {\n",
       "        vertical-align: top;\n",
       "    }\n",
       "\n",
       "    .dataframe thead th {\n",
       "        text-align: right;\n",
       "    }\n",
       "</style>\n",
       "<table border=\"1\" class=\"dataframe\">\n",
       "  <thead>\n",
       "    <tr style=\"text-align: right;\">\n",
       "      <th></th>\n",
       "      <th>PatientAge</th>\n",
       "      <th>x0</th>\n",
       "      <th>x1</th>\n",
       "      <th>x2</th>\n",
       "      <th>x3</th>\n",
       "      <th>x4</th>\n",
       "      <th>x5</th>\n",
       "      <th>x6</th>\n",
       "      <th>x7</th>\n",
       "      <th>x8</th>\n",
       "      <th>...</th>\n",
       "      <th>x95</th>\n",
       "      <th>x96</th>\n",
       "      <th>x97</th>\n",
       "      <th>x98</th>\n",
       "      <th>x99</th>\n",
       "      <th>x100</th>\n",
       "      <th>x101</th>\n",
       "      <th>x102</th>\n",
       "      <th>x103</th>\n",
       "      <th>Label</th>\n",
       "    </tr>\n",
       "  </thead>\n",
       "  <tbody>\n",
       "    <tr>\n",
       "      <th>count</th>\n",
       "      <td>405280.000000</td>\n",
       "      <td>405280.000000</td>\n",
       "      <td>405280.000000</td>\n",
       "      <td>405280.000000</td>\n",
       "      <td>405280.000000</td>\n",
       "      <td>405280.000000</td>\n",
       "      <td>405280.000000</td>\n",
       "      <td>405280.000000</td>\n",
       "      <td>405280.000000</td>\n",
       "      <td>405280.000000</td>\n",
       "      <td>...</td>\n",
       "      <td>405280.000000</td>\n",
       "      <td>405280.000000</td>\n",
       "      <td>405280.000000</td>\n",
       "      <td>405280.000000</td>\n",
       "      <td>405280.000000</td>\n",
       "      <td>405280.000000</td>\n",
       "      <td>405280.000000</td>\n",
       "      <td>405280.000000</td>\n",
       "      <td>405280.000000</td>\n",
       "      <td>405280.000000</td>\n",
       "    </tr>\n",
       "    <tr>\n",
       "      <th>mean</th>\n",
       "      <td>60.345638</td>\n",
       "      <td>0.546924</td>\n",
       "      <td>25.173811</td>\n",
       "      <td>2.148299</td>\n",
       "      <td>618.533917</td>\n",
       "      <td>4.655893</td>\n",
       "      <td>58.528287</td>\n",
       "      <td>4909.080950</td>\n",
       "      <td>58.198189</td>\n",
       "      <td>4.591705</td>\n",
       "      <td>...</td>\n",
       "      <td>4.591705</td>\n",
       "      <td>58.198189</td>\n",
       "      <td>4909.080950</td>\n",
       "      <td>58.528287</td>\n",
       "      <td>4.655893</td>\n",
       "      <td>618.533917</td>\n",
       "      <td>2.148299</td>\n",
       "      <td>25.173811</td>\n",
       "      <td>0.546924</td>\n",
       "      <td>0.030248</td>\n",
       "    </tr>\n",
       "    <tr>\n",
       "      <th>std</th>\n",
       "      <td>8.212397</td>\n",
       "      <td>0.453399</td>\n",
       "      <td>37.215509</td>\n",
       "      <td>1.555457</td>\n",
       "      <td>932.928751</td>\n",
       "      <td>5.137900</td>\n",
       "      <td>76.282008</td>\n",
       "      <td>3965.230680</td>\n",
       "      <td>75.787156</td>\n",
       "      <td>5.067607</td>\n",
       "      <td>...</td>\n",
       "      <td>5.067607</td>\n",
       "      <td>75.787156</td>\n",
       "      <td>3965.230680</td>\n",
       "      <td>76.282008</td>\n",
       "      <td>5.137900</td>\n",
       "      <td>932.928751</td>\n",
       "      <td>1.555457</td>\n",
       "      <td>37.215509</td>\n",
       "      <td>0.453399</td>\n",
       "      <td>0.171270</td>\n",
       "    </tr>\n",
       "    <tr>\n",
       "      <th>min</th>\n",
       "      <td>30.000000</td>\n",
       "      <td>0.000000</td>\n",
       "      <td>-1.000000</td>\n",
       "      <td>-0.000204</td>\n",
       "      <td>0.000000</td>\n",
       "      <td>-0.000000</td>\n",
       "      <td>-0.000000</td>\n",
       "      <td>0.000000</td>\n",
       "      <td>0.000000</td>\n",
       "      <td>-0.000000</td>\n",
       "      <td>...</td>\n",
       "      <td>-0.000000</td>\n",
       "      <td>-0.000000</td>\n",
       "      <td>0.000000</td>\n",
       "      <td>0.000000</td>\n",
       "      <td>-0.000000</td>\n",
       "      <td>0.000000</td>\n",
       "      <td>-0.000204</td>\n",
       "      <td>-1.000000</td>\n",
       "      <td>0.000000</td>\n",
       "      <td>0.000000</td>\n",
       "    </tr>\n",
       "    <tr>\n",
       "      <th>25%</th>\n",
       "      <td>54.000000</td>\n",
       "      <td>0.001709</td>\n",
       "      <td>-0.309129</td>\n",
       "      <td>0.975508</td>\n",
       "      <td>0.000301</td>\n",
       "      <td>0.216874</td>\n",
       "      <td>6.764909</td>\n",
       "      <td>2086.682893</td>\n",
       "      <td>6.773880</td>\n",
       "      <td>0.192860</td>\n",
       "      <td>...</td>\n",
       "      <td>0.192860</td>\n",
       "      <td>6.773880</td>\n",
       "      <td>2086.682893</td>\n",
       "      <td>6.764909</td>\n",
       "      <td>0.216874</td>\n",
       "      <td>0.000301</td>\n",
       "      <td>0.975508</td>\n",
       "      <td>-0.309129</td>\n",
       "      <td>0.001709</td>\n",
       "      <td>0.000000</td>\n",
       "    </tr>\n",
       "    <tr>\n",
       "      <th>50%</th>\n",
       "      <td>61.000000</td>\n",
       "      <td>0.821703</td>\n",
       "      <td>0.000000</td>\n",
       "      <td>0.995603</td>\n",
       "      <td>0.004511</td>\n",
       "      <td>0.952885</td>\n",
       "      <td>8.205620</td>\n",
       "      <td>4073.782556</td>\n",
       "      <td>8.193836</td>\n",
       "      <td>0.957408</td>\n",
       "      <td>...</td>\n",
       "      <td>0.957408</td>\n",
       "      <td>8.193836</td>\n",
       "      <td>4073.782556</td>\n",
       "      <td>8.205620</td>\n",
       "      <td>0.952885</td>\n",
       "      <td>0.004511</td>\n",
       "      <td>0.995603</td>\n",
       "      <td>0.000000</td>\n",
       "      <td>0.821703</td>\n",
       "      <td>0.000000</td>\n",
       "    </tr>\n",
       "    <tr>\n",
       "      <th>75%</th>\n",
       "      <td>66.000000</td>\n",
       "      <td>0.987784</td>\n",
       "      <td>46.411842</td>\n",
       "      <td>3.961258</td>\n",
       "      <td>1029.679274</td>\n",
       "      <td>10.832815</td>\n",
       "      <td>103.590306</td>\n",
       "      <td>6732.489374</td>\n",
       "      <td>103.210966</td>\n",
       "      <td>10.643587</td>\n",
       "      <td>...</td>\n",
       "      <td>10.643587</td>\n",
       "      <td>103.210966</td>\n",
       "      <td>6732.489374</td>\n",
       "      <td>103.590306</td>\n",
       "      <td>10.832815</td>\n",
       "      <td>1029.679274</td>\n",
       "      <td>3.961258</td>\n",
       "      <td>46.411842</td>\n",
       "      <td>0.987784</td>\n",
       "      <td>0.000000</td>\n",
       "    </tr>\n",
       "    <tr>\n",
       "      <th>max</th>\n",
       "      <td>93.000000</td>\n",
       "      <td>1.000000</td>\n",
       "      <td>1974.782692</td>\n",
       "      <td>6.718097</td>\n",
       "      <td>12581.824994</td>\n",
       "      <td>14.739384</td>\n",
       "      <td>484.777437</td>\n",
       "      <td>53102.665299</td>\n",
       "      <td>473.620478</td>\n",
       "      <td>14.569183</td>\n",
       "      <td>...</td>\n",
       "      <td>14.569183</td>\n",
       "      <td>473.620478</td>\n",
       "      <td>53102.665299</td>\n",
       "      <td>484.777437</td>\n",
       "      <td>14.739384</td>\n",
       "      <td>12581.824994</td>\n",
       "      <td>6.718097</td>\n",
       "      <td>1974.782692</td>\n",
       "      <td>1.000000</td>\n",
       "      <td>1.000000</td>\n",
       "    </tr>\n",
       "  </tbody>\n",
       "</table>\n",
       "<p>8 rows × 106 columns</p>\n",
       "</div>\n",
       "      <button class=\"colab-df-convert\" onclick=\"convertToInteractive('df-f472674f-e872-4bed-8dae-e9cb7c9935cb')\"\n",
       "              title=\"Convert this dataframe to an interactive table.\"\n",
       "              style=\"display:none;\">\n",
       "        \n",
       "  <svg xmlns=\"http://www.w3.org/2000/svg\" height=\"24px\"viewBox=\"0 0 24 24\"\n",
       "       width=\"24px\">\n",
       "    <path d=\"M0 0h24v24H0V0z\" fill=\"none\"/>\n",
       "    <path d=\"M18.56 5.44l.94 2.06.94-2.06 2.06-.94-2.06-.94-.94-2.06-.94 2.06-2.06.94zm-11 1L8.5 8.5l.94-2.06 2.06-.94-2.06-.94L8.5 2.5l-.94 2.06-2.06.94zm10 10l.94 2.06.94-2.06 2.06-.94-2.06-.94-.94-2.06-.94 2.06-2.06.94z\"/><path d=\"M17.41 7.96l-1.37-1.37c-.4-.4-.92-.59-1.43-.59-.52 0-1.04.2-1.43.59L10.3 9.45l-7.72 7.72c-.78.78-.78 2.05 0 2.83L4 21.41c.39.39.9.59 1.41.59.51 0 1.02-.2 1.41-.59l7.78-7.78 2.81-2.81c.8-.78.8-2.07 0-2.86zM5.41 20L4 18.59l7.72-7.72 1.47 1.35L5.41 20z\"/>\n",
       "  </svg>\n",
       "      </button>\n",
       "      \n",
       "  <style>\n",
       "    .colab-df-container {\n",
       "      display:flex;\n",
       "      flex-wrap:wrap;\n",
       "      gap: 12px;\n",
       "    }\n",
       "\n",
       "    .colab-df-convert {\n",
       "      background-color: #E8F0FE;\n",
       "      border: none;\n",
       "      border-radius: 50%;\n",
       "      cursor: pointer;\n",
       "      display: none;\n",
       "      fill: #1967D2;\n",
       "      height: 32px;\n",
       "      padding: 0 0 0 0;\n",
       "      width: 32px;\n",
       "    }\n",
       "\n",
       "    .colab-df-convert:hover {\n",
       "      background-color: #E2EBFA;\n",
       "      box-shadow: 0px 1px 2px rgba(60, 64, 67, 0.3), 0px 1px 3px 1px rgba(60, 64, 67, 0.15);\n",
       "      fill: #174EA6;\n",
       "    }\n",
       "\n",
       "    [theme=dark] .colab-df-convert {\n",
       "      background-color: #3B4455;\n",
       "      fill: #D2E3FC;\n",
       "    }\n",
       "\n",
       "    [theme=dark] .colab-df-convert:hover {\n",
       "      background-color: #434B5C;\n",
       "      box-shadow: 0px 1px 3px 1px rgba(0, 0, 0, 0.15);\n",
       "      filter: drop-shadow(0px 1px 2px rgba(0, 0, 0, 0.3));\n",
       "      fill: #FFFFFF;\n",
       "    }\n",
       "  </style>\n",
       "\n",
       "      <script>\n",
       "        const buttonEl =\n",
       "          document.querySelector('#df-f472674f-e872-4bed-8dae-e9cb7c9935cb button.colab-df-convert');\n",
       "        buttonEl.style.display =\n",
       "          google.colab.kernel.accessAllowed ? 'block' : 'none';\n",
       "\n",
       "        async function convertToInteractive(key) {\n",
       "          const element = document.querySelector('#df-f472674f-e872-4bed-8dae-e9cb7c9935cb');\n",
       "          const dataTable =\n",
       "            await google.colab.kernel.invokeFunction('convertToInteractive',\n",
       "                                                     [key], {});\n",
       "          if (!dataTable) return;\n",
       "\n",
       "          const docLinkHtml = 'Like what you see? Visit the ' +\n",
       "            '<a target=\"_blank\" href=https://colab.research.google.com/notebooks/data_table.ipynb>data table notebook</a>'\n",
       "            + ' to learn more about interactive tables.';\n",
       "          element.innerHTML = '';\n",
       "          dataTable['output_type'] = 'display_data';\n",
       "          await google.colab.output.renderOutput(dataTable, element);\n",
       "          const docLink = document.createElement('div');\n",
       "          docLink.innerHTML = docLinkHtml;\n",
       "          element.appendChild(docLink);\n",
       "        }\n",
       "      </script>\n",
       "    </div>\n",
       "  </div>\n",
       "  "
      ],
      "text/plain": [
       "          PatientAge             x0             x1             x2  \\\n",
       "count  405280.000000  405280.000000  405280.000000  405280.000000   \n",
       "mean       60.345638       0.546924      25.173811       2.148299   \n",
       "std         8.212397       0.453399      37.215509       1.555457   \n",
       "min        30.000000       0.000000      -1.000000      -0.000204   \n",
       "25%        54.000000       0.001709      -0.309129       0.975508   \n",
       "50%        61.000000       0.821703       0.000000       0.995603   \n",
       "75%        66.000000       0.987784      46.411842       3.961258   \n",
       "max        93.000000       1.000000    1974.782692       6.718097   \n",
       "\n",
       "                  x3             x4             x5             x6  \\\n",
       "count  405280.000000  405280.000000  405280.000000  405280.000000   \n",
       "mean      618.533917       4.655893      58.528287    4909.080950   \n",
       "std       932.928751       5.137900      76.282008    3965.230680   \n",
       "min         0.000000      -0.000000      -0.000000       0.000000   \n",
       "25%         0.000301       0.216874       6.764909    2086.682893   \n",
       "50%         0.004511       0.952885       8.205620    4073.782556   \n",
       "75%      1029.679274      10.832815     103.590306    6732.489374   \n",
       "max     12581.824994      14.739384     484.777437   53102.665299   \n",
       "\n",
       "                  x7             x8  ...            x95            x96  \\\n",
       "count  405280.000000  405280.000000  ...  405280.000000  405280.000000   \n",
       "mean       58.198189       4.591705  ...       4.591705      58.198189   \n",
       "std        75.787156       5.067607  ...       5.067607      75.787156   \n",
       "min         0.000000      -0.000000  ...      -0.000000      -0.000000   \n",
       "25%         6.773880       0.192860  ...       0.192860       6.773880   \n",
       "50%         8.193836       0.957408  ...       0.957408       8.193836   \n",
       "75%       103.210966      10.643587  ...      10.643587     103.210966   \n",
       "max       473.620478      14.569183  ...      14.569183     473.620478   \n",
       "\n",
       "                 x97            x98            x99           x100  \\\n",
       "count  405280.000000  405280.000000  405280.000000  405280.000000   \n",
       "mean     4909.080950      58.528287       4.655893     618.533917   \n",
       "std      3965.230680      76.282008       5.137900     932.928751   \n",
       "min         0.000000       0.000000      -0.000000       0.000000   \n",
       "25%      2086.682893       6.764909       0.216874       0.000301   \n",
       "50%      4073.782556       8.205620       0.952885       0.004511   \n",
       "75%      6732.489374     103.590306      10.832815    1029.679274   \n",
       "max     53102.665299     484.777437      14.739384   12581.824994   \n",
       "\n",
       "                x101           x102           x103          Label  \n",
       "count  405280.000000  405280.000000  405280.000000  405280.000000  \n",
       "mean        2.148299      25.173811       0.546924       0.030248  \n",
       "std         1.555457      37.215509       0.453399       0.171270  \n",
       "min        -0.000204      -1.000000       0.000000       0.000000  \n",
       "25%         0.975508      -0.309129       0.001709       0.000000  \n",
       "50%         0.995603       0.000000       0.821703       0.000000  \n",
       "75%         3.961258      46.411842       0.987784       0.000000  \n",
       "max         6.718097    1974.782692       1.000000       1.000000  \n",
       "\n",
       "[8 rows x 106 columns]"
      ]
     },
     "execution_count": 3,
     "metadata": {},
     "output_type": "execute_result"
    }
   ],
   "source": [
    "full_data.describe()"
   ]
  },
  {
   "cell_type": "code",
   "execution_count": null,
   "metadata": {
    "colab": {
     "base_uri": "https://localhost:8080/"
    },
    "id": "X6MkMGwwBe8q",
    "outputId": "89ee7200-cef1-4e3a-b3f9-ccc4b85a0e4d"
   },
   "outputs": [
    {
     "data": {
      "text/plain": [
       "PatientID      object\n",
       "StudyID        object\n",
       "PatientAge      int64\n",
       "ImgID          object\n",
       "View           object\n",
       "               ...   \n",
       "x100          float64\n",
       "x101          float64\n",
       "x102          float64\n",
       "x103          float64\n",
       "Label           int64\n",
       "Length: 111, dtype: object"
      ]
     },
     "execution_count": 4,
     "metadata": {},
     "output_type": "execute_result"
    }
   ],
   "source": [
    "dataTypeSeries = full_data.dtypes\n",
    "dataTypeSeries"
   ]
  },
  {
   "cell_type": "markdown",
   "metadata": {
    "id": "6v62BR8_RE3b"
   },
   "source": [
    "**Smaller dataset**"
   ]
  },
  {
   "cell_type": "code",
   "execution_count": null,
   "metadata": {
    "colab": {
     "base_uri": "https://localhost:8080/",
     "height": 297
    },
    "id": "sUCGcHCrxa4C",
    "outputId": "c8d00bfb-b257-4166-b48e-94cfd77061c2"
   },
   "outputs": [
    {
     "data": {
      "text/html": [
       "\n",
       "  <div id=\"df-4aedfb1b-5ddd-403f-a79a-01c4e3321d03\">\n",
       "    <div class=\"colab-df-container\">\n",
       "      <div>\n",
       "<style scoped>\n",
       "    .dataframe tbody tr th:only-of-type {\n",
       "        vertical-align: middle;\n",
       "    }\n",
       "\n",
       "    .dataframe tbody tr th {\n",
       "        vertical-align: top;\n",
       "    }\n",
       "\n",
       "    .dataframe thead th {\n",
       "        text-align: right;\n",
       "    }\n",
       "</style>\n",
       "<table border=\"1\" class=\"dataframe\">\n",
       "  <thead>\n",
       "    <tr style=\"text-align: right;\">\n",
       "      <th></th>\n",
       "      <th>PatientID</th>\n",
       "      <th>StudyID</th>\n",
       "      <th>PatientAge</th>\n",
       "      <th>ImgID</th>\n",
       "      <th>View</th>\n",
       "      <th>SegmentPosition</th>\n",
       "      <th>x0</th>\n",
       "      <th>x1</th>\n",
       "      <th>x2</th>\n",
       "      <th>x3</th>\n",
       "      <th>...</th>\n",
       "      <th>x95</th>\n",
       "      <th>x96</th>\n",
       "      <th>x97</th>\n",
       "      <th>x98</th>\n",
       "      <th>x99</th>\n",
       "      <th>x100</th>\n",
       "      <th>x101</th>\n",
       "      <th>x102</th>\n",
       "      <th>x103</th>\n",
       "      <th>Label</th>\n",
       "    </tr>\n",
       "  </thead>\n",
       "  <tbody>\n",
       "    <tr>\n",
       "      <th>24994</th>\n",
       "      <td>optm1344</td>\n",
       "      <td>1.2.826.0.1.3680043.9.3218.1.1.1404259.6176.15...</td>\n",
       "      <td>66</td>\n",
       "      <td>1.2.826.0.1.3680043.9.3218.1.1.1404259.6176.15...</td>\n",
       "      <td>MLO</td>\n",
       "      <td>LC4</td>\n",
       "      <td>0.580839</td>\n",
       "      <td>3.045049</td>\n",
       "      <td>0.997699</td>\n",
       "      <td>661.727190</td>\n",
       "      <td>...</td>\n",
       "      <td>0.890533</td>\n",
       "      <td>17.894517</td>\n",
       "      <td>2432.550097</td>\n",
       "      <td>1.636074</td>\n",
       "      <td>2.120537</td>\n",
       "      <td>0.004044</td>\n",
       "      <td>1.030084</td>\n",
       "      <td>-0.579495</td>\n",
       "      <td>0.907051</td>\n",
       "      <td>0</td>\n",
       "    </tr>\n",
       "    <tr>\n",
       "      <th>24995</th>\n",
       "      <td>optm1344</td>\n",
       "      <td>1.2.826.0.1.3680043.9.3218.1.1.1404259.6176.15...</td>\n",
       "      <td>66</td>\n",
       "      <td>1.2.826.0.1.3680043.9.3218.1.1.1404259.6176.15...</td>\n",
       "      <td>MLO</td>\n",
       "      <td>RC4</td>\n",
       "      <td>0.907051</td>\n",
       "      <td>-0.579495</td>\n",
       "      <td>1.030084</td>\n",
       "      <td>0.004044</td>\n",
       "      <td>...</td>\n",
       "      <td>3.163219</td>\n",
       "      <td>2.494799</td>\n",
       "      <td>2643.863713</td>\n",
       "      <td>26.268896</td>\n",
       "      <td>0.836922</td>\n",
       "      <td>661.727190</td>\n",
       "      <td>0.997699</td>\n",
       "      <td>3.045049</td>\n",
       "      <td>0.580839</td>\n",
       "      <td>0</td>\n",
       "    </tr>\n",
       "    <tr>\n",
       "      <th>24996</th>\n",
       "      <td>optm1344</td>\n",
       "      <td>1.2.826.0.1.3680043.9.3218.1.1.1404259.6176.15...</td>\n",
       "      <td>66</td>\n",
       "      <td>1.2.826.0.1.3680043.9.3218.1.1.1404259.6176.15...</td>\n",
       "      <td>MLO</td>\n",
       "      <td>LD4</td>\n",
       "      <td>0.826577</td>\n",
       "      <td>0.954606</td>\n",
       "      <td>0.998275</td>\n",
       "      <td>276.728460</td>\n",
       "      <td>...</td>\n",
       "      <td>0.981381</td>\n",
       "      <td>2.450326</td>\n",
       "      <td>335.995648</td>\n",
       "      <td>0.334633</td>\n",
       "      <td>0.412324</td>\n",
       "      <td>0.005377</td>\n",
       "      <td>0.236487</td>\n",
       "      <td>-0.658832</td>\n",
       "      <td>0.577138</td>\n",
       "      <td>0</td>\n",
       "    </tr>\n",
       "    <tr>\n",
       "      <th>24997</th>\n",
       "      <td>optm1344</td>\n",
       "      <td>1.2.826.0.1.3680043.9.3218.1.1.1404259.6176.15...</td>\n",
       "      <td>66</td>\n",
       "      <td>1.2.826.0.1.3680043.9.3218.1.1.1404259.6176.15...</td>\n",
       "      <td>MLO</td>\n",
       "      <td>RD4</td>\n",
       "      <td>0.577138</td>\n",
       "      <td>-0.658832</td>\n",
       "      <td>0.236487</td>\n",
       "      <td>0.005377</td>\n",
       "      <td>...</td>\n",
       "      <td>1.339445</td>\n",
       "      <td>1.102387</td>\n",
       "      <td>1105.959234</td>\n",
       "      <td>9.732558</td>\n",
       "      <td>0.940576</td>\n",
       "      <td>276.728460</td>\n",
       "      <td>0.998275</td>\n",
       "      <td>0.954606</td>\n",
       "      <td>0.826577</td>\n",
       "      <td>0</td>\n",
       "    </tr>\n",
       "    <tr>\n",
       "      <th>24998</th>\n",
       "      <td>optm1344</td>\n",
       "      <td>1.2.826.0.1.3680043.9.3218.1.1.1404259.6176.15...</td>\n",
       "      <td>66</td>\n",
       "      <td>1.2.826.0.1.3680043.9.3218.1.1.1404259.6176.15...</td>\n",
       "      <td>MLO</td>\n",
       "      <td>LE4</td>\n",
       "      <td>1.000000</td>\n",
       "      <td>0.000000</td>\n",
       "      <td>1.000000</td>\n",
       "      <td>0.000000</td>\n",
       "      <td>...</td>\n",
       "      <td>1.000000</td>\n",
       "      <td>0.000000</td>\n",
       "      <td>0.000000</td>\n",
       "      <td>-0.000000</td>\n",
       "      <td>-0.000000</td>\n",
       "      <td>0.000000</td>\n",
       "      <td>-0.000000</td>\n",
       "      <td>0.000000</td>\n",
       "      <td>0.000000</td>\n",
       "      <td>0</td>\n",
       "    </tr>\n",
       "  </tbody>\n",
       "</table>\n",
       "<p>5 rows × 111 columns</p>\n",
       "</div>\n",
       "      <button class=\"colab-df-convert\" onclick=\"convertToInteractive('df-4aedfb1b-5ddd-403f-a79a-01c4e3321d03')\"\n",
       "              title=\"Convert this dataframe to an interactive table.\"\n",
       "              style=\"display:none;\">\n",
       "        \n",
       "  <svg xmlns=\"http://www.w3.org/2000/svg\" height=\"24px\"viewBox=\"0 0 24 24\"\n",
       "       width=\"24px\">\n",
       "    <path d=\"M0 0h24v24H0V0z\" fill=\"none\"/>\n",
       "    <path d=\"M18.56 5.44l.94 2.06.94-2.06 2.06-.94-2.06-.94-.94-2.06-.94 2.06-2.06.94zm-11 1L8.5 8.5l.94-2.06 2.06-.94-2.06-.94L8.5 2.5l-.94 2.06-2.06.94zm10 10l.94 2.06.94-2.06 2.06-.94-2.06-.94-.94-2.06-.94 2.06-2.06.94z\"/><path d=\"M17.41 7.96l-1.37-1.37c-.4-.4-.92-.59-1.43-.59-.52 0-1.04.2-1.43.59L10.3 9.45l-7.72 7.72c-.78.78-.78 2.05 0 2.83L4 21.41c.39.39.9.59 1.41.59.51 0 1.02-.2 1.41-.59l7.78-7.78 2.81-2.81c.8-.78.8-2.07 0-2.86zM5.41 20L4 18.59l7.72-7.72 1.47 1.35L5.41 20z\"/>\n",
       "  </svg>\n",
       "      </button>\n",
       "      \n",
       "  <style>\n",
       "    .colab-df-container {\n",
       "      display:flex;\n",
       "      flex-wrap:wrap;\n",
       "      gap: 12px;\n",
       "    }\n",
       "\n",
       "    .colab-df-convert {\n",
       "      background-color: #E8F0FE;\n",
       "      border: none;\n",
       "      border-radius: 50%;\n",
       "      cursor: pointer;\n",
       "      display: none;\n",
       "      fill: #1967D2;\n",
       "      height: 32px;\n",
       "      padding: 0 0 0 0;\n",
       "      width: 32px;\n",
       "    }\n",
       "\n",
       "    .colab-df-convert:hover {\n",
       "      background-color: #E2EBFA;\n",
       "      box-shadow: 0px 1px 2px rgba(60, 64, 67, 0.3), 0px 1px 3px 1px rgba(60, 64, 67, 0.15);\n",
       "      fill: #174EA6;\n",
       "    }\n",
       "\n",
       "    [theme=dark] .colab-df-convert {\n",
       "      background-color: #3B4455;\n",
       "      fill: #D2E3FC;\n",
       "    }\n",
       "\n",
       "    [theme=dark] .colab-df-convert:hover {\n",
       "      background-color: #434B5C;\n",
       "      box-shadow: 0px 1px 3px 1px rgba(0, 0, 0, 0.15);\n",
       "      filter: drop-shadow(0px 1px 2px rgba(0, 0, 0, 0.3));\n",
       "      fill: #FFFFFF;\n",
       "    }\n",
       "  </style>\n",
       "\n",
       "      <script>\n",
       "        const buttonEl =\n",
       "          document.querySelector('#df-4aedfb1b-5ddd-403f-a79a-01c4e3321d03 button.colab-df-convert');\n",
       "        buttonEl.style.display =\n",
       "          google.colab.kernel.accessAllowed ? 'block' : 'none';\n",
       "\n",
       "        async function convertToInteractive(key) {\n",
       "          const element = document.querySelector('#df-4aedfb1b-5ddd-403f-a79a-01c4e3321d03');\n",
       "          const dataTable =\n",
       "            await google.colab.kernel.invokeFunction('convertToInteractive',\n",
       "                                                     [key], {});\n",
       "          if (!dataTable) return;\n",
       "\n",
       "          const docLinkHtml = 'Like what you see? Visit the ' +\n",
       "            '<a target=\"_blank\" href=https://colab.research.google.com/notebooks/data_table.ipynb>data table notebook</a>'\n",
       "            + ' to learn more about interactive tables.';\n",
       "          element.innerHTML = '';\n",
       "          dataTable['output_type'] = 'display_data';\n",
       "          await google.colab.output.renderOutput(dataTable, element);\n",
       "          const docLink = document.createElement('div');\n",
       "          docLink.innerHTML = docLinkHtml;\n",
       "          element.appendChild(docLink);\n",
       "        }\n",
       "      </script>\n",
       "    </div>\n",
       "  </div>\n",
       "  "
      ],
      "text/plain": [
       "      PatientID                                            StudyID  \\\n",
       "24994  optm1344  1.2.826.0.1.3680043.9.3218.1.1.1404259.6176.15...   \n",
       "24995  optm1344  1.2.826.0.1.3680043.9.3218.1.1.1404259.6176.15...   \n",
       "24996  optm1344  1.2.826.0.1.3680043.9.3218.1.1.1404259.6176.15...   \n",
       "24997  optm1344  1.2.826.0.1.3680043.9.3218.1.1.1404259.6176.15...   \n",
       "24998  optm1344  1.2.826.0.1.3680043.9.3218.1.1.1404259.6176.15...   \n",
       "\n",
       "       PatientAge                                              ImgID View  \\\n",
       "24994          66  1.2.826.0.1.3680043.9.3218.1.1.1404259.6176.15...  MLO   \n",
       "24995          66  1.2.826.0.1.3680043.9.3218.1.1.1404259.6176.15...  MLO   \n",
       "24996          66  1.2.826.0.1.3680043.9.3218.1.1.1404259.6176.15...  MLO   \n",
       "24997          66  1.2.826.0.1.3680043.9.3218.1.1.1404259.6176.15...  MLO   \n",
       "24998          66  1.2.826.0.1.3680043.9.3218.1.1.1404259.6176.15...  MLO   \n",
       "\n",
       "      SegmentPosition        x0        x1        x2          x3  ...  \\\n",
       "24994             LC4  0.580839  3.045049  0.997699  661.727190  ...   \n",
       "24995             RC4  0.907051 -0.579495  1.030084    0.004044  ...   \n",
       "24996             LD4  0.826577  0.954606  0.998275  276.728460  ...   \n",
       "24997             RD4  0.577138 -0.658832  0.236487    0.005377  ...   \n",
       "24998             LE4  1.000000  0.000000  1.000000    0.000000  ...   \n",
       "\n",
       "            x95        x96          x97        x98       x99        x100  \\\n",
       "24994  0.890533  17.894517  2432.550097   1.636074  2.120537    0.004044   \n",
       "24995  3.163219   2.494799  2643.863713  26.268896  0.836922  661.727190   \n",
       "24996  0.981381   2.450326   335.995648   0.334633  0.412324    0.005377   \n",
       "24997  1.339445   1.102387  1105.959234   9.732558  0.940576  276.728460   \n",
       "24998  1.000000   0.000000     0.000000  -0.000000 -0.000000    0.000000   \n",
       "\n",
       "           x101      x102      x103  Label  \n",
       "24994  1.030084 -0.579495  0.907051      0  \n",
       "24995  0.997699  3.045049  0.580839      0  \n",
       "24996  0.236487 -0.658832  0.577138      0  \n",
       "24997  0.998275  0.954606  0.826577      0  \n",
       "24998 -0.000000  0.000000  0.000000      0  \n",
       "\n",
       "[5 rows x 111 columns]"
      ]
     },
     "execution_count": 5,
     "metadata": {},
     "output_type": "execute_result"
    }
   ],
   "source": [
    "# loading in the sample dataset into a pandas dataframe from GitHub\n",
    "some_data = pd.read_csv('https://media.githubusercontent.com/media/relhwigi/GE_GRAPE_Mammogram_Classification/main/data/haralick02_250K.csv')\n",
    "\n",
    "# checking the data\n",
    "some_data.tail()"
   ]
  },
  {
   "cell_type": "code",
   "execution_count": null,
   "metadata": {
    "colab": {
     "base_uri": "https://localhost:8080/",
     "height": 390
    },
    "id": "cdWc10lBbEMu",
    "outputId": "4150b437-b7b1-46a6-f04f-5f561d325b63"
   },
   "outputs": [
    {
     "data": {
      "text/html": [
       "\n",
       "  <div id=\"df-f2664111-7ea6-4065-9371-1d7d5f0e656d\">\n",
       "    <div class=\"colab-df-container\">\n",
       "      <div>\n",
       "<style scoped>\n",
       "    .dataframe tbody tr th:only-of-type {\n",
       "        vertical-align: middle;\n",
       "    }\n",
       "\n",
       "    .dataframe tbody tr th {\n",
       "        vertical-align: top;\n",
       "    }\n",
       "\n",
       "    .dataframe thead th {\n",
       "        text-align: right;\n",
       "    }\n",
       "</style>\n",
       "<table border=\"1\" class=\"dataframe\">\n",
       "  <thead>\n",
       "    <tr style=\"text-align: right;\">\n",
       "      <th></th>\n",
       "      <th>PatientAge</th>\n",
       "      <th>x0</th>\n",
       "      <th>x1</th>\n",
       "      <th>x2</th>\n",
       "      <th>x3</th>\n",
       "      <th>x4</th>\n",
       "      <th>x5</th>\n",
       "      <th>x6</th>\n",
       "      <th>x7</th>\n",
       "      <th>x8</th>\n",
       "      <th>...</th>\n",
       "      <th>x95</th>\n",
       "      <th>x96</th>\n",
       "      <th>x97</th>\n",
       "      <th>x98</th>\n",
       "      <th>x99</th>\n",
       "      <th>x100</th>\n",
       "      <th>x101</th>\n",
       "      <th>x102</th>\n",
       "      <th>x103</th>\n",
       "      <th>Label</th>\n",
       "    </tr>\n",
       "  </thead>\n",
       "  <tbody>\n",
       "    <tr>\n",
       "      <th>count</th>\n",
       "      <td>24999.000000</td>\n",
       "      <td>24999.000000</td>\n",
       "      <td>24999.000000</td>\n",
       "      <td>24999.000000</td>\n",
       "      <td>24999.000000</td>\n",
       "      <td>24999.000000</td>\n",
       "      <td>24999.000000</td>\n",
       "      <td>24999.000000</td>\n",
       "      <td>24999.000000</td>\n",
       "      <td>24999.000000</td>\n",
       "      <td>...</td>\n",
       "      <td>24999.000000</td>\n",
       "      <td>24999.000000</td>\n",
       "      <td>24999.000000</td>\n",
       "      <td>24999.000000</td>\n",
       "      <td>24999.000000</td>\n",
       "      <td>24999.000000</td>\n",
       "      <td>24999.000000</td>\n",
       "      <td>24999.000000</td>\n",
       "      <td>24999.000000</td>\n",
       "      <td>24999.000000</td>\n",
       "    </tr>\n",
       "    <tr>\n",
       "      <th>mean</th>\n",
       "      <td>60.986999</td>\n",
       "      <td>0.548173</td>\n",
       "      <td>25.738719</td>\n",
       "      <td>2.156005</td>\n",
       "      <td>619.214734</td>\n",
       "      <td>4.675004</td>\n",
       "      <td>58.736822</td>\n",
       "      <td>4953.080076</td>\n",
       "      <td>58.194899</td>\n",
       "      <td>4.606760</td>\n",
       "      <td>...</td>\n",
       "      <td>4.606800</td>\n",
       "      <td>58.194899</td>\n",
       "      <td>4953.080076</td>\n",
       "      <td>58.736822</td>\n",
       "      <td>4.674964</td>\n",
       "      <td>619.214734</td>\n",
       "      <td>2.155965</td>\n",
       "      <td>25.738719</td>\n",
       "      <td>0.548133</td>\n",
       "      <td>0.039242</td>\n",
       "    </tr>\n",
       "    <tr>\n",
       "      <th>std</th>\n",
       "      <td>8.720832</td>\n",
       "      <td>0.453014</td>\n",
       "      <td>37.296522</td>\n",
       "      <td>1.554227</td>\n",
       "      <td>939.078981</td>\n",
       "      <td>5.141628</td>\n",
       "      <td>76.703971</td>\n",
       "      <td>4048.636167</td>\n",
       "      <td>75.784070</td>\n",
       "      <td>5.074375</td>\n",
       "      <td>...</td>\n",
       "      <td>5.074342</td>\n",
       "      <td>75.784070</td>\n",
       "      <td>4048.636167</td>\n",
       "      <td>76.703971</td>\n",
       "      <td>5.141660</td>\n",
       "      <td>939.078981</td>\n",
       "      <td>1.554270</td>\n",
       "      <td>37.296522</td>\n",
       "      <td>0.453019</td>\n",
       "      <td>0.194173</td>\n",
       "    </tr>\n",
       "    <tr>\n",
       "      <th>min</th>\n",
       "      <td>33.000000</td>\n",
       "      <td>0.000000</td>\n",
       "      <td>-0.870049</td>\n",
       "      <td>-0.000177</td>\n",
       "      <td>0.000000</td>\n",
       "      <td>-0.000000</td>\n",
       "      <td>0.000000</td>\n",
       "      <td>0.000000</td>\n",
       "      <td>-0.000000</td>\n",
       "      <td>-0.000000</td>\n",
       "      <td>...</td>\n",
       "      <td>-0.000000</td>\n",
       "      <td>0.000000</td>\n",
       "      <td>0.000000</td>\n",
       "      <td>-0.000000</td>\n",
       "      <td>-0.000000</td>\n",
       "      <td>0.000000</td>\n",
       "      <td>-0.000177</td>\n",
       "      <td>-0.870049</td>\n",
       "      <td>0.000000</td>\n",
       "      <td>0.000000</td>\n",
       "    </tr>\n",
       "    <tr>\n",
       "      <th>25%</th>\n",
       "      <td>54.000000</td>\n",
       "      <td>0.001709</td>\n",
       "      <td>-0.309443</td>\n",
       "      <td>0.975045</td>\n",
       "      <td>0.000305</td>\n",
       "      <td>0.215440</td>\n",
       "      <td>6.764497</td>\n",
       "      <td>2140.233816</td>\n",
       "      <td>6.800618</td>\n",
       "      <td>0.192834</td>\n",
       "      <td>...</td>\n",
       "      <td>0.192900</td>\n",
       "      <td>6.800618</td>\n",
       "      <td>2140.233816</td>\n",
       "      <td>6.764497</td>\n",
       "      <td>0.215365</td>\n",
       "      <td>0.000305</td>\n",
       "      <td>0.975041</td>\n",
       "      <td>-0.309443</td>\n",
       "      <td>0.001707</td>\n",
       "      <td>0.000000</td>\n",
       "    </tr>\n",
       "    <tr>\n",
       "      <th>50%</th>\n",
       "      <td>62.000000</td>\n",
       "      <td>0.826494</td>\n",
       "      <td>0.000000</td>\n",
       "      <td>0.995679</td>\n",
       "      <td>0.004554</td>\n",
       "      <td>0.955813</td>\n",
       "      <td>8.221639</td>\n",
       "      <td>4036.404391</td>\n",
       "      <td>8.199410</td>\n",
       "      <td>0.955046</td>\n",
       "      <td>...</td>\n",
       "      <td>0.955099</td>\n",
       "      <td>8.199410</td>\n",
       "      <td>4036.404391</td>\n",
       "      <td>8.221639</td>\n",
       "      <td>0.955498</td>\n",
       "      <td>0.004554</td>\n",
       "      <td>0.995679</td>\n",
       "      <td>0.000000</td>\n",
       "      <td>0.826442</td>\n",
       "      <td>0.000000</td>\n",
       "    </tr>\n",
       "    <tr>\n",
       "      <th>75%</th>\n",
       "      <td>67.000000</td>\n",
       "      <td>0.987624</td>\n",
       "      <td>47.613908</td>\n",
       "      <td>3.953388</td>\n",
       "      <td>1012.255813</td>\n",
       "      <td>10.829464</td>\n",
       "      <td>103.278060</td>\n",
       "      <td>6725.904385</td>\n",
       "      <td>102.029436</td>\n",
       "      <td>10.654104</td>\n",
       "      <td>...</td>\n",
       "      <td>10.654104</td>\n",
       "      <td>102.029436</td>\n",
       "      <td>6725.904385</td>\n",
       "      <td>103.278060</td>\n",
       "      <td>10.829464</td>\n",
       "      <td>1012.255813</td>\n",
       "      <td>3.953388</td>\n",
       "      <td>47.613908</td>\n",
       "      <td>0.987622</td>\n",
       "      <td>0.000000</td>\n",
       "    </tr>\n",
       "    <tr>\n",
       "      <th>max</th>\n",
       "      <td>87.000000</td>\n",
       "      <td>1.000000</td>\n",
       "      <td>203.571327</td>\n",
       "      <td>4.981048</td>\n",
       "      <td>12305.698968</td>\n",
       "      <td>13.350262</td>\n",
       "      <td>479.516852</td>\n",
       "      <td>49201.885871</td>\n",
       "      <td>457.428147</td>\n",
       "      <td>13.260156</td>\n",
       "      <td>...</td>\n",
       "      <td>13.260156</td>\n",
       "      <td>457.428147</td>\n",
       "      <td>49201.885871</td>\n",
       "      <td>479.516852</td>\n",
       "      <td>13.350262</td>\n",
       "      <td>12305.698968</td>\n",
       "      <td>4.981048</td>\n",
       "      <td>203.571327</td>\n",
       "      <td>1.000000</td>\n",
       "      <td>1.000000</td>\n",
       "    </tr>\n",
       "  </tbody>\n",
       "</table>\n",
       "<p>8 rows × 106 columns</p>\n",
       "</div>\n",
       "      <button class=\"colab-df-convert\" onclick=\"convertToInteractive('df-f2664111-7ea6-4065-9371-1d7d5f0e656d')\"\n",
       "              title=\"Convert this dataframe to an interactive table.\"\n",
       "              style=\"display:none;\">\n",
       "        \n",
       "  <svg xmlns=\"http://www.w3.org/2000/svg\" height=\"24px\"viewBox=\"0 0 24 24\"\n",
       "       width=\"24px\">\n",
       "    <path d=\"M0 0h24v24H0V0z\" fill=\"none\"/>\n",
       "    <path d=\"M18.56 5.44l.94 2.06.94-2.06 2.06-.94-2.06-.94-.94-2.06-.94 2.06-2.06.94zm-11 1L8.5 8.5l.94-2.06 2.06-.94-2.06-.94L8.5 2.5l-.94 2.06-2.06.94zm10 10l.94 2.06.94-2.06 2.06-.94-2.06-.94-.94-2.06-.94 2.06-2.06.94z\"/><path d=\"M17.41 7.96l-1.37-1.37c-.4-.4-.92-.59-1.43-.59-.52 0-1.04.2-1.43.59L10.3 9.45l-7.72 7.72c-.78.78-.78 2.05 0 2.83L4 21.41c.39.39.9.59 1.41.59.51 0 1.02-.2 1.41-.59l7.78-7.78 2.81-2.81c.8-.78.8-2.07 0-2.86zM5.41 20L4 18.59l7.72-7.72 1.47 1.35L5.41 20z\"/>\n",
       "  </svg>\n",
       "      </button>\n",
       "      \n",
       "  <style>\n",
       "    .colab-df-container {\n",
       "      display:flex;\n",
       "      flex-wrap:wrap;\n",
       "      gap: 12px;\n",
       "    }\n",
       "\n",
       "    .colab-df-convert {\n",
       "      background-color: #E8F0FE;\n",
       "      border: none;\n",
       "      border-radius: 50%;\n",
       "      cursor: pointer;\n",
       "      display: none;\n",
       "      fill: #1967D2;\n",
       "      height: 32px;\n",
       "      padding: 0 0 0 0;\n",
       "      width: 32px;\n",
       "    }\n",
       "\n",
       "    .colab-df-convert:hover {\n",
       "      background-color: #E2EBFA;\n",
       "      box-shadow: 0px 1px 2px rgba(60, 64, 67, 0.3), 0px 1px 3px 1px rgba(60, 64, 67, 0.15);\n",
       "      fill: #174EA6;\n",
       "    }\n",
       "\n",
       "    [theme=dark] .colab-df-convert {\n",
       "      background-color: #3B4455;\n",
       "      fill: #D2E3FC;\n",
       "    }\n",
       "\n",
       "    [theme=dark] .colab-df-convert:hover {\n",
       "      background-color: #434B5C;\n",
       "      box-shadow: 0px 1px 3px 1px rgba(0, 0, 0, 0.15);\n",
       "      filter: drop-shadow(0px 1px 2px rgba(0, 0, 0, 0.3));\n",
       "      fill: #FFFFFF;\n",
       "    }\n",
       "  </style>\n",
       "\n",
       "      <script>\n",
       "        const buttonEl =\n",
       "          document.querySelector('#df-f2664111-7ea6-4065-9371-1d7d5f0e656d button.colab-df-convert');\n",
       "        buttonEl.style.display =\n",
       "          google.colab.kernel.accessAllowed ? 'block' : 'none';\n",
       "\n",
       "        async function convertToInteractive(key) {\n",
       "          const element = document.querySelector('#df-f2664111-7ea6-4065-9371-1d7d5f0e656d');\n",
       "          const dataTable =\n",
       "            await google.colab.kernel.invokeFunction('convertToInteractive',\n",
       "                                                     [key], {});\n",
       "          if (!dataTable) return;\n",
       "\n",
       "          const docLinkHtml = 'Like what you see? Visit the ' +\n",
       "            '<a target=\"_blank\" href=https://colab.research.google.com/notebooks/data_table.ipynb>data table notebook</a>'\n",
       "            + ' to learn more about interactive tables.';\n",
       "          element.innerHTML = '';\n",
       "          dataTable['output_type'] = 'display_data';\n",
       "          await google.colab.output.renderOutput(dataTable, element);\n",
       "          const docLink = document.createElement('div');\n",
       "          docLink.innerHTML = docLinkHtml;\n",
       "          element.appendChild(docLink);\n",
       "        }\n",
       "      </script>\n",
       "    </div>\n",
       "  </div>\n",
       "  "
      ],
      "text/plain": [
       "         PatientAge            x0            x1            x2            x3  \\\n",
       "count  24999.000000  24999.000000  24999.000000  24999.000000  24999.000000   \n",
       "mean      60.986999      0.548173     25.738719      2.156005    619.214734   \n",
       "std        8.720832      0.453014     37.296522      1.554227    939.078981   \n",
       "min       33.000000      0.000000     -0.870049     -0.000177      0.000000   \n",
       "25%       54.000000      0.001709     -0.309443      0.975045      0.000305   \n",
       "50%       62.000000      0.826494      0.000000      0.995679      0.004554   \n",
       "75%       67.000000      0.987624     47.613908      3.953388   1012.255813   \n",
       "max       87.000000      1.000000    203.571327      4.981048  12305.698968   \n",
       "\n",
       "                 x4            x5            x6            x7            x8  \\\n",
       "count  24999.000000  24999.000000  24999.000000  24999.000000  24999.000000   \n",
       "mean       4.675004     58.736822   4953.080076     58.194899      4.606760   \n",
       "std        5.141628     76.703971   4048.636167     75.784070      5.074375   \n",
       "min       -0.000000      0.000000      0.000000     -0.000000     -0.000000   \n",
       "25%        0.215440      6.764497   2140.233816      6.800618      0.192834   \n",
       "50%        0.955813      8.221639   4036.404391      8.199410      0.955046   \n",
       "75%       10.829464    103.278060   6725.904385    102.029436     10.654104   \n",
       "max       13.350262    479.516852  49201.885871    457.428147     13.260156   \n",
       "\n",
       "       ...           x95           x96           x97           x98  \\\n",
       "count  ...  24999.000000  24999.000000  24999.000000  24999.000000   \n",
       "mean   ...      4.606800     58.194899   4953.080076     58.736822   \n",
       "std    ...      5.074342     75.784070   4048.636167     76.703971   \n",
       "min    ...     -0.000000      0.000000      0.000000     -0.000000   \n",
       "25%    ...      0.192900      6.800618   2140.233816      6.764497   \n",
       "50%    ...      0.955099      8.199410   4036.404391      8.221639   \n",
       "75%    ...     10.654104    102.029436   6725.904385    103.278060   \n",
       "max    ...     13.260156    457.428147  49201.885871    479.516852   \n",
       "\n",
       "                x99          x100          x101          x102          x103  \\\n",
       "count  24999.000000  24999.000000  24999.000000  24999.000000  24999.000000   \n",
       "mean       4.674964    619.214734      2.155965     25.738719      0.548133   \n",
       "std        5.141660    939.078981      1.554270     37.296522      0.453019   \n",
       "min       -0.000000      0.000000     -0.000177     -0.870049      0.000000   \n",
       "25%        0.215365      0.000305      0.975041     -0.309443      0.001707   \n",
       "50%        0.955498      0.004554      0.995679      0.000000      0.826442   \n",
       "75%       10.829464   1012.255813      3.953388     47.613908      0.987622   \n",
       "max       13.350262  12305.698968      4.981048    203.571327      1.000000   \n",
       "\n",
       "              Label  \n",
       "count  24999.000000  \n",
       "mean       0.039242  \n",
       "std        0.194173  \n",
       "min        0.000000  \n",
       "25%        0.000000  \n",
       "50%        0.000000  \n",
       "75%        0.000000  \n",
       "max        1.000000  \n",
       "\n",
       "[8 rows x 106 columns]"
      ]
     },
     "execution_count": 6,
     "metadata": {},
     "output_type": "execute_result"
    }
   ],
   "source": [
    "some_data.describe()"
   ]
  },
  {
   "cell_type": "markdown",
   "metadata": {
    "id": "PDx6mC6DQ4bF"
   },
   "source": [
    "**Extracting information on the data**"
   ]
  },
  {
   "cell_type": "markdown",
   "metadata": {
    "id": "J6QoHpI6RUpF"
   },
   "source": [
    "*Size of full dataset*"
   ]
  },
  {
   "cell_type": "code",
   "execution_count": null,
   "metadata": {
    "colab": {
     "base_uri": "https://localhost:8080/"
    },
    "id": "K8gIuWHtlw_c",
    "outputId": "32f5a5ab-a698-4ab8-da28-ec2217335107"
   },
   "outputs": [
    {
     "data": {
      "text/plain": [
       "405280"
      ]
     },
     "execution_count": 7,
     "metadata": {},
     "output_type": "execute_result"
    }
   ],
   "source": [
    "# number of rows in full dataset\n",
    "full_number_of_samples = full_data['PatientID'].count()\n",
    "full_number_of_samples"
   ]
  },
  {
   "cell_type": "markdown",
   "metadata": {
    "id": "D5-5yJ5uRXbA"
   },
   "source": [
    "*Size of sample dataset*"
   ]
  },
  {
   "cell_type": "code",
   "execution_count": null,
   "metadata": {
    "colab": {
     "base_uri": "https://localhost:8080/"
    },
    "id": "6zj_iS9mmoNi",
    "outputId": "fb97a874-a456-412b-e9c2-6efcb6ec853d"
   },
   "outputs": [
    {
     "data": {
      "text/plain": [
       "24999"
      ]
     },
     "execution_count": 8,
     "metadata": {},
     "output_type": "execute_result"
    }
   ],
   "source": [
    "# number of rows in some dataset\n",
    "some_number_of_samples = some_data['PatientID'].count()\n",
    "some_number_of_samples"
   ]
  },
  {
   "cell_type": "markdown",
   "metadata": {
    "id": "P1VjlToY399X"
   },
   "source": [
    "*Visualisation of size difference*"
   ]
  },
  {
   "cell_type": "code",
   "execution_count": null,
   "metadata": {
    "colab": {
     "base_uri": "https://localhost:8080/",
     "height": 336
    },
    "id": "e48ndpW4JNW6",
    "outputId": "2e6cf43a-fbfe-41a5-cf56-4c9e06b9e1c2"
   },
   "outputs": [
    {
     "data": {
      "image/png": "[encoded data removed]",
      "text/plain": [
       "<Figure size 432x288 with 1 Axes>"
      ]
     },
     "metadata": {
      "needs_background": "light"
     },
     "output_type": "display_data"
    }
   ],
   "source": [
    "fig = plt.figure()\n",
    "ax = fig.add_axes([0,0,1,1])\n",
    "sets = ['Large dataset', 'Smaller dataset']\n",
    "samples = [full_number_of_samples, some_number_of_samples]\n",
    "ax.bar(sets,samples, color=\"#4d9900\")\n",
    "plt.show()"
   ]
  },
  {
   "cell_type": "markdown",
   "metadata": {
    "id": "IzEcw2kIRgXu"
   },
   "source": [
    "*Full dataset label distribution*"
   ]
  },
  {
   "cell_type": "code",
   "execution_count": null,
   "metadata": {
    "colab": {
     "base_uri": "https://localhost:8080/"
    },
    "id": "Uk0D_MKqmyQe",
    "outputId": "6501cb8e-0249-4cb0-c737-dc1d52a17ff3"
   },
   "outputs": [
    {
     "data": {
      "text/plain": [
       "0    393021\n",
       "1     12259\n",
       "Name: Label, dtype: int64"
      ]
     },
     "execution_count": 11,
     "metadata": {},
     "output_type": "execute_result"
    }
   ],
   "source": [
    "# number of positive and negative cases in full dataset\n",
    "full_label_distribution = full_data['Label'].value_counts()\n",
    "full_label_distribution"
   ]
  },
  {
   "cell_type": "markdown",
   "metadata": {
    "id": "3-uHRgGR575J"
   },
   "source": [
    "\n",
    "*Visualisation of label distribution*"
   ]
  },
  {
   "cell_type": "code",
   "execution_count": null,
   "metadata": {
    "colab": {
     "base_uri": "https://localhost:8080/",
     "height": 336
    },
    "id": "cpVqltjo58W5",
    "outputId": "47a871fc-f092-438b-dba3-df7fac312342"
   },
   "outputs": [
    {
     "data": {
      "image/png": "[encoded data removed]",
      "text/plain": [
       "<Figure size 432x288 with 1 Axes>"
      ]
     },
     "metadata": {
      "needs_background": "light"
     },
     "output_type": "display_data"
    }
   ],
   "source": [
    "fig = plt.figure()\n",
    "ax = fig.add_axes([0,0,1,1])\n",
    "label = ['Negative case (0)', 'Positive case (1)']\n",
    "ax.bar(label , full_label_distribution, color=\"#4d9900\")\n",
    "plt.show()"
   ]
  },
  {
   "cell_type": "markdown",
   "metadata": {
    "id": "_DnE3oLORg6R"
   },
   "source": [
    "*Some dataset label distribution*"
   ]
  },
  {
   "cell_type": "code",
   "execution_count": null,
   "metadata": {
    "colab": {
     "base_uri": "https://localhost:8080/"
    },
    "id": "PAjp4hyyUQMy",
    "outputId": "f7b3ddb2-3e42-4a1c-df6b-f8df0f42e349"
   },
   "outputs": [
    {
     "data": {
      "text/plain": [
       "0    24018\n",
       "1      981\n",
       "Name: Label, dtype: int64"
      ]
     },
     "execution_count": 14,
     "metadata": {},
     "output_type": "execute_result"
    }
   ],
   "source": [
    "# number of positive and negative cases in some dataset\n",
    "some_label_distribution = some_data['Label'].value_counts()\n",
    "some_label_distribution"
   ]
  },
  {
   "cell_type": "markdown",
   "metadata": {
    "id": "bIKfQwj5WSI8"
   },
   "source": [
    "*Mammogram views*"
   ]
  },
  {
   "cell_type": "code",
   "execution_count": null,
   "metadata": {
    "colab": {
     "base_uri": "https://localhost:8080/"
    },
    "id": "aWCtuJsNWXgn",
    "outputId": "01af66dd-51c3-4236-d937-f157b0a7a74b"
   },
   "outputs": [
    {
     "data": {
      "text/plain": [
       "array(['CC', 'MLO', 'XCCL', 'ML', 'LM'], dtype=object)"
      ]
     },
     "execution_count": 15,
     "metadata": {},
     "output_type": "execute_result"
    }
   ],
   "source": [
    "# the different mammogram views in the dataset\n",
    "views = full_data.View.unique()\n",
    "views"
   ]
  },
  {
   "cell_type": "code",
   "execution_count": null,
   "metadata": {
    "id": "iUW5gaB0YMae"
   },
   "outputs": [],
   "source": [
    "# getting the number of times each row occurs\n",
    "CC_popularity = len(full_data.loc[full_data['View'] == 'CC'])\n",
    "MLO_popularity = len(full_data.loc[full_data['View'] == 'MLO'])\n",
    "XCCL_popularity = len(full_data.loc[full_data['View'] == 'XCCL'])\n",
    "ML_popularity = len(full_data.loc[full_data['View'] == 'ML'])\n",
    "LM_popularity = len(full_data.loc[full_data['View'] == 'LM'])"
   ]
  },
  {
   "cell_type": "code",
   "execution_count": null,
   "metadata": {
    "colab": {
     "base_uri": "https://localhost:8080/"
    },
    "id": "L0uL1tuBeM62",
    "outputId": "90ee4e69-6bc9-4fe5-a525-c150732e2682"
   },
   "outputs": [
    {
     "data": {
      "text/plain": [
       "205520"
      ]
     },
     "execution_count": 17,
     "metadata": {},
     "output_type": "execute_result"
    }
   ],
   "source": [
    "CC_popularity"
   ]
  },
  {
   "cell_type": "code",
   "execution_count": null,
   "metadata": {
    "colab": {
     "base_uri": "https://localhost:8080/"
    },
    "id": "HklBV-QSeRGp",
    "outputId": "fa0bf5fe-7df3-4e2c-c932-92d3d06c2419"
   },
   "outputs": [
    {
     "data": {
      "text/plain": [
       "199320"
      ]
     },
     "execution_count": 18,
     "metadata": {},
     "output_type": "execute_result"
    }
   ],
   "source": [
    "MLO_popularity"
   ]
  },
  {
   "cell_type": "code",
   "execution_count": null,
   "metadata": {
    "colab": {
     "base_uri": "https://localhost:8080/"
    },
    "id": "JoldQYwgeSqu",
    "outputId": "4c23a097-218a-41c7-8792-605fc679d985"
   },
   "outputs": [
    {
     "data": {
      "text/plain": [
       "120"
      ]
     },
     "execution_count": 19,
     "metadata": {},
     "output_type": "execute_result"
    }
   ],
   "source": [
    "XCCL_popularity"
   ]
  },
  {
   "cell_type": "code",
   "execution_count": null,
   "metadata": {
    "colab": {
     "base_uri": "https://localhost:8080/"
    },
    "id": "TSi1LRS_eUbv",
    "outputId": "2b7ec730-874c-44fa-f560-09239a3b3a69"
   },
   "outputs": [
    {
     "data": {
      "text/plain": [
       "240"
      ]
     },
     "execution_count": 20,
     "metadata": {},
     "output_type": "execute_result"
    }
   ],
   "source": [
    "ML_popularity"
   ]
  },
  {
   "cell_type": "code",
   "execution_count": null,
   "metadata": {
    "colab": {
     "base_uri": "https://localhost:8080/"
    },
    "id": "I-EMDkJaeWEj",
    "outputId": "57c3f19b-e692-4c6b-d25f-c1ba9b6acdc0"
   },
   "outputs": [
    {
     "data": {
      "text/plain": [
       "80"
      ]
     },
     "execution_count": 21,
     "metadata": {},
     "output_type": "execute_result"
    }
   ],
   "source": [
    "LM_popularity"
   ]
  },
  {
   "cell_type": "code",
   "execution_count": null,
   "metadata": {
    "colab": {
     "base_uri": "https://localhost:8080/",
     "height": 374
    },
    "id": "kHPGwhKR_-Bk",
    "outputId": "1aaec7be-c359-4f0d-8b43-5724dd37aa0a"
   },
   "outputs": [
    {
     "data": {
      "image/png": "[encoded data removed]",
      "text/plain": [
       "<Figure size 360x432 with 2 Axes>"
      ]
     },
     "metadata": {
      "needs_background": "light"
     },
     "output_type": "display_data"
    }
   ],
   "source": [
    "views = ['CC', 'MLO', 'XCCL', 'ML', 'LM']\n",
    "views_distribution = [CC_popularity, MLO_popularity, XCCL_popularity, ML_popularity, LM_popularity]\n",
    "XX = pd.Series(views_distribution,index=views)\n",
    "fig, (ax1,ax2) = plt.subplots(2,1,sharex=True,\n",
    "                         figsize=(5,6))\n",
    "ax1.spines['bottom'].set_visible(False)\n",
    "ax1.tick_params(axis='x',which='both',bottom=False)\n",
    "ax2.spines['top'].set_visible(False)\n",
    "\n",
    "bs = 500\n",
    "ts = 190000\n",
    "\n",
    "ax2.set_ylim(0,bs)\n",
    "ax1.set_ylim(ts,206000)\n",
    "ax1.set_yticks(np.arange(190000,206000,5000))\n",
    "\n",
    "bars1 = ax1.bar(XX.index, XX.values, color=\"#4d9900\")\n",
    "bars2 = ax2.bar(XX.index, XX.values, color=\"#4d9900\")\n",
    "\n",
    "for tick in ax2.get_xticklabels():\n",
    "    tick.set_rotation(0)\n",
    "d = .015  \n",
    "kwargs = dict(transform=ax1.transAxes, color='k', clip_on=False)\n",
    "ax1.plot((-d, +d), (-d, +d), **kwargs)      \n",
    "ax1.plot((1 - d, 1 + d), (-d, +d), **kwargs)\n",
    "kwargs.update(transform=ax2.transAxes)  \n",
    "ax2.plot((-d, +d), (1 - d, 1 + d), **kwargs)  \n",
    "ax2.plot((1 - d, 1 + d), (1 - d, 1 + d), **kwargs)\n",
    "\n",
    "for b1, b2 in zip(bars1, bars2):\n",
    "    posx = b2.get_x() + b2.get_width()/2.\n",
    "    if b2.get_height() > bs:\n",
    "        ax2.plot((posx-3*d, posx+3*d), (1 - d, 1 + d), color='k', clip_on=False,\n",
    "                 transform=ax2.get_xaxis_transform())\n",
    "    if b1.get_height() > ts:\n",
    "        ax1.plot((posx-3*d, posx+3*d), (- d, + d), color='k', clip_on=False,\n",
    "                 transform=ax1.get_xaxis_transform())\n",
    "plt.show()"
   ]
  },
  {
   "cell_type": "markdown",
   "metadata": {
    "id": "0n4FMiIwepjD"
   },
   "source": [
    "*Percentage of samples that are CC or MLO view*"
   ]
  },
  {
   "cell_type": "code",
   "execution_count": null,
   "metadata": {
    "colab": {
     "base_uri": "https://localhost:8080/"
    },
    "id": "PVmeQcspeYgF",
    "outputId": "c5e5e055-8d7c-4f9c-af4d-0d65719aa86b"
   },
   "outputs": [
    {
     "data": {
      "text/plain": [
       "99.89143308330043"
      ]
     },
     "execution_count": 25,
     "metadata": {},
     "output_type": "execute_result"
    }
   ],
   "source": [
    "((CC_popularity+MLO_popularity)/full_number_of_samples)*100"
   ]
  },
  {
   "cell_type": "markdown",
   "metadata": {
    "id": "P0s3SPpCRhZS"
   },
   "source": [
    "*Mammogram segments*"
   ]
  },
  {
   "cell_type": "code",
   "execution_count": null,
   "metadata": {
    "colab": {
     "base_uri": "https://localhost:8080/"
    },
    "id": "A15LojUPVrwl",
    "outputId": "023f1fc8-d2d4-41c5-de53-ca3ad1a48054"
   },
   "outputs": [
    {
     "data": {
      "text/plain": [
       "array(['LA1', 'RA1', 'LB1', 'RB1', 'LC1', 'RC1', 'LD1', 'RD1', 'LE1',\n",
       "       'RE1', 'LA2', 'RA2', 'LB2', 'RB2', 'LC2', 'RC2', 'LD2', 'RD2',\n",
       "       'LE2', 'RE2', 'LA3', 'RA3', 'LB3', 'RB3', 'LC3', 'RC3', 'LD3',\n",
       "       'RD3', 'LE3', 'RE3', 'LA4', 'RA4', 'LB4', 'RB4', 'LC4', 'RC4',\n",
       "       'LD4', 'RD4', 'LE4', 'RE4'], dtype=object)"
      ]
     },
     "execution_count": 26,
     "metadata": {},
     "output_type": "execute_result"
    }
   ],
   "source": [
    "# the different mammogram segments in the dataset\n",
    "segments = full_data.SegmentPosition.unique()\n",
    "segments"
   ]
  },
  {
   "cell_type": "markdown",
   "metadata": {
    "id": "DjYlszHbwV8W"
   },
   "source": [
    "*Approximate number of patients in full dataset*"
   ]
  },
  {
   "cell_type": "code",
   "execution_count": null,
   "metadata": {
    "colab": {
     "base_uri": "https://localhost:8080/"
    },
    "id": "FHVnFNTJXd8J",
    "outputId": "c1e14a76-86c2-43b7-b768-b3a016ed718f"
   },
   "outputs": [
    {
     "data": {
      "text/plain": [
       "4919"
      ]
     },
     "execution_count": 27,
     "metadata": {},
     "output_type": "execute_result"
    }
   ],
   "source": [
    "len(full_data.PatientID.unique())"
   ]
  },
  {
   "cell_type": "markdown",
   "metadata": {
    "id": "86JP4P8wwmny"
   },
   "source": [
    "Approximate number of patients in sample dataset"
   ]
  },
  {
   "cell_type": "code",
   "execution_count": null,
   "metadata": {
    "colab": {
     "base_uri": "https://localhost:8080/"
    },
    "id": "qltaFQnfwrr3",
    "outputId": "5f68d010-4c3d-4657-bb7b-dabd50ee7dd9"
   },
   "outputs": [
    {
     "data": {
      "text/plain": [
       "315"
      ]
     },
     "execution_count": 28,
     "metadata": {},
     "output_type": "execute_result"
    }
   ],
   "source": [
    "len(some_data.PatientID.unique())"
   ]
  },
  {
   "cell_type": "markdown",
   "metadata": {
    "id": "QCutV5OvSc2g"
   },
   "source": [
    "*Columns in the datasets*"
   ]
  },
  {
   "cell_type": "code",
   "execution_count": null,
   "metadata": {
    "colab": {
     "base_uri": "https://localhost:8080/"
    },
    "id": "-Ydwz8nDXd3H",
    "outputId": "e02b07a8-28a9-4d4f-e4e9-3d9673cf331c"
   },
   "outputs": [
    {
     "data": {
      "text/plain": [
       "111"
      ]
     },
     "execution_count": 29,
     "metadata": {},
     "output_type": "execute_result"
    }
   ],
   "source": [
    "number_of_all_columns = len(full_data.columns)\n",
    "number_of_all_columns"
   ]
  },
  {
   "cell_type": "code",
   "execution_count": null,
   "metadata": {
    "id": "Ran8xHfTShqy"
   },
   "outputs": [],
   "source": [
    "# the column names in both datasets are the same, extracting them here\n",
    "all_columns = full_data.columns.to_list()"
   ]
  },
  {
   "cell_type": "markdown",
   "metadata": {
    "id": "jGIGUBcEUVR6"
   },
   "source": [
    "### ***Data Preprocessing***\n",
    "\n",
    "The data is already very clean and concise but there are a few columns that are unnecessary for the task at hand. "
   ]
  },
  {
   "cell_type": "markdown",
   "metadata": {
    "id": "0aU8WQIqVABq"
   },
   "source": [
    "**Dropping columns from large dataset**"
   ]
  },
  {
   "cell_type": "code",
   "execution_count": null,
   "metadata": {
    "id": "-slevVAzEhW-"
   },
   "outputs": [],
   "source": [
    "values = ['XCCL', 'ML', 'LM']\n",
    "\n",
    "full_data = full_data[full_data.View.isin(values) == False]"
   ]
  },
  {
   "cell_type": "code",
   "execution_count": null,
   "metadata": {
    "colab": {
     "base_uri": "https://localhost:8080/"
    },
    "id": "DbZ9_O9LE3Y6",
    "outputId": "cf893c04-48b9-425c-b515-95f22c9576c8"
   },
   "outputs": [
    {
     "data": {
      "text/plain": [
       "array(['CC', 'MLO'], dtype=object)"
      ]
     },
     "execution_count": 47,
     "metadata": {},
     "output_type": "execute_result"
    }
   ],
   "source": [
    "full_data.View.unique()"
   ]
  },
  {
   "cell_type": "code",
   "execution_count": null,
   "metadata": {
    "colab": {
     "base_uri": "https://localhost:8080/"
    },
    "id": "Ol82V586Fz_x",
    "outputId": "80e4b101-d530-493c-baa0-bf141183d219"
   },
   "outputs": [
    {
     "data": {
      "text/plain": [
       "404840"
      ]
     },
     "execution_count": 48,
     "metadata": {},
     "output_type": "execute_result"
    }
   ],
   "source": [
    "full_data['PatientID'].count()"
   ]
  },
  {
   "cell_type": "code",
   "execution_count": null,
   "metadata": {
    "id": "1nQmTVczUZSB"
   },
   "outputs": [],
   "source": [
    "full_data.drop(['PatientID', 'StudyID', 'PatientAge', 'ImgID', 'View', 'SegmentPosition'], axis=1, inplace=True)\n",
    "final_columns = full_data.columns.to_list()"
   ]
  },
  {
   "cell_type": "markdown",
   "metadata": {
    "id": "w3bPkvNkVGIY"
   },
   "source": [
    "**Dropping columns from smaller dataset**"
   ]
  },
  {
   "cell_type": "code",
   "execution_count": null,
   "metadata": {
    "id": "-EinxR5gVMXL"
   },
   "outputs": [],
   "source": [
    "some_data.drop(['PatientID', 'StudyID', 'PatientAge', 'ImgID', 'View', 'SegmentPosition'], axis=1, inplace=True)"
   ]
  },
  {
   "cell_type": "markdown",
   "metadata": {
    "id": "95-yeYL_Y15H"
   },
   "source": [
    "**Number of columns remaining**"
   ]
  },
  {
   "cell_type": "code",
   "execution_count": null,
   "metadata": {
    "colab": {
     "base_uri": "https://localhost:8080/"
    },
    "id": "GjXOCoG6Y5iX",
    "outputId": "fe0b2153-1eb6-496b-baa7-54533e3ec0dd"
   },
   "outputs": [
    {
     "data": {
      "text/plain": [
       "105"
      ]
     },
     "execution_count": 33,
     "metadata": {},
     "output_type": "execute_result"
    }
   ],
   "source": [
    "final_number_of_columns = len(final_columns)\n",
    "final_number_of_columns"
   ]
  }
 ],
 "metadata": {
  "colab": {
   "collapsed_sections": [],
   "name": "EDA_Mammography_Classification.ipynb",
   "provenance": []
  },
  "kernelspec": {
   "display_name": "Python 3 (ipykernel)",
   "language": "python",
   "name": "python3"
  },
  "language_info": {
   "codemirror_mode": {
    "name": "ipython",
    "version": 3
   },
   "file_extension": ".py",
   "mimetype": "text/x-python",
   "name": "python",
   "nbconvert_exporter": "python",
   "pygments_lexer": "ipython3",
   "version": "3.9.7"
  }
 },
 "nbformat": 4,
 "nbformat_minor": 1
}
