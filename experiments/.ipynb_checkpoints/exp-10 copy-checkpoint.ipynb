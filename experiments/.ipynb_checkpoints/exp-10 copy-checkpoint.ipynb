{
 "cells": [
  {
   "cell_type": "markdown",
   "metadata": {
    "id": "LyRwEVCMv6r-"
   },
   "source": [
    "# **Machine Learning using Grammatical Evolution**\n",
    "### Classification of mammogram segments as containing or not containing suspicious growth. \n",
    "Ranya El-Hwigi 18227449"
   ]
  },
  {
   "cell_type": "markdown",
   "metadata": {
    "id": "WSp-9E5ythun"
   },
   "source": [
    "### ***Clone GRAPE repository***"
   ]
  },
  {
   "cell_type": "code",
   "execution_count": null,
   "metadata": {},
   "outputs": [],
   "source": [
    "import os.path"
   ]
  },
  {
   "cell_type": "code",
   "execution_count": null,
   "metadata": {
    "colab": {
     "base_uri": "https://localhost:8080/"
    },
    "id": "EmSTDvSxtpXG",
    "outputId": "897e1524-8db3-4a25-97cc-6860ab575c1f"
   },
   "outputs": [],
   "source": [
    "PATH = '/users/ranyahwigi/desktop/FYP/grape'\n",
    "if os.path.exists(PATH):\n",
    "    print('grape directory already exists')\n",
    "else:\n",
    "    !git clone https://github.com/UL-BDS/grape.git \n",
    "    print('Cloning grape in your Drive')\n",
    "\n",
    "%cd /users/ranyahwigi/desktop/FYP/grape/"
   ]
  },
  {
   "cell_type": "code",
   "execution_count": null,
   "metadata": {
    "id": "x-IWrHuMt93k"
   },
   "outputs": [],
   "source": [
    "# Suppressing Warnings:\n",
    "import warnings\n",
    "warnings.filterwarnings(\"ignore\")"
   ]
  },
  {
   "cell_type": "markdown",
   "metadata": {
    "id": "p0Zy8YEbwxOq"
   },
   "source": [
    "### ***Importing libraries***"
   ]
  },
  {
   "cell_type": "code",
   "execution_count": null,
   "metadata": {
    "colab": {
     "base_uri": "https://localhost:8080/"
    },
    "id": "Ay1KC4bRfldb",
    "outputId": "4d41b2c1-3d1a-4be3-ad01-d0dd349148b1"
   },
   "outputs": [],
   "source": [
    "!pip install deap\n",
    "!pip install numpy\n",
    "!pip install -U imbalanced-learn\n",
    "\n",
    "import algorithms\n",
    "from ponyge2_adapted_files import Grammar, ge\n",
    "from functions import add, sub, mul, pdiv, neg\n",
    "\n",
    "import numpy as np\n",
    "from os import path\n",
    "import pandas as pd\n",
    "from collections import Counter\n",
    "import matplotlib.pyplot as plt\n",
    "from deap import creator, base, tools\n",
    "from imblearn.over_sampling import SMOTE\n",
    "from sklearn.model_selection import train_test_split\n",
    "import math"
   ]
  },
  {
   "cell_type": "markdown",
   "metadata": {
    "id": "wwrckg4Sw3ZT"
   },
   "source": [
    "### ***Preparing Data***"
   ]
  },
  {
   "cell_type": "markdown",
   "metadata": {
    "id": "6v62BR8_RE3b"
   },
   "source": [
    "**Loading dataset**"
   ]
  },
  {
   "cell_type": "code",
   "execution_count": null,
   "metadata": {
    "colab": {
     "base_uri": "https://localhost:8080/",
     "height": 300
    },
    "id": "sUCGcHCrxa4C",
    "outputId": "0c78ce9a-24d5-4922-f346-fecd7c0eb721"
   },
   "outputs": [],
   "source": [
    "# loading in the dataset into a pandas dataframe from GitHub\n",
    "data = pd.read_csv('https://media.githubusercontent.com/media/relhwigi/GE_GRAPE_Mammogram_Classification/main/data/haralick02_250K.csv')"
   ]
  },
  {
   "cell_type": "markdown",
   "metadata": {
    "id": "PDx6mC6DQ4bF"
   },
   "source": [
    "**Extracting information on the data**"
   ]
  },
  {
   "cell_type": "markdown",
   "metadata": {
    "id": "D5-5yJ5uRXbA"
   },
   "source": [
    "*Size of dataset*"
   ]
  },
  {
   "cell_type": "code",
   "execution_count": null,
   "metadata": {
    "colab": {
     "base_uri": "https://localhost:8080/"
    },
    "id": "6zj_iS9mmoNi",
    "outputId": "6f49c880-d4cc-4c05-98b9-ac2c2f374be5"
   },
   "outputs": [],
   "source": [
    "# number of rows in dataset\n",
    "number_of_samples = data['PatientID'].count()"
   ]
  },
  {
   "cell_type": "markdown",
   "metadata": {
    "id": "w3bPkvNkVGIY"
   },
   "source": [
    "**Dropping columns from dataset**"
   ]
  },
  {
   "cell_type": "code",
   "execution_count": null,
   "metadata": {
    "id": "-EinxR5gVMXL"
   },
   "outputs": [],
   "source": [
    "data.drop(['PatientID', 'StudyID', 'PatientAge', 'ImgID', 'View', 'SegmentPosition'], axis=1, inplace=True)"
   ]
  },
  {
   "cell_type": "markdown",
   "metadata": {
    "id": "95-yeYL_Y15H"
   },
   "source": [
    "**Number of columns remaining**"
   ]
  },
  {
   "cell_type": "code",
   "execution_count": null,
   "metadata": {
    "colab": {
     "base_uri": "https://localhost:8080/"
    },
    "id": "GjXOCoG6Y5iX",
    "outputId": "153cb40d-310d-44f1-f828-b265238ce873"
   },
   "outputs": [],
   "source": [
    "final_number_of_columns = len(data.columns)"
   ]
  },
  {
   "cell_type": "markdown",
   "metadata": {
    "id": "_SR--iqxu4_R"
   },
   "source": [
    "**Train and test split**"
   ]
  },
  {
   "cell_type": "code",
   "execution_count": null,
   "metadata": {
    "id": "MyYdAz5Iu_T9"
   },
   "outputs": [],
   "source": [
    "X = np.zeros([number_of_samples, final_number_of_columns-1], dtype=float)\n",
    "Y = np.zeros([number_of_samples,], dtype=int)\n",
    "\n",
    "for i in range(number_of_samples):\n",
    "    for j in range(final_number_of_columns-1):\n",
    "        X[i,j] = data['x'+ str(j)].iloc[i]\n",
    "\n",
    "for i in range(number_of_samples):\n",
    "    Y[i] = data['Label'].iloc[i]\n",
    "\n",
    "oversample = SMOTE()\n",
    "X, Y = oversample.fit_resample(X, Y)\n",
    "\n",
    "X_train, X_test, Y_train, Y_test = train_test_split(X, Y, test_size=0.3, random_state=42)\n",
    "\n",
    "print('Training (X,Y):\\t', X_train.shape, Y_train.shape)\n",
    "print('Test (X,Y):\\t', X_test.shape, Y_test.shape)\n",
    "\n",
    "X_train = np.transpose(X_train)\n",
    "X_test = np.transpose(X_test)"
   ]
  },
  {
   "cell_type": "markdown",
   "metadata": {
    "id": "vBKvm0vF9-Q5"
   },
   "source": [
    "**Check grammar file**"
   ]
  },
  {
   "cell_type": "code",
   "execution_count": null,
   "metadata": {
    "colab": {
     "base_uri": "https://localhost:8080/"
    },
    "id": "QPLX3BiIOPW6",
    "outputId": "80af82d3-5b48-4a48-b8a7-a3eb91fedc16"
   },
   "outputs": [],
   "source": [
    "f = open(\"../GE_GRAPE_Mammogram_Classification/grammar.bnf\", \"r\")\n",
    "print(f.read())\n",
    "f.close() "
   ]
  },
  {
   "cell_type": "markdown",
   "metadata": {
    "id": "HYOLy6yE-U4V"
   },
   "source": [
    "**Setup grammar**"
   ]
  },
  {
   "cell_type": "code",
   "execution_count": null,
   "metadata": {
    "id": "TRHEj0Bz-SM6"
   },
   "outputs": [],
   "source": [
    "BNF_GRAMMAR = Grammar(\"../GE_GRAPE_Mammogram_Classification/grammar.bnf\")"
   ]
  },
  {
   "cell_type": "markdown",
   "metadata": {
    "id": "KcznfmO2-wrD"
   },
   "source": [
    "### ***Fitness Function***"
   ]
  },
  {
   "cell_type": "code",
   "execution_count": null,
   "metadata": {
    "id": "11maiZtD-38u"
   },
   "outputs": [],
   "source": [
    "def fitness_eval(individual, points):\n",
    "  x= points[0]\n",
    "  Y= points[1]\n",
    "\n",
    "  if individual.invalid==True:\n",
    "    return np.NaN,\n",
    "\n",
    "  try:\n",
    "    pred= eval(individual.phenotype)\n",
    "  except (FloatingPointError, ZeroDivisionError, OverflowError, MemoryError):\n",
    "    return np.NaN,\n",
    "  assert np.isrealobj(pred)\n",
    "\n",
    "  try:\n",
    "    Y_class= [1 if pred[i] > 0 else 0 for i in range(len(Y))]\n",
    "  except (IndexError, TypeError):\n",
    "    return np.NaN,\n",
    "\n",
    "  # TP -> True Positive, FP -> False Posititve, TN -> True Negative, FN -> False Negtaive\n",
    "  # 0 -> negative, 1 -> positive\n",
    "\n",
    "  TP, FN, TN, FP = 0, 0, 0, 0\n",
    "\n",
    "  for x, y in zip(Y, Y_class):\n",
    "    if x == 1:\n",
    "      if y == 1:\n",
    "        TP = TP + 1\n",
    "      else:\n",
    "        FN = FN + 1\n",
    "    elif x == 0:\n",
    "      if y == 0:\n",
    "        TN = TN + 1\n",
    "      else:\n",
    "        FP = FP + 1\n",
    "\n",
    "  if FN == 0 and TN == 0:\n",
    "    return np.NaN,\n",
    "  elif FP == 0 and TP == 0:\n",
    "    return np.NaN,\n",
    "  else:\n",
    "    # Calculating Accuracy\n",
    "    numerator = (TP+TN)\n",
    "    denominator = (TP+TN+FP+FN)\n",
    "    fitness = numerator / denominator\n",
    "\n",
    "  return fitness,"
   ]
  },
  {
   "cell_type": "markdown",
   "metadata": {
    "id": "_ES4srscgvmk"
   },
   "source": [
    "### ***Grammatical Evolution***"
   ]
  },
  {
   "cell_type": "markdown",
   "metadata": {
    "id": "P3qnJwaCg2WH"
   },
   "source": [
    "**Setting GE parameters**"
   ]
  },
  {
   "cell_type": "code",
   "execution_count": null,
   "metadata": {
    "id": "XxaQnX98g1QW"
   },
   "outputs": [],
   "source": [
    "POPULATION_SIZE = 500\n",
    "MAX_GENERATIONS = 100\n",
    "P_CROSSOVER = 0.821\n",
    "P_MUTATION = 0.03\n",
    "ELITE_SIZE = round(0.02*POPULATION_SIZE)\n",
    "HALL_OF_FAME_SIZE = 1\n",
    "MAX_INIT_TREE_DEPTH = 10\n",
    "MIN_INIT_TREE_DEPTH = 7\n",
    "MAX_TREE_DEPTH = 27\n",
    "MAX_WRAPS = 0\n",
    "CODON_SIZE = 392"
   ]
  },
  {
   "cell_type": "markdown",
   "metadata": {
    "id": "kQvfhVRShG2h"
   },
   "source": [
    "**Creating DEAP toolbox**"
   ]
  },
  {
   "cell_type": "code",
   "execution_count": null,
   "metadata": {
    "id": "xyTxT2XAg88A"
   },
   "outputs": [],
   "source": [
    "toolbox = base.Toolbox()\n",
    "\n",
    "creator.create(\"FitnessMax\", base.Fitness, weights=(1.0,))\n",
    "\n",
    "creator.create('Individual', ge.Individual, fitness=creator.FitnessMax)\n",
    "\n",
    "toolbox.register(\"populationCreator\", ge.initialisation_PI_Grow, creator.Individual) \n",
    "\n",
    "toolbox.register(\"evaluate\", fitness_eval)\n",
    "\n",
    "toolbox.register(\"select\", ge.selTournament, tournsize=8)\n",
    "\n",
    "toolbox.register(\"mate\", ge.crossover_onepoint)\n",
    "\n",
    "toolbox.register(\"mutate\", ge.mutation_int_flip_per_codon)"
   ]
  },
  {
   "cell_type": "markdown",
   "metadata": {
    "id": "zyD4QviNhaJP"
   },
   "source": [
    "**Main function**"
   ]
  },
  {
   "cell_type": "code",
   "execution_count": null,
   "metadata": {
    "colab": {
     "base_uri": "https://localhost:8080/"
    },
    "id": "SkoNjefiht1-",
    "outputId": "17ea0256-65f8-46a1-8d4e-4df34b25e9cf",
    "scrolled": false
   },
   "outputs": [],
   "source": [
    "population = toolbox.populationCreator(size=POPULATION_SIZE, \n",
    "                                        bnf_grammar=BNF_GRAMMAR, \n",
    "                                        min_init_tree_depth=MIN_INIT_TREE_DEPTH,\n",
    "                                        max_init_tree_depth=MAX_INIT_TREE_DEPTH,\n",
    "                                        max_tree_depth=MAX_TREE_DEPTH, \n",
    "                                        max_wraps=MAX_WRAPS,\n",
    "                                        codon_size=CODON_SIZE\n",
    "                                        )\n",
    "\n",
    "hof = tools.HallOfFame(HALL_OF_FAME_SIZE)\n",
    "\n",
    "stats = tools.Statistics(key=lambda ind: ind.fitness.values)\n",
    "stats.register(\"avg\", np.nanmean)\n",
    "stats.register(\"std\", np.nanstd)\n",
    "stats.register(\"min\", np.nanmin)\n",
    "stats.register(\"max\", np.nanmax)\n",
    "\n",
    "population, logbook = algorithms.ge_eaSimpleWithElitism(population, toolbox, cxpb=P_CROSSOVER, mutpb=P_MUTATION,\n",
    "                                                        ngen=MAX_GENERATIONS, elite_size=ELITE_SIZE,\n",
    "                                                        bnf_grammar=BNF_GRAMMAR, codon_size=CODON_SIZE, \n",
    "                                                        max_tree_depth=MAX_TREE_DEPTH, max_wraps=MAX_WRAPS,\n",
    "                                                        points_train=[X_train, Y_train], \n",
    "                                                        points_test=[X_test, Y_test], \n",
    "                                                        stats=stats, halloffame=hof, verbose=True)"
   ]
  },
  {
   "cell_type": "markdown",
   "metadata": {
    "id": "BiCfXlqGiNKY"
   },
   "source": [
    "**Statistics**"
   ]
  },
  {
   "cell_type": "code",
   "execution_count": null,
   "metadata": {
    "colab": {
     "base_uri": "https://localhost:8080/",
     "height": 1000
    },
    "id": "iNFVRbX6iWpn",
    "outputId": "39b32424-4f61-440e-9f75-42b2e601c98b",
    "scrolled": false
   },
   "outputs": [],
   "source": [
    "max_fitness_values, mean_fitness_values = logbook.select(\"max\", \"avg\")\n",
    "min_fitness_values, std_fitness_values = logbook.select(\"min\", \"std\")\n",
    "fitness_test = logbook.select(\"fitness_test\")\n",
    "best_ind_length = logbook.select(\"best_ind_length\")\n",
    "avg_length = logbook.select(\"avg_length\")\n",
    "max_length = logbook.select(\"max_length\")\n",
    "selection_time = logbook.select(\"selection_time\")\n",
    "generation_time = logbook.select(\"generation_time\")\n",
    "gen, invalid = logbook.select(\"gen\", \"invalid\")\n",
    "\n",
    "header = ['gen', 'invalid', 'avg', 'std', 'min', 'max', 'fitness_test', 'best_ind_length', 'avg_length', 'max_length', 'selection_time', 'generation_time']\n",
    "\n",
    "results = pd.DataFrame(list(zip(gen, invalid, mean_fitness_values, std_fitness_values, min_fitness_values, max_fitness_values, fitness_test, best_ind_length, avg_length, max_length, selection_time, generation_time)),\n",
    "               columns = header)\n",
    "\n",
    "pd.set_option('display.max_rows', None)\n",
    "pd.set_option('display.max_columns', None)\n",
    "pd.set_option('display.width', 10000)\n",
    "pd.set_option('display.colheader_justify', 'center')\n",
    "\n",
    "display(results)"
   ]
  },
  {
   "cell_type": "markdown",
   "metadata": {
    "id": "EsQIYiKeiibw"
   },
   "source": [
    "**Best individual**"
   ]
  },
  {
   "cell_type": "code",
   "execution_count": null,
   "metadata": {
    "colab": {
     "base_uri": "https://localhost:8080/"
    },
    "id": "GWi5Ovh6iiG9",
    "outputId": "78085104-0944-4a82-9ee3-53bcfc472dc7"
   },
   "outputs": [],
   "source": [
    "print(\"Best individual:\")\n",
    "print(hof.items[0].phenotype)\n",
    "print()\n",
    "print(\"Training Fitness: \", hof.items[0].fitness.values[0])\n",
    "print()\n",
    "print(\"Depth: \", hof.items[0].depth)\n",
    "print()\n",
    "print(\"Length of the genome: \", len(hof.items[0].genome))\n",
    "print()\n",
    "print(f'Used portion of the genome: {hof.items[0].used_codons/len(hof.items[0].genome):.2f}')\n",
    "print()"
   ]
  },
  {
   "cell_type": "markdown",
   "metadata": {},
   "source": [
    "Testing best individual"
   ]
  },
  {
   "cell_type": "code",
   "execution_count": null,
   "metadata": {},
   "outputs": [],
   "source": [
    "x = X_test\n",
    "def get_confusion_matrix(Y_labels, Y_predictions):\n",
    "    TP, FN, TN, FP = 0, 0, 0, 0\n",
    "    for x, y in zip(Y_labels, Y_predictions):\n",
    "      if x == 0:\n",
    "        if y == 0:\n",
    "          TN = TN + 1\n",
    "        else:\n",
    "          FP = FP + 1\n",
    "      elif x == 1:\n",
    "        if y == 1:\n",
    "          TP = TP + 1\n",
    "        else:\n",
    "          FN = FN + 1\n",
    "    return TP, FN, TN, FP"
   ]
  },
  {
   "cell_type": "code",
   "execution_count": null,
   "metadata": {},
   "outputs": [],
   "source": [
    "predictions = sub(sub(X_test[72],sub(92.52,X_test[44])),neg(pdiv(pdiv(X_test[44],75.59),pdiv(mul(X_test[39],pdiv(X_test[44],neg(pdiv(pdiv(X_test[44],24.96),28.24)))),X_test[33]))))\n",
    "print(\"Predictions \", predictions)\n",
    "print()\n",
    "\n",
    "Y_prediction_class = [1 if predictions[i] > 0 else 0 for i in range(len(predictions))]\n",
    "print(\"Labels\", Counter(Y_prediction_class))\n",
    "print()\n",
    "\n",
    "print(\"************ Fitness Metrics ************\")\n",
    "print()\n",
    "\n",
    "TP, FN, TN, FP = get_confusion_matrix(Y_test, Y_prediction_class)\n",
    "numerator = (TP+TN)\n",
    "denominator = (TP+TN+FP+FN)\n",
    "accuracy = numerator / denominator\n",
    "print(\"Accuracy:             \", accuracy)\n",
    "print()\n",
    "\n",
    "TPR = TP/(TP+FN)\n",
    "print(\"True positive rate:   \", TPR)\n",
    "print()\n",
    "\n",
    "TNR = TN/(TN+FP)\n",
    "print(\"True negative rate:   \", TNR)\n",
    "print()\n",
    "\n",
    "FPR = FP/(FP+TN)\n",
    "print(\"False positive rate:  \", FPR)\n",
    "print()\n",
    "\n",
    "FNR = FN/(FN+TP)\n",
    "print(\"False negative rate:  \", FNR)\n",
    "print()\n",
    "\n",
    "from sklearn.metrics import roc_auc_score\n",
    "auc = roc_auc_score(Y_test, Y_prediction_class)\n",
    "print(\"Area under the curve: \", auc)"
   ]
  },
  {
   "cell_type": "markdown",
   "metadata": {
    "id": "yUp1HViHio4t"
   },
   "source": [
    "**Best individuals plots**"
   ]
  },
  {
   "cell_type": "code",
   "execution_count": null,
   "metadata": {
    "colab": {
     "base_uri": "https://localhost:8080/",
     "height": 301
    },
    "id": "qlWdxb_3iyUJ",
    "outputId": "be0d49d8-acb2-45c6-937c-bbb1a6fe757a"
   },
   "outputs": [],
   "source": [
    "plt.plot(gen, max_fitness_values, color='red', label=\"Training fitness\")\n",
    "plt.plot(gen, fitness_test, color='blue', label=\"Test fitness\")\n",
    "plt.legend(fontsize=12)\n",
    "plt.xlabel('Generations', fontsize=14)\n",
    "plt.ylabel('Best Fitness', fontsize=14)\n",
    "plt.title('Best Fitness over Generations', fontsize=16)\n",
    "plt.yticks(np.arange(0.35, 0.67, 0.05))\n",
    "plt.show()"
   ]
  },
  {
   "cell_type": "markdown",
   "metadata": {
    "id": "LFpk_CVmi2Z1"
   },
   "source": [
    "**Average fitness plot**"
   ]
  },
  {
   "cell_type": "code",
   "execution_count": null,
   "metadata": {
    "colab": {
     "base_uri": "https://localhost:8080/",
     "height": 295
    },
    "id": "1QguD0FPi0yc",
    "outputId": "a1518711-371a-4cc9-8fbf-0ada944504a3"
   },
   "outputs": [],
   "source": [
    "plt.xlabel('Generations')\n",
    "plt.ylabel('Average Fitness')\n",
    "plt.title('Average Fitness over Generations')\n",
    "plt.errorbar(gen, mean_fitness_values, yerr=std_fitness_values,label=\"Best\", color=\"Green\")\n",
    "plt.show()"
   ]
  },
  {
   "cell_type": "markdown",
   "metadata": {
    "id": "3uEYnmB2jBlH"
   },
   "source": [
    "**Genome length plots**"
   ]
  },
  {
   "cell_type": "code",
   "execution_count": null,
   "metadata": {
    "colab": {
     "base_uri": "https://localhost:8080/",
     "height": 301
    },
    "id": "Wb_98RtvjMJP",
    "outputId": "5fec9e61-ba98-4955-f220-5c20362de174"
   },
   "outputs": [],
   "source": [
    "plt.plot(gen, max_length, color='red', label=\"Maximum\")\n",
    "plt.plot(gen, avg_length, color='blue', label=\"Average\")\n",
    "plt.plot(gen, best_ind_length, color='green', label=\"Best individual\")\n",
    "plt.legend(fontsize=12)\n",
    "plt.xlabel('Generations', fontsize=14)\n",
    "plt.ylabel('Genome Length', fontsize=14)\n",
    "plt.title('Genome Length over Generations', fontsize=16)\n",
    "plt.show()"
   ]
  }
 ],
 "metadata": {
  "colab": {
   "collapsed_sections": [],
   "name": "BEST_ACCURACY_SO_FAR_Mammography_Classification_SMOTE_parameters2_small_dataset_accuracy.ipynb",
   "provenance": []
  },
  "kernelspec": {
   "display_name": "Python 3 (ipykernel)",
   "language": "python",
   "name": "python3"
  },
  "language_info": {
   "codemirror_mode": {
    "name": "ipython",
    "version": 3
   },
   "file_extension": ".py",
   "mimetype": "text/x-python",
   "name": "python",
   "nbconvert_exporter": "python",
   "pygments_lexer": "ipython3",
   "version": "3.9.7"
  }
 },
 "nbformat": 4,
 "nbformat_minor": 1
}
